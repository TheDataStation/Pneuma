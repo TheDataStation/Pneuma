{
 "cells": [
  {
   "cell_type": "code",
   "execution_count": null,
   "metadata": {},
   "outputs": [],
   "source": [
    "import setproctitle\n",
    "\n",
    "setproctitle.setproctitle(\"python3.12\")\n",
    "import os\n",
    "import sys\n",
    "\n",
    "sys.path.append(\"..\")\n",
    "\n",
    "from transformers import set_seed\n",
    "from sentence_transformers import SentenceTransformer\n",
    "from sentence_transformers.SentenceTransformer import SentenceTransformer\n",
    "from benchmark_generator.context.utils.jsonl import read_jsonl, write_jsonl\n",
    "from tqdm import tqdm\n",
    "\n",
    "os.environ[\"CUBLAS_WORKSPACE_CONFIG\"] = \":4096:8\"\n",
    "os.environ[\"CUDA_VISIBLE_DEVICES\"] = \"5\"\n",
    "set_seed(42, deterministic=True)\n",
    "\n",
    "embedding_model = SentenceTransformer(\"../models/stella\", local_files_only=True)"
   ]
  },
  {
   "cell_type": "code",
   "execution_count": 2,
   "metadata": {},
   "outputs": [],
   "source": [
    "EMBEDDING_MAX_TOKENS = 512"
   ]
  },
  {
   "cell_type": "markdown",
   "metadata": {},
   "source": [
    "# Splitter for Schema Summaries"
   ]
  },
  {
   "cell_type": "code",
   "execution_count": 22,
   "metadata": {},
   "outputs": [],
   "source": [
    "type = \"standard\"\n",
    "name = f\"adventure_{type}\"\n",
    "contents = read_jsonl(f\"summaries/{type}/{name}.jsonl\")"
   ]
  },
  {
   "cell_type": "code",
   "execution_count": null,
   "metadata": {},
   "outputs": [],
   "source": [
    "processed_contents = []\n",
    "unique_tables = sorted(set([row[\"table\"] for row in contents]))\n",
    "tokenizer = embedding_model.tokenizer\n",
    "for table in tqdm(unique_tables):\n",
    "    schema_summary = [summary for summary in contents if summary[\"table\"] == table][0][\"summary\"]\n",
    "    column_summaries = schema_summary.split(\" | \") \n",
    "\n",
    "    col_idx = 0\n",
    "    while col_idx < len(column_summaries):\n",
    "        processed_summary = column_summaries[col_idx]\n",
    "\n",
    "        while (col_idx + 1) < len(column_summaries):\n",
    "            temp = processed_summary + \" | \" + column_summaries[col_idx + 1]\n",
    "            if len(tokenizer.encode(temp)) < EMBEDDING_MAX_TOKENS:\n",
    "                processed_summary = temp\n",
    "                col_idx += 1\n",
    "            else:\n",
    "                break\n",
    "\n",
    "        col_idx += 1\n",
    "        processed_contents.append({\n",
    "            \"table\": table,\n",
    "            \"summary\": processed_summary,\n",
    "        })"
   ]
  },
  {
   "cell_type": "code",
   "execution_count": null,
   "metadata": {},
   "outputs": [],
   "source": [
    "print(f\"Num of content summaries (BEFORE): {len(contents)}\")\n",
    "print(f\"Num of content summaries (AFTER): {len(processed_contents)}\")"
   ]
  },
  {
   "cell_type": "code",
   "execution_count": 25,
   "metadata": {},
   "outputs": [],
   "source": [
    "write_jsonl(processed_contents, f\"summaries/{type}/{name}_splitted.jsonl\")"
   ]
  }
 ],
 "metadata": {
  "kernelspec": {
   "display_name": "base",
   "language": "python",
   "name": "python3"
  },
  "language_info": {
   "codemirror_mode": {
    "name": "ipython",
    "version": 3
   },
   "file_extension": ".py",
   "mimetype": "text/x-python",
   "name": "python",
   "nbconvert_exporter": "python",
   "pygments_lexer": "ipython3",
   "version": "3.12.2"
  }
 },
 "nbformat": 4,
 "nbformat_minor": 2
}
