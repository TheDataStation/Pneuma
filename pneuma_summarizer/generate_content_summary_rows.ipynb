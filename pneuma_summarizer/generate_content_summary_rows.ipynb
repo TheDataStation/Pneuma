{
 "cells": [
  {
   "cell_type": "code",
   "execution_count": 21,
   "metadata": {},
   "outputs": [],
   "source": [
    "import sys\n",
    "\n",
    "sys.path.append(\"..\")\n",
    "\n",
    "\n",
    "import math\n",
    "import os\n",
    "import pandas as pd\n",
    "\n",
    "from tqdm import tqdm\n",
    "from benchmark_generator.context.utils.jsonl import write_jsonl"
   ]
  },
  {
   "cell_type": "code",
   "execution_count": null,
   "metadata": {},
   "outputs": [],
   "source": [
    "name = \"fetaqa\"\n",
    "table_path = \"../data_src/tables/pneuma_fetaqa\"\n",
    "summary_path = f\"summaries/rows/{name}.jsonl\"\n",
    "tables = sorted(os.listdir(table_path))\n",
    "\n",
    "\n",
    "content_summaries = []\n",
    "for table_idx, table in enumerate(tqdm(tables)):\n",
    "    df = pd.read_csv(f\"{table_path}/{table}\", on_bad_lines=\"skip\")\n",
    "    sample_size = math.ceil(min(len(df), 5))\n",
    "\n",
    "    selected_df = df.sample(n=sample_size, random_state=table_idx).reset_index(drop=True)\n",
    "    for row_idx, row in selected_df.iterrows():\n",
    "        formatted_row = ' | '.join([f\"{col}: {val}\" for col, val in row.items()])\n",
    "        content_summaries.append({\n",
    "            \"table\": table[:-4],\n",
    "            \"summary\": formatted_row,\n",
    "        })\n",
    "write_jsonl(content_summaries, summary_path)"
   ]
  }
 ],
 "metadata": {
  "kernelspec": {
   "display_name": "base",
   "language": "python",
   "name": "python3"
  },
  "language_info": {
   "codemirror_mode": {
    "name": "ipython",
    "version": 3
   },
   "file_extension": ".py",
   "mimetype": "text/x-python",
   "name": "python",
   "nbconvert_exporter": "python",
   "pygments_lexer": "ipython3",
   "version": "3.12.2"
  }
 },
 "nbformat": 4,
 "nbformat_minor": 2
}
