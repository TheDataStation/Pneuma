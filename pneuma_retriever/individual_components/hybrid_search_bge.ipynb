{
 "cells": [
  {
   "cell_type": "markdown",
   "metadata": {},
   "source": [
    "# 1. Preparation"
   ]
  },
  {
   "cell_type": "code",
   "execution_count": 1,
   "metadata": {},
   "outputs": [
    {
     "name": "stderr",
     "output_type": "stream",
     "text": [
      "/raid/p-storage/luthfibalaka_d2b65c57/miniconda3/lib/python3.12/site-packages/tqdm/auto.py:21: TqdmWarning: IProgress not found. Please update jupyter and ipywidgets. See https://ipywidgets.readthedocs.io/en/stable/user_install.html\n",
      "  from .autonotebook import tqdm as notebook_tqdm\n"
     ]
    }
   ],
   "source": [
    "import setproctitle\n",
    "\n",
    "setproctitle.setproctitle(\"python\")\n",
    "import os\n",
    "import time\n",
    "import sys\n",
    "import chromadb\n",
    "import bm25s\n",
    "import Stemmer\n",
    "import numpy as np\n",
    "\n",
    "sys.path.append(\"../..\")\n",
    "\n",
    "from tqdm import tqdm\n",
    "from transformers import set_seed\n",
    "from FlagEmbedding import FlagLLMReranker\n",
    "from chromadb.api.models.Collection import Collection\n",
    "from benchmark_generator.context.utils.jsonl import read_jsonl\n",
    "\n",
    "os.environ[\"CUBLAS_WORKSPACE_CONFIG\"] = \":4096:8\"\n",
    "os.environ[\"CUDA_VISIBLE_DEVICES\"] = \"7\"\n",
    "set_seed(42, deterministic=True)"
   ]
  },
  {
   "cell_type": "code",
   "execution_count": 2,
   "metadata": {},
   "outputs": [
    {
     "name": "stderr",
     "output_type": "stream",
     "text": [
      "If you want to use `XLMRobertaLMHeadModel` as a standalone, add `is_decoder=True.`\n",
      "Some weights of XLMRobertaForCausalLM were not initialized from the model checkpoint at ../../models/bge-reranker and are newly initialized: ['lm_head.bias', 'lm_head.decoder.bias', 'lm_head.dense.bias', 'lm_head.dense.weight', 'lm_head.layer_norm.bias', 'lm_head.layer_norm.weight']\n",
      "You should probably TRAIN this model on a down-stream task to be able to use it for predictions and inference.\n"
     ]
    }
   ],
   "source": [
    "stemmer = Stemmer.Stemmer(\"english\")\n",
    "reranker = FlagLLMReranker(\"../../models/bge-reranker\")"
   ]
  },
  {
   "cell_type": "code",
   "execution_count": 16,
   "metadata": {},
   "outputs": [],
   "source": [
    "dataset = \"adventure\"\n",
    "if dataset == \"chicago\":\n",
    "    narrations = read_jsonl(\"../../pneuma_summarizer/summaries/narrations/chicago_narrations.jsonl\")\n",
    "    rows = read_jsonl(\"../../pneuma_summarizer/summaries/rows/chicago.jsonl\")\n",
    "    content_benchmark = read_jsonl(\"../../data_src/benchmarks/content/pneuma_chicago_10K_questions_annotated.jsonl\")\n",
    "    path = \"../../data_src/tables/pneuma_chicago_10K\"\n",
    "elif dataset == \"public\":\n",
    "    narrations = read_jsonl(\"../../pneuma_summarizer/summaries/narrations/public_narrations.jsonl\")\n",
    "    rows = read_jsonl(\"../../pneuma_summarizer/summaries/rows/public.jsonl\")\n",
    "    content_benchmark = read_jsonl(\"../../data_src/benchmarks/content/pneuma_public_bi_questions_annotated.jsonl\")\n",
    "    path = \"../../data_src/tables/pneuma_public_bi\"\n",
    "elif dataset == \"chembl\":\n",
    "    narrations = read_jsonl(\"../../pneuma_summarizer/summaries/narrations/chembl_narrations.jsonl\")\n",
    "    rows = read_jsonl(\"../../pneuma_summarizer/summaries/rows/chembl.jsonl\")\n",
    "    contexts = read_jsonl(\"../../data_src/benchmarks/context/chembl/contexts_chembl.jsonl\")\n",
    "    content_benchmark = read_jsonl(\"../../data_src/benchmarks/content/pneuma_chembl_10K_questions_annotated.jsonl\")\n",
    "    context_benchmark = read_jsonl(\"../../data_src/benchmarks/context/chembl/bx_chembl.jsonl\")\n",
    "    path = \"../../data_src/tables/pneuma_chembl_10K\"\n",
    "elif dataset == \"adventure\":\n",
    "    narrations = read_jsonl(\"../../pneuma_summarizer/summaries/narrations/adventure_narrations.jsonl\")\n",
    "    rows = read_jsonl(\"../../pneuma_summarizer/summaries/rows/adventure.jsonl\")\n",
    "    contexts = read_jsonl(\"../../data_src/benchmarks/context/adventure/contexts_adventure.jsonl\")\n",
    "    content_benchmark = read_jsonl(\"../../data_src/benchmarks/content/pneuma_adventure_works_questions_annotated.jsonl\")\n",
    "    context_benchmark = read_jsonl(\"../../data_src/benchmarks/context/adventure/bx_adventure.jsonl\")\n",
    "    path = \"../../data_src/tables/pneuma_adventure_works\"\n",
    "elif dataset == \"fetaqa\":\n",
    "    narrations = read_jsonl(\"../../pneuma_summarizer/summaries/narrations/fetaqa_narrations.jsonl\")\n",
    "    rows = read_jsonl(\"../../pneuma_summarizer/summaries/rows/fetaqa.jsonl\")\n",
    "    content_benchmark = read_jsonl(\"../../data_src/benchmarks/content/pneuma_fetaqa_questions_annotated.jsonl\")\n",
    "    path = \"../../data_src/tables/pneuma_fetaqa\""
   ]
  },
  {
   "cell_type": "markdown",
   "metadata": {},
   "source": [
    "# 2. Indexing"
   ]
  },
  {
   "cell_type": "code",
   "execution_count": 17,
   "metadata": {},
   "outputs": [],
   "source": [
    "def indexing_keyword(\n",
    "    stemmer,\n",
    "    narration_contents: list[dict[str, str]],\n",
    "    contexts: list[dict[str, str]] = None,\n",
    "):\n",
    "    corpus_json = []\n",
    "    tables = sorted({content[\"table\"] for content in narration_contents})\n",
    "    for table in tables:\n",
    "        cols_descriptions = [\n",
    "            content[\"summary\"]\n",
    "            for content in narration_contents\n",
    "            if content[\"table\"] == table\n",
    "        ]\n",
    "        for content_idx, content in enumerate(cols_descriptions):\n",
    "            corpus_json.append(\n",
    "                {\n",
    "                    \"text\": content,\n",
    "                    \"metadata\": {\"table\": f\"{table}_SEP_contents_{content_idx}\"},\n",
    "                }\n",
    "            )\n",
    "\n",
    "        if contexts is not None:\n",
    "            filtered_contexts = [\n",
    "                context[\"context\"] for context in contexts if context[\"table\"] == table\n",
    "            ]\n",
    "            for context_idx, context in enumerate(filtered_contexts):\n",
    "                corpus_json.append(\n",
    "                    {\n",
    "                        \"text\": context,\n",
    "                        \"metadata\": {\"table\": f\"{table}_SEP_{context_idx}\"},\n",
    "                    }\n",
    "                )\n",
    "\n",
    "    corpus_text = [doc[\"text\"] for doc in corpus_json]\n",
    "    corpus_tokens = bm25s.tokenize(\n",
    "        corpus_text, stopwords=\"en\", stemmer=stemmer, show_progress=False\n",
    "    )\n",
    "\n",
    "    retriever = bm25s.BM25(corpus=corpus_json)\n",
    "    retriever.index(corpus_tokens, show_progress=False)\n",
    "    return retriever"
   ]
  },
  {
   "cell_type": "code",
   "execution_count": 18,
   "metadata": {},
   "outputs": [
    {
     "name": "stdout",
     "output_type": "stream",
     "text": [
      "Processing adventure dataset\n",
      "Indexing time: 0.8737316131591797 seconds\n"
     ]
    }
   ],
   "source": [
    "print(f\"Processing {dataset} dataset\")\n",
    "start = time.time()\n",
    "client = chromadb.PersistentClient(\n",
    "    f\"../indices/index-{dataset}-pneuma-summarizer\"\n",
    ")\n",
    "collection = client.get_collection(\"benchmark\")\n",
    "retriever = indexing_keyword(stemmer, rows + narrations, contexts)\n",
    "end = time.time()\n",
    "print(f\"Indexing time: {end-start} seconds\")"
   ]
  },
  {
   "cell_type": "markdown",
   "metadata": {},
   "source": [
    "# 3. Benchmarking"
   ]
  },
  {
   "cell_type": "code",
   "execution_count": 6,
   "metadata": {},
   "outputs": [],
   "source": [
    "def process_nodes_bm25(items):\n",
    "    # Normalize relevance scores and return the nodes in dict format\n",
    "    results, scores = items\n",
    "    scores: list[float] = scores[0]\n",
    "    max_score = max(scores)\n",
    "    min_score = min(scores)\n",
    "\n",
    "    processed_nodes: dict[str, tuple[float, str]] = {}\n",
    "    for i, node in enumerate(results[0]):\n",
    "        if min_score == max_score:\n",
    "            score = 1\n",
    "        else:\n",
    "            score = (scores[i] - min_score) / (max_score - min_score)\n",
    "        processed_nodes[node[\"metadata\"][\"table\"]] = (score, node[\"text\"])\n",
    "    return processed_nodes"
   ]
  },
  {
   "cell_type": "code",
   "execution_count": 7,
   "metadata": {},
   "outputs": [],
   "source": [
    "def process_nodes_vec(items):\n",
    "    # Normalize relevance scores and return the nodes in dict format\n",
    "    scores: list[float] = [1 - dist for dist in items[\"distances\"][0]]\n",
    "    max_score = max(scores)\n",
    "    min_score = min(scores)\n",
    "\n",
    "    processed_nodes: dict[str, tuple[float, str]] = {}\n",
    "\n",
    "    for idx in range(len(items[\"ids\"][0])):\n",
    "        if min_score == max_score:\n",
    "            score = 1\n",
    "        else:\n",
    "            score = (scores[idx] - min_score) / (max_score - min_score)\n",
    "        processed_nodes[items[\"ids\"][0][idx]] = (score, items[\"documents\"][0][idx])\n",
    "    return processed_nodes"
   ]
  },
  {
   "cell_type": "code",
   "execution_count": 8,
   "metadata": {},
   "outputs": [],
   "source": [
    "def hybrid_retriever(\n",
    "    bm25_res,\n",
    "    vec_res,\n",
    "    k: int,\n",
    "    question: str,\n",
    "    use_reranker=False,\n",
    "):\n",
    "    processed_nodes_bm25 = process_nodes_bm25(bm25_res)\n",
    "    processed_nodes_vec = process_nodes_vec(vec_res)\n",
    "\n",
    "    node_ids = set(list(processed_nodes_bm25.keys()) + list(processed_nodes_vec.keys()))\n",
    "    all_nodes: list[tuple[str, float, str]] = []\n",
    "    for node_id in sorted(node_ids):\n",
    "        bm25_score_doc = processed_nodes_bm25.get(node_id, (0.0, None))\n",
    "        vec_score_doc = processed_nodes_vec.get(node_id, (0.0, None))\n",
    "\n",
    "        combined_score = 0.5 * bm25_score_doc[0] + 0.5 * vec_score_doc[0]\n",
    "        if bm25_score_doc[1] is None:\n",
    "            doc = vec_score_doc[1]\n",
    "        else:\n",
    "            doc = bm25_score_doc[1]\n",
    "\n",
    "        all_nodes.append((node_id, combined_score, doc))\n",
    "\n",
    "    sorted_nodes = sorted(all_nodes, key=lambda node: (-node[1], node[0]))[:k]\n",
    "    if use_reranker:\n",
    "        sorted_nodes = rerank(sorted_nodes, question)\n",
    "    return sorted_nodes"
   ]
  },
  {
   "cell_type": "code",
   "execution_count": 9,
   "metadata": {},
   "outputs": [],
   "source": [
    "def rerank(nodes: list[tuple[str, float, str]], question: str):\n",
    "    # Each node is of the form (name, score, doc)\n",
    "    names = []\n",
    "    docs = []\n",
    "    for node in nodes:\n",
    "        names.append(node[0])\n",
    "        docs.append(node[2])\n",
    "    similarities = reranker.compute_score([(question, doc) for doc in docs], normalize=True)\n",
    "    reranked_nodes = sorted(zip(names, similarities, docs), key=lambda x: (-x[1], x[0]))\n",
    "    return reranked_nodes"
   ]
  },
  {
   "cell_type": "code",
   "execution_count": 10,
   "metadata": {},
   "outputs": [],
   "source": [
    "def get_question_key(benchmark_type: str, use_rephrased_questions: bool):\n",
    "    if benchmark_type == \"content\":\n",
    "        if not use_rephrased_questions:\n",
    "            question_key = \"question_from_sql_1\"\n",
    "        else:\n",
    "            question_key = \"question\"\n",
    "    else:\n",
    "        if not use_rephrased_questions:\n",
    "            question_key = \"question_bx1\"\n",
    "        else:\n",
    "            question_key = \"question_bx2\"\n",
    "    return question_key"
   ]
  },
  {
   "cell_type": "code",
   "execution_count": 11,
   "metadata": {},
   "outputs": [],
   "source": [
    "def evaluate_benchmark(\n",
    "    benchmark: list[dict[str, str]],\n",
    "    benchmark_type: str,\n",
    "    k: int,\n",
    "    collection: Collection,\n",
    "    retriever,\n",
    "    stemmer,\n",
    "    n=3,\n",
    "    use_reranker=False,\n",
    "    use_rephrased_questions=False,\n",
    "):\n",
    "    start = time.time()\n",
    "    hitrate_sum = 0\n",
    "    wrong_questions = []\n",
    "\n",
    "    if use_reranker:\n",
    "        increased_k = k * n\n",
    "    else:\n",
    "        increased_k = k * n\n",
    "\n",
    "    question_key = get_question_key(benchmark_type, use_rephrased_questions)\n",
    "\n",
    "    questions = []\n",
    "    for data in benchmark:\n",
    "        questions.append(data[question_key])\n",
    "    embed_questions = np.loadtxt(\n",
    "        f\"../embeddings/embed-{dataset}-questions-{benchmark_type}-{use_rephrased_questions}.txt\"\n",
    "    )\n",
    "    embed_questions = [embed.tolist() for embed in embed_questions]\n",
    "\n",
    "    for idx, datum in enumerate(tqdm(benchmark)):\n",
    "        answer_tables = datum[\"answer_tables\"]\n",
    "        question_embedding = embed_questions[idx]\n",
    "\n",
    "        query_tokens = bm25s.tokenize(\n",
    "            questions[idx], stemmer=stemmer, show_progress=False\n",
    "        )\n",
    "        results, scores = retriever.retrieve(\n",
    "            query_tokens, k=increased_k, show_progress=False\n",
    "        )\n",
    "        bm25_res = (results, scores)\n",
    "\n",
    "        vec_res = collection.query(\n",
    "            query_embeddings=[question_embedding], n_results=increased_k\n",
    "        )\n",
    "\n",
    "        all_nodes = hybrid_retriever(\n",
    "            bm25_res, vec_res, increased_k, questions[idx], use_reranker\n",
    "        )\n",
    "        before = hitrate_sum\n",
    "        for table, _, _ in all_nodes[:k]:\n",
    "            table = table.split(\"_SEP_\")[0]\n",
    "            if table in answer_tables:\n",
    "                hitrate_sum += 1\n",
    "                break\n",
    "        if before == hitrate_sum:\n",
    "            wrong_questions.append(idx)\n",
    "        # Checkpoint\n",
    "        if idx % 20 == 0:\n",
    "            print(f\"Current Hit Rate Sum at index {idx}: {hitrate_sum}\")\n",
    "            print(\n",
    "                f\"Current wrongly answered questions at index {idx}: {wrong_questions}\"\n",
    "            )\n",
    "\n",
    "    end = time.time()\n",
    "    print(f\"Hit Rate: {round(hitrate_sum/len(benchmark) * 100, 2)}\")\n",
    "    print(f\"Benchmarking Time: {end - start} seconds\")\n",
    "    print(f\"Wrongly answered questions: {wrong_questions}\")"
   ]
  },
  {
   "cell_type": "code",
   "execution_count": 19,
   "metadata": {},
   "outputs": [],
   "source": [
    "ks = [1]\n",
    "ns = [5]\n",
    "use_reranker = True"
   ]
  },
  {
   "cell_type": "code",
   "execution_count": 20,
   "metadata": {},
   "outputs": [
    {
     "name": "stdout",
     "output_type": "stream",
     "text": [
      "BC1 with k=1 n=5\n"
     ]
    },
    {
     "name": "stderr",
     "output_type": "stream",
     "text": [
      "100%|██████████| 1/1 [00:00<00:00,  8.14it/s]\n",
      "  0%|          | 1/1000 [00:00<07:13,  2.31it/s]"
     ]
    },
    {
     "name": "stdout",
     "output_type": "stream",
     "text": [
      "Current Hit Rate Sum at index 0: 1\n",
      "Current wrongly answered questions at index 0: []\n"
     ]
    },
    {
     "name": "stderr",
     "output_type": "stream",
     "text": [
      "100%|██████████| 1/1 [00:00<00:00,  8.25it/s]\n",
      "100%|██████████| 1/1 [00:00<00:00,  4.34it/s]/s]\n",
      "100%|██████████| 1/1 [00:00<00:00, 10.41it/s]/s]\n",
      "100%|██████████| 1/1 [00:00<00:00, 15.76it/s]/s]\n",
      "100%|██████████| 1/1 [00:00<00:00,  8.90it/s]\n",
      "100%|██████████| 1/1 [00:00<00:00,  8.94it/s]/s]\n",
      "100%|██████████| 1/1 [00:00<00:00, 10.60it/s]/s]\n",
      "100%|██████████| 1/1 [00:00<00:00,  6.28it/s]/s]\n",
      "100%|██████████| 1/1 [00:00<00:00,  5.29it/s]/s]\n",
      "100%|██████████| 1/1 [00:00<00:00,  7.81it/s]t/s]\n",
      "100%|██████████| 1/1 [00:00<00:00, 10.90it/s]t/s]\n",
      "100%|██████████| 1/1 [00:00<00:00,  7.34it/s]\n",
      "100%|██████████| 1/1 [00:00<00:00,  7.38it/s]t/s]\n",
      "100%|██████████| 1/1 [00:00<00:00, 11.45it/s]t/s]\n",
      "100%|██████████| 1/1 [00:00<00:00, 11.97it/s]\n",
      "100%|██████████| 1/1 [00:00<00:00, 10.52it/s]t/s]\n",
      "100%|██████████| 1/1 [00:00<00:00, 10.54it/s]t/s]\n",
      "100%|██████████| 1/1 [00:00<00:00, 16.46it/s]t/s]\n",
      "100%|██████████| 1/1 [00:00<00:00,  8.39it/s]\n",
      "100%|██████████| 1/1 [00:00<00:00, 13.54it/s]t/s]\n"
     ]
    },
    {
     "name": "stdout",
     "output_type": "stream",
     "text": [
      "Current Hit Rate Sum at index 20: 17\n",
      "Current wrongly answered questions at index 20: [5, 9, 14, 15]\n"
     ]
    },
    {
     "name": "stderr",
     "output_type": "stream",
     "text": [
      "100%|██████████| 1/1 [00:00<00:00, 12.88it/s]\n",
      "100%|██████████| 1/1 [00:00<00:00, 11.21it/s]t/s]\n",
      "100%|██████████| 1/1 [00:00<00:00,  7.40it/s]\n",
      "100%|██████████| 1/1 [00:00<00:00,  5.34it/s]t/s]\n",
      "100%|██████████| 1/1 [00:00<00:00,  5.54it/s]t/s]\n",
      "100%|██████████| 1/1 [00:00<00:00,  5.61it/s]t/s]\n",
      "100%|██████████| 1/1 [00:00<00:00, 10.77it/s]t/s]\n",
      "100%|██████████| 1/1 [00:00<00:00, 19.00it/s]\n",
      "100%|██████████| 1/1 [00:00<00:00, 16.92it/s]t/s]\n",
      "100%|██████████| 1/1 [00:00<00:00, 11.06it/s]\n",
      "100%|██████████| 1/1 [00:00<00:00,  4.44it/s]t/s]\n",
      "100%|██████████| 1/1 [00:00<00:00,  4.74it/s]t/s]\n",
      "100%|██████████| 1/1 [00:00<00:00, 12.82it/s]t/s]\n",
      "100%|██████████| 1/1 [00:00<00:00, 13.52it/s]\n",
      "100%|██████████| 1/1 [00:00<00:00, 13.52it/s]t/s]\n",
      "100%|██████████| 1/1 [00:00<00:00, 12.80it/s]\n",
      "100%|██████████| 1/1 [00:00<00:00, 13.55it/s]t/s]\n",
      "100%|██████████| 1/1 [00:00<00:00,  5.47it/s]\n",
      "100%|██████████| 1/1 [00:00<00:00,  5.67it/s]t/s]\n",
      "100%|██████████| 1/1 [00:00<00:00,  4.76it/s]t/s]\n",
      "  4%|▍         | 41/1000 [00:05<02:23,  6.70it/s]"
     ]
    },
    {
     "name": "stdout",
     "output_type": "stream",
     "text": [
      "Current Hit Rate Sum at index 40: 31\n",
      "Current wrongly answered questions at index 40: [5, 9, 14, 15, 24, 26, 27, 28, 35, 37]\n"
     ]
    },
    {
     "name": "stderr",
     "output_type": "stream",
     "text": [
      "100%|██████████| 1/1 [00:00<00:00,  4.72it/s]\n",
      "100%|██████████| 1/1 [00:00<00:00,  8.86it/s]t/s]\n",
      "100%|██████████| 1/1 [00:00<00:00, 18.91it/s]t/s]\n",
      "100%|██████████| 1/1 [00:00<00:00,  6.72it/s]\n",
      "100%|██████████| 1/1 [00:00<00:00,  7.91it/s]t/s]\n",
      "100%|██████████| 1/1 [00:00<00:00,  7.94it/s]t/s]\n",
      "100%|██████████| 1/1 [00:00<00:00, 14.18it/s]t/s]\n",
      "100%|██████████| 1/1 [00:00<00:00, 10.54it/s]\n",
      "100%|██████████| 1/1 [00:00<00:00,  7.93it/s]t/s]\n",
      "100%|██████████| 1/1 [00:00<00:00, 15.23it/s]t/s]\n",
      "100%|██████████| 1/1 [00:00<00:00, 11.96it/s]\n",
      "100%|██████████| 1/1 [00:00<00:00, 11.98it/s]t/s]\n",
      "100%|██████████| 1/1 [00:00<00:00, 17.33it/s]\n",
      "100%|██████████| 1/1 [00:00<00:00, 17.61it/s]t/s]\n",
      "100%|██████████| 1/1 [00:00<00:00, 13.03it/s]\n",
      "100%|██████████| 1/1 [00:00<00:00,  7.05it/s]t/s]\n",
      "100%|██████████| 1/1 [00:00<00:00, 13.52it/s]\n",
      "100%|██████████| 1/1 [00:00<00:00, 10.97it/s]t/s]\n",
      "100%|██████████| 1/1 [00:00<00:00, 16.74it/s]\n",
      "100%|██████████| 1/1 [00:00<00:00,  7.03it/s]t/s]\n"
     ]
    },
    {
     "name": "stdout",
     "output_type": "stream",
     "text": [
      "Current Hit Rate Sum at index 60: 45\n",
      "Current wrongly answered questions at index 60: [5, 9, 14, 15, 24, 26, 27, 28, 35, 37, 42, 43, 44, 51, 52, 58]\n"
     ]
    },
    {
     "name": "stderr",
     "output_type": "stream",
     "text": [
      "100%|██████████| 1/1 [00:00<00:00, 10.98it/s]\n",
      "100%|██████████| 1/1 [00:00<00:00, 14.68it/s]t/s]\n",
      "100%|██████████| 1/1 [00:00<00:00,  4.46it/s]\n",
      "100%|██████████| 1/1 [00:00<00:00,  4.44it/s]t/s]\n",
      "100%|██████████| 1/1 [00:00<00:00, 18.90it/s]t/s]\n",
      "100%|██████████| 1/1 [00:00<00:00,  4.38it/s]\n",
      "100%|██████████| 1/1 [00:00<00:00,  4.21it/s]t/s]\n",
      "100%|██████████| 1/1 [00:00<00:00,  4.44it/s]t/s]\n",
      "100%|██████████| 1/1 [00:00<00:00,  5.78it/s]t/s]\n",
      "100%|██████████| 1/1 [00:00<00:00, 10.58it/s]t/s]\n",
      "100%|██████████| 1/1 [00:00<00:00,  5.64it/s]t/s]\n",
      "100%|██████████| 1/1 [00:00<00:00, 16.27it/s]t/s]\n",
      "100%|██████████| 1/1 [00:00<00:00, 14.59it/s]\n",
      "100%|██████████| 1/1 [00:00<00:00, 16.69it/s]t/s]\n",
      "100%|██████████| 1/1 [00:00<00:00, 16.13it/s]\n",
      "100%|██████████| 1/1 [00:00<00:00, 16.44it/s]t/s]\n",
      "100%|██████████| 1/1 [00:00<00:00, 10.73it/s]\n",
      "100%|██████████| 1/1 [00:00<00:00, 11.06it/s]t/s]\n",
      "100%|██████████| 1/1 [00:00<00:00, 14.58it/s]\n",
      "100%|██████████| 1/1 [00:00<00:00,  8.25it/s]t/s]\n"
     ]
    },
    {
     "name": "stdout",
     "output_type": "stream",
     "text": [
      "Current Hit Rate Sum at index 80: 62\n",
      "Current wrongly answered questions at index 80: [5, 9, 14, 15, 24, 26, 27, 28, 35, 37, 42, 43, 44, 51, 52, 58, 62, 65, 68]\n"
     ]
    },
    {
     "name": "stderr",
     "output_type": "stream",
     "text": [
      "100%|██████████| 1/1 [00:00<00:00,  6.86it/s]\n",
      "100%|██████████| 1/1 [00:00<00:00, 16.19it/s]t/s]\n",
      "100%|██████████| 1/1 [00:00<00:00, 10.98it/s]\n",
      "100%|██████████| 1/1 [00:00<00:00, 16.66it/s]t/s]\n",
      "100%|██████████| 1/1 [00:00<00:00, 11.00it/s]\n",
      "100%|██████████| 1/1 [00:00<00:00, 10.81it/s]t/s]\n",
      "100%|██████████| 1/1 [00:00<00:00, 15.53it/s]\n",
      "100%|██████████| 1/1 [00:00<00:00, 10.63it/s]t/s]\n",
      "100%|██████████| 1/1 [00:00<00:00, 17.32it/s]\n",
      "100%|██████████| 1/1 [00:00<00:00, 17.54it/s]t/s]\n",
      "100%|██████████| 1/1 [00:00<00:00, 14.41it/s]\n",
      "100%|██████████| 1/1 [00:00<00:00,  4.78it/s]t/s]\n",
      "100%|██████████| 1/1 [00:00<00:00, 15.33it/s]\n",
      "100%|██████████| 1/1 [00:00<00:00,  7.92it/s]t/s]\n",
      "100%|██████████| 1/1 [00:00<00:00,  5.93it/s]\n",
      "100%|██████████| 1/1 [00:00<00:00, 19.16it/s]t/s]\n",
      "100%|██████████| 1/1 [00:00<00:00, 14.85it/s]\n",
      "100%|██████████| 1/1 [00:00<00:00, 18.08it/s]t/s]\n",
      "100%|██████████| 1/1 [00:00<00:00, 12.59it/s]\n",
      "100%|██████████| 1/1 [00:00<00:00,  6.30it/s]it/s]\n"
     ]
    },
    {
     "name": "stdout",
     "output_type": "stream",
     "text": [
      "Current Hit Rate Sum at index 100: 77\n",
      "Current wrongly answered questions at index 100: [5, 9, 14, 15, 24, 26, 27, 28, 35, 37, 42, 43, 44, 51, 52, 58, 62, 65, 68, 96, 97, 98, 99, 100]\n"
     ]
    },
    {
     "name": "stderr",
     "output_type": "stream",
     "text": [
      "100%|██████████| 1/1 [00:00<00:00,  6.73it/s]\n",
      "100%|██████████| 1/1 [00:00<00:00, 10.98it/s]it/s]\n",
      "100%|██████████| 1/1 [00:00<00:00, 14.99it/s]\n",
      "100%|██████████| 1/1 [00:00<00:00,  6.66it/s]it/s]\n",
      "100%|██████████| 1/1 [00:00<00:00,  8.70it/s]\n",
      "100%|██████████| 1/1 [00:00<00:00,  9.01it/s]it/s]\n",
      "100%|██████████| 1/1 [00:00<00:00,  7.99it/s]it/s]\n",
      "100%|██████████| 1/1 [00:00<00:00, 12.82it/s]it/s]\n",
      "100%|██████████| 1/1 [00:00<00:00, 11.02it/s]\n",
      "100%|██████████| 1/1 [00:00<00:00,  6.72it/s]it/s]\n",
      "100%|██████████| 1/1 [00:00<00:00,  5.81it/s]it/s]\n",
      "100%|██████████| 1/1 [00:00<00:00, 18.02it/s]it/s]\n",
      "100%|██████████| 1/1 [00:00<00:00,  4.48it/s]\n",
      "100%|██████████| 1/1 [00:00<00:00,  6.70it/s]it/s]\n",
      "100%|██████████| 1/1 [00:00<00:00,  7.37it/s]it/s]\n",
      "100%|██████████| 1/1 [00:00<00:00,  7.87it/s]it/s]\n",
      "100%|██████████| 1/1 [00:00<00:00,  5.19it/s]it/s]\n",
      "100%|██████████| 1/1 [00:00<00:00, 13.50it/s]it/s]\n",
      "100%|██████████| 1/1 [00:00<00:00,  4.37it/s]\n",
      "100%|██████████| 1/1 [00:00<00:00,  5.43it/s]it/s]\n",
      " 12%|█▏        | 121/1000 [00:15<02:25,  6.02it/s]"
     ]
    },
    {
     "name": "stdout",
     "output_type": "stream",
     "text": [
      "Current Hit Rate Sum at index 120: 93\n",
      "Current wrongly answered questions at index 120: [5, 9, 14, 15, 24, 26, 27, 28, 35, 37, 42, 43, 44, 51, 52, 58, 62, 65, 68, 96, 97, 98, 99, 100, 101, 109, 112, 119]\n"
     ]
    },
    {
     "name": "stderr",
     "output_type": "stream",
     "text": [
      "100%|██████████| 1/1 [00:00<00:00,  6.88it/s]\n",
      "100%|██████████| 1/1 [00:00<00:00,  6.78it/s]it/s]\n",
      "100%|██████████| 1/1 [00:00<00:00,  6.75it/s]it/s]\n",
      "100%|██████████| 1/1 [00:00<00:00,  5.61it/s]it/s]\n",
      "100%|██████████| 1/1 [00:00<00:00,  5.94it/s]it/s]\n",
      "100%|██████████| 1/1 [00:00<00:00,  6.43it/s]it/s]\n",
      "100%|██████████| 1/1 [00:00<00:00,  5.47it/s]it/s]\n",
      "100%|██████████| 1/1 [00:00<00:00, 10.53it/s]it/s]\n",
      "100%|██████████| 1/1 [00:00<00:00, 10.85it/s]it/s]\n",
      "100%|██████████| 1/1 [00:00<00:00,  7.35it/s]\n",
      "100%|██████████| 1/1 [00:00<00:00, 12.77it/s]it/s]\n",
      "100%|██████████| 1/1 [00:00<00:00,  7.95it/s]\n",
      "100%|██████████| 1/1 [00:00<00:00,  8.42it/s]it/s]\n",
      "100%|██████████| 1/1 [00:00<00:00,  5.56it/s]it/s]\n",
      "100%|██████████| 1/1 [00:00<00:00,  8.01it/s]it/s]\n",
      "100%|██████████| 1/1 [00:00<00:00, 10.85it/s]it/s]\n",
      "100%|██████████| 1/1 [00:00<00:00, 14.89it/s]\n",
      "100%|██████████| 1/1 [00:00<00:00,  4.77it/s]it/s]\n",
      "100%|██████████| 1/1 [00:00<00:00, 13.30it/s]it/s]\n",
      "100%|██████████| 1/1 [00:00<00:00, 10.82it/s]\n",
      " 14%|█▍        | 141/1000 [00:17<01:43,  8.27it/s]"
     ]
    },
    {
     "name": "stdout",
     "output_type": "stream",
     "text": [
      "Current Hit Rate Sum at index 140: 107\n",
      "Current wrongly answered questions at index 140: [5, 9, 14, 15, 24, 26, 27, 28, 35, 37, 42, 43, 44, 51, 52, 58, 62, 65, 68, 96, 97, 98, 99, 100, 101, 109, 112, 119, 121, 122, 123, 124, 125, 139]\n"
     ]
    },
    {
     "name": "stderr",
     "output_type": "stream",
     "text": [
      "100%|██████████| 1/1 [00:00<00:00, 10.47it/s]\n",
      "100%|██████████| 1/1 [00:00<00:00,  6.86it/s]it/s]\n",
      "100%|██████████| 1/1 [00:00<00:00,  4.42it/s]it/s]\n",
      "100%|██████████| 1/1 [00:00<00:00, 18.12it/s]it/s]\n",
      "100%|██████████| 1/1 [00:00<00:00,  9.07it/s]\n",
      "100%|██████████| 1/1 [00:00<00:00, 10.49it/s]it/s]\n",
      "100%|██████████| 1/1 [00:00<00:00, 15.22it/s]it/s]\n",
      "100%|██████████| 1/1 [00:00<00:00, 15.36it/s]\n",
      "100%|██████████| 1/1 [00:00<00:00,  8.56it/s]it/s]\n",
      "100%|██████████| 1/1 [00:00<00:00, 11.08it/s]\n",
      "100%|██████████| 1/1 [00:00<00:00, 14.83it/s]it/s]\n",
      "100%|██████████| 1/1 [00:00<00:00,  6.46it/s]\n",
      "100%|██████████| 1/1 [00:00<00:00,  6.43it/s]it/s]\n",
      "100%|██████████| 1/1 [00:00<00:00,  4.69it/s]it/s]\n",
      "100%|██████████| 1/1 [00:00<00:00,  5.61it/s]it/s]\n",
      "100%|██████████| 1/1 [00:00<00:00,  6.29it/s]it/s]\n",
      "100%|██████████| 1/1 [00:00<00:00, 10.69it/s]it/s]\n",
      "100%|██████████| 1/1 [00:00<00:00,  6.85it/s]it/s]\n",
      "100%|██████████| 1/1 [00:00<00:00,  5.81it/s]it/s]\n",
      "100%|██████████| 1/1 [00:00<00:00,  6.00it/s]it/s]\n",
      " 16%|█▌        | 161/1000 [00:20<02:14,  6.23it/s]"
     ]
    },
    {
     "name": "stdout",
     "output_type": "stream",
     "text": [
      "Current Hit Rate Sum at index 160: 117\n",
      "Current wrongly answered questions at index 160: [5, 9, 14, 15, 24, 26, 27, 28, 35, 37, 42, 43, 44, 51, 52, 58, 62, 65, 68, 96, 97, 98, 99, 100, 101, 109, 112, 119, 121, 122, 123, 124, 125, 139, 143, 144, 145, 146, 147, 151, 152, 154, 155, 159]\n"
     ]
    },
    {
     "name": "stderr",
     "output_type": "stream",
     "text": [
      "100%|██████████| 1/1 [00:00<00:00,  7.41it/s]\n",
      "100%|██████████| 1/1 [00:00<00:00,  6.69it/s]it/s]\n",
      "100%|██████████| 1/1 [00:00<00:00,  5.52it/s]it/s]\n",
      "100%|██████████| 1/1 [00:00<00:00, 15.34it/s]it/s]\n",
      "100%|██████████| 1/1 [00:00<00:00, 15.57it/s]\n",
      "100%|██████████| 1/1 [00:00<00:00,  6.76it/s]it/s]\n",
      "100%|██████████| 1/1 [00:00<00:00, 14.54it/s]it/s]\n",
      "100%|██████████| 1/1 [00:00<00:00, 15.04it/s]\n",
      "100%|██████████| 1/1 [00:00<00:00,  5.31it/s]it/s]\n",
      "100%|██████████| 1/1 [00:00<00:00,  8.73it/s]it/s]\n",
      "100%|██████████| 1/1 [00:00<00:00,  6.76it/s]it/s]\n",
      "100%|██████████| 1/1 [00:00<00:00,  5.70it/s]it/s]\n",
      "100%|██████████| 1/1 [00:00<00:00,  7.99it/s]it/s]\n",
      "100%|██████████| 1/1 [00:00<00:00,  7.36it/s]it/s]\n",
      "100%|██████████| 1/1 [00:00<00:00,  7.41it/s]it/s]\n",
      "100%|██████████| 1/1 [00:00<00:00, 15.49it/s]it/s]\n",
      "100%|██████████| 1/1 [00:00<00:00, 19.17it/s]\n",
      "100%|██████████| 1/1 [00:00<00:00,  7.33it/s]it/s]\n",
      "100%|██████████| 1/1 [00:00<00:00, 17.90it/s]it/s]\n",
      "100%|██████████| 1/1 [00:00<00:00, 17.51it/s]\n",
      " 18%|█▊        | 181/1000 [00:23<01:17, 10.54it/s]"
     ]
    },
    {
     "name": "stdout",
     "output_type": "stream",
     "text": [
      "Current Hit Rate Sum at index 180: 132\n",
      "Current wrongly answered questions at index 180: [5, 9, 14, 15, 24, 26, 27, 28, 35, 37, 42, 43, 44, 51, 52, 58, 62, 65, 68, 96, 97, 98, 99, 100, 101, 109, 112, 119, 121, 122, 123, 124, 125, 139, 143, 144, 145, 146, 147, 151, 152, 154, 155, 159, 161, 171, 177, 179, 180]\n"
     ]
    },
    {
     "name": "stderr",
     "output_type": "stream",
     "text": [
      "100%|██████████| 1/1 [00:00<00:00, 18.63it/s]\n",
      "100%|██████████| 1/1 [00:00<00:00, 11.98it/s]\n",
      "100%|██████████| 1/1 [00:00<00:00,  4.39it/s]it/s]\n",
      "100%|██████████| 1/1 [00:00<00:00,  4.42it/s]\n",
      "100%|██████████| 1/1 [00:00<00:00,  4.38it/s]it/s]\n",
      "100%|██████████| 1/1 [00:00<00:00, 15.43it/s]it/s]\n",
      "100%|██████████| 1/1 [00:00<00:00, 14.26it/s]\n",
      "100%|██████████| 1/1 [00:00<00:00, 12.42it/s]it/s]\n",
      "100%|██████████| 1/1 [00:00<00:00, 14.50it/s]\n",
      "100%|██████████| 1/1 [00:00<00:00, 16.54it/s]it/s]\n",
      "100%|██████████| 1/1 [00:00<00:00, 12.92it/s]\n",
      "100%|██████████| 1/1 [00:00<00:00,  6.87it/s]it/s]\n",
      "100%|██████████| 1/1 [00:00<00:00, 18.33it/s]\n",
      "100%|██████████| 1/1 [00:00<00:00,  6.77it/s]it/s]\n",
      "100%|██████████| 1/1 [00:00<00:00,  5.69it/s]\n",
      "100%|██████████| 1/1 [00:00<00:00, 12.31it/s]it/s]\n",
      "100%|██████████| 1/1 [00:00<00:00,  7.42it/s]\n",
      "100%|██████████| 1/1 [00:00<00:00, 17.51it/s]it/s]\n",
      "100%|██████████| 1/1 [00:00<00:00,  5.77it/s]\n",
      "100%|██████████| 1/1 [00:00<00:00, 14.33it/s]it/s]\n"
     ]
    },
    {
     "name": "stdout",
     "output_type": "stream",
     "text": [
      "Current Hit Rate Sum at index 200: 146\n",
      "Current wrongly answered questions at index 200: [5, 9, 14, 15, 24, 26, 27, 28, 35, 37, 42, 43, 44, 51, 52, 58, 62, 65, 68, 96, 97, 98, 99, 100, 101, 109, 112, 119, 121, 122, 123, 124, 125, 139, 143, 144, 145, 146, 147, 151, 152, 154, 155, 159, 161, 171, 177, 179, 180, 185, 186, 193, 194, 195, 197]\n"
     ]
    },
    {
     "name": "stderr",
     "output_type": "stream",
     "text": [
      "100%|██████████| 1/1 [00:00<00:00,  7.06it/s]\n",
      "100%|██████████| 1/1 [00:00<00:00,  5.68it/s]it/s]\n",
      "100%|██████████| 1/1 [00:00<00:00,  6.31it/s]it/s]\n",
      "100%|██████████| 1/1 [00:00<00:00,  9.11it/s]it/s]\n",
      "100%|██████████| 1/1 [00:00<00:00, 11.15it/s]it/s]\n",
      "100%|██████████| 1/1 [00:00<00:00,  4.55it/s]\n",
      "100%|██████████| 1/1 [00:00<00:00,  6.89it/s]it/s]\n",
      "100%|██████████| 1/1 [00:00<00:00, 18.49it/s]it/s]\n",
      "100%|██████████| 1/1 [00:00<00:00,  6.79it/s]\n",
      "100%|██████████| 1/1 [00:00<00:00, 15.60it/s]it/s]\n",
      "100%|██████████| 1/1 [00:00<00:00, 16.12it/s]\n",
      "100%|██████████| 1/1 [00:00<00:00, 16.07it/s]it/s]\n",
      "100%|██████████| 1/1 [00:00<00:00,  7.02it/s]\n",
      "100%|██████████| 1/1 [00:00<00:00,  6.76it/s]it/s]\n",
      "100%|██████████| 1/1 [00:00<00:00, 14.44it/s]it/s]\n",
      "100%|██████████| 1/1 [00:00<00:00,  7.99it/s]\n",
      "100%|██████████| 1/1 [00:00<00:00,  8.28it/s]it/s]\n",
      "100%|██████████| 1/1 [00:00<00:00,  8.16it/s]it/s]\n",
      "100%|██████████| 1/1 [00:00<00:00, 11.81it/s]it/s]\n",
      "100%|██████████| 1/1 [00:00<00:00,  8.23it/s]\n",
      " 22%|██▏       | 221/1000 [00:27<01:30,  8.65it/s]"
     ]
    },
    {
     "name": "stdout",
     "output_type": "stream",
     "text": [
      "Current Hit Rate Sum at index 220: 160\n",
      "Current wrongly answered questions at index 220: [5, 9, 14, 15, 24, 26, 27, 28, 35, 37, 42, 43, 44, 51, 52, 58, 62, 65, 68, 96, 97, 98, 99, 100, 101, 109, 112, 119, 121, 122, 123, 124, 125, 139, 143, 144, 145, 146, 147, 151, 152, 154, 155, 159, 161, 171, 177, 179, 180, 185, 186, 193, 194, 195, 197, 203, 205, 206, 207, 208, 210]\n"
     ]
    },
    {
     "name": "stderr",
     "output_type": "stream",
     "text": [
      "100%|██████████| 1/1 [00:00<00:00, 12.91it/s]\n",
      "100%|██████████| 1/1 [00:00<00:00,  7.02it/s]\n",
      "100%|██████████| 1/1 [00:00<00:00, 15.47it/s]it/s]\n",
      "100%|██████████| 1/1 [00:00<00:00,  8.08it/s]\n",
      "100%|██████████| 1/1 [00:00<00:00, 15.10it/s]it/s]\n",
      "100%|██████████| 1/1 [00:00<00:00, 13.47it/s]\n",
      "100%|██████████| 1/1 [00:00<00:00, 13.55it/s]it/s]\n",
      "100%|██████████| 1/1 [00:00<00:00,  4.73it/s]\n",
      "100%|██████████| 1/1 [00:00<00:00,  5.20it/s]it/s]\n",
      "100%|██████████| 1/1 [00:00<00:00,  4.23it/s]it/s]\n",
      "100%|██████████| 1/1 [00:00<00:00,  8.78it/s]it/s]\n",
      "100%|██████████| 1/1 [00:00<00:00,  5.75it/s]it/s]\n",
      "100%|██████████| 1/1 [00:00<00:00,  5.79it/s]it/s]\n",
      "100%|██████████| 1/1 [00:00<00:00,  5.69it/s]it/s]\n",
      "100%|██████████| 1/1 [00:00<00:00,  4.29it/s]it/s]\n",
      "100%|██████████| 1/1 [00:00<00:00,  8.06it/s]it/s]\n",
      "100%|██████████| 1/1 [00:00<00:00,  5.67it/s]it/s]\n",
      "100%|██████████| 1/1 [00:00<00:00,  8.87it/s]it/s]\n",
      "100%|██████████| 1/1 [00:00<00:00,  8.92it/s]it/s]\n",
      "100%|██████████| 1/1 [00:00<00:00,  8.73it/s]it/s]\n",
      " 24%|██▍       | 241/1000 [00:30<01:46,  7.13it/s]"
     ]
    },
    {
     "name": "stdout",
     "output_type": "stream",
     "text": [
      "Current Hit Rate Sum at index 240: 177\n",
      "Current wrongly answered questions at index 240: [5, 9, 14, 15, 24, 26, 27, 28, 35, 37, 42, 43, 44, 51, 52, 58, 62, 65, 68, 96, 97, 98, 99, 100, 101, 109, 112, 119, 121, 122, 123, 124, 125, 139, 143, 144, 145, 146, 147, 151, 152, 154, 155, 159, 161, 171, 177, 179, 180, 185, 186, 193, 194, 195, 197, 203, 205, 206, 207, 208, 210, 230, 237, 238]\n"
     ]
    },
    {
     "name": "stderr",
     "output_type": "stream",
     "text": [
      "100%|██████████| 1/1 [00:00<00:00,  5.75it/s]\n",
      "100%|██████████| 1/1 [00:00<00:00,  4.21it/s]it/s]\n",
      "100%|██████████| 1/1 [00:00<00:00,  6.99it/s]it/s]\n",
      "100%|██████████| 1/1 [00:00<00:00, 10.38it/s]it/s]\n",
      "100%|██████████| 1/1 [00:00<00:00,  4.21it/s]it/s]\n",
      "100%|██████████| 1/1 [00:00<00:00,  5.29it/s]it/s]\n",
      "100%|██████████| 1/1 [00:00<00:00,  4.39it/s]it/s]\n",
      "100%|██████████| 1/1 [00:00<00:00,  4.21it/s]it/s]\n",
      "100%|██████████| 1/1 [00:00<00:00,  4.39it/s]it/s]\n",
      "100%|██████████| 1/1 [00:00<00:00, 12.22it/s]it/s]\n",
      "100%|██████████| 1/1 [00:00<00:00, 18.25it/s]\n",
      "100%|██████████| 1/1 [00:00<00:00, 17.54it/s]it/s]\n",
      "100%|██████████| 1/1 [00:00<00:00, 10.95it/s]\n",
      "100%|██████████| 1/1 [00:00<00:00, 11.07it/s]it/s]\n",
      "100%|██████████| 1/1 [00:00<00:00, 11.25it/s]\n",
      "100%|██████████| 1/1 [00:00<00:00, 11.89it/s]it/s]\n",
      "100%|██████████| 1/1 [00:00<00:00,  4.40it/s]\n",
      "100%|██████████| 1/1 [00:00<00:00,  6.86it/s]it/s]\n",
      "100%|██████████| 1/1 [00:00<00:00, 14.48it/s]it/s]\n",
      "100%|██████████| 1/1 [00:00<00:00,  7.00it/s]\n",
      " 26%|██▌       | 261/1000 [00:33<01:34,  7.84it/s]"
     ]
    },
    {
     "name": "stdout",
     "output_type": "stream",
     "text": [
      "Current Hit Rate Sum at index 260: 193\n",
      "Current wrongly answered questions at index 260: [5, 9, 14, 15, 24, 26, 27, 28, 35, 37, 42, 43, 44, 51, 52, 58, 62, 65, 68, 96, 97, 98, 99, 100, 101, 109, 112, 119, 121, 122, 123, 124, 125, 139, 143, 144, 145, 146, 147, 151, 152, 154, 155, 159, 161, 171, 177, 179, 180, 185, 186, 193, 194, 195, 197, 203, 205, 206, 207, 208, 210, 230, 237, 238, 243, 245, 251, 256]\n"
     ]
    },
    {
     "name": "stderr",
     "output_type": "stream",
     "text": [
      "100%|██████████| 1/1 [00:00<00:00, 16.01it/s]\n",
      "100%|██████████| 1/1 [00:00<00:00, 16.80it/s]\n",
      "100%|██████████| 1/1 [00:00<00:00, 17.52it/s]it/s]\n",
      "100%|██████████| 1/1 [00:00<00:00,  8.62it/s]\n",
      "100%|██████████| 1/1 [00:00<00:00,  8.49it/s]it/s]\n",
      "100%|██████████| 1/1 [00:00<00:00, 11.35it/s]\n",
      "100%|██████████| 1/1 [00:00<00:00,  7.95it/s]it/s]\n",
      "100%|██████████| 1/1 [00:00<00:00, 10.79it/s]it/s]\n",
      "100%|██████████| 1/1 [00:00<00:00, 10.89it/s]\n",
      "100%|██████████| 1/1 [00:00<00:00, 10.84it/s]it/s]\n",
      "100%|██████████| 1/1 [00:00<00:00, 17.93it/s]it/s]\n",
      "100%|██████████| 1/1 [00:00<00:00, 12.85it/s]\n",
      "100%|██████████| 1/1 [00:00<00:00, 17.69it/s]it/s]\n",
      "100%|██████████| 1/1 [00:00<00:00, 17.96it/s]\n",
      "100%|██████████| 1/1 [00:00<00:00,  5.65it/s]it/s]\n",
      "100%|██████████| 1/1 [00:00<00:00,  6.27it/s]\n",
      "100%|██████████| 1/1 [00:00<00:00, 11.11it/s]it/s]\n",
      "100%|██████████| 1/1 [00:00<00:00, 13.06it/s]\n",
      "100%|██████████| 1/1 [00:00<00:00,  6.33it/s]it/s]\n",
      "100%|██████████| 1/1 [00:00<00:00,  6.27it/s]\n",
      " 28%|██▊       | 281/1000 [00:36<01:29,  8.02it/s]"
     ]
    },
    {
     "name": "stdout",
     "output_type": "stream",
     "text": [
      "Current Hit Rate Sum at index 280: 206\n",
      "Current wrongly answered questions at index 280: [5, 9, 14, 15, 24, 26, 27, 28, 35, 37, 42, 43, 44, 51, 52, 58, 62, 65, 68, 96, 97, 98, 99, 100, 101, 109, 112, 119, 121, 122, 123, 124, 125, 139, 143, 144, 145, 146, 147, 151, 152, 154, 155, 159, 161, 171, 177, 179, 180, 185, 186, 193, 194, 195, 197, 203, 205, 206, 207, 208, 210, 230, 237, 238, 243, 245, 251, 256, 263, 266, 267, 268, 271, 273, 274]\n"
     ]
    },
    {
     "name": "stderr",
     "output_type": "stream",
     "text": [
      "100%|██████████| 1/1 [00:00<00:00, 17.92it/s]\n",
      "100%|██████████| 1/1 [00:00<00:00,  5.81it/s]\n",
      "100%|██████████| 1/1 [00:00<00:00,  5.70it/s]it/s]\n",
      "100%|██████████| 1/1 [00:00<00:00, 13.09it/s]it/s]\n",
      "100%|██████████| 1/1 [00:00<00:00,  5.64it/s]\n",
      "100%|██████████| 1/1 [00:00<00:00, 11.88it/s]it/s]\n",
      "100%|██████████| 1/1 [00:00<00:00,  5.36it/s]\n",
      "100%|██████████| 1/1 [00:00<00:00,  5.69it/s]it/s]\n",
      "100%|██████████| 1/1 [00:00<00:00, 14.97it/s]it/s]\n",
      "100%|██████████| 1/1 [00:00<00:00, 11.08it/s]\n",
      "100%|██████████| 1/1 [00:00<00:00, 12.43it/s]it/s]\n",
      "100%|██████████| 1/1 [00:00<00:00, 15.73it/s]\n",
      "100%|██████████| 1/1 [00:00<00:00, 12.47it/s]it/s]\n",
      "100%|██████████| 1/1 [00:00<00:00,  6.39it/s]\n",
      "100%|██████████| 1/1 [00:00<00:00, 14.32it/s]it/s]\n",
      "100%|██████████| 1/1 [00:00<00:00, 13.16it/s]\n",
      "100%|██████████| 1/1 [00:00<00:00, 14.56it/s]it/s]\n",
      "100%|██████████| 1/1 [00:00<00:00, 13.81it/s]\n",
      "100%|██████████| 1/1 [00:00<00:00, 15.54it/s]it/s]\n",
      "100%|██████████| 1/1 [00:00<00:00, 14.57it/s]\n",
      " 30%|███       | 301/1000 [00:38<01:02, 11.23it/s]"
     ]
    },
    {
     "name": "stdout",
     "output_type": "stream",
     "text": [
      "Current Hit Rate Sum at index 300: 224\n",
      "Current wrongly answered questions at index 300: [5, 9, 14, 15, 24, 26, 27, 28, 35, 37, 42, 43, 44, 51, 52, 58, 62, 65, 68, 96, 97, 98, 99, 100, 101, 109, 112, 119, 121, 122, 123, 124, 125, 139, 143, 144, 145, 146, 147, 151, 152, 154, 155, 159, 161, 171, 177, 179, 180, 185, 186, 193, 194, 195, 197, 203, 205, 206, 207, 208, 210, 230, 237, 238, 243, 245, 251, 256, 263, 266, 267, 268, 271, 273, 274, 281, 300]\n"
     ]
    },
    {
     "name": "stderr",
     "output_type": "stream",
     "text": [
      "100%|██████████| 1/1 [00:00<00:00, 17.18it/s]\n",
      "100%|██████████| 1/1 [00:00<00:00, 17.46it/s]\n",
      "100%|██████████| 1/1 [00:00<00:00, 13.57it/s]it/s]\n",
      "100%|██████████| 1/1 [00:00<00:00,  6.44it/s]\n",
      "100%|██████████| 1/1 [00:00<00:00,  5.20it/s]it/s]\n",
      "100%|██████████| 1/1 [00:00<00:00, 15.56it/s]\n",
      "100%|██████████| 1/1 [00:00<00:00,  5.66it/s]it/s]\n",
      "100%|██████████| 1/1 [00:00<00:00,  8.67it/s]\n",
      "100%|██████████| 1/1 [00:00<00:00,  5.82it/s]it/s]\n",
      "100%|██████████| 1/1 [00:00<00:00,  8.24it/s]it/s]\n",
      "100%|██████████| 1/1 [00:00<00:00,  8.92it/s]it/s]\n",
      "100%|██████████| 1/1 [00:00<00:00,  8.35it/s]it/s]\n",
      "100%|██████████| 1/1 [00:00<00:00, 17.35it/s]it/s]\n",
      "100%|██████████| 1/1 [00:00<00:00,  4.69it/s]\n",
      "100%|██████████| 1/1 [00:00<00:00,  4.61it/s]it/s]\n",
      "100%|██████████| 1/1 [00:00<00:00,  4.50it/s]it/s]\n",
      "100%|██████████| 1/1 [00:00<00:00,  4.52it/s]it/s]\n",
      "100%|██████████| 1/1 [00:00<00:00,  9.02it/s]it/s]\n",
      "100%|██████████| 1/1 [00:00<00:00,  7.18it/s]it/s]\n",
      "100%|██████████| 1/1 [00:00<00:00, 10.77it/s]it/s]\n",
      " 32%|███▏      | 321/1000 [00:41<01:38,  6.90it/s]"
     ]
    },
    {
     "name": "stdout",
     "output_type": "stream",
     "text": [
      "Current Hit Rate Sum at index 320: 238\n",
      "Current wrongly answered questions at index 320: [5, 9, 14, 15, 24, 26, 27, 28, 35, 37, 42, 43, 44, 51, 52, 58, 62, 65, 68, 96, 97, 98, 99, 100, 101, 109, 112, 119, 121, 122, 123, 124, 125, 139, 143, 144, 145, 146, 147, 151, 152, 154, 155, 159, 161, 171, 177, 179, 180, 185, 186, 193, 194, 195, 197, 203, 205, 206, 207, 208, 210, 230, 237, 238, 243, 245, 251, 256, 263, 266, 267, 268, 271, 273, 274, 281, 300, 306, 307, 309, 311, 313, 319]\n"
     ]
    },
    {
     "name": "stderr",
     "output_type": "stream",
     "text": [
      "100%|██████████| 1/1 [00:00<00:00, 11.04it/s]\n",
      "100%|██████████| 1/1 [00:00<00:00,  7.05it/s]\n",
      "100%|██████████| 1/1 [00:00<00:00,  6.78it/s]it/s]\n",
      "100%|██████████| 1/1 [00:00<00:00,  4.40it/s]it/s]\n",
      "100%|██████████| 1/1 [00:00<00:00,  5.79it/s]it/s]\n",
      "100%|██████████| 1/1 [00:00<00:00,  5.76it/s]it/s]\n",
      "100%|██████████| 1/1 [00:00<00:00,  5.55it/s]it/s]\n",
      "100%|██████████| 1/1 [00:00<00:00,  5.65it/s]it/s]\n",
      "100%|██████████| 1/1 [00:00<00:00,  6.86it/s]it/s]\n",
      "100%|██████████| 1/1 [00:00<00:00,  8.17it/s]it/s]\n",
      "100%|██████████| 1/1 [00:00<00:00, 15.67it/s]it/s]\n",
      "100%|██████████| 1/1 [00:00<00:00,  6.89it/s]\n",
      "100%|██████████| 1/1 [00:00<00:00, 10.59it/s]it/s]\n",
      "100%|██████████| 1/1 [00:00<00:00, 14.79it/s]it/s]\n",
      "100%|██████████| 1/1 [00:00<00:00, 10.99it/s]\n",
      "100%|██████████| 1/1 [00:00<00:00, 11.21it/s]it/s]\n",
      "100%|██████████| 1/1 [00:00<00:00, 17.50it/s]\n",
      "100%|██████████| 1/1 [00:00<00:00, 10.96it/s]it/s]\n",
      "100%|██████████| 1/1 [00:00<00:00, 18.75it/s]\n",
      "100%|██████████| 1/1 [00:00<00:00,  4.24it/s]it/s]\n"
     ]
    },
    {
     "name": "stdout",
     "output_type": "stream",
     "text": [
      "Current Hit Rate Sum at index 340: 252\n",
      "Current wrongly answered questions at index 340: [5, 9, 14, 15, 24, 26, 27, 28, 35, 37, 42, 43, 44, 51, 52, 58, 62, 65, 68, 96, 97, 98, 99, 100, 101, 109, 112, 119, 121, 122, 123, 124, 125, 139, 143, 144, 145, 146, 147, 151, 152, 154, 155, 159, 161, 171, 177, 179, 180, 185, 186, 193, 194, 195, 197, 203, 205, 206, 207, 208, 210, 230, 237, 238, 243, 245, 251, 256, 263, 266, 267, 268, 271, 273, 274, 281, 300, 306, 307, 309, 311, 313, 319, 322, 323, 324, 326, 328, 339]\n"
     ]
    },
    {
     "name": "stderr",
     "output_type": "stream",
     "text": [
      "100%|██████████| 1/1 [00:00<00:00, 13.39it/s]\n",
      "100%|██████████| 1/1 [00:00<00:00, 17.74it/s]it/s]\n",
      "100%|██████████| 1/1 [00:00<00:00, 17.89it/s]\n",
      "100%|██████████| 1/1 [00:00<00:00, 13.42it/s]it/s]\n",
      "100%|██████████| 1/1 [00:00<00:00, 13.38it/s]\n",
      "100%|██████████| 1/1 [00:00<00:00, 13.45it/s]it/s]\n",
      "100%|██████████| 1/1 [00:00<00:00, 18.67it/s]\n",
      "100%|██████████| 1/1 [00:00<00:00, 13.32it/s]it/s]\n",
      "100%|██████████| 1/1 [00:00<00:00,  7.34it/s]\n",
      "100%|██████████| 1/1 [00:00<00:00, 12.92it/s]it/s]\n",
      "100%|██████████| 1/1 [00:00<00:00, 10.95it/s]\n",
      "100%|██████████| 1/1 [00:00<00:00, 19.16it/s]it/s]\n",
      "100%|██████████| 1/1 [00:00<00:00, 15.83it/s]\n",
      "100%|██████████| 1/1 [00:00<00:00, 14.74it/s]it/s]\n",
      "100%|██████████| 1/1 [00:00<00:00,  4.53it/s]\n",
      "100%|██████████| 1/1 [00:00<00:00,  4.69it/s]it/s]\n",
      "100%|██████████| 1/1 [00:00<00:00,  4.44it/s]\n",
      "100%|██████████| 1/1 [00:00<00:00,  4.52it/s]it/s]\n",
      "100%|██████████| 1/1 [00:00<00:00, 16.62it/s]it/s]\n",
      "100%|██████████| 1/1 [00:00<00:00, 12.81it/s]\n",
      " 36%|███▌      | 361/1000 [00:45<01:23,  7.69it/s]"
     ]
    },
    {
     "name": "stdout",
     "output_type": "stream",
     "text": [
      "Current Hit Rate Sum at index 360: 268\n",
      "Current wrongly answered questions at index 360: [5, 9, 14, 15, 24, 26, 27, 28, 35, 37, 42, 43, 44, 51, 52, 58, 62, 65, 68, 96, 97, 98, 99, 100, 101, 109, 112, 119, 121, 122, 123, 124, 125, 139, 143, 144, 145, 146, 147, 151, 152, 154, 155, 159, 161, 171, 177, 179, 180, 185, 186, 193, 194, 195, 197, 203, 205, 206, 207, 208, 210, 230, 237, 238, 243, 245, 251, 256, 263, 266, 267, 268, 271, 273, 274, 281, 300, 306, 307, 309, 311, 313, 319, 322, 323, 324, 326, 328, 339, 346, 350, 352, 355]\n"
     ]
    },
    {
     "name": "stderr",
     "output_type": "stream",
     "text": [
      "100%|██████████| 1/1 [00:00<00:00, 11.08it/s]\n",
      "100%|██████████| 1/1 [00:00<00:00, 11.18it/s]\n",
      "100%|██████████| 1/1 [00:00<00:00, 17.81it/s]it/s]\n",
      "100%|██████████| 1/1 [00:00<00:00, 15.13it/s]\n",
      "100%|██████████| 1/1 [00:00<00:00,  6.86it/s]it/s]\n",
      "100%|██████████| 1/1 [00:00<00:00,  5.53it/s]\n",
      "100%|██████████| 1/1 [00:00<00:00,  8.09it/s]it/s]\n",
      "100%|██████████| 1/1 [00:00<00:00,  7.79it/s]it/s]\n",
      "100%|██████████| 1/1 [00:00<00:00, 17.48it/s]it/s]\n",
      "100%|██████████| 1/1 [00:00<00:00,  5.27it/s]\n",
      "100%|██████████| 1/1 [00:00<00:00, 10.50it/s]it/s]\n",
      "100%|██████████| 1/1 [00:00<00:00,  6.97it/s]it/s]\n",
      "100%|██████████| 1/1 [00:00<00:00, 17.86it/s]it/s]\n",
      "100%|██████████| 1/1 [00:00<00:00,  7.37it/s]\n",
      "100%|██████████| 1/1 [00:00<00:00,  5.78it/s]it/s]\n",
      "100%|██████████| 1/1 [00:00<00:00, 10.42it/s]it/s]\n",
      "100%|██████████| 1/1 [00:00<00:00, 16.73it/s]it/s]\n",
      "100%|██████████| 1/1 [00:00<00:00,  5.77it/s]\n",
      "100%|██████████| 1/1 [00:00<00:00,  5.58it/s]it/s]\n",
      "100%|██████████| 1/1 [00:00<00:00,  7.41it/s]it/s]\n",
      " 38%|███▊      | 381/1000 [00:48<01:26,  7.19it/s]"
     ]
    },
    {
     "name": "stdout",
     "output_type": "stream",
     "text": [
      "Current Hit Rate Sum at index 380: 283\n",
      "Current wrongly answered questions at index 380: [5, 9, 14, 15, 24, 26, 27, 28, 35, 37, 42, 43, 44, 51, 52, 58, 62, 65, 68, 96, 97, 98, 99, 100, 101, 109, 112, 119, 121, 122, 123, 124, 125, 139, 143, 144, 145, 146, 147, 151, 152, 154, 155, 159, 161, 171, 177, 179, 180, 185, 186, 193, 194, 195, 197, 203, 205, 206, 207, 208, 210, 230, 237, 238, 243, 245, 251, 256, 263, 266, 267, 268, 271, 273, 274, 281, 300, 306, 307, 309, 311, 313, 319, 322, 323, 324, 326, 328, 339, 346, 350, 352, 355, 363, 364, 370, 373, 380]\n"
     ]
    },
    {
     "name": "stderr",
     "output_type": "stream",
     "text": [
      "100%|██████████| 1/1 [00:00<00:00,  5.18it/s]\n",
      "100%|██████████| 1/1 [00:00<00:00,  5.63it/s]it/s]\n",
      "100%|██████████| 1/1 [00:00<00:00,  6.82it/s]it/s]\n",
      "100%|██████████| 1/1 [00:00<00:00,  7.86it/s]it/s]\n",
      "100%|██████████| 1/1 [00:00<00:00,  5.67it/s]it/s]\n",
      "100%|██████████| 1/1 [00:00<00:00,  5.27it/s]it/s]\n",
      "100%|██████████| 1/1 [00:00<00:00,  5.31it/s]it/s]\n",
      "100%|██████████| 1/1 [00:00<00:00,  5.22it/s]it/s]\n",
      "100%|██████████| 1/1 [00:00<00:00,  5.29it/s]it/s]\n",
      "100%|██████████| 1/1 [00:00<00:00,  6.01it/s]it/s]\n",
      "100%|██████████| 1/1 [00:00<00:00,  8.02it/s]it/s]\n",
      "100%|██████████| 1/1 [00:00<00:00,  8.02it/s]it/s]\n",
      "100%|██████████| 1/1 [00:00<00:00,  5.22it/s]it/s]\n",
      "100%|██████████| 1/1 [00:00<00:00,  6.29it/s]it/s]\n",
      "100%|██████████| 1/1 [00:00<00:00,  5.72it/s]it/s]\n",
      "100%|██████████| 1/1 [00:00<00:00, 13.57it/s]it/s]\n",
      "100%|██████████| 1/1 [00:00<00:00, 10.54it/s]\n",
      "100%|██████████| 1/1 [00:00<00:00,  7.08it/s]it/s]\n",
      "100%|██████████| 1/1 [00:00<00:00,  7.06it/s]it/s]\n",
      "100%|██████████| 1/1 [00:00<00:00,  6.01it/s]it/s]\n",
      " 40%|████      | 401/1000 [00:51<01:29,  6.72it/s]"
     ]
    },
    {
     "name": "stdout",
     "output_type": "stream",
     "text": [
      "Current Hit Rate Sum at index 400: 298\n",
      "Current wrongly answered questions at index 400: [5, 9, 14, 15, 24, 26, 27, 28, 35, 37, 42, 43, 44, 51, 52, 58, 62, 65, 68, 96, 97, 98, 99, 100, 101, 109, 112, 119, 121, 122, 123, 124, 125, 139, 143, 144, 145, 146, 147, 151, 152, 154, 155, 159, 161, 171, 177, 179, 180, 185, 186, 193, 194, 195, 197, 203, 205, 206, 207, 208, 210, 230, 237, 238, 243, 245, 251, 256, 263, 266, 267, 268, 271, 273, 274, 281, 300, 306, 307, 309, 311, 313, 319, 322, 323, 324, 326, 328, 339, 346, 350, 352, 355, 363, 364, 370, 373, 380, 381, 395, 397, 398, 399]\n"
     ]
    },
    {
     "name": "stderr",
     "output_type": "stream",
     "text": [
      "100%|██████████| 1/1 [00:00<00:00,  5.69it/s]\n",
      "100%|██████████| 1/1 [00:00<00:00,  4.73it/s]it/s]\n",
      "100%|██████████| 1/1 [00:00<00:00,  5.69it/s]it/s]\n",
      "100%|██████████| 1/1 [00:00<00:00,  5.71it/s]it/s]\n",
      "100%|██████████| 1/1 [00:00<00:00,  6.79it/s]it/s]\n",
      "100%|██████████| 1/1 [00:00<00:00, 10.90it/s]it/s]\n",
      "100%|██████████| 1/1 [00:00<00:00, 13.02it/s]\n",
      "100%|██████████| 1/1 [00:00<00:00,  6.72it/s]it/s]\n",
      "100%|██████████| 1/1 [00:00<00:00,  8.37it/s]it/s]\n",
      "100%|██████████| 1/1 [00:00<00:00, 13.51it/s]it/s]\n",
      "100%|██████████| 1/1 [00:00<00:00, 14.48it/s]\n",
      "100%|██████████| 1/1 [00:00<00:00,  8.28it/s]it/s]\n",
      "100%|██████████| 1/1 [00:00<00:00,  5.51it/s]it/s]\n",
      "100%|██████████| 1/1 [00:00<00:00, 12.34it/s]it/s]\n",
      "100%|██████████| 1/1 [00:00<00:00, 10.51it/s]\n",
      "100%|██████████| 1/1 [00:00<00:00, 11.39it/s]it/s]\n",
      "100%|██████████| 1/1 [00:00<00:00,  7.02it/s]\n",
      "100%|██████████| 1/1 [00:00<00:00,  5.80it/s]it/s]\n",
      "100%|██████████| 1/1 [00:00<00:00, 10.32it/s]it/s]\n",
      "100%|██████████| 1/1 [00:00<00:00,  5.77it/s]it/s]\n",
      " 42%|████▏     | 421/1000 [00:54<01:20,  7.20it/s]"
     ]
    },
    {
     "name": "stdout",
     "output_type": "stream",
     "text": [
      "Current Hit Rate Sum at index 420: 312\n",
      "Current wrongly answered questions at index 420: [5, 9, 14, 15, 24, 26, 27, 28, 35, 37, 42, 43, 44, 51, 52, 58, 62, 65, 68, 96, 97, 98, 99, 100, 101, 109, 112, 119, 121, 122, 123, 124, 125, 139, 143, 144, 145, 146, 147, 151, 152, 154, 155, 159, 161, 171, 177, 179, 180, 185, 186, 193, 194, 195, 197, 203, 205, 206, 207, 208, 210, 230, 237, 238, 243, 245, 251, 256, 263, 266, 267, 268, 271, 273, 274, 281, 300, 306, 307, 309, 311, 313, 319, 322, 323, 324, 326, 328, 339, 346, 350, 352, 355, 363, 364, 370, 373, 380, 381, 395, 397, 398, 399, 410, 411, 412, 413, 419, 420]\n"
     ]
    },
    {
     "name": "stderr",
     "output_type": "stream",
     "text": [
      "100%|██████████| 1/1 [00:00<00:00, 10.82it/s]\n",
      "100%|██████████| 1/1 [00:00<00:00, 10.65it/s]it/s]\n",
      "100%|██████████| 1/1 [00:00<00:00,  6.86it/s]it/s]\n",
      "100%|██████████| 1/1 [00:00<00:00, 15.25it/s]it/s]\n",
      "100%|██████████| 1/1 [00:00<00:00, 10.71it/s]\n",
      "100%|██████████| 1/1 [00:00<00:00, 16.04it/s]it/s]\n",
      "100%|██████████| 1/1 [00:00<00:00,  6.87it/s]\n",
      "100%|██████████| 1/1 [00:00<00:00,  5.68it/s]it/s]\n",
      "100%|██████████| 1/1 [00:00<00:00,  7.31it/s]it/s]\n",
      "100%|██████████| 1/1 [00:00<00:00, 10.77it/s]it/s]\n",
      "100%|██████████| 1/1 [00:00<00:00,  7.37it/s]it/s]\n",
      "100%|██████████| 1/1 [00:00<00:00,  8.84it/s]it/s]\n",
      "100%|██████████| 1/1 [00:00<00:00, 10.75it/s]it/s]\n",
      "100%|██████████| 1/1 [00:00<00:00, 10.79it/s]it/s]\n",
      "100%|██████████| 1/1 [00:00<00:00, 15.83it/s]it/s]\n",
      "100%|██████████| 1/1 [00:00<00:00, 10.55it/s]\n",
      "100%|██████████| 1/1 [00:00<00:00, 12.81it/s]it/s]\n",
      "100%|██████████| 1/1 [00:00<00:00,  5.82it/s]\n",
      "100%|██████████| 1/1 [00:00<00:00,  8.15it/s]it/s]\n",
      "100%|██████████| 1/1 [00:00<00:00,  8.74it/s]it/s]\n",
      " 44%|████▍     | 441/1000 [00:56<01:06,  8.40it/s]"
     ]
    },
    {
     "name": "stdout",
     "output_type": "stream",
     "text": [
      "Current Hit Rate Sum at index 440: 330\n",
      "Current wrongly answered questions at index 440: [5, 9, 14, 15, 24, 26, 27, 28, 35, 37, 42, 43, 44, 51, 52, 58, 62, 65, 68, 96, 97, 98, 99, 100, 101, 109, 112, 119, 121, 122, 123, 124, 125, 139, 143, 144, 145, 146, 147, 151, 152, 154, 155, 159, 161, 171, 177, 179, 180, 185, 186, 193, 194, 195, 197, 203, 205, 206, 207, 208, 210, 230, 237, 238, 243, 245, 251, 256, 263, 266, 267, 268, 271, 273, 274, 281, 300, 306, 307, 309, 311, 313, 319, 322, 323, 324, 326, 328, 339, 346, 350, 352, 355, 363, 364, 370, 373, 380, 381, 395, 397, 398, 399, 410, 411, 412, 413, 419, 420, 424, 438]\n"
     ]
    },
    {
     "name": "stderr",
     "output_type": "stream",
     "text": [
      "100%|██████████| 1/1 [00:00<00:00, 10.56it/s]\n",
      "100%|██████████| 1/1 [00:00<00:00,  4.66it/s]it/s]\n",
      "100%|██████████| 1/1 [00:00<00:00,  6.86it/s]it/s]\n",
      "100%|██████████| 1/1 [00:00<00:00,  4.39it/s]it/s]\n",
      "100%|██████████| 1/1 [00:00<00:00,  5.69it/s]it/s]\n",
      "100%|██████████| 1/1 [00:00<00:00,  5.58it/s]it/s]\n",
      "100%|██████████| 1/1 [00:00<00:00,  5.44it/s]it/s]\n",
      "100%|██████████| 1/1 [00:00<00:00,  5.15it/s]it/s]\n",
      "100%|██████████| 1/1 [00:00<00:00,  5.68it/s]it/s]\n",
      "100%|██████████| 1/1 [00:00<00:00,  5.26it/s]it/s]\n",
      "100%|██████████| 1/1 [00:00<00:00,  5.26it/s]it/s]\n",
      "100%|██████████| 1/1 [00:00<00:00,  5.18it/s]it/s]\n",
      "100%|██████████| 1/1 [00:00<00:00,  5.31it/s]it/s]\n",
      "100%|██████████| 1/1 [00:00<00:00,  5.50it/s]it/s]\n",
      "100%|██████████| 1/1 [00:00<00:00,  5.23it/s]it/s]\n",
      "100%|██████████| 1/1 [00:00<00:00, 15.46it/s]it/s]\n",
      "100%|██████████| 1/1 [00:00<00:00, 15.33it/s]\n",
      "100%|██████████| 1/1 [00:00<00:00,  5.39it/s]it/s]\n",
      "100%|██████████| 1/1 [00:00<00:00, 12.54it/s]it/s]\n",
      "100%|██████████| 1/1 [00:00<00:00, 10.82it/s]\n",
      " 46%|████▌     | 461/1000 [01:00<01:08,  7.84it/s]"
     ]
    },
    {
     "name": "stdout",
     "output_type": "stream",
     "text": [
      "Current Hit Rate Sum at index 460: 346\n",
      "Current wrongly answered questions at index 460: [5, 9, 14, 15, 24, 26, 27, 28, 35, 37, 42, 43, 44, 51, 52, 58, 62, 65, 68, 96, 97, 98, 99, 100, 101, 109, 112, 119, 121, 122, 123, 124, 125, 139, 143, 144, 145, 146, 147, 151, 152, 154, 155, 159, 161, 171, 177, 179, 180, 185, 186, 193, 194, 195, 197, 203, 205, 206, 207, 208, 210, 230, 237, 238, 243, 245, 251, 256, 263, 266, 267, 268, 271, 273, 274, 281, 300, 306, 307, 309, 311, 313, 319, 322, 323, 324, 326, 328, 339, 346, 350, 352, 355, 363, 364, 370, 373, 380, 381, 395, 397, 398, 399, 410, 411, 412, 413, 419, 420, 424, 438, 441, 443, 447, 458]\n"
     ]
    },
    {
     "name": "stderr",
     "output_type": "stream",
     "text": [
      "100%|██████████| 1/1 [00:00<00:00,  8.21it/s]\n",
      "100%|██████████| 1/1 [00:00<00:00,  5.65it/s]it/s]\n",
      "100%|██████████| 1/1 [00:00<00:00, 17.83it/s]it/s]\n",
      "100%|██████████| 1/1 [00:00<00:00, 10.95it/s]\n",
      "100%|██████████| 1/1 [00:00<00:00, 10.53it/s]it/s]\n",
      "100%|██████████| 1/1 [00:00<00:00, 12.87it/s]it/s]\n",
      "100%|██████████| 1/1 [00:00<00:00, 12.95it/s]\n",
      "100%|██████████| 1/1 [00:00<00:00,  5.82it/s]it/s]\n",
      "100%|██████████| 1/1 [00:00<00:00, 19.37it/s]it/s]\n",
      "100%|██████████| 1/1 [00:00<00:00,  5.82it/s]\n",
      "100%|██████████| 1/1 [00:00<00:00,  5.76it/s]it/s]\n",
      "100%|██████████| 1/1 [00:00<00:00,  5.86it/s]it/s]\n",
      "100%|██████████| 1/1 [00:00<00:00, 15.71it/s]it/s]\n",
      "100%|██████████| 1/1 [00:00<00:00, 12.95it/s]\n",
      "100%|██████████| 1/1 [00:00<00:00,  7.06it/s]it/s]\n",
      "100%|██████████| 1/1 [00:00<00:00, 12.94it/s]it/s]\n",
      "100%|██████████| 1/1 [00:00<00:00, 10.60it/s]\n",
      "100%|██████████| 1/1 [00:00<00:00, 16.45it/s]it/s]\n",
      "100%|██████████| 1/1 [00:00<00:00, 10.65it/s]\n",
      "100%|██████████| 1/1 [00:00<00:00, 17.45it/s]it/s]\n"
     ]
    },
    {
     "name": "stdout",
     "output_type": "stream",
     "text": [
      "Current Hit Rate Sum at index 480: 362\n",
      "Current wrongly answered questions at index 480: [5, 9, 14, 15, 24, 26, 27, 28, 35, 37, 42, 43, 44, 51, 52, 58, 62, 65, 68, 96, 97, 98, 99, 100, 101, 109, 112, 119, 121, 122, 123, 124, 125, 139, 143, 144, 145, 146, 147, 151, 152, 154, 155, 159, 161, 171, 177, 179, 180, 185, 186, 193, 194, 195, 197, 203, 205, 206, 207, 208, 210, 230, 237, 238, 243, 245, 251, 256, 263, 266, 267, 268, 271, 273, 274, 281, 300, 306, 307, 309, 311, 313, 319, 322, 323, 324, 326, 328, 339, 346, 350, 352, 355, 363, 364, 370, 373, 380, 381, 395, 397, 398, 399, 410, 411, 412, 413, 419, 420, 424, 438, 441, 443, 447, 458, 463, 464, 465, 469]\n"
     ]
    },
    {
     "name": "stderr",
     "output_type": "stream",
     "text": [
      "100%|██████████| 1/1 [00:00<00:00, 10.88it/s]\n",
      "100%|██████████| 1/1 [00:00<00:00,  5.75it/s]it/s]\n",
      "100%|██████████| 1/1 [00:00<00:00, 10.51it/s]\n",
      "100%|██████████| 1/1 [00:00<00:00,  5.79it/s]it/s]\n",
      "100%|██████████| 1/1 [00:00<00:00,  7.96it/s]it/s]\n",
      "100%|██████████| 1/1 [00:00<00:00, 12.17it/s]it/s]\n",
      "100%|██████████| 1/1 [00:00<00:00, 12.91it/s]\n",
      "100%|██████████| 1/1 [00:00<00:00, 12.99it/s]it/s]\n",
      "100%|██████████| 1/1 [00:00<00:00, 17.37it/s]\n",
      "100%|██████████| 1/1 [00:00<00:00, 18.43it/s]it/s]\n",
      "100%|██████████| 1/1 [00:00<00:00,  6.85it/s]\n",
      "100%|██████████| 1/1 [00:00<00:00,  6.84it/s]it/s]\n",
      "100%|██████████| 1/1 [00:00<00:00,  6.37it/s]\n",
      "100%|██████████| 1/1 [00:00<00:00, 14.52it/s]it/s]\n",
      "100%|██████████| 1/1 [00:00<00:00,  5.49it/s]\n",
      "100%|██████████| 1/1 [00:00<00:00,  7.18it/s]it/s]\n",
      "100%|██████████| 1/1 [00:00<00:00,  7.36it/s]it/s]\n",
      "100%|██████████| 1/1 [00:00<00:00,  7.00it/s]it/s]\n",
      "100%|██████████| 1/1 [00:00<00:00,  4.40it/s]it/s]\n",
      "100%|██████████| 1/1 [00:00<00:00, 10.41it/s]it/s]\n",
      " 50%|█████     | 501/1000 [01:05<01:12,  6.91it/s]"
     ]
    },
    {
     "name": "stdout",
     "output_type": "stream",
     "text": [
      "Current Hit Rate Sum at index 500: 375\n",
      "Current wrongly answered questions at index 500: [5, 9, 14, 15, 24, 26, 27, 28, 35, 37, 42, 43, 44, 51, 52, 58, 62, 65, 68, 96, 97, 98, 99, 100, 101, 109, 112, 119, 121, 122, 123, 124, 125, 139, 143, 144, 145, 146, 147, 151, 152, 154, 155, 159, 161, 171, 177, 179, 180, 185, 186, 193, 194, 195, 197, 203, 205, 206, 207, 208, 210, 230, 237, 238, 243, 245, 251, 256, 263, 266, 267, 268, 271, 273, 274, 281, 300, 306, 307, 309, 311, 313, 319, 322, 323, 324, 326, 328, 339, 346, 350, 352, 355, 363, 364, 370, 373, 380, 381, 395, 397, 398, 399, 410, 411, 412, 413, 419, 420, 424, 438, 441, 443, 447, 458, 463, 464, 465, 469, 482, 483, 485, 489, 490, 493, 500]\n"
     ]
    },
    {
     "name": "stderr",
     "output_type": "stream",
     "text": [
      "100%|██████████| 1/1 [00:00<00:00, 15.51it/s]\n",
      "100%|██████████| 1/1 [00:00<00:00,  7.05it/s]\n",
      "100%|██████████| 1/1 [00:00<00:00, 16.60it/s]it/s]\n",
      "100%|██████████| 1/1 [00:00<00:00,  8.82it/s]\n",
      "100%|██████████| 1/1 [00:00<00:00,  4.38it/s]it/s]\n",
      "100%|██████████| 1/1 [00:00<00:00,  6.76it/s]it/s]\n",
      "100%|██████████| 1/1 [00:00<00:00, 13.39it/s]it/s]\n",
      "100%|██████████| 1/1 [00:00<00:00, 14.46it/s]\n",
      "100%|██████████| 1/1 [00:00<00:00,  4.22it/s]it/s]\n",
      "100%|██████████| 1/1 [00:00<00:00, 10.79it/s]it/s]\n",
      "100%|██████████| 1/1 [00:00<00:00,  7.83it/s]\n",
      "100%|██████████| 1/1 [00:00<00:00, 10.82it/s]it/s]\n",
      "100%|██████████| 1/1 [00:00<00:00,  7.47it/s]\n",
      "100%|██████████| 1/1 [00:00<00:00,  6.90it/s]it/s]\n",
      "100%|██████████| 1/1 [00:00<00:00,  6.87it/s]it/s]\n",
      "100%|██████████| 1/1 [00:00<00:00,  7.33it/s]it/s]\n",
      "100%|██████████| 1/1 [00:00<00:00, 15.53it/s]it/s]\n",
      "100%|██████████| 1/1 [00:00<00:00, 15.88it/s]\n",
      "100%|██████████| 1/1 [00:00<00:00, 11.17it/s]it/s]\n",
      "100%|██████████| 1/1 [00:00<00:00,  8.40it/s]\n",
      " 52%|█████▏    | 521/1000 [01:07<00:53,  9.01it/s]"
     ]
    },
    {
     "name": "stdout",
     "output_type": "stream",
     "text": [
      "Current Hit Rate Sum at index 520: 385\n",
      "Current wrongly answered questions at index 520: [5, 9, 14, 15, 24, 26, 27, 28, 35, 37, 42, 43, 44, 51, 52, 58, 62, 65, 68, 96, 97, 98, 99, 100, 101, 109, 112, 119, 121, 122, 123, 124, 125, 139, 143, 144, 145, 146, 147, 151, 152, 154, 155, 159, 161, 171, 177, 179, 180, 185, 186, 193, 194, 195, 197, 203, 205, 206, 207, 208, 210, 230, 237, 238, 243, 245, 251, 256, 263, 266, 267, 268, 271, 273, 274, 281, 300, 306, 307, 309, 311, 313, 319, 322, 323, 324, 326, 328, 339, 346, 350, 352, 355, 363, 364, 370, 373, 380, 381, 395, 397, 398, 399, 410, 411, 412, 413, 419, 420, 424, 438, 441, 443, 447, 458, 463, 464, 465, 469, 482, 483, 485, 489, 490, 493, 500, 502, 503, 504, 506, 507, 508, 509, 511, 514, 518]\n"
     ]
    },
    {
     "name": "stderr",
     "output_type": "stream",
     "text": [
      "100%|██████████| 1/1 [00:00<00:00, 15.39it/s]\n",
      "100%|██████████| 1/1 [00:00<00:00, 16.31it/s]\n",
      "100%|██████████| 1/1 [00:00<00:00, 16.30it/s]it/s]\n",
      "100%|██████████| 1/1 [00:00<00:00, 10.78it/s]\n",
      "100%|██████████| 1/1 [00:00<00:00, 18.58it/s]it/s]\n",
      "100%|██████████| 1/1 [00:00<00:00,  4.26it/s]\n",
      "100%|██████████| 1/1 [00:00<00:00, 12.74it/s]it/s]\n",
      "100%|██████████| 1/1 [00:00<00:00,  6.80it/s]\n",
      "100%|██████████| 1/1 [00:00<00:00,  6.88it/s]it/s]\n",
      "100%|██████████| 1/1 [00:00<00:00,  6.84it/s]it/s]\n",
      "100%|██████████| 1/1 [00:00<00:00,  6.76it/s]it/s]\n",
      "100%|██████████| 1/1 [00:00<00:00,  6.38it/s]it/s]\n",
      "100%|██████████| 1/1 [00:00<00:00, 15.57it/s]it/s]\n",
      "100%|██████████| 1/1 [00:00<00:00,  4.40it/s]\n",
      "100%|██████████| 1/1 [00:00<00:00, 10.48it/s]it/s]\n",
      "100%|██████████| 1/1 [00:00<00:00, 10.47it/s]it/s]\n",
      "100%|██████████| 1/1 [00:00<00:00, 10.81it/s]it/s]\n",
      "100%|██████████| 1/1 [00:00<00:00,  5.61it/s]\n",
      "100%|██████████| 1/1 [00:00<00:00,  5.27it/s]it/s]\n",
      "100%|██████████| 1/1 [00:00<00:00,  7.96it/s]it/s]\n",
      " 54%|█████▍    | 541/1000 [01:10<01:06,  6.94it/s]"
     ]
    },
    {
     "name": "stdout",
     "output_type": "stream",
     "text": [
      "Current Hit Rate Sum at index 540: 399\n",
      "Current wrongly answered questions at index 540: [5, 9, 14, 15, 24, 26, 27, 28, 35, 37, 42, 43, 44, 51, 52, 58, 62, 65, 68, 96, 97, 98, 99, 100, 101, 109, 112, 119, 121, 122, 123, 124, 125, 139, 143, 144, 145, 146, 147, 151, 152, 154, 155, 159, 161, 171, 177, 179, 180, 185, 186, 193, 194, 195, 197, 203, 205, 206, 207, 208, 210, 230, 237, 238, 243, 245, 251, 256, 263, 266, 267, 268, 271, 273, 274, 281, 300, 306, 307, 309, 311, 313, 319, 322, 323, 324, 326, 328, 339, 346, 350, 352, 355, 363, 364, 370, 373, 380, 381, 395, 397, 398, 399, 410, 411, 412, 413, 419, 420, 424, 438, 441, 443, 447, 458, 463, 464, 465, 469, 482, 483, 485, 489, 490, 493, 500, 502, 503, 504, 506, 507, 508, 509, 511, 514, 518, 521, 525, 529, 533, 539, 540]\n"
     ]
    },
    {
     "name": "stderr",
     "output_type": "stream",
     "text": [
      "100%|██████████| 1/1 [00:00<00:00,  9.00it/s]\n",
      "100%|██████████| 1/1 [00:00<00:00,  6.72it/s]it/s]\n",
      "100%|██████████| 1/1 [00:00<00:00,  7.00it/s]it/s]\n",
      "100%|██████████| 1/1 [00:00<00:00, 11.04it/s]it/s]\n",
      "100%|██████████| 1/1 [00:00<00:00, 16.14it/s]\n",
      "100%|██████████| 1/1 [00:00<00:00, 13.32it/s]it/s]\n",
      "100%|██████████| 1/1 [00:00<00:00,  5.48it/s]\n",
      "100%|██████████| 1/1 [00:00<00:00,  5.51it/s]it/s]\n",
      "100%|██████████| 1/1 [00:00<00:00, 15.61it/s]it/s]\n",
      "100%|██████████| 1/1 [00:00<00:00, 13.78it/s]\n",
      "100%|██████████| 1/1 [00:00<00:00, 15.75it/s]it/s]\n",
      "100%|██████████| 1/1 [00:00<00:00, 16.94it/s]\n",
      "100%|██████████| 1/1 [00:00<00:00, 15.52it/s]it/s]\n",
      "100%|██████████| 1/1 [00:00<00:00,  8.04it/s]\n",
      "100%|██████████| 1/1 [00:00<00:00, 14.86it/s]it/s]\n",
      "100%|██████████| 1/1 [00:00<00:00,  4.60it/s]\n",
      "100%|██████████| 1/1 [00:00<00:00,  4.52it/s]it/s]\n",
      "100%|██████████| 1/1 [00:00<00:00,  4.66it/s]it/s]\n",
      "100%|██████████| 1/1 [00:00<00:00,  4.69it/s]it/s]\n",
      "100%|██████████| 1/1 [00:00<00:00,  5.63it/s]it/s]\n",
      " 56%|█████▌    | 561/1000 [01:12<01:15,  5.78it/s]"
     ]
    },
    {
     "name": "stdout",
     "output_type": "stream",
     "text": [
      "Current Hit Rate Sum at index 560: 414\n",
      "Current wrongly answered questions at index 560: [5, 9, 14, 15, 24, 26, 27, 28, 35, 37, 42, 43, 44, 51, 52, 58, 62, 65, 68, 96, 97, 98, 99, 100, 101, 109, 112, 119, 121, 122, 123, 124, 125, 139, 143, 144, 145, 146, 147, 151, 152, 154, 155, 159, 161, 171, 177, 179, 180, 185, 186, 193, 194, 195, 197, 203, 205, 206, 207, 208, 210, 230, 237, 238, 243, 245, 251, 256, 263, 266, 267, 268, 271, 273, 274, 281, 300, 306, 307, 309, 311, 313, 319, 322, 323, 324, 326, 328, 339, 346, 350, 352, 355, 363, 364, 370, 373, 380, 381, 395, 397, 398, 399, 410, 411, 412, 413, 419, 420, 424, 438, 441, 443, 447, 458, 463, 464, 465, 469, 482, 483, 485, 489, 490, 493, 500, 502, 503, 504, 506, 507, 508, 509, 511, 514, 518, 521, 525, 529, 533, 539, 540, 542, 551, 552, 554, 559]\n"
     ]
    },
    {
     "name": "stderr",
     "output_type": "stream",
     "text": [
      "100%|██████████| 1/1 [00:00<00:00,  8.64it/s]\n",
      "100%|██████████| 1/1 [00:00<00:00,  5.48it/s]it/s]\n",
      "100%|██████████| 1/1 [00:00<00:00,  5.58it/s]it/s]\n",
      "100%|██████████| 1/1 [00:00<00:00,  5.58it/s]it/s]\n",
      "100%|██████████| 1/1 [00:00<00:00,  7.38it/s]it/s]\n",
      "100%|██████████| 1/1 [00:00<00:00, 10.94it/s]it/s]\n",
      "100%|██████████| 1/1 [00:00<00:00, 10.74it/s]\n",
      "100%|██████████| 1/1 [00:00<00:00,  7.32it/s]it/s]\n",
      "100%|██████████| 1/1 [00:00<00:00, 10.37it/s]it/s]\n",
      "100%|██████████| 1/1 [00:00<00:00,  8.32it/s]it/s]\n",
      "100%|██████████| 1/1 [00:00<00:00, 12.36it/s]it/s]\n",
      "100%|██████████| 1/1 [00:00<00:00, 11.49it/s]\n",
      "100%|██████████| 1/1 [00:00<00:00,  6.73it/s]it/s]\n",
      "100%|██████████| 1/1 [00:00<00:00,  6.75it/s]it/s]\n",
      "100%|██████████| 1/1 [00:00<00:00, 10.75it/s]it/s]\n",
      "100%|██████████| 1/1 [00:00<00:00,  5.94it/s]it/s]\n",
      "100%|██████████| 1/1 [00:00<00:00,  5.65it/s]it/s]\n",
      "100%|██████████| 1/1 [00:00<00:00,  7.31it/s]it/s]\n",
      "100%|██████████| 1/1 [00:00<00:00, 18.22it/s]it/s]\n",
      "100%|██████████| 1/1 [00:00<00:00,  4.67it/s]\n",
      " 58%|█████▊    | 581/1000 [01:15<01:01,  6.80it/s]"
     ]
    },
    {
     "name": "stdout",
     "output_type": "stream",
     "text": [
      "Current Hit Rate Sum at index 580: 429\n",
      "Current wrongly answered questions at index 580: [5, 9, 14, 15, 24, 26, 27, 28, 35, 37, 42, 43, 44, 51, 52, 58, 62, 65, 68, 96, 97, 98, 99, 100, 101, 109, 112, 119, 121, 122, 123, 124, 125, 139, 143, 144, 145, 146, 147, 151, 152, 154, 155, 159, 161, 171, 177, 179, 180, 185, 186, 193, 194, 195, 197, 203, 205, 206, 207, 208, 210, 230, 237, 238, 243, 245, 251, 256, 263, 266, 267, 268, 271, 273, 274, 281, 300, 306, 307, 309, 311, 313, 319, 322, 323, 324, 326, 328, 339, 346, 350, 352, 355, 363, 364, 370, 373, 380, 381, 395, 397, 398, 399, 410, 411, 412, 413, 419, 420, 424, 438, 441, 443, 447, 458, 463, 464, 465, 469, 482, 483, 485, 489, 490, 493, 500, 502, 503, 504, 506, 507, 508, 509, 511, 514, 518, 521, 525, 529, 533, 539, 540, 542, 551, 552, 554, 559, 575, 576, 577, 578, 579]\n"
     ]
    },
    {
     "name": "stderr",
     "output_type": "stream",
     "text": [
      "100%|██████████| 1/1 [00:00<00:00,  8.91it/s]\n",
      "100%|██████████| 1/1 [00:00<00:00,  6.72it/s]it/s]\n",
      "100%|██████████| 1/1 [00:00<00:00,  5.81it/s]it/s]\n",
      "100%|██████████| 1/1 [00:00<00:00,  6.66it/s]it/s]\n",
      "100%|██████████| 1/1 [00:00<00:00, 11.36it/s]it/s]\n",
      "100%|██████████| 1/1 [00:00<00:00, 11.18it/s]\n",
      "100%|██████████| 1/1 [00:00<00:00,  5.64it/s]it/s]\n",
      "100%|██████████| 1/1 [00:00<00:00, 15.35it/s]it/s]\n",
      "100%|██████████| 1/1 [00:00<00:00, 18.10it/s]\n",
      "100%|██████████| 1/1 [00:00<00:00, 11.46it/s]it/s]\n",
      "100%|██████████| 1/1 [00:00<00:00,  5.69it/s]\n",
      "100%|██████████| 1/1 [00:00<00:00,  5.69it/s]it/s]\n",
      "100%|██████████| 1/1 [00:00<00:00,  6.40it/s]it/s]\n",
      "100%|██████████| 1/1 [00:00<00:00,  8.71it/s]it/s]\n",
      "100%|██████████| 1/1 [00:00<00:00,  5.18it/s]it/s]\n",
      "100%|██████████| 1/1 [00:00<00:00,  5.77it/s]it/s]\n",
      "100%|██████████| 1/1 [00:00<00:00,  6.32it/s]it/s]\n",
      "100%|██████████| 1/1 [00:00<00:00,  6.83it/s]it/s]\n",
      "100%|██████████| 1/1 [00:00<00:00, 11.04it/s]it/s]\n",
      "100%|██████████| 1/1 [00:00<00:00, 11.76it/s]\n",
      " 60%|██████    | 601/1000 [01:18<00:52,  7.62it/s]"
     ]
    },
    {
     "name": "stdout",
     "output_type": "stream",
     "text": [
      "Current Hit Rate Sum at index 600: 444\n",
      "Current wrongly answered questions at index 600: [5, 9, 14, 15, 24, 26, 27, 28, 35, 37, 42, 43, 44, 51, 52, 58, 62, 65, 68, 96, 97, 98, 99, 100, 101, 109, 112, 119, 121, 122, 123, 124, 125, 139, 143, 144, 145, 146, 147, 151, 152, 154, 155, 159, 161, 171, 177, 179, 180, 185, 186, 193, 194, 195, 197, 203, 205, 206, 207, 208, 210, 230, 237, 238, 243, 245, 251, 256, 263, 266, 267, 268, 271, 273, 274, 281, 300, 306, 307, 309, 311, 313, 319, 322, 323, 324, 326, 328, 339, 346, 350, 352, 355, 363, 364, 370, 373, 380, 381, 395, 397, 398, 399, 410, 411, 412, 413, 419, 420, 424, 438, 441, 443, 447, 458, 463, 464, 465, 469, 482, 483, 485, 489, 490, 493, 500, 502, 503, 504, 506, 507, 508, 509, 511, 514, 518, 521, 525, 529, 533, 539, 540, 542, 551, 552, 554, 559, 575, 576, 577, 578, 579, 587, 588, 589, 593, 595]\n"
     ]
    },
    {
     "name": "stderr",
     "output_type": "stream",
     "text": [
      "100%|██████████| 1/1 [00:00<00:00, 10.43it/s]\n",
      "100%|██████████| 1/1 [00:00<00:00, 11.29it/s]it/s]\n",
      "100%|██████████| 1/1 [00:00<00:00, 10.85it/s]\n",
      "100%|██████████| 1/1 [00:00<00:00,  8.49it/s]it/s]\n",
      "100%|██████████| 1/1 [00:00<00:00, 11.95it/s]it/s]\n",
      "100%|██████████| 1/1 [00:00<00:00, 10.59it/s]\n",
      "100%|██████████| 1/1 [00:00<00:00, 13.47it/s]it/s]\n",
      "100%|██████████| 1/1 [00:00<00:00,  8.60it/s]\n",
      "100%|██████████| 1/1 [00:00<00:00,  5.80it/s]it/s]\n",
      "100%|██████████| 1/1 [00:00<00:00,  8.82it/s]it/s]\n",
      "100%|██████████| 1/1 [00:00<00:00, 13.46it/s]it/s]\n",
      "100%|██████████| 1/1 [00:00<00:00,  7.42it/s]\n",
      "100%|██████████| 1/1 [00:00<00:00, 18.39it/s]it/s]\n",
      "100%|██████████| 1/1 [00:00<00:00, 19.21it/s]\n",
      "100%|██████████| 1/1 [00:00<00:00,  4.71it/s]it/s]\n",
      "100%|██████████| 1/1 [00:00<00:00, 10.89it/s]\n",
      "100%|██████████| 1/1 [00:00<00:00,  5.51it/s]it/s]\n",
      "100%|██████████| 1/1 [00:00<00:00,  5.60it/s]it/s]\n",
      "100%|██████████| 1/1 [00:00<00:00,  5.63it/s]it/s]\n",
      "100%|██████████| 1/1 [00:00<00:00, 15.31it/s]it/s]\n"
     ]
    },
    {
     "name": "stdout",
     "output_type": "stream",
     "text": [
      "Current Hit Rate Sum at index 620: 455\n",
      "Current wrongly answered questions at index 620: [5, 9, 14, 15, 24, 26, 27, 28, 35, 37, 42, 43, 44, 51, 52, 58, 62, 65, 68, 96, 97, 98, 99, 100, 101, 109, 112, 119, 121, 122, 123, 124, 125, 139, 143, 144, 145, 146, 147, 151, 152, 154, 155, 159, 161, 171, 177, 179, 180, 185, 186, 193, 194, 195, 197, 203, 205, 206, 207, 208, 210, 230, 237, 238, 243, 245, 251, 256, 263, 266, 267, 268, 271, 273, 274, 281, 300, 306, 307, 309, 311, 313, 319, 322, 323, 324, 326, 328, 339, 346, 350, 352, 355, 363, 364, 370, 373, 380, 381, 395, 397, 398, 399, 410, 411, 412, 413, 419, 420, 424, 438, 441, 443, 447, 458, 463, 464, 465, 469, 482, 483, 485, 489, 490, 493, 500, 502, 503, 504, 506, 507, 508, 509, 511, 514, 518, 521, 525, 529, 533, 539, 540, 542, 551, 552, 554, 559, 575, 576, 577, 578, 579, 587, 588, 589, 593, 595, 605, 606, 608, 609, 612, 613, 614, 616, 619]\n"
     ]
    },
    {
     "name": "stderr",
     "output_type": "stream",
     "text": [
      "100%|██████████| 1/1 [00:00<00:00, 18.80it/s]\n",
      "100%|██████████| 1/1 [00:00<00:00,  6.45it/s]it/s]\n",
      "100%|██████████| 1/1 [00:00<00:00,  5.58it/s]it/s]\n",
      "100%|██████████| 1/1 [00:00<00:00, 17.62it/s]it/s]\n",
      "100%|██████████| 1/1 [00:00<00:00, 15.82it/s]\n",
      "100%|██████████| 1/1 [00:00<00:00,  8.64it/s]it/s]\n",
      "100%|██████████| 1/1 [00:00<00:00, 12.89it/s]it/s]\n",
      "100%|██████████| 1/1 [00:00<00:00, 13.53it/s]\n",
      "100%|██████████| 1/1 [00:00<00:00,  5.62it/s]it/s]\n",
      "100%|██████████| 1/1 [00:00<00:00,  5.64it/s]\n",
      "100%|██████████| 1/1 [00:00<00:00,  7.93it/s]it/s]\n",
      "100%|██████████| 1/1 [00:00<00:00,  7.05it/s]it/s]\n",
      "100%|██████████| 1/1 [00:00<00:00, 16.20it/s]it/s]\n",
      "100%|██████████| 1/1 [00:00<00:00,  5.80it/s]\n",
      "100%|██████████| 1/1 [00:00<00:00, 12.87it/s]it/s]\n",
      "100%|██████████| 1/1 [00:00<00:00, 12.42it/s]\n",
      "100%|██████████| 1/1 [00:00<00:00,  8.65it/s]it/s]\n",
      "100%|██████████| 1/1 [00:00<00:00,  8.28it/s]it/s]\n",
      "100%|██████████| 1/1 [00:00<00:00,  8.61it/s]it/s]\n",
      "100%|██████████| 1/1 [00:00<00:00,  8.39it/s]it/s]\n",
      " 64%|██████▍   | 641/1000 [01:23<00:43,  8.28it/s]"
     ]
    },
    {
     "name": "stdout",
     "output_type": "stream",
     "text": [
      "Current Hit Rate Sum at index 640: 466\n",
      "Current wrongly answered questions at index 640: [5, 9, 14, 15, 24, 26, 27, 28, 35, 37, 42, 43, 44, 51, 52, 58, 62, 65, 68, 96, 97, 98, 99, 100, 101, 109, 112, 119, 121, 122, 123, 124, 125, 139, 143, 144, 145, 146, 147, 151, 152, 154, 155, 159, 161, 171, 177, 179, 180, 185, 186, 193, 194, 195, 197, 203, 205, 206, 207, 208, 210, 230, 237, 238, 243, 245, 251, 256, 263, 266, 267, 268, 271, 273, 274, 281, 300, 306, 307, 309, 311, 313, 319, 322, 323, 324, 326, 328, 339, 346, 350, 352, 355, 363, 364, 370, 373, 380, 381, 395, 397, 398, 399, 410, 411, 412, 413, 419, 420, 424, 438, 441, 443, 447, 458, 463, 464, 465, 469, 482, 483, 485, 489, 490, 493, 500, 502, 503, 504, 506, 507, 508, 509, 511, 514, 518, 521, 525, 529, 533, 539, 540, 542, 551, 552, 554, 559, 575, 576, 577, 578, 579, 587, 588, 589, 593, 595, 605, 606, 608, 609, 612, 613, 614, 616, 619, 621, 623, 624, 629, 630, 634, 635, 636, 638]\n"
     ]
    },
    {
     "name": "stderr",
     "output_type": "stream",
     "text": [
      "100%|██████████| 1/1 [00:00<00:00, 11.19it/s]\n",
      "100%|██████████| 1/1 [00:00<00:00,  8.37it/s]\n",
      "100%|██████████| 1/1 [00:00<00:00, 11.40it/s]it/s]\n",
      "100%|██████████| 1/1 [00:00<00:00, 15.30it/s]\n",
      "100%|██████████| 1/1 [00:00<00:00, 11.16it/s]it/s]\n",
      "100%|██████████| 1/1 [00:00<00:00,  5.69it/s]\n",
      "100%|██████████| 1/1 [00:00<00:00,  5.55it/s]it/s]\n",
      "100%|██████████| 1/1 [00:00<00:00, 14.66it/s]it/s]\n",
      "100%|██████████| 1/1 [00:00<00:00,  5.82it/s]\n",
      "100%|██████████| 1/1 [00:00<00:00,  4.41it/s]it/s]\n",
      "100%|██████████| 1/1 [00:00<00:00, 14.99it/s]it/s]\n",
      "100%|██████████| 1/1 [00:00<00:00, 15.48it/s]\n",
      "100%|██████████| 1/1 [00:00<00:00, 18.18it/s]it/s]\n",
      "100%|██████████| 1/1 [00:00<00:00, 18.60it/s]\n",
      "100%|██████████| 1/1 [00:00<00:00, 13.52it/s]it/s]\n",
      "100%|██████████| 1/1 [00:00<00:00, 18.56it/s]\n",
      "100%|██████████| 1/1 [00:00<00:00, 13.41it/s]it/s]\n",
      "100%|██████████| 1/1 [00:00<00:00,  8.57it/s]\n",
      "100%|██████████| 1/1 [00:00<00:00, 11.44it/s]it/s]\n",
      "100%|██████████| 1/1 [00:00<00:00, 17.60it/s]\n",
      " 66%|██████▌   | 661/1000 [01:25<00:30, 11.20it/s]"
     ]
    },
    {
     "name": "stdout",
     "output_type": "stream",
     "text": [
      "Current Hit Rate Sum at index 660: 480\n",
      "Current wrongly answered questions at index 660: [5, 9, 14, 15, 24, 26, 27, 28, 35, 37, 42, 43, 44, 51, 52, 58, 62, 65, 68, 96, 97, 98, 99, 100, 101, 109, 112, 119, 121, 122, 123, 124, 125, 139, 143, 144, 145, 146, 147, 151, 152, 154, 155, 159, 161, 171, 177, 179, 180, 185, 186, 193, 194, 195, 197, 203, 205, 206, 207, 208, 210, 230, 237, 238, 243, 245, 251, 256, 263, 266, 267, 268, 271, 273, 274, 281, 300, 306, 307, 309, 311, 313, 319, 322, 323, 324, 326, 328, 339, 346, 350, 352, 355, 363, 364, 370, 373, 380, 381, 395, 397, 398, 399, 410, 411, 412, 413, 419, 420, 424, 438, 441, 443, 447, 458, 463, 464, 465, 469, 482, 483, 485, 489, 490, 493, 500, 502, 503, 504, 506, 507, 508, 509, 511, 514, 518, 521, 525, 529, 533, 539, 540, 542, 551, 552, 554, 559, 575, 576, 577, 578, 579, 587, 588, 589, 593, 595, 605, 606, 608, 609, 612, 613, 614, 616, 619, 621, 623, 624, 629, 630, 634, 635, 636, 638, 641, 642, 644, 653, 654, 656]\n"
     ]
    },
    {
     "name": "stderr",
     "output_type": "stream",
     "text": [
      "100%|██████████| 1/1 [00:00<00:00,  4.44it/s]\n",
      "100%|██████████| 1/1 [00:00<00:00,  4.43it/s]\n",
      "100%|██████████| 1/1 [00:00<00:00, 10.59it/s]it/s]\n",
      "100%|██████████| 1/1 [00:00<00:00,  4.40it/s]it/s]\n",
      "100%|██████████| 1/1 [00:00<00:00,  4.40it/s]it/s]\n",
      "100%|██████████| 1/1 [00:00<00:00,  4.41it/s]it/s]\n",
      "100%|██████████| 1/1 [00:00<00:00,  8.90it/s]it/s]\n",
      "100%|██████████| 1/1 [00:00<00:00, 10.57it/s]it/s]\n",
      "100%|██████████| 1/1 [00:00<00:00, 10.50it/s]it/s]\n",
      "100%|██████████| 1/1 [00:00<00:00, 15.21it/s]it/s]\n",
      "100%|██████████| 1/1 [00:00<00:00,  8.52it/s]\n",
      "100%|██████████| 1/1 [00:00<00:00,  8.23it/s]it/s]\n",
      "100%|██████████| 1/1 [00:00<00:00,  8.04it/s]it/s]\n",
      "100%|██████████| 1/1 [00:00<00:00, 15.66it/s]it/s]\n",
      "100%|██████████| 1/1 [00:00<00:00,  4.45it/s]\n",
      "100%|██████████| 1/1 [00:00<00:00, 12.00it/s]it/s]\n",
      "100%|██████████| 1/1 [00:00<00:00, 13.08it/s]\n",
      "100%|██████████| 1/1 [00:00<00:00,  8.77it/s]it/s]\n",
      "100%|██████████| 1/1 [00:00<00:00, 16.60it/s]it/s]\n",
      "100%|██████████| 1/1 [00:00<00:00,  5.68it/s]\n",
      " 68%|██████▊   | 681/1000 [01:28<00:38,  8.32it/s]"
     ]
    },
    {
     "name": "stdout",
     "output_type": "stream",
     "text": [
      "Current Hit Rate Sum at index 680: 496\n",
      "Current wrongly answered questions at index 680: [5, 9, 14, 15, 24, 26, 27, 28, 35, 37, 42, 43, 44, 51, 52, 58, 62, 65, 68, 96, 97, 98, 99, 100, 101, 109, 112, 119, 121, 122, 123, 124, 125, 139, 143, 144, 145, 146, 147, 151, 152, 154, 155, 159, 161, 171, 177, 179, 180, 185, 186, 193, 194, 195, 197, 203, 205, 206, 207, 208, 210, 230, 237, 238, 243, 245, 251, 256, 263, 266, 267, 268, 271, 273, 274, 281, 300, 306, 307, 309, 311, 313, 319, 322, 323, 324, 326, 328, 339, 346, 350, 352, 355, 363, 364, 370, 373, 380, 381, 395, 397, 398, 399, 410, 411, 412, 413, 419, 420, 424, 438, 441, 443, 447, 458, 463, 464, 465, 469, 482, 483, 485, 489, 490, 493, 500, 502, 503, 504, 506, 507, 508, 509, 511, 514, 518, 521, 525, 529, 533, 539, 540, 542, 551, 552, 554, 559, 575, 576, 577, 578, 579, 587, 588, 589, 593, 595, 605, 606, 608, 609, 612, 613, 614, 616, 619, 621, 623, 624, 629, 630, 634, 635, 636, 638, 641, 642, 644, 653, 654, 656, 661, 663, 671, 679]\n"
     ]
    },
    {
     "name": "stderr",
     "output_type": "stream",
     "text": [
      "100%|██████████| 1/1 [00:00<00:00,  5.61it/s]\n",
      "100%|██████████| 1/1 [00:00<00:00,  7.00it/s]it/s]\n",
      "100%|██████████| 1/1 [00:00<00:00,  6.91it/s]it/s]\n",
      "100%|██████████| 1/1 [00:00<00:00, 19.21it/s]it/s]\n",
      "100%|██████████| 1/1 [00:00<00:00, 15.38it/s]\n",
      "100%|██████████| 1/1 [00:00<00:00,  6.38it/s]it/s]\n",
      "100%|██████████| 1/1 [00:00<00:00, 16.90it/s]it/s]\n",
      "100%|██████████| 1/1 [00:00<00:00, 19.52it/s]\n",
      "100%|██████████| 1/1 [00:00<00:00,  4.41it/s]it/s]\n",
      "100%|██████████| 1/1 [00:00<00:00,  6.02it/s]\n",
      "100%|██████████| 1/1 [00:00<00:00,  6.01it/s]it/s]\n",
      "100%|██████████| 1/1 [00:00<00:00,  5.81it/s]it/s]\n",
      "100%|██████████| 1/1 [00:00<00:00,  6.00it/s]it/s]\n",
      "100%|██████████| 1/1 [00:00<00:00,  4.41it/s]it/s]\n",
      "100%|██████████| 1/1 [00:00<00:00,  4.41it/s]it/s]\n",
      "100%|██████████| 1/1 [00:00<00:00, 15.75it/s]it/s]\n",
      "100%|██████████| 1/1 [00:00<00:00,  4.45it/s]\n",
      "100%|██████████| 1/1 [00:00<00:00, 13.52it/s]it/s]\n",
      "100%|██████████| 1/1 [00:00<00:00, 10.96it/s]\n",
      "100%|██████████| 1/1 [00:00<00:00,  4.43it/s]it/s]\n",
      " 70%|███████   | 701/1000 [01:31<00:47,  6.23it/s]"
     ]
    },
    {
     "name": "stdout",
     "output_type": "stream",
     "text": [
      "Current Hit Rate Sum at index 700: 506\n",
      "Current wrongly answered questions at index 700: [5, 9, 14, 15, 24, 26, 27, 28, 35, 37, 42, 43, 44, 51, 52, 58, 62, 65, 68, 96, 97, 98, 99, 100, 101, 109, 112, 119, 121, 122, 123, 124, 125, 139, 143, 144, 145, 146, 147, 151, 152, 154, 155, 159, 161, 171, 177, 179, 180, 185, 186, 193, 194, 195, 197, 203, 205, 206, 207, 208, 210, 230, 237, 238, 243, 245, 251, 256, 263, 266, 267, 268, 271, 273, 274, 281, 300, 306, 307, 309, 311, 313, 319, 322, 323, 324, 326, 328, 339, 346, 350, 352, 355, 363, 364, 370, 373, 380, 381, 395, 397, 398, 399, 410, 411, 412, 413, 419, 420, 424, 438, 441, 443, 447, 458, 463, 464, 465, 469, 482, 483, 485, 489, 490, 493, 500, 502, 503, 504, 506, 507, 508, 509, 511, 514, 518, 521, 525, 529, 533, 539, 540, 542, 551, 552, 554, 559, 575, 576, 577, 578, 579, 587, 588, 589, 593, 595, 605, 606, 608, 609, 612, 613, 614, 616, 619, 621, 623, 624, 629, 630, 634, 635, 636, 638, 641, 642, 644, 653, 654, 656, 661, 663, 671, 679, 683, 684, 687, 688, 694, 695, 696, 697, 699, 700]\n"
     ]
    },
    {
     "name": "stderr",
     "output_type": "stream",
     "text": [
      "100%|██████████| 1/1 [00:00<00:00, 10.93it/s]\n",
      "100%|██████████| 1/1 [00:00<00:00, 13.46it/s]\n",
      "100%|██████████| 1/1 [00:00<00:00,  4.72it/s]it/s]\n",
      "100%|██████████| 1/1 [00:00<00:00, 17.17it/s]it/s]\n",
      "100%|██████████| 1/1 [00:00<00:00,  7.43it/s]\n",
      "100%|██████████| 1/1 [00:00<00:00, 17.22it/s]it/s]\n",
      "100%|██████████| 1/1 [00:00<00:00,  8.30it/s]\n",
      "100%|██████████| 1/1 [00:00<00:00, 13.13it/s]it/s]\n",
      "100%|██████████| 1/1 [00:00<00:00,  8.96it/s]\n",
      "100%|██████████| 1/1 [00:00<00:00,  8.25it/s]it/s]\n",
      "100%|██████████| 1/1 [00:00<00:00,  8.99it/s]it/s]\n",
      "100%|██████████| 1/1 [00:00<00:00,  7.43it/s]it/s]\n",
      "100%|██████████| 1/1 [00:00<00:00,  7.90it/s]it/s]\n",
      "100%|██████████| 1/1 [00:00<00:00, 12.34it/s]it/s]\n",
      "100%|██████████| 1/1 [00:00<00:00, 13.04it/s]\n",
      "100%|██████████| 1/1 [00:00<00:00, 13.36it/s]it/s]\n",
      "100%|██████████| 1/1 [00:00<00:00,  5.53it/s]\n",
      "100%|██████████| 1/1 [00:00<00:00,  5.62it/s]it/s]\n",
      "100%|██████████| 1/1 [00:00<00:00,  5.61it/s]it/s]\n",
      "100%|██████████| 1/1 [00:00<00:00,  4.64it/s]it/s]\n",
      " 72%|███████▏  | 721/1000 [01:33<00:45,  6.13it/s]"
     ]
    },
    {
     "name": "stdout",
     "output_type": "stream",
     "text": [
      "Current Hit Rate Sum at index 720: 524\n",
      "Current wrongly answered questions at index 720: [5, 9, 14, 15, 24, 26, 27, 28, 35, 37, 42, 43, 44, 51, 52, 58, 62, 65, 68, 96, 97, 98, 99, 100, 101, 109, 112, 119, 121, 122, 123, 124, 125, 139, 143, 144, 145, 146, 147, 151, 152, 154, 155, 159, 161, 171, 177, 179, 180, 185, 186, 193, 194, 195, 197, 203, 205, 206, 207, 208, 210, 230, 237, 238, 243, 245, 251, 256, 263, 266, 267, 268, 271, 273, 274, 281, 300, 306, 307, 309, 311, 313, 319, 322, 323, 324, 326, 328, 339, 346, 350, 352, 355, 363, 364, 370, 373, 380, 381, 395, 397, 398, 399, 410, 411, 412, 413, 419, 420, 424, 438, 441, 443, 447, 458, 463, 464, 465, 469, 482, 483, 485, 489, 490, 493, 500, 502, 503, 504, 506, 507, 508, 509, 511, 514, 518, 521, 525, 529, 533, 539, 540, 542, 551, 552, 554, 559, 575, 576, 577, 578, 579, 587, 588, 589, 593, 595, 605, 606, 608, 609, 612, 613, 614, 616, 619, 621, 623, 624, 629, 630, 634, 635, 636, 638, 641, 642, 644, 653, 654, 656, 661, 663, 671, 679, 683, 684, 687, 688, 694, 695, 696, 697, 699, 700, 702, 707]\n"
     ]
    },
    {
     "name": "stderr",
     "output_type": "stream",
     "text": [
      "100%|██████████| 1/1 [00:00<00:00,  4.71it/s]\n",
      "100%|██████████| 1/1 [00:00<00:00,  4.46it/s]it/s]\n",
      "100%|██████████| 1/1 [00:00<00:00,  6.79it/s]it/s]\n",
      "100%|██████████| 1/1 [00:00<00:00, 15.52it/s]it/s]\n",
      "100%|██████████| 1/1 [00:00<00:00, 15.70it/s]\n",
      "100%|██████████| 1/1 [00:00<00:00, 13.01it/s]it/s]\n",
      "100%|██████████| 1/1 [00:00<00:00, 12.91it/s]\n",
      "100%|██████████| 1/1 [00:00<00:00, 15.37it/s]it/s]\n",
      "100%|██████████| 1/1 [00:00<00:00, 12.30it/s]\n",
      "100%|██████████| 1/1 [00:00<00:00, 15.67it/s]it/s]\n",
      "100%|██████████| 1/1 [00:00<00:00, 11.86it/s]\n",
      "100%|██████████| 1/1 [00:00<00:00, 10.58it/s]it/s]\n",
      "100%|██████████| 1/1 [00:00<00:00,  7.40it/s]\n",
      "100%|██████████| 1/1 [00:00<00:00,  7.41it/s]it/s]\n",
      "100%|██████████| 1/1 [00:00<00:00,  5.22it/s]\n",
      "100%|██████████| 1/1 [00:00<00:00,  6.86it/s]it/s]\n",
      "100%|██████████| 1/1 [00:00<00:00,  5.60it/s]it/s]\n",
      "100%|██████████| 1/1 [00:00<00:00,  4.40it/s]it/s]\n",
      "100%|██████████| 1/1 [00:00<00:00,  5.62it/s]it/s]\n",
      "100%|██████████| 1/1 [00:00<00:00,  5.77it/s]it/s]\n",
      " 74%|███████▍  | 741/1000 [01:36<00:44,  5.84it/s]"
     ]
    },
    {
     "name": "stdout",
     "output_type": "stream",
     "text": [
      "Current Hit Rate Sum at index 740: 538\n",
      "Current wrongly answered questions at index 740: [5, 9, 14, 15, 24, 26, 27, 28, 35, 37, 42, 43, 44, 51, 52, 58, 62, 65, 68, 96, 97, 98, 99, 100, 101, 109, 112, 119, 121, 122, 123, 124, 125, 139, 143, 144, 145, 146, 147, 151, 152, 154, 155, 159, 161, 171, 177, 179, 180, 185, 186, 193, 194, 195, 197, 203, 205, 206, 207, 208, 210, 230, 237, 238, 243, 245, 251, 256, 263, 266, 267, 268, 271, 273, 274, 281, 300, 306, 307, 309, 311, 313, 319, 322, 323, 324, 326, 328, 339, 346, 350, 352, 355, 363, 364, 370, 373, 380, 381, 395, 397, 398, 399, 410, 411, 412, 413, 419, 420, 424, 438, 441, 443, 447, 458, 463, 464, 465, 469, 482, 483, 485, 489, 490, 493, 500, 502, 503, 504, 506, 507, 508, 509, 511, 514, 518, 521, 525, 529, 533, 539, 540, 542, 551, 552, 554, 559, 575, 576, 577, 578, 579, 587, 588, 589, 593, 595, 605, 606, 608, 609, 612, 613, 614, 616, 619, 621, 623, 624, 629, 630, 634, 635, 636, 638, 641, 642, 644, 653, 654, 656, 661, 663, 671, 679, 683, 684, 687, 688, 694, 695, 696, 697, 699, 700, 702, 707, 731, 733, 734, 735, 736, 738]\n"
     ]
    },
    {
     "name": "stderr",
     "output_type": "stream",
     "text": [
      "100%|██████████| 1/1 [00:00<00:00,  5.76it/s]\n",
      "100%|██████████| 1/1 [00:00<00:00,  8.21it/s]it/s]\n",
      "100%|██████████| 1/1 [00:00<00:00, 18.46it/s]it/s]\n",
      "100%|██████████| 1/1 [00:00<00:00,  5.84it/s]\n",
      "100%|██████████| 1/1 [00:00<00:00, 11.16it/s]it/s]\n",
      "100%|██████████| 1/1 [00:00<00:00,  4.46it/s]\n",
      "100%|██████████| 1/1 [00:00<00:00,  4.24it/s]it/s]\n",
      "100%|██████████| 1/1 [00:00<00:00, 10.95it/s]it/s]\n",
      "100%|██████████| 1/1 [00:00<00:00, 16.46it/s]\n",
      "100%|██████████| 1/1 [00:00<00:00,  8.27it/s]it/s]\n",
      "100%|██████████| 1/1 [00:00<00:00,  8.30it/s]it/s]\n",
      "100%|██████████| 1/1 [00:00<00:00,  8.32it/s]it/s]\n",
      "100%|██████████| 1/1 [00:00<00:00, 17.13it/s]it/s]\n",
      "100%|██████████| 1/1 [00:00<00:00,  6.84it/s]\n",
      "100%|██████████| 1/1 [00:00<00:00,  6.70it/s]it/s]\n",
      "100%|██████████| 1/1 [00:00<00:00, 14.52it/s]it/s]\n",
      "100%|██████████| 1/1 [00:00<00:00,  6.45it/s]\n",
      "100%|██████████| 1/1 [00:00<00:00,  6.78it/s]it/s]\n",
      "100%|██████████| 1/1 [00:00<00:00,  6.77it/s]it/s]\n",
      "100%|██████████| 1/1 [00:00<00:00,  6.73it/s]it/s]\n",
      " 76%|███████▌  | 761/1000 [01:39<00:33,  7.04it/s]"
     ]
    },
    {
     "name": "stdout",
     "output_type": "stream",
     "text": [
      "Current Hit Rate Sum at index 760: 549\n",
      "Current wrongly answered questions at index 760: [5, 9, 14, 15, 24, 26, 27, 28, 35, 37, 42, 43, 44, 51, 52, 58, 62, 65, 68, 96, 97, 98, 99, 100, 101, 109, 112, 119, 121, 122, 123, 124, 125, 139, 143, 144, 145, 146, 147, 151, 152, 154, 155, 159, 161, 171, 177, 179, 180, 185, 186, 193, 194, 195, 197, 203, 205, 206, 207, 208, 210, 230, 237, 238, 243, 245, 251, 256, 263, 266, 267, 268, 271, 273, 274, 281, 300, 306, 307, 309, 311, 313, 319, 322, 323, 324, 326, 328, 339, 346, 350, 352, 355, 363, 364, 370, 373, 380, 381, 395, 397, 398, 399, 410, 411, 412, 413, 419, 420, 424, 438, 441, 443, 447, 458, 463, 464, 465, 469, 482, 483, 485, 489, 490, 493, 500, 502, 503, 504, 506, 507, 508, 509, 511, 514, 518, 521, 525, 529, 533, 539, 540, 542, 551, 552, 554, 559, 575, 576, 577, 578, 579, 587, 588, 589, 593, 595, 605, 606, 608, 609, 612, 613, 614, 616, 619, 621, 623, 624, 629, 630, 634, 635, 636, 638, 641, 642, 644, 653, 654, 656, 661, 663, 671, 679, 683, 684, 687, 688, 694, 695, 696, 697, 699, 700, 702, 707, 731, 733, 734, 735, 736, 738, 742, 743, 744, 745, 748, 749, 752, 753, 756]\n"
     ]
    },
    {
     "name": "stderr",
     "output_type": "stream",
     "text": [
      "100%|██████████| 1/1 [00:00<00:00, 10.90it/s]\n",
      "100%|██████████| 1/1 [00:00<00:00, 16.87it/s]\n",
      "100%|██████████| 1/1 [00:00<00:00, 19.06it/s]it/s]\n",
      "100%|██████████| 1/1 [00:00<00:00, 10.86it/s]\n",
      "100%|██████████| 1/1 [00:00<00:00,  5.21it/s]it/s]\n",
      "100%|██████████| 1/1 [00:00<00:00, 10.58it/s]it/s]\n",
      "100%|██████████| 1/1 [00:00<00:00,  5.64it/s]it/s]\n",
      "100%|██████████| 1/1 [00:00<00:00,  5.68it/s]it/s]\n",
      "100%|██████████| 1/1 [00:00<00:00,  4.19it/s]it/s]\n",
      "100%|██████████| 1/1 [00:00<00:00, 12.80it/s]it/s]\n",
      "100%|██████████| 1/1 [00:00<00:00, 11.94it/s]\n",
      "100%|██████████| 1/1 [00:00<00:00, 16.73it/s]it/s]\n",
      "100%|██████████| 1/1 [00:00<00:00, 15.09it/s]\n",
      "100%|██████████| 1/1 [00:00<00:00,  5.51it/s]it/s]\n",
      "100%|██████████| 1/1 [00:00<00:00, 10.84it/s]it/s]\n",
      "100%|██████████| 1/1 [00:00<00:00, 18.34it/s]\n",
      "100%|██████████| 1/1 [00:00<00:00,  6.87it/s]it/s]\n",
      "100%|██████████| 1/1 [00:00<00:00,  7.01it/s]it/s]\n",
      "100%|██████████| 1/1 [00:00<00:00, 16.09it/s]it/s]\n",
      "100%|██████████| 1/1 [00:00<00:00,  6.80it/s]\n",
      " 78%|███████▊  | 781/1000 [01:41<00:26,  8.35it/s]"
     ]
    },
    {
     "name": "stdout",
     "output_type": "stream",
     "text": [
      "Current Hit Rate Sum at index 780: 564\n",
      "Current wrongly answered questions at index 780: [5, 9, 14, 15, 24, 26, 27, 28, 35, 37, 42, 43, 44, 51, 52, 58, 62, 65, 68, 96, 97, 98, 99, 100, 101, 109, 112, 119, 121, 122, 123, 124, 125, 139, 143, 144, 145, 146, 147, 151, 152, 154, 155, 159, 161, 171, 177, 179, 180, 185, 186, 193, 194, 195, 197, 203, 205, 206, 207, 208, 210, 230, 237, 238, 243, 245, 251, 256, 263, 266, 267, 268, 271, 273, 274, 281, 300, 306, 307, 309, 311, 313, 319, 322, 323, 324, 326, 328, 339, 346, 350, 352, 355, 363, 364, 370, 373, 380, 381, 395, 397, 398, 399, 410, 411, 412, 413, 419, 420, 424, 438, 441, 443, 447, 458, 463, 464, 465, 469, 482, 483, 485, 489, 490, 493, 500, 502, 503, 504, 506, 507, 508, 509, 511, 514, 518, 521, 525, 529, 533, 539, 540, 542, 551, 552, 554, 559, 575, 576, 577, 578, 579, 587, 588, 589, 593, 595, 605, 606, 608, 609, 612, 613, 614, 616, 619, 621, 623, 624, 629, 630, 634, 635, 636, 638, 641, 642, 644, 653, 654, 656, 661, 663, 671, 679, 683, 684, 687, 688, 694, 695, 696, 697, 699, 700, 702, 707, 731, 733, 734, 735, 736, 738, 742, 743, 744, 745, 748, 749, 752, 753, 756, 762, 763, 770, 771, 776]\n"
     ]
    },
    {
     "name": "stderr",
     "output_type": "stream",
     "text": [
      "100%|██████████| 1/1 [00:00<00:00, 10.93it/s]\n",
      "100%|██████████| 1/1 [00:00<00:00, 12.80it/s]\n",
      "100%|██████████| 1/1 [00:00<00:00, 11.18it/s]it/s]\n",
      "100%|██████████| 1/1 [00:00<00:00, 10.47it/s]\n",
      "100%|██████████| 1/1 [00:00<00:00,  5.47it/s]it/s]\n",
      "100%|██████████| 1/1 [00:00<00:00, 11.88it/s]it/s]\n",
      "100%|██████████| 1/1 [00:00<00:00, 11.90it/s]\n",
      "100%|██████████| 1/1 [00:00<00:00, 14.41it/s]it/s]\n",
      "100%|██████████| 1/1 [00:00<00:00,  7.37it/s]\n",
      "100%|██████████| 1/1 [00:00<00:00, 18.27it/s]it/s]\n",
      "100%|██████████| 1/1 [00:00<00:00, 14.95it/s]\n",
      "100%|██████████| 1/1 [00:00<00:00, 15.49it/s]it/s]\n",
      "100%|██████████| 1/1 [00:00<00:00, 15.58it/s]\n",
      "100%|██████████| 1/1 [00:00<00:00,  8.20it/s]it/s]\n",
      "100%|██████████| 1/1 [00:00<00:00, 14.88it/s]\n",
      "100%|██████████| 1/1 [00:00<00:00, 14.44it/s]it/s]\n",
      "100%|██████████| 1/1 [00:00<00:00,  7.38it/s]\n",
      "100%|██████████| 1/1 [00:00<00:00, 15.19it/s]it/s]\n",
      "100%|██████████| 1/1 [00:00<00:00,  8.88it/s]\n",
      "100%|██████████| 1/1 [00:00<00:00, 15.66it/s]it/s]\n"
     ]
    },
    {
     "name": "stdout",
     "output_type": "stream",
     "text": [
      "Current Hit Rate Sum at index 800: 582\n",
      "Current wrongly answered questions at index 800: [5, 9, 14, 15, 24, 26, 27, 28, 35, 37, 42, 43, 44, 51, 52, 58, 62, 65, 68, 96, 97, 98, 99, 100, 101, 109, 112, 119, 121, 122, 123, 124, 125, 139, 143, 144, 145, 146, 147, 151, 152, 154, 155, 159, 161, 171, 177, 179, 180, 185, 186, 193, 194, 195, 197, 203, 205, 206, 207, 208, 210, 230, 237, 238, 243, 245, 251, 256, 263, 266, 267, 268, 271, 273, 274, 281, 300, 306, 307, 309, 311, 313, 319, 322, 323, 324, 326, 328, 339, 346, 350, 352, 355, 363, 364, 370, 373, 380, 381, 395, 397, 398, 399, 410, 411, 412, 413, 419, 420, 424, 438, 441, 443, 447, 458, 463, 464, 465, 469, 482, 483, 485, 489, 490, 493, 500, 502, 503, 504, 506, 507, 508, 509, 511, 514, 518, 521, 525, 529, 533, 539, 540, 542, 551, 552, 554, 559, 575, 576, 577, 578, 579, 587, 588, 589, 593, 595, 605, 606, 608, 609, 612, 613, 614, 616, 619, 621, 623, 624, 629, 630, 634, 635, 636, 638, 641, 642, 644, 653, 654, 656, 661, 663, 671, 679, 683, 684, 687, 688, 694, 695, 696, 697, 699, 700, 702, 707, 731, 733, 734, 735, 736, 738, 742, 743, 744, 745, 748, 749, 752, 753, 756, 762, 763, 770, 771, 776, 788, 792]\n"
     ]
    },
    {
     "name": "stderr",
     "output_type": "stream",
     "text": [
      "100%|██████████| 1/1 [00:00<00:00, 17.32it/s]\n",
      "100%|██████████| 1/1 [00:00<00:00, 17.25it/s]it/s]\n",
      "100%|██████████| 1/1 [00:00<00:00, 17.32it/s]\n",
      "100%|██████████| 1/1 [00:00<00:00,  4.43it/s]it/s]\n",
      "100%|██████████| 1/1 [00:00<00:00,  4.43it/s]\n",
      "100%|██████████| 1/1 [00:00<00:00, 12.89it/s]it/s]\n",
      "100%|██████████| 1/1 [00:00<00:00,  7.36it/s]\n",
      "100%|██████████| 1/1 [00:00<00:00, 10.46it/s]it/s]\n",
      "100%|██████████| 1/1 [00:00<00:00,  7.35it/s]it/s]\n",
      "100%|██████████| 1/1 [00:00<00:00,  7.34it/s]it/s]\n",
      "100%|██████████| 1/1 [00:00<00:00, 12.65it/s]it/s]\n",
      "100%|██████████| 1/1 [00:00<00:00, 10.32it/s]\n",
      "100%|██████████| 1/1 [00:00<00:00, 15.44it/s]it/s]\n",
      "100%|██████████| 1/1 [00:00<00:00, 15.31it/s]\n",
      "100%|██████████| 1/1 [00:00<00:00,  4.36it/s]it/s]\n",
      "100%|██████████| 1/1 [00:00<00:00, 14.93it/s]\n",
      "100%|██████████| 1/1 [00:00<00:00,  5.70it/s]it/s]\n",
      "100%|██████████| 1/1 [00:00<00:00, 15.98it/s]it/s]\n",
      "100%|██████████| 1/1 [00:00<00:00,  8.67it/s]\n",
      "100%|██████████| 1/1 [00:00<00:00,  6.99it/s]it/s]\n",
      " 82%|████████▏ | 821/1000 [01:46<00:22,  7.98it/s]"
     ]
    },
    {
     "name": "stdout",
     "output_type": "stream",
     "text": [
      "Current Hit Rate Sum at index 820: 597\n",
      "Current wrongly answered questions at index 820: [5, 9, 14, 15, 24, 26, 27, 28, 35, 37, 42, 43, 44, 51, 52, 58, 62, 65, 68, 96, 97, 98, 99, 100, 101, 109, 112, 119, 121, 122, 123, 124, 125, 139, 143, 144, 145, 146, 147, 151, 152, 154, 155, 159, 161, 171, 177, 179, 180, 185, 186, 193, 194, 195, 197, 203, 205, 206, 207, 208, 210, 230, 237, 238, 243, 245, 251, 256, 263, 266, 267, 268, 271, 273, 274, 281, 300, 306, 307, 309, 311, 313, 319, 322, 323, 324, 326, 328, 339, 346, 350, 352, 355, 363, 364, 370, 373, 380, 381, 395, 397, 398, 399, 410, 411, 412, 413, 419, 420, 424, 438, 441, 443, 447, 458, 463, 464, 465, 469, 482, 483, 485, 489, 490, 493, 500, 502, 503, 504, 506, 507, 508, 509, 511, 514, 518, 521, 525, 529, 533, 539, 540, 542, 551, 552, 554, 559, 575, 576, 577, 578, 579, 587, 588, 589, 593, 595, 605, 606, 608, 609, 612, 613, 614, 616, 619, 621, 623, 624, 629, 630, 634, 635, 636, 638, 641, 642, 644, 653, 654, 656, 661, 663, 671, 679, 683, 684, 687, 688, 694, 695, 696, 697, 699, 700, 702, 707, 731, 733, 734, 735, 736, 738, 742, 743, 744, 745, 748, 749, 752, 753, 756, 762, 763, 770, 771, 776, 788, 792, 811, 812, 817, 818, 819]\n"
     ]
    },
    {
     "name": "stderr",
     "output_type": "stream",
     "text": [
      "100%|██████████| 1/1 [00:00<00:00,  9.12it/s]\n",
      "100%|██████████| 1/1 [00:00<00:00,  5.68it/s]it/s]\n",
      "100%|██████████| 1/1 [00:00<00:00,  5.69it/s]it/s]\n",
      "100%|██████████| 1/1 [00:00<00:00,  4.42it/s]it/s]\n",
      "100%|██████████| 1/1 [00:00<00:00, 12.86it/s]it/s]\n",
      "100%|██████████| 1/1 [00:00<00:00, 15.61it/s]\n",
      "100%|██████████| 1/1 [00:00<00:00,  8.07it/s]it/s]\n",
      "100%|██████████| 1/1 [00:00<00:00,  6.71it/s]it/s]\n",
      "100%|██████████| 1/1 [00:00<00:00, 10.79it/s]it/s]\n",
      "100%|██████████| 1/1 [00:00<00:00,  6.78it/s]\n",
      "100%|██████████| 1/1 [00:00<00:00, 10.83it/s]it/s]\n",
      "100%|██████████| 1/1 [00:00<00:00,  9.09it/s]\n",
      "100%|██████████| 1/1 [00:00<00:00, 14.84it/s]it/s]\n",
      "100%|██████████| 1/1 [00:00<00:00,  8.55it/s]\n",
      "100%|██████████| 1/1 [00:00<00:00,  4.70it/s]it/s]\n",
      "100%|██████████| 1/1 [00:00<00:00, 14.36it/s]it/s]\n",
      "100%|██████████| 1/1 [00:00<00:00,  8.04it/s]\n",
      "100%|██████████| 1/1 [00:00<00:00, 10.84it/s]it/s]\n",
      "100%|██████████| 1/1 [00:00<00:00,  7.40it/s]\n",
      "100%|██████████| 1/1 [00:00<00:00, 16.63it/s]it/s]\n"
     ]
    },
    {
     "name": "stdout",
     "output_type": "stream",
     "text": [
      "Current Hit Rate Sum at index 840: 610\n",
      "Current wrongly answered questions at index 840: [5, 9, 14, 15, 24, 26, 27, 28, 35, 37, 42, 43, 44, 51, 52, 58, 62, 65, 68, 96, 97, 98, 99, 100, 101, 109, 112, 119, 121, 122, 123, 124, 125, 139, 143, 144, 145, 146, 147, 151, 152, 154, 155, 159, 161, 171, 177, 179, 180, 185, 186, 193, 194, 195, 197, 203, 205, 206, 207, 208, 210, 230, 237, 238, 243, 245, 251, 256, 263, 266, 267, 268, 271, 273, 274, 281, 300, 306, 307, 309, 311, 313, 319, 322, 323, 324, 326, 328, 339, 346, 350, 352, 355, 363, 364, 370, 373, 380, 381, 395, 397, 398, 399, 410, 411, 412, 413, 419, 420, 424, 438, 441, 443, 447, 458, 463, 464, 465, 469, 482, 483, 485, 489, 490, 493, 500, 502, 503, 504, 506, 507, 508, 509, 511, 514, 518, 521, 525, 529, 533, 539, 540, 542, 551, 552, 554, 559, 575, 576, 577, 578, 579, 587, 588, 589, 593, 595, 605, 606, 608, 609, 612, 613, 614, 616, 619, 621, 623, 624, 629, 630, 634, 635, 636, 638, 641, 642, 644, 653, 654, 656, 661, 663, 671, 679, 683, 684, 687, 688, 694, 695, 696, 697, 699, 700, 702, 707, 731, 733, 734, 735, 736, 738, 742, 743, 744, 745, 748, 749, 752, 753, 756, 762, 763, 770, 771, 776, 788, 792, 811, 812, 817, 818, 819, 822, 825, 827, 832, 835, 837, 840]\n"
     ]
    },
    {
     "name": "stderr",
     "output_type": "stream",
     "text": [
      "100%|██████████| 1/1 [00:00<00:00, 12.97it/s]\n",
      "100%|██████████| 1/1 [00:00<00:00,  7.39it/s]it/s]\n",
      "100%|██████████| 1/1 [00:00<00:00,  7.41it/s]it/s]\n",
      "100%|██████████| 1/1 [00:00<00:00,  9.07it/s]it/s]\n",
      "100%|██████████| 1/1 [00:00<00:00, 10.57it/s]it/s]\n",
      "100%|██████████| 1/1 [00:00<00:00,  8.30it/s]it/s]\n",
      "100%|██████████| 1/1 [00:00<00:00, 10.51it/s]it/s]\n",
      "100%|██████████| 1/1 [00:00<00:00, 12.86it/s]it/s]\n",
      "100%|██████████| 1/1 [00:00<00:00, 10.48it/s]\n",
      "100%|██████████| 1/1 [00:00<00:00,  5.67it/s]it/s]\n",
      "100%|██████████| 1/1 [00:00<00:00, 16.09it/s]it/s]\n",
      "100%|██████████| 1/1 [00:00<00:00, 16.45it/s]\n",
      "100%|██████████| 1/1 [00:00<00:00, 17.22it/s]it/s]\n",
      "100%|██████████| 1/1 [00:00<00:00, 10.92it/s]\n",
      "100%|██████████| 1/1 [00:00<00:00, 10.83it/s]it/s]\n",
      "100%|██████████| 1/1 [00:00<00:00, 14.23it/s]\n",
      "100%|██████████| 1/1 [00:00<00:00, 14.30it/s]it/s]\n",
      "100%|██████████| 1/1 [00:00<00:00,  7.32it/s]\n",
      "100%|██████████| 1/1 [00:00<00:00,  7.39it/s]it/s]\n",
      "100%|██████████| 1/1 [00:00<00:00,  7.36it/s]\n",
      " 86%|████████▌ | 861/1000 [01:50<00:15,  8.88it/s]"
     ]
    },
    {
     "name": "stdout",
     "output_type": "stream",
     "text": [
      "Current Hit Rate Sum at index 860: 630\n",
      "Current wrongly answered questions at index 860: [5, 9, 14, 15, 24, 26, 27, 28, 35, 37, 42, 43, 44, 51, 52, 58, 62, 65, 68, 96, 97, 98, 99, 100, 101, 109, 112, 119, 121, 122, 123, 124, 125, 139, 143, 144, 145, 146, 147, 151, 152, 154, 155, 159, 161, 171, 177, 179, 180, 185, 186, 193, 194, 195, 197, 203, 205, 206, 207, 208, 210, 230, 237, 238, 243, 245, 251, 256, 263, 266, 267, 268, 271, 273, 274, 281, 300, 306, 307, 309, 311, 313, 319, 322, 323, 324, 326, 328, 339, 346, 350, 352, 355, 363, 364, 370, 373, 380, 381, 395, 397, 398, 399, 410, 411, 412, 413, 419, 420, 424, 438, 441, 443, 447, 458, 463, 464, 465, 469, 482, 483, 485, 489, 490, 493, 500, 502, 503, 504, 506, 507, 508, 509, 511, 514, 518, 521, 525, 529, 533, 539, 540, 542, 551, 552, 554, 559, 575, 576, 577, 578, 579, 587, 588, 589, 593, 595, 605, 606, 608, 609, 612, 613, 614, 616, 619, 621, 623, 624, 629, 630, 634, 635, 636, 638, 641, 642, 644, 653, 654, 656, 661, 663, 671, 679, 683, 684, 687, 688, 694, 695, 696, 697, 699, 700, 702, 707, 731, 733, 734, 735, 736, 738, 742, 743, 744, 745, 748, 749, 752, 753, 756, 762, 763, 770, 771, 776, 788, 792, 811, 812, 817, 818, 819, 822, 825, 827, 832, 835, 837, 840]\n"
     ]
    },
    {
     "name": "stderr",
     "output_type": "stream",
     "text": [
      "100%|██████████| 1/1 [00:00<00:00, 13.02it/s]\n",
      "100%|██████████| 1/1 [00:00<00:00, 13.04it/s]\n",
      "100%|██████████| 1/1 [00:00<00:00,  7.93it/s]it/s]\n",
      "100%|██████████| 1/1 [00:00<00:00,  7.38it/s]\n",
      "100%|██████████| 1/1 [00:00<00:00,  6.87it/s]it/s]\n",
      "100%|██████████| 1/1 [00:00<00:00, 14.52it/s]it/s]\n",
      "100%|██████████| 1/1 [00:00<00:00,  5.68it/s]\n",
      "100%|██████████| 1/1 [00:00<00:00, 15.69it/s]it/s]\n",
      "100%|██████████| 1/1 [00:00<00:00, 16.79it/s]\n",
      "100%|██████████| 1/1 [00:00<00:00,  6.91it/s]it/s]\n",
      "100%|██████████| 1/1 [00:00<00:00,  7.42it/s]\n",
      "100%|██████████| 1/1 [00:00<00:00,  4.24it/s]it/s]\n",
      "100%|██████████| 1/1 [00:00<00:00,  5.83it/s]it/s]\n",
      "100%|██████████| 1/1 [00:00<00:00,  5.78it/s]it/s]\n",
      "100%|██████████| 1/1 [00:00<00:00,  7.05it/s]it/s]\n",
      "100%|██████████| 1/1 [00:00<00:00, 10.53it/s]it/s]\n",
      "100%|██████████| 1/1 [00:00<00:00, 13.76it/s]it/s]\n",
      "100%|██████████| 1/1 [00:00<00:00, 16.15it/s]\n",
      "100%|██████████| 1/1 [00:00<00:00, 16.98it/s]it/s]\n",
      "100%|██████████| 1/1 [00:00<00:00, 11.36it/s]\n",
      " 88%|████████▊ | 881/1000 [01:53<00:11,  9.95it/s]"
     ]
    },
    {
     "name": "stdout",
     "output_type": "stream",
     "text": [
      "Current Hit Rate Sum at index 880: 647\n",
      "Current wrongly answered questions at index 880: [5, 9, 14, 15, 24, 26, 27, 28, 35, 37, 42, 43, 44, 51, 52, 58, 62, 65, 68, 96, 97, 98, 99, 100, 101, 109, 112, 119, 121, 122, 123, 124, 125, 139, 143, 144, 145, 146, 147, 151, 152, 154, 155, 159, 161, 171, 177, 179, 180, 185, 186, 193, 194, 195, 197, 203, 205, 206, 207, 208, 210, 230, 237, 238, 243, 245, 251, 256, 263, 266, 267, 268, 271, 273, 274, 281, 300, 306, 307, 309, 311, 313, 319, 322, 323, 324, 326, 328, 339, 346, 350, 352, 355, 363, 364, 370, 373, 380, 381, 395, 397, 398, 399, 410, 411, 412, 413, 419, 420, 424, 438, 441, 443, 447, 458, 463, 464, 465, 469, 482, 483, 485, 489, 490, 493, 500, 502, 503, 504, 506, 507, 508, 509, 511, 514, 518, 521, 525, 529, 533, 539, 540, 542, 551, 552, 554, 559, 575, 576, 577, 578, 579, 587, 588, 589, 593, 595, 605, 606, 608, 609, 612, 613, 614, 616, 619, 621, 623, 624, 629, 630, 634, 635, 636, 638, 641, 642, 644, 653, 654, 656, 661, 663, 671, 679, 683, 684, 687, 688, 694, 695, 696, 697, 699, 700, 702, 707, 731, 733, 734, 735, 736, 738, 742, 743, 744, 745, 748, 749, 752, 753, 756, 762, 763, 770, 771, 776, 788, 792, 811, 812, 817, 818, 819, 822, 825, 827, 832, 835, 837, 840, 870, 872, 874]\n"
     ]
    },
    {
     "name": "stderr",
     "output_type": "stream",
     "text": [
      "100%|██████████| 1/1 [00:00<00:00, 12.89it/s]\n",
      "100%|██████████| 1/1 [00:00<00:00, 17.17it/s]\n",
      "100%|██████████| 1/1 [00:00<00:00,  8.59it/s]it/s]\n",
      "100%|██████████| 1/1 [00:00<00:00,  7.42it/s]\n",
      "100%|██████████| 1/1 [00:00<00:00,  8.18it/s]it/s]\n",
      "100%|██████████| 1/1 [00:00<00:00,  8.22it/s]\n",
      "100%|██████████| 1/1 [00:00<00:00,  7.01it/s]it/s]\n",
      "100%|██████████| 1/1 [00:00<00:00, 10.51it/s]it/s]\n",
      "100%|██████████| 1/1 [00:00<00:00, 10.57it/s]it/s]\n",
      "100%|██████████| 1/1 [00:00<00:00, 10.57it/s]it/s]\n",
      "100%|██████████| 1/1 [00:00<00:00,  8.59it/s]it/s]\n",
      "100%|██████████| 1/1 [00:00<00:00,  7.36it/s]it/s]\n",
      "100%|██████████| 1/1 [00:00<00:00,  8.75it/s]it/s]\n",
      "100%|██████████| 1/1 [00:00<00:00,  5.78it/s]it/s]\n",
      "100%|██████████| 1/1 [00:00<00:00,  8.54it/s]it/s]\n",
      "100%|██████████| 1/1 [00:00<00:00,  7.05it/s]it/s]\n",
      "100%|██████████| 1/1 [00:00<00:00,  8.61it/s]it/s]\n",
      "100%|██████████| 1/1 [00:00<00:00,  7.41it/s]it/s]\n",
      "100%|██████████| 1/1 [00:00<00:00,  8.93it/s]it/s]\n",
      "100%|██████████| 1/1 [00:00<00:00, 17.20it/s]it/s]\n"
     ]
    },
    {
     "name": "stdout",
     "output_type": "stream",
     "text": [
      "Current Hit Rate Sum at index 900: 663\n",
      "Current wrongly answered questions at index 900: [5, 9, 14, 15, 24, 26, 27, 28, 35, 37, 42, 43, 44, 51, 52, 58, 62, 65, 68, 96, 97, 98, 99, 100, 101, 109, 112, 119, 121, 122, 123, 124, 125, 139, 143, 144, 145, 146, 147, 151, 152, 154, 155, 159, 161, 171, 177, 179, 180, 185, 186, 193, 194, 195, 197, 203, 205, 206, 207, 208, 210, 230, 237, 238, 243, 245, 251, 256, 263, 266, 267, 268, 271, 273, 274, 281, 300, 306, 307, 309, 311, 313, 319, 322, 323, 324, 326, 328, 339, 346, 350, 352, 355, 363, 364, 370, 373, 380, 381, 395, 397, 398, 399, 410, 411, 412, 413, 419, 420, 424, 438, 441, 443, 447, 458, 463, 464, 465, 469, 482, 483, 485, 489, 490, 493, 500, 502, 503, 504, 506, 507, 508, 509, 511, 514, 518, 521, 525, 529, 533, 539, 540, 542, 551, 552, 554, 559, 575, 576, 577, 578, 579, 587, 588, 589, 593, 595, 605, 606, 608, 609, 612, 613, 614, 616, 619, 621, 623, 624, 629, 630, 634, 635, 636, 638, 641, 642, 644, 653, 654, 656, 661, 663, 671, 679, 683, 684, 687, 688, 694, 695, 696, 697, 699, 700, 702, 707, 731, 733, 734, 735, 736, 738, 742, 743, 744, 745, 748, 749, 752, 753, 756, 762, 763, 770, 771, 776, 788, 792, 811, 812, 817, 818, 819, 822, 825, 827, 832, 835, 837, 840, 870, 872, 874, 889, 890, 896, 898]\n"
     ]
    },
    {
     "name": "stderr",
     "output_type": "stream",
     "text": [
      "100%|██████████| 1/1 [00:00<00:00, 16.53it/s]\n",
      "100%|██████████| 1/1 [00:00<00:00, 15.75it/s]it/s]\n",
      "100%|██████████| 1/1 [00:00<00:00,  6.75it/s]\n",
      "100%|██████████| 1/1 [00:00<00:00,  6.73it/s]it/s]\n",
      "100%|██████████| 1/1 [00:00<00:00,  6.97it/s]it/s]\n",
      "100%|██████████| 1/1 [00:00<00:00,  7.40it/s]it/s]\n",
      "100%|██████████| 1/1 [00:00<00:00,  7.41it/s]it/s]\n",
      "100%|██████████| 1/1 [00:00<00:00, 13.02it/s]it/s]\n",
      "100%|██████████| 1/1 [00:00<00:00, 13.01it/s]\n",
      "100%|██████████| 1/1 [00:00<00:00, 10.96it/s]it/s]\n",
      "100%|██████████| 1/1 [00:00<00:00,  5.50it/s]\n",
      "100%|██████████| 1/1 [00:00<00:00,  6.44it/s]it/s]\n",
      "100%|██████████| 1/1 [00:00<00:00, 12.84it/s]it/s]\n",
      "100%|██████████| 1/1 [00:00<00:00,  7.92it/s]\n",
      "100%|██████████| 1/1 [00:00<00:00,  6.91it/s]it/s]\n",
      "100%|██████████| 1/1 [00:00<00:00,  8.76it/s]it/s]\n",
      "100%|██████████| 1/1 [00:00<00:00,  8.70it/s]it/s]\n",
      "100%|██████████| 1/1 [00:00<00:00,  4.51it/s]it/s]\n",
      "100%|██████████| 1/1 [00:00<00:00,  5.68it/s]it/s]\n",
      "100%|██████████| 1/1 [00:00<00:00,  5.58it/s]it/s]\n",
      " 92%|█████████▏| 921/1000 [01:58<00:13,  5.96it/s]"
     ]
    },
    {
     "name": "stdout",
     "output_type": "stream",
     "text": [
      "Current Hit Rate Sum at index 920: 679\n",
      "Current wrongly answered questions at index 920: [5, 9, 14, 15, 24, 26, 27, 28, 35, 37, 42, 43, 44, 51, 52, 58, 62, 65, 68, 96, 97, 98, 99, 100, 101, 109, 112, 119, 121, 122, 123, 124, 125, 139, 143, 144, 145, 146, 147, 151, 152, 154, 155, 159, 161, 171, 177, 179, 180, 185, 186, 193, 194, 195, 197, 203, 205, 206, 207, 208, 210, 230, 237, 238, 243, 245, 251, 256, 263, 266, 267, 268, 271, 273, 274, 281, 300, 306, 307, 309, 311, 313, 319, 322, 323, 324, 326, 328, 339, 346, 350, 352, 355, 363, 364, 370, 373, 380, 381, 395, 397, 398, 399, 410, 411, 412, 413, 419, 420, 424, 438, 441, 443, 447, 458, 463, 464, 465, 469, 482, 483, 485, 489, 490, 493, 500, 502, 503, 504, 506, 507, 508, 509, 511, 514, 518, 521, 525, 529, 533, 539, 540, 542, 551, 552, 554, 559, 575, 576, 577, 578, 579, 587, 588, 589, 593, 595, 605, 606, 608, 609, 612, 613, 614, 616, 619, 621, 623, 624, 629, 630, 634, 635, 636, 638, 641, 642, 644, 653, 654, 656, 661, 663, 671, 679, 683, 684, 687, 688, 694, 695, 696, 697, 699, 700, 702, 707, 731, 733, 734, 735, 736, 738, 742, 743, 744, 745, 748, 749, 752, 753, 756, 762, 763, 770, 771, 776, 788, 792, 811, 812, 817, 818, 819, 822, 825, 827, 832, 835, 837, 840, 870, 872, 874, 889, 890, 896, 898, 909, 913, 915, 917]\n"
     ]
    },
    {
     "name": "stderr",
     "output_type": "stream",
     "text": [
      "100%|██████████| 1/1 [00:00<00:00,  5.51it/s]\n",
      "100%|██████████| 1/1 [00:00<00:00,  5.81it/s]it/s]\n",
      "100%|██████████| 1/1 [00:00<00:00,  5.68it/s]it/s]\n",
      "100%|██████████| 1/1 [00:00<00:00,  5.52it/s]it/s]\n",
      "100%|██████████| 1/1 [00:00<00:00,  5.62it/s]it/s]\n",
      "100%|██████████| 1/1 [00:00<00:00,  6.33it/s]it/s]\n",
      "100%|██████████| 1/1 [00:00<00:00,  5.34it/s]it/s]\n",
      "100%|██████████| 1/1 [00:00<00:00,  5.79it/s]it/s]\n",
      "100%|██████████| 1/1 [00:00<00:00,  5.79it/s]it/s]\n",
      "100%|██████████| 1/1 [00:00<00:00,  4.44it/s]it/s]\n",
      "100%|██████████| 1/1 [00:00<00:00,  4.24it/s]it/s]\n",
      "100%|██████████| 1/1 [00:00<00:00, 12.69it/s]it/s]\n",
      "100%|██████████| 1/1 [00:00<00:00, 12.74it/s]\n",
      "100%|██████████| 1/1 [00:00<00:00,  8.65it/s]it/s]\n",
      "100%|██████████| 1/1 [00:00<00:00, 11.10it/s]it/s]\n",
      "100%|██████████| 1/1 [00:00<00:00,  3.56it/s]\n",
      "100%|██████████| 1/1 [00:00<00:00, 16.17it/s]it/s]\n",
      "100%|██████████| 1/1 [00:00<00:00,  4.25it/s]\n",
      "100%|██████████| 1/1 [00:00<00:00, 11.31it/s]it/s]\n",
      "100%|██████████| 1/1 [00:00<00:00,  6.86it/s]\n",
      " 94%|█████████▍| 941/1000 [02:01<00:08,  6.74it/s]"
     ]
    },
    {
     "name": "stdout",
     "output_type": "stream",
     "text": [
      "Current Hit Rate Sum at index 940: 697\n",
      "Current wrongly answered questions at index 940: [5, 9, 14, 15, 24, 26, 27, 28, 35, 37, 42, 43, 44, 51, 52, 58, 62, 65, 68, 96, 97, 98, 99, 100, 101, 109, 112, 119, 121, 122, 123, 124, 125, 139, 143, 144, 145, 146, 147, 151, 152, 154, 155, 159, 161, 171, 177, 179, 180, 185, 186, 193, 194, 195, 197, 203, 205, 206, 207, 208, 210, 230, 237, 238, 243, 245, 251, 256, 263, 266, 267, 268, 271, 273, 274, 281, 300, 306, 307, 309, 311, 313, 319, 322, 323, 324, 326, 328, 339, 346, 350, 352, 355, 363, 364, 370, 373, 380, 381, 395, 397, 398, 399, 410, 411, 412, 413, 419, 420, 424, 438, 441, 443, 447, 458, 463, 464, 465, 469, 482, 483, 485, 489, 490, 493, 500, 502, 503, 504, 506, 507, 508, 509, 511, 514, 518, 521, 525, 529, 533, 539, 540, 542, 551, 552, 554, 559, 575, 576, 577, 578, 579, 587, 588, 589, 593, 595, 605, 606, 608, 609, 612, 613, 614, 616, 619, 621, 623, 624, 629, 630, 634, 635, 636, 638, 641, 642, 644, 653, 654, 656, 661, 663, 671, 679, 683, 684, 687, 688, 694, 695, 696, 697, 699, 700, 702, 707, 731, 733, 734, 735, 736, 738, 742, 743, 744, 745, 748, 749, 752, 753, 756, 762, 763, 770, 771, 776, 788, 792, 811, 812, 817, 818, 819, 822, 825, 827, 832, 835, 837, 840, 870, 872, 874, 889, 890, 896, 898, 909, 913, 915, 917, 922, 923]\n"
     ]
    },
    {
     "name": "stderr",
     "output_type": "stream",
     "text": [
      "100%|██████████| 1/1 [00:00<00:00, 11.42it/s]\n",
      "100%|██████████| 1/1 [00:00<00:00, 14.46it/s]\n",
      "100%|██████████| 1/1 [00:00<00:00, 17.56it/s]it/s]\n",
      "100%|██████████| 1/1 [00:00<00:00,  4.45it/s]\n",
      "100%|██████████| 1/1 [00:00<00:00,  6.89it/s]it/s]\n",
      "100%|██████████| 1/1 [00:00<00:00, 14.53it/s]it/s]\n",
      "100%|██████████| 1/1 [00:00<00:00, 14.58it/s]\n",
      "100%|██████████| 1/1 [00:00<00:00,  4.75it/s]it/s]\n",
      "100%|██████████| 1/1 [00:00<00:00,  5.19it/s]it/s]\n",
      "100%|██████████| 1/1 [00:00<00:00,  5.77it/s]it/s]\n",
      "100%|██████████| 1/1 [00:00<00:00,  6.75it/s]it/s]\n",
      "100%|██████████| 1/1 [00:00<00:00,  6.00it/s]it/s]\n",
      "100%|██████████| 1/1 [00:00<00:00,  6.75it/s]it/s]\n",
      "100%|██████████| 1/1 [00:00<00:00, 11.83it/s]it/s]\n",
      "100%|██████████| 1/1 [00:00<00:00, 15.89it/s]\n",
      "100%|██████████| 1/1 [00:00<00:00,  5.60it/s]it/s]\n",
      "100%|██████████| 1/1 [00:00<00:00,  5.60it/s]it/s]\n",
      "100%|██████████| 1/1 [00:00<00:00,  5.79it/s]it/s]\n",
      "100%|██████████| 1/1 [00:00<00:00,  6.72it/s]it/s]\n",
      "100%|██████████| 1/1 [00:00<00:00,  5.22it/s]it/s]\n",
      " 96%|█████████▌| 961/1000 [02:04<00:06,  5.90it/s]"
     ]
    },
    {
     "name": "stdout",
     "output_type": "stream",
     "text": [
      "Current Hit Rate Sum at index 960: 706\n",
      "Current wrongly answered questions at index 960: [5, 9, 14, 15, 24, 26, 27, 28, 35, 37, 42, 43, 44, 51, 52, 58, 62, 65, 68, 96, 97, 98, 99, 100, 101, 109, 112, 119, 121, 122, 123, 124, 125, 139, 143, 144, 145, 146, 147, 151, 152, 154, 155, 159, 161, 171, 177, 179, 180, 185, 186, 193, 194, 195, 197, 203, 205, 206, 207, 208, 210, 230, 237, 238, 243, 245, 251, 256, 263, 266, 267, 268, 271, 273, 274, 281, 300, 306, 307, 309, 311, 313, 319, 322, 323, 324, 326, 328, 339, 346, 350, 352, 355, 363, 364, 370, 373, 380, 381, 395, 397, 398, 399, 410, 411, 412, 413, 419, 420, 424, 438, 441, 443, 447, 458, 463, 464, 465, 469, 482, 483, 485, 489, 490, 493, 500, 502, 503, 504, 506, 507, 508, 509, 511, 514, 518, 521, 525, 529, 533, 539, 540, 542, 551, 552, 554, 559, 575, 576, 577, 578, 579, 587, 588, 589, 593, 595, 605, 606, 608, 609, 612, 613, 614, 616, 619, 621, 623, 624, 629, 630, 634, 635, 636, 638, 641, 642, 644, 653, 654, 656, 661, 663, 671, 679, 683, 684, 687, 688, 694, 695, 696, 697, 699, 700, 702, 707, 731, 733, 734, 735, 736, 738, 742, 743, 744, 745, 748, 749, 752, 753, 756, 762, 763, 770, 771, 776, 788, 792, 811, 812, 817, 818, 819, 822, 825, 827, 832, 835, 837, 840, 870, 872, 874, 889, 890, 896, 898, 909, 913, 915, 917, 922, 923, 944, 945, 946, 948, 950, 951, 952, 954, 957, 958, 960]\n"
     ]
    },
    {
     "name": "stderr",
     "output_type": "stream",
     "text": [
      "100%|██████████| 1/1 [00:00<00:00,  6.77it/s]\n",
      "100%|██████████| 1/1 [00:00<00:00,  5.70it/s]it/s]\n",
      "100%|██████████| 1/1 [00:00<00:00,  7.42it/s]it/s]\n",
      "100%|██████████| 1/1 [00:00<00:00,  4.37it/s]it/s]\n",
      "100%|██████████| 1/1 [00:00<00:00, 10.33it/s]it/s]\n",
      "100%|██████████| 1/1 [00:00<00:00,  5.64it/s]it/s]\n",
      "100%|██████████| 1/1 [00:00<00:00,  5.54it/s]it/s]\n",
      "100%|██████████| 1/1 [00:00<00:00, 10.77it/s]it/s]\n",
      "100%|██████████| 1/1 [00:00<00:00,  8.31it/s]\n",
      "100%|██████████| 1/1 [00:00<00:00,  8.79it/s]it/s]\n",
      "100%|██████████| 1/1 [00:00<00:00,  8.36it/s]it/s]\n",
      "100%|██████████| 1/1 [00:00<00:00,  4.16it/s]it/s]\n",
      "100%|██████████| 1/1 [00:00<00:00, 18.67it/s]it/s]\n",
      "100%|██████████| 1/1 [00:00<00:00,  3.84it/s]\n",
      "100%|██████████| 1/1 [00:00<00:00,  7.46it/s]it/s]\n",
      "100%|██████████| 1/1 [00:00<00:00,  6.77it/s]it/s]\n",
      "100%|██████████| 1/1 [00:00<00:00, 10.97it/s]it/s]\n",
      "100%|██████████| 1/1 [00:00<00:00, 10.99it/s]\n",
      "100%|██████████| 1/1 [00:00<00:00, 10.79it/s]it/s]\n",
      "100%|██████████| 1/1 [00:00<00:00,  5.77it/s]\n",
      " 98%|█████████▊| 981/1000 [02:07<00:02,  7.38it/s]"
     ]
    },
    {
     "name": "stdout",
     "output_type": "stream",
     "text": [
      "Current Hit Rate Sum at index 980: 724\n",
      "Current wrongly answered questions at index 980: [5, 9, 14, 15, 24, 26, 27, 28, 35, 37, 42, 43, 44, 51, 52, 58, 62, 65, 68, 96, 97, 98, 99, 100, 101, 109, 112, 119, 121, 122, 123, 124, 125, 139, 143, 144, 145, 146, 147, 151, 152, 154, 155, 159, 161, 171, 177, 179, 180, 185, 186, 193, 194, 195, 197, 203, 205, 206, 207, 208, 210, 230, 237, 238, 243, 245, 251, 256, 263, 266, 267, 268, 271, 273, 274, 281, 300, 306, 307, 309, 311, 313, 319, 322, 323, 324, 326, 328, 339, 346, 350, 352, 355, 363, 364, 370, 373, 380, 381, 395, 397, 398, 399, 410, 411, 412, 413, 419, 420, 424, 438, 441, 443, 447, 458, 463, 464, 465, 469, 482, 483, 485, 489, 490, 493, 500, 502, 503, 504, 506, 507, 508, 509, 511, 514, 518, 521, 525, 529, 533, 539, 540, 542, 551, 552, 554, 559, 575, 576, 577, 578, 579, 587, 588, 589, 593, 595, 605, 606, 608, 609, 612, 613, 614, 616, 619, 621, 623, 624, 629, 630, 634, 635, 636, 638, 641, 642, 644, 653, 654, 656, 661, 663, 671, 679, 683, 684, 687, 688, 694, 695, 696, 697, 699, 700, 702, 707, 731, 733, 734, 735, 736, 738, 742, 743, 744, 745, 748, 749, 752, 753, 756, 762, 763, 770, 771, 776, 788, 792, 811, 812, 817, 818, 819, 822, 825, 827, 832, 835, 837, 840, 870, 872, 874, 889, 890, 896, 898, 909, 913, 915, 917, 922, 923, 944, 945, 946, 948, 950, 951, 952, 954, 957, 958, 960, 973, 975]\n"
     ]
    },
    {
     "name": "stderr",
     "output_type": "stream",
     "text": [
      "100%|██████████| 1/1 [00:00<00:00,  4.44it/s]\n",
      "100%|██████████| 1/1 [00:00<00:00,  4.46it/s]it/s]\n",
      "100%|██████████| 1/1 [00:00<00:00,  6.79it/s]it/s]\n",
      "100%|██████████| 1/1 [00:00<00:00, 15.80it/s]it/s]\n",
      "100%|██████████| 1/1 [00:00<00:00, 17.85it/s]\n",
      "100%|██████████| 1/1 [00:00<00:00, 10.54it/s]it/s]\n",
      "100%|██████████| 1/1 [00:00<00:00,  7.34it/s]it/s]\n",
      "100%|██████████| 1/1 [00:00<00:00, 17.82it/s]it/s]\n",
      "100%|██████████| 1/1 [00:00<00:00, 14.94it/s]\n",
      "100%|██████████| 1/1 [00:00<00:00, 17.85it/s]it/s]\n",
      "100%|██████████| 1/1 [00:00<00:00, 11.31it/s]\n",
      "100%|██████████| 1/1 [00:00<00:00, 17.91it/s]it/s]\n",
      "100%|██████████| 1/1 [00:00<00:00, 15.98it/s]\n",
      "100%|██████████| 1/1 [00:00<00:00, 15.80it/s]it/s]\n",
      "100%|██████████| 1/1 [00:00<00:00, 11.48it/s]\n",
      "100%|██████████| 1/1 [00:00<00:00,  6.36it/s]it/s]\n",
      "100%|██████████| 1/1 [00:00<00:00, 12.87it/s]\n",
      "100%|██████████| 1/1 [00:00<00:00,  6.23it/s]it/s]\n",
      "100%|██████████| 1/1 [00:00<00:00,  6.73it/s]\n",
      "100%|██████████| 1000/1000 [02:09<00:00,  7.71it/s]"
     ]
    },
    {
     "name": "stdout",
     "output_type": "stream",
     "text": [
      "Hit Rate: 73.7\n",
      "Benchmarking Time: 130.10630321502686 seconds\n",
      "Wrongly answered questions: [5, 9, 14, 15, 24, 26, 27, 28, 35, 37, 42, 43, 44, 51, 52, 58, 62, 65, 68, 96, 97, 98, 99, 100, 101, 109, 112, 119, 121, 122, 123, 124, 125, 139, 143, 144, 145, 146, 147, 151, 152, 154, 155, 159, 161, 171, 177, 179, 180, 185, 186, 193, 194, 195, 197, 203, 205, 206, 207, 208, 210, 230, 237, 238, 243, 245, 251, 256, 263, 266, 267, 268, 271, 273, 274, 281, 300, 306, 307, 309, 311, 313, 319, 322, 323, 324, 326, 328, 339, 346, 350, 352, 355, 363, 364, 370, 373, 380, 381, 395, 397, 398, 399, 410, 411, 412, 413, 419, 420, 424, 438, 441, 443, 447, 458, 463, 464, 465, 469, 482, 483, 485, 489, 490, 493, 500, 502, 503, 504, 506, 507, 508, 509, 511, 514, 518, 521, 525, 529, 533, 539, 540, 542, 551, 552, 554, 559, 575, 576, 577, 578, 579, 587, 588, 589, 593, 595, 605, 606, 608, 609, 612, 613, 614, 616, 619, 621, 623, 624, 629, 630, 634, 635, 636, 638, 641, 642, 644, 653, 654, 656, 661, 663, 671, 679, 683, 684, 687, 688, 694, 695, 696, 697, 699, 700, 702, 707, 731, 733, 734, 735, 736, 738, 742, 743, 744, 745, 748, 749, 752, 753, 756, 762, 763, 770, 771, 776, 788, 792, 811, 812, 817, 818, 819, 822, 825, 827, 832, 835, 837, 840, 870, 872, 874, 889, 890, 896, 898, 909, 913, 915, 917, 922, 923, 944, 945, 946, 948, 950, 951, 952, 954, 957, 958, 960, 973, 975, 983, 984, 985, 993, 994, 997]\n",
      "==================================================\n"
     ]
    },
    {
     "name": "stderr",
     "output_type": "stream",
     "text": [
      "\n"
     ]
    }
   ],
   "source": [
    "for k in ks:\n",
    "    for n in ns:\n",
    "        print(f\"BC1 with k={k} n={n}\")\n",
    "        evaluate_benchmark(\n",
    "            content_benchmark,\n",
    "            \"content\",\n",
    "            k,\n",
    "            collection,\n",
    "            retriever,\n",
    "            stemmer,\n",
    "            n=n,\n",
    "            use_reranker=use_reranker,\n",
    "        )\n",
    "        print(\"=\" * 50)"
   ]
  },
  {
   "cell_type": "code",
   "execution_count": 21,
   "metadata": {},
   "outputs": [
    {
     "name": "stdout",
     "output_type": "stream",
     "text": [
      "BC2 with k=1 n=5\n"
     ]
    },
    {
     "name": "stderr",
     "output_type": "stream",
     "text": [
      "100%|██████████| 1/1 [00:00<00:00, 11.07it/s]\n"
     ]
    },
    {
     "name": "stdout",
     "output_type": "stream",
     "text": [
      "Current Hit Rate Sum at index 0: 1\n",
      "Current wrongly answered questions at index 0: []\n"
     ]
    },
    {
     "name": "stderr",
     "output_type": "stream",
     "text": [
      "100%|██████████| 1/1 [00:00<00:00, 11.54it/s]\n",
      "100%|██████████| 1/1 [00:00<00:00,  4.40it/s]/s]\n",
      "100%|██████████| 1/1 [00:00<00:00, 10.53it/s]\n",
      "100%|██████████| 1/1 [00:00<00:00, 15.74it/s]/s]\n",
      "100%|██████████| 1/1 [00:00<00:00,  5.19it/s]\n",
      "100%|██████████| 1/1 [00:00<00:00, 16.75it/s]/s]\n",
      "100%|██████████| 1/1 [00:00<00:00,  5.23it/s]\n",
      "100%|██████████| 1/1 [00:00<00:00,  5.24it/s]/s]\n",
      "100%|██████████| 1/1 [00:00<00:00, 15.80it/s]/s]\n",
      "100%|██████████| 1/1 [00:00<00:00,  7.88it/s]\n",
      "100%|██████████| 1/1 [00:00<00:00,  7.90it/s]t/s]\n",
      "100%|██████████| 1/1 [00:00<00:00,  7.39it/s]t/s]\n",
      "100%|██████████| 1/1 [00:00<00:00,  7.42it/s]t/s]\n",
      "100%|██████████| 1/1 [00:00<00:00, 12.69it/s]t/s]\n",
      "100%|██████████| 1/1 [00:00<00:00,  6.87it/s]\n",
      "100%|██████████| 1/1 [00:00<00:00, 11.39it/s]t/s]\n",
      "100%|██████████| 1/1 [00:00<00:00, 11.18it/s]\n",
      "100%|██████████| 1/1 [00:00<00:00, 10.39it/s]t/s]\n",
      "100%|██████████| 1/1 [00:00<00:00, 10.85it/s]t/s]\n",
      "100%|██████████| 1/1 [00:00<00:00, 16.25it/s]t/s]\n"
     ]
    },
    {
     "name": "stdout",
     "output_type": "stream",
     "text": [
      "Current Hit Rate Sum at index 20: 16\n",
      "Current wrongly answered questions at index 20: [4, 5, 7, 9, 14]\n"
     ]
    },
    {
     "name": "stderr",
     "output_type": "stream",
     "text": [
      "100%|██████████| 1/1 [00:00<00:00, 13.00it/s]\n",
      "100%|██████████| 1/1 [00:00<00:00, 12.97it/s]t/s]\n",
      "100%|██████████| 1/1 [00:00<00:00,  7.42it/s]\n",
      "100%|██████████| 1/1 [00:00<00:00,  5.84it/s]t/s]\n",
      "100%|██████████| 1/1 [00:00<00:00, 11.40it/s]\n",
      "100%|██████████| 1/1 [00:00<00:00,  6.78it/s]t/s]\n",
      "100%|██████████| 1/1 [00:00<00:00, 11.92it/s]t/s]\n",
      "100%|██████████| 1/1 [00:00<00:00, 14.61it/s]\n",
      "100%|██████████| 1/1 [00:00<00:00, 18.40it/s]t/s]\n",
      "100%|██████████| 1/1 [00:00<00:00, 11.09it/s]\n",
      "100%|██████████| 1/1 [00:00<00:00,  4.45it/s]t/s]\n",
      "100%|██████████| 1/1 [00:00<00:00, 16.18it/s]\n",
      "100%|██████████| 1/1 [00:00<00:00, 13.58it/s]t/s]\n",
      "100%|██████████| 1/1 [00:00<00:00, 11.88it/s]\n",
      "100%|██████████| 1/1 [00:00<00:00,  8.15it/s]t/s]\n",
      "100%|██████████| 1/1 [00:00<00:00, 13.40it/s]\n",
      "100%|██████████| 1/1 [00:00<00:00, 11.05it/s]t/s]\n",
      "100%|██████████| 1/1 [00:00<00:00,  7.43it/s]\n",
      "100%|██████████| 1/1 [00:00<00:00,  4.71it/s]t/s]\n",
      "100%|██████████| 1/1 [00:00<00:00,  6.46it/s]t/s]\n",
      "  4%|▍         | 41/1000 [00:04<02:10,  7.36it/s]"
     ]
    },
    {
     "name": "stdout",
     "output_type": "stream",
     "text": [
      "Current Hit Rate Sum at index 40: 29\n",
      "Current wrongly answered questions at index 40: [4, 5, 7, 9, 14, 24, 26, 27, 28, 29, 35, 37]\n"
     ]
    },
    {
     "name": "stderr",
     "output_type": "stream",
     "text": [
      "100%|██████████| 1/1 [00:00<00:00,  7.43it/s]\n",
      "100%|██████████| 1/1 [00:00<00:00,  9.11it/s]t/s]\n",
      "100%|██████████| 1/1 [00:00<00:00,  4.33it/s]t/s]\n",
      "100%|██████████| 1/1 [00:00<00:00, 17.63it/s]t/s]\n",
      "100%|██████████| 1/1 [00:00<00:00,  6.31it/s]\n",
      "100%|██████████| 1/1 [00:00<00:00,  8.26it/s]t/s]\n",
      "100%|██████████| 1/1 [00:00<00:00, 15.02it/s]t/s]\n",
      "100%|██████████| 1/1 [00:00<00:00, 10.53it/s]\n",
      "100%|██████████| 1/1 [00:00<00:00, 15.76it/s]t/s]\n",
      "100%|██████████| 1/1 [00:00<00:00, 10.97it/s]\n",
      "100%|██████████| 1/1 [00:00<00:00, 18.79it/s]t/s]\n",
      "100%|██████████| 1/1 [00:00<00:00, 15.90it/s]\n",
      "100%|██████████| 1/1 [00:00<00:00, 18.55it/s]t/s]\n",
      "100%|██████████| 1/1 [00:00<00:00, 10.60it/s]\n",
      "100%|██████████| 1/1 [00:00<00:00, 10.43it/s]t/s]\n",
      "100%|██████████| 1/1 [00:00<00:00,  6.86it/s]\n",
      "100%|██████████| 1/1 [00:00<00:00,  7.42it/s]t/s]\n",
      "100%|██████████| 1/1 [00:00<00:00, 10.51it/s]\n",
      "100%|██████████| 1/1 [00:00<00:00, 16.07it/s]t/s]\n",
      "100%|██████████| 1/1 [00:00<00:00,  6.96it/s]\n",
      "  6%|▌         | 61/1000 [00:07<01:41,  9.29it/s]"
     ]
    },
    {
     "name": "stdout",
     "output_type": "stream",
     "text": [
      "Current Hit Rate Sum at index 60: 41\n",
      "Current wrongly answered questions at index 60: [4, 5, 7, 9, 14, 24, 26, 27, 28, 29, 35, 37, 42, 43, 44, 45, 51, 52, 57, 58]\n"
     ]
    },
    {
     "name": "stderr",
     "output_type": "stream",
     "text": [
      "100%|██████████| 1/1 [00:00<00:00, 11.41it/s]\n",
      "100%|██████████| 1/1 [00:00<00:00, 15.74it/s]\n",
      "100%|██████████| 1/1 [00:00<00:00,  4.46it/s]t/s]\n",
      "100%|██████████| 1/1 [00:00<00:00,  4.46it/s]\n",
      "100%|██████████| 1/1 [00:00<00:00, 19.47it/s]t/s]\n",
      "100%|██████████| 1/1 [00:00<00:00,  4.43it/s]\n",
      "100%|██████████| 1/1 [00:00<00:00,  4.26it/s]t/s]\n",
      "100%|██████████| 1/1 [00:00<00:00,  4.43it/s]t/s]\n",
      "100%|██████████| 1/1 [00:00<00:00,  5.78it/s]t/s]\n",
      "100%|██████████| 1/1 [00:00<00:00, 10.54it/s]t/s]\n",
      "100%|██████████| 1/1 [00:00<00:00, 17.07it/s]t/s]\n",
      "100%|██████████| 1/1 [00:00<00:00, 16.57it/s]\n",
      "100%|██████████| 1/1 [00:00<00:00, 16.46it/s]t/s]\n",
      "100%|██████████| 1/1 [00:00<00:00, 14.65it/s]\n",
      "100%|██████████| 1/1 [00:00<00:00, 13.04it/s]t/s]\n",
      "100%|██████████| 1/1 [00:00<00:00, 16.07it/s]\n",
      "100%|██████████| 1/1 [00:00<00:00,  6.26it/s]t/s]\n",
      "100%|██████████| 1/1 [00:00<00:00, 18.11it/s]\n",
      "100%|██████████| 1/1 [00:00<00:00, 15.14it/s]t/s]\n",
      "100%|██████████| 1/1 [00:00<00:00,  8.21it/s]\n",
      "  8%|▊         | 81/1000 [00:09<01:32,  9.95it/s]"
     ]
    },
    {
     "name": "stdout",
     "output_type": "stream",
     "text": [
      "Current Hit Rate Sum at index 80: 55\n",
      "Current wrongly answered questions at index 80: [4, 5, 7, 9, 14, 24, 26, 27, 28, 29, 35, 37, 42, 43, 44, 45, 51, 52, 57, 58, 65, 68, 70, 71, 77, 80]\n"
     ]
    },
    {
     "name": "stderr",
     "output_type": "stream",
     "text": [
      "100%|██████████| 1/1 [00:00<00:00,  6.30it/s]\n",
      "100%|██████████| 1/1 [00:00<00:00, 16.54it/s]\n",
      "100%|██████████| 1/1 [00:00<00:00, 15.89it/s]t/s]\n",
      "100%|██████████| 1/1 [00:00<00:00, 15.61it/s]\n",
      "100%|██████████| 1/1 [00:00<00:00, 14.12it/s]t/s]\n",
      "100%|██████████| 1/1 [00:00<00:00, 13.76it/s]\n",
      "100%|██████████| 1/1 [00:00<00:00, 10.59it/s]t/s]\n",
      "100%|██████████| 1/1 [00:00<00:00, 13.13it/s]\n",
      "100%|██████████| 1/1 [00:00<00:00, 17.96it/s]t/s]\n",
      "100%|██████████| 1/1 [00:00<00:00, 17.30it/s]\n",
      "100%|██████████| 1/1 [00:00<00:00, 14.00it/s]t/s]\n",
      "100%|██████████| 1/1 [00:00<00:00,  6.88it/s]\n",
      "100%|██████████| 1/1 [00:00<00:00,  7.42it/s]t/s]\n",
      "100%|██████████| 1/1 [00:00<00:00,  8.00it/s]\n",
      "100%|██████████| 1/1 [00:00<00:00,  6.28it/s]t/s]\n",
      "100%|██████████| 1/1 [00:00<00:00, 15.75it/s]\n",
      "100%|██████████| 1/1 [00:00<00:00, 15.85it/s]t/s]\n",
      "100%|██████████| 1/1 [00:00<00:00,  7.43it/s]\n",
      "100%|██████████| 1/1 [00:00<00:00, 13.42it/s]t/s]\n",
      "100%|██████████| 1/1 [00:00<00:00,  8.74it/s]\n",
      " 10%|█         | 101/1000 [00:11<01:34,  9.47it/s]"
     ]
    },
    {
     "name": "stdout",
     "output_type": "stream",
     "text": [
      "Current Hit Rate Sum at index 100: 72\n",
      "Current wrongly answered questions at index 100: [4, 5, 7, 9, 14, 24, 26, 27, 28, 29, 35, 37, 42, 43, 44, 45, 51, 52, 57, 58, 65, 68, 70, 71, 77, 80, 96, 97, 100]\n"
     ]
    },
    {
     "name": "stderr",
     "output_type": "stream",
     "text": [
      "100%|██████████| 1/1 [00:00<00:00,  9.06it/s]\n",
      "100%|██████████| 1/1 [00:00<00:00, 10.94it/s]it/s]\n",
      "100%|██████████| 1/1 [00:00<00:00, 11.33it/s]\n",
      "100%|██████████| 1/1 [00:00<00:00,  8.60it/s]it/s]\n",
      "100%|██████████| 1/1 [00:00<00:00, 18.81it/s]it/s]\n",
      "100%|██████████| 1/1 [00:00<00:00,  9.11it/s]\n",
      "100%|██████████| 1/1 [00:00<00:00,  8.02it/s]it/s]\n",
      "100%|██████████| 1/1 [00:00<00:00, 11.37it/s]it/s]\n",
      "100%|██████████| 1/1 [00:00<00:00,  6.89it/s]\n",
      "100%|██████████| 1/1 [00:00<00:00,  7.41it/s]it/s]\n",
      "100%|██████████| 1/1 [00:00<00:00,  5.84it/s]it/s]\n",
      "100%|██████████| 1/1 [00:00<00:00, 12.90it/s]it/s]\n",
      "100%|██████████| 1/1 [00:00<00:00,  4.52it/s]\n",
      "100%|██████████| 1/1 [00:00<00:00,  6.74it/s]it/s]\n",
      "100%|██████████| 1/1 [00:00<00:00, 13.45it/s]it/s]\n",
      "100%|██████████| 1/1 [00:00<00:00,  4.72it/s]\n",
      "100%|██████████| 1/1 [00:00<00:00,  7.02it/s]it/s]\n",
      "100%|██████████| 1/1 [00:00<00:00, 12.82it/s]it/s]\n",
      "100%|██████████| 1/1 [00:00<00:00,  6.76it/s]\n",
      "100%|██████████| 1/1 [00:00<00:00,  8.05it/s]it/s]\n",
      " 12%|█▏        | 121/1000 [00:14<01:58,  7.42it/s]"
     ]
    },
    {
     "name": "stdout",
     "output_type": "stream",
     "text": [
      "Current Hit Rate Sum at index 120: 85\n",
      "Current wrongly answered questions at index 120: [4, 5, 7, 9, 14, 24, 26, 27, 28, 29, 35, 37, 42, 43, 44, 45, 51, 52, 57, 58, 65, 68, 70, 71, 77, 80, 96, 97, 100, 101, 105, 108, 109, 111, 115, 118]\n"
     ]
    },
    {
     "name": "stderr",
     "output_type": "stream",
     "text": [
      "100%|██████████| 1/1 [00:00<00:00,  6.87it/s]\n",
      "100%|██████████| 1/1 [00:00<00:00,  6.82it/s]it/s]\n",
      "100%|██████████| 1/1 [00:00<00:00,  6.75it/s]it/s]\n",
      "100%|██████████| 1/1 [00:00<00:00,  5.37it/s]it/s]\n",
      "100%|██████████| 1/1 [00:00<00:00,  6.75it/s]it/s]\n",
      "100%|██████████| 1/1 [00:00<00:00,  6.45it/s]it/s]\n",
      "100%|██████████| 1/1 [00:00<00:00, 12.44it/s]it/s]\n",
      "100%|██████████| 1/1 [00:00<00:00,  6.76it/s]\n",
      "100%|██████████| 1/1 [00:00<00:00,  6.76it/s]it/s]\n",
      "100%|██████████| 1/1 [00:00<00:00, 10.85it/s]it/s]\n",
      "100%|██████████| 1/1 [00:00<00:00,  7.00it/s]\n",
      "100%|██████████| 1/1 [00:00<00:00,  8.05it/s]it/s]\n",
      "100%|██████████| 1/1 [00:00<00:00,  8.74it/s]it/s]\n",
      "100%|██████████| 1/1 [00:00<00:00,  8.07it/s]it/s]\n",
      "100%|██████████| 1/1 [00:00<00:00,  8.75it/s]it/s]\n",
      "100%|██████████| 1/1 [00:00<00:00,  8.88it/s]it/s]\n",
      "100%|██████████| 1/1 [00:00<00:00,  6.29it/s]it/s]\n",
      "100%|██████████| 1/1 [00:00<00:00,  4.77it/s]it/s]\n",
      "100%|██████████| 1/1 [00:00<00:00, 17.84it/s]it/s]\n",
      "100%|██████████| 1/1 [00:00<00:00,  8.30it/s]\n",
      " 14%|█▍        | 141/1000 [00:17<01:52,  7.63it/s]"
     ]
    },
    {
     "name": "stdout",
     "output_type": "stream",
     "text": [
      "Current Hit Rate Sum at index 140: 98\n",
      "Current wrongly answered questions at index 140: [4, 5, 7, 9, 14, 24, 26, 27, 28, 29, 35, 37, 42, 43, 44, 45, 51, 52, 57, 58, 65, 68, 70, 71, 77, 80, 96, 97, 100, 101, 105, 108, 109, 111, 115, 118, 121, 122, 123, 125, 126, 131, 139]\n"
     ]
    },
    {
     "name": "stderr",
     "output_type": "stream",
     "text": [
      "100%|██████████| 1/1 [00:00<00:00, 10.42it/s]\n",
      "100%|██████████| 1/1 [00:00<00:00,  6.90it/s]it/s]\n",
      "100%|██████████| 1/1 [00:00<00:00,  4.41it/s]it/s]\n",
      "100%|██████████| 1/1 [00:00<00:00, 11.95it/s]it/s]\n",
      "100%|██████████| 1/1 [00:00<00:00, 10.71it/s]\n",
      "100%|██████████| 1/1 [00:00<00:00, 10.43it/s]it/s]\n",
      "100%|██████████| 1/1 [00:00<00:00, 12.92it/s]it/s]\n",
      "100%|██████████| 1/1 [00:00<00:00, 10.59it/s]\n",
      "100%|██████████| 1/1 [00:00<00:00,  7.92it/s]it/s]\n",
      "100%|██████████| 1/1 [00:00<00:00, 13.08it/s]it/s]\n",
      "100%|██████████| 1/1 [00:00<00:00, 15.78it/s]\n",
      "100%|██████████| 1/1 [00:00<00:00,  8.81it/s]it/s]\n",
      "100%|██████████| 1/1 [00:00<00:00,  8.73it/s]\n",
      "100%|██████████| 1/1 [00:00<00:00, 10.90it/s]it/s]\n",
      "100%|██████████| 1/1 [00:00<00:00, 12.16it/s]it/s]\n",
      "100%|██████████| 1/1 [00:00<00:00,  4.79it/s]\n",
      "100%|██████████| 1/1 [00:00<00:00, 10.95it/s]it/s]\n",
      "100%|██████████| 1/1 [00:00<00:00,  6.91it/s]\n",
      "100%|██████████| 1/1 [00:00<00:00, 10.58it/s]it/s]\n",
      "100%|██████████| 1/1 [00:00<00:00,  8.66it/s]it/s]\n",
      " 16%|█▌        | 161/1000 [00:19<01:40,  8.39it/s]"
     ]
    },
    {
     "name": "stdout",
     "output_type": "stream",
     "text": [
      "Current Hit Rate Sum at index 160: 104\n",
      "Current wrongly answered questions at index 160: [4, 5, 7, 9, 14, 24, 26, 27, 28, 29, 35, 37, 42, 43, 44, 45, 51, 52, 57, 58, 65, 68, 70, 71, 77, 80, 96, 97, 100, 101, 105, 108, 109, 111, 115, 118, 121, 122, 123, 125, 126, 131, 139, 143, 144, 145, 146, 147, 148, 151, 152, 153, 154, 156, 158, 159, 160]\n"
     ]
    },
    {
     "name": "stderr",
     "output_type": "stream",
     "text": [
      "100%|██████████| 1/1 [00:00<00:00,  7.39it/s]\n",
      "100%|██████████| 1/1 [00:00<00:00, 10.60it/s]it/s]\n",
      "100%|██████████| 1/1 [00:00<00:00, 18.51it/s]it/s]\n",
      "100%|██████████| 1/1 [00:00<00:00,  5.34it/s]\n",
      "100%|██████████| 1/1 [00:00<00:00, 18.41it/s]it/s]\n",
      "100%|██████████| 1/1 [00:00<00:00,  5.28it/s]\n",
      "100%|██████████| 1/1 [00:00<00:00, 14.53it/s]it/s]\n",
      "100%|██████████| 1/1 [00:00<00:00, 14.93it/s]\n",
      "100%|██████████| 1/1 [00:00<00:00,  8.08it/s]it/s]\n",
      "100%|██████████| 1/1 [00:00<00:00,  8.94it/s]it/s]\n",
      "100%|██████████| 1/1 [00:00<00:00,  8.27it/s]it/s]\n",
      "100%|██████████| 1/1 [00:00<00:00,  7.43it/s]it/s]\n",
      "100%|██████████| 1/1 [00:00<00:00,  8.12it/s]it/s]\n",
      "100%|██████████| 1/1 [00:00<00:00,  7.44it/s]it/s]\n",
      "100%|██████████| 1/1 [00:00<00:00, 16.81it/s]it/s]\n",
      "100%|██████████| 1/1 [00:00<00:00, 19.47it/s]\n",
      "100%|██████████| 1/1 [00:00<00:00, 15.91it/s]it/s]\n",
      "100%|██████████| 1/1 [00:00<00:00,  7.37it/s]\n",
      "100%|██████████| 1/1 [00:00<00:00, 18.59it/s]it/s]\n",
      "100%|██████████| 1/1 [00:00<00:00, 12.79it/s]\n",
      " 18%|█▊        | 181/1000 [00:21<01:14, 11.04it/s]"
     ]
    },
    {
     "name": "stdout",
     "output_type": "stream",
     "text": [
      "Current Hit Rate Sum at index 180: 115\n",
      "Current wrongly answered questions at index 180: [4, 5, 7, 9, 14, 24, 26, 27, 28, 29, 35, 37, 42, 43, 44, 45, 51, 52, 57, 58, 65, 68, 70, 71, 77, 80, 96, 97, 100, 101, 105, 108, 109, 111, 115, 118, 121, 122, 123, 125, 126, 131, 139, 143, 144, 145, 146, 147, 148, 151, 152, 153, 154, 156, 158, 159, 160, 161, 163, 165, 175, 176, 177, 178, 179, 180]\n"
     ]
    },
    {
     "name": "stderr",
     "output_type": "stream",
     "text": [
      "100%|██████████| 1/1 [00:00<00:00, 18.79it/s]\n",
      "100%|██████████| 1/1 [00:00<00:00, 11.89it/s]\n",
      "100%|██████████| 1/1 [00:00<00:00,  3.19it/s]it/s]\n",
      "100%|██████████| 1/1 [00:00<00:00,  4.41it/s]\n",
      "100%|██████████| 1/1 [00:00<00:00,  4.33it/s]it/s]\n",
      "100%|██████████| 1/1 [00:00<00:00,  8.35it/s]it/s]\n",
      "100%|██████████| 1/1 [00:00<00:00, 10.53it/s]it/s]\n",
      "100%|██████████| 1/1 [00:00<00:00, 10.75it/s]it/s]\n",
      "100%|██████████| 1/1 [00:00<00:00, 17.21it/s]it/s]\n",
      "100%|██████████| 1/1 [00:00<00:00, 16.03it/s]\n",
      "100%|██████████| 1/1 [00:00<00:00, 14.88it/s]it/s]\n",
      "100%|██████████| 1/1 [00:00<00:00,  6.86it/s]\n",
      "100%|██████████| 1/1 [00:00<00:00,  8.35it/s]it/s]\n",
      "100%|██████████| 1/1 [00:00<00:00,  8.03it/s]\n",
      "100%|██████████| 1/1 [00:00<00:00,  6.79it/s]it/s]\n",
      "100%|██████████| 1/1 [00:00<00:00, 12.00it/s]it/s]\n",
      "100%|██████████| 1/1 [00:00<00:00, 13.02it/s]\n",
      "100%|██████████| 1/1 [00:00<00:00, 18.04it/s]it/s]\n",
      "100%|██████████| 1/1 [00:00<00:00,  5.71it/s]\n",
      "100%|██████████| 1/1 [00:00<00:00, 14.07it/s]it/s]\n"
     ]
    },
    {
     "name": "stdout",
     "output_type": "stream",
     "text": [
      "Current Hit Rate Sum at index 200: 130\n",
      "Current wrongly answered questions at index 200: [4, 5, 7, 9, 14, 24, 26, 27, 28, 29, 35, 37, 42, 43, 44, 45, 51, 52, 57, 58, 65, 68, 70, 71, 77, 80, 96, 97, 100, 101, 105, 108, 109, 111, 115, 118, 121, 122, 123, 125, 126, 131, 139, 143, 144, 145, 146, 147, 148, 151, 152, 153, 154, 156, 158, 159, 160, 161, 163, 165, 175, 176, 177, 178, 179, 180, 186, 193, 194, 195, 198]\n"
     ]
    },
    {
     "name": "stderr",
     "output_type": "stream",
     "text": [
      "100%|██████████| 1/1 [00:00<00:00, 12.81it/s]\n",
      "100%|██████████| 1/1 [00:00<00:00, 10.46it/s]it/s]\n",
      "100%|██████████| 1/1 [00:00<00:00,  6.24it/s]\n",
      "100%|██████████| 1/1 [00:00<00:00, 10.56it/s]it/s]\n",
      "100%|██████████| 1/1 [00:00<00:00,  9.02it/s]it/s]\n",
      "100%|██████████| 1/1 [00:00<00:00, 11.33it/s]it/s]\n",
      "100%|██████████| 1/1 [00:00<00:00,  6.88it/s]\n",
      "100%|██████████| 1/1 [00:00<00:00,  6.99it/s]it/s]\n",
      "100%|██████████| 1/1 [00:00<00:00,  6.79it/s]it/s]\n",
      "100%|██████████| 1/1 [00:00<00:00,  6.98it/s]it/s]\n",
      "100%|██████████| 1/1 [00:00<00:00,  7.38it/s]it/s]\n",
      "100%|██████████| 1/1 [00:00<00:00,  6.83it/s]it/s]\n",
      "100%|██████████| 1/1 [00:00<00:00,  6.99it/s]it/s]\n",
      "100%|██████████| 1/1 [00:00<00:00,  8.34it/s]it/s]\n",
      "100%|██████████| 1/1 [00:00<00:00, 14.57it/s]it/s]\n",
      "100%|██████████| 1/1 [00:00<00:00,  8.10it/s]\n",
      "100%|██████████| 1/1 [00:00<00:00,  7.42it/s]it/s]\n",
      "100%|██████████| 1/1 [00:00<00:00,  8.29it/s]it/s]\n",
      "100%|██████████| 1/1 [00:00<00:00,  7.96it/s]it/s]\n",
      "100%|██████████| 1/1 [00:00<00:00,  7.38it/s]it/s]\n",
      " 22%|██▏       | 221/1000 [00:26<01:42,  7.58it/s]"
     ]
    },
    {
     "name": "stdout",
     "output_type": "stream",
     "text": [
      "Current Hit Rate Sum at index 220: 148\n",
      "Current wrongly answered questions at index 220: [4, 5, 7, 9, 14, 24, 26, 27, 28, 29, 35, 37, 42, 43, 44, 45, 51, 52, 57, 58, 65, 68, 70, 71, 77, 80, 96, 97, 100, 101, 105, 108, 109, 111, 115, 118, 121, 122, 123, 125, 126, 131, 139, 143, 144, 145, 146, 147, 148, 151, 152, 153, 154, 156, 158, 159, 160, 161, 163, 165, 175, 176, 177, 178, 179, 180, 186, 193, 194, 195, 198, 204, 206]\n"
     ]
    },
    {
     "name": "stderr",
     "output_type": "stream",
     "text": [
      "100%|██████████| 1/1 [00:00<00:00,  7.05it/s]\n",
      "100%|██████████| 1/1 [00:00<00:00, 15.60it/s]it/s]\n",
      "100%|██████████| 1/1 [00:00<00:00, 15.50it/s]\n",
      "100%|██████████| 1/1 [00:00<00:00, 17.55it/s]it/s]\n",
      "100%|██████████| 1/1 [00:00<00:00,  8.67it/s]\n",
      "100%|██████████| 1/1 [00:00<00:00,  8.35it/s]it/s]\n",
      "100%|██████████| 1/1 [00:00<00:00, 11.18it/s]it/s]\n",
      "100%|██████████| 1/1 [00:00<00:00,  5.27it/s]\n",
      "100%|██████████| 1/1 [00:00<00:00,  5.21it/s]it/s]\n",
      "100%|██████████| 1/1 [00:00<00:00,  5.29it/s]it/s]\n",
      "100%|██████████| 1/1 [00:00<00:00,  5.84it/s]it/s]\n",
      "100%|██████████| 1/1 [00:00<00:00,  5.85it/s]it/s]\n",
      "100%|██████████| 1/1 [00:00<00:00,  5.78it/s]it/s]\n",
      "100%|██████████| 1/1 [00:00<00:00,  6.78it/s]it/s]\n",
      "100%|██████████| 1/1 [00:00<00:00,  4.40it/s]it/s]\n",
      "100%|██████████| 1/1 [00:00<00:00,  8.20it/s]it/s]\n",
      "100%|██████████| 1/1 [00:00<00:00,  5.32it/s]it/s]\n",
      "100%|██████████| 1/1 [00:00<00:00,  4.71it/s]it/s]\n",
      "100%|██████████| 1/1 [00:00<00:00,  8.90it/s]it/s]\n",
      "100%|██████████| 1/1 [00:00<00:00,  8.93it/s]it/s]\n",
      " 24%|██▍       | 241/1000 [00:29<01:56,  6.54it/s]"
     ]
    },
    {
     "name": "stdout",
     "output_type": "stream",
     "text": [
      "Current Hit Rate Sum at index 240: 161\n",
      "Current wrongly answered questions at index 240: [4, 5, 7, 9, 14, 24, 26, 27, 28, 29, 35, 37, 42, 43, 44, 45, 51, 52, 57, 58, 65, 68, 70, 71, 77, 80, 96, 97, 100, 101, 105, 108, 109, 111, 115, 118, 121, 122, 123, 125, 126, 131, 139, 143, 144, 145, 146, 147, 148, 151, 152, 153, 154, 156, 158, 159, 160, 161, 163, 165, 175, 176, 177, 178, 179, 180, 186, 193, 194, 195, 198, 204, 206, 225, 226, 229, 230, 237, 238, 240]\n"
     ]
    },
    {
     "name": "stderr",
     "output_type": "stream",
     "text": [
      "100%|██████████| 1/1 [00:00<00:00,  5.72it/s]\n",
      "100%|██████████| 1/1 [00:00<00:00,  8.09it/s]it/s]\n",
      "100%|██████████| 1/1 [00:00<00:00,  7.04it/s]it/s]\n",
      "100%|██████████| 1/1 [00:00<00:00, 10.41it/s]it/s]\n",
      "100%|██████████| 1/1 [00:00<00:00, 12.70it/s]it/s]\n",
      "100%|██████████| 1/1 [00:00<00:00,  5.34it/s]\n",
      "100%|██████████| 1/1 [00:00<00:00,  4.40it/s]it/s]\n",
      "100%|██████████| 1/1 [00:00<00:00,  4.25it/s]it/s]\n",
      "100%|██████████| 1/1 [00:00<00:00,  4.44it/s]it/s]\n",
      "100%|██████████| 1/1 [00:00<00:00, 12.89it/s]it/s]\n",
      "100%|██████████| 1/1 [00:00<00:00, 12.93it/s]\n",
      "100%|██████████| 1/1 [00:00<00:00, 17.29it/s]it/s]\n",
      "100%|██████████| 1/1 [00:00<00:00, 13.83it/s]\n",
      "100%|██████████| 1/1 [00:00<00:00, 12.37it/s]it/s]\n",
      "100%|██████████| 1/1 [00:00<00:00,  7.46it/s]\n",
      "100%|██████████| 1/1 [00:00<00:00,  4.42it/s]it/s]\n",
      "100%|██████████| 1/1 [00:00<00:00,  4.25it/s]it/s]\n",
      "100%|██████████| 1/1 [00:00<00:00, 18.12it/s]it/s]\n",
      "100%|██████████| 1/1 [00:00<00:00,  8.39it/s]\n",
      "100%|██████████| 1/1 [00:00<00:00,  7.92it/s]it/s]\n",
      " 26%|██▌       | 261/1000 [00:32<01:39,  7.41it/s]"
     ]
    },
    {
     "name": "stdout",
     "output_type": "stream",
     "text": [
      "Current Hit Rate Sum at index 260: 176\n",
      "Current wrongly answered questions at index 260: [4, 5, 7, 9, 14, 24, 26, 27, 28, 29, 35, 37, 42, 43, 44, 45, 51, 52, 57, 58, 65, 68, 70, 71, 77, 80, 96, 97, 100, 101, 105, 108, 109, 111, 115, 118, 121, 122, 123, 125, 126, 131, 139, 143, 144, 145, 146, 147, 148, 151, 152, 153, 154, 156, 158, 159, 160, 161, 163, 165, 175, 176, 177, 178, 179, 180, 186, 193, 194, 195, 198, 204, 206, 225, 226, 229, 230, 237, 238, 240, 243, 245, 256, 257, 258]\n"
     ]
    },
    {
     "name": "stderr",
     "output_type": "stream",
     "text": [
      "100%|██████████| 1/1 [00:00<00:00, 12.33it/s]\n",
      "100%|██████████| 1/1 [00:00<00:00,  7.40it/s]\n",
      "100%|██████████| 1/1 [00:00<00:00,  8.79it/s]it/s]\n",
      "100%|██████████| 1/1 [00:00<00:00,  8.73it/s]it/s]\n",
      "100%|██████████| 1/1 [00:00<00:00,  8.67it/s]it/s]\n",
      "100%|██████████| 1/1 [00:00<00:00, 12.02it/s]it/s]\n",
      "100%|██████████| 1/1 [00:00<00:00, 12.99it/s]\n",
      "100%|██████████| 1/1 [00:00<00:00, 14.60it/s]it/s]\n",
      "100%|██████████| 1/1 [00:00<00:00, 10.98it/s]\n",
      "100%|██████████| 1/1 [00:00<00:00, 15.86it/s]it/s]\n",
      "100%|██████████| 1/1 [00:00<00:00, 11.03it/s]\n",
      "100%|██████████| 1/1 [00:00<00:00,  8.41it/s]it/s]\n",
      "100%|██████████| 1/1 [00:00<00:00,  6.76it/s]\n",
      "100%|██████████| 1/1 [00:00<00:00,  6.66it/s]it/s]\n",
      "100%|██████████| 1/1 [00:00<00:00,  5.67it/s]it/s]\n",
      "100%|██████████| 1/1 [00:00<00:00,  6.32it/s]it/s]\n",
      "100%|██████████| 1/1 [00:00<00:00, 17.36it/s]it/s]\n",
      "100%|██████████| 1/1 [00:00<00:00, 13.06it/s]\n",
      "100%|██████████| 1/1 [00:00<00:00,  6.29it/s]it/s]\n",
      "100%|██████████| 1/1 [00:00<00:00,  9.09it/s]it/s]\n",
      " 28%|██▊       | 281/1000 [00:34<01:28,  8.16it/s]"
     ]
    },
    {
     "name": "stdout",
     "output_type": "stream",
     "text": [
      "Current Hit Rate Sum at index 280: 192\n",
      "Current wrongly answered questions at index 280: [4, 5, 7, 9, 14, 24, 26, 27, 28, 29, 35, 37, 42, 43, 44, 45, 51, 52, 57, 58, 65, 68, 70, 71, 77, 80, 96, 97, 100, 101, 105, 108, 109, 111, 115, 118, 121, 122, 123, 125, 126, 131, 139, 143, 144, 145, 146, 147, 148, 151, 152, 153, 154, 156, 158, 159, 160, 161, 163, 165, 175, 176, 177, 178, 179, 180, 186, 193, 194, 195, 198, 204, 206, 225, 226, 229, 230, 237, 238, 240, 243, 245, 256, 257, 258, 267, 268, 271, 276]\n"
     ]
    },
    {
     "name": "stderr",
     "output_type": "stream",
     "text": [
      "100%|██████████| 1/1 [00:00<00:00,  5.82it/s]\n",
      "100%|██████████| 1/1 [00:00<00:00,  5.77it/s]it/s]\n",
      "100%|██████████| 1/1 [00:00<00:00, 11.66it/s]it/s]\n",
      "100%|██████████| 1/1 [00:00<00:00,  7.33it/s]\n",
      "100%|██████████| 1/1 [00:00<00:00,  4.41it/s]it/s]\n",
      "100%|██████████| 1/1 [00:00<00:00,  8.32it/s]it/s]\n",
      "100%|██████████| 1/1 [00:00<00:00,  8.26it/s]it/s]\n",
      "100%|██████████| 1/1 [00:00<00:00,  6.88it/s]it/s]\n",
      "100%|██████████| 1/1 [00:00<00:00,  8.21it/s]it/s]\n",
      "100%|██████████| 1/1 [00:00<00:00, 11.12it/s]it/s]\n",
      "100%|██████████| 1/1 [00:00<00:00, 12.20it/s]\n",
      "100%|██████████| 1/1 [00:00<00:00, 16.50it/s]it/s]\n",
      "100%|██████████| 1/1 [00:00<00:00,  5.53it/s]\n",
      "100%|██████████| 1/1 [00:00<00:00,  5.24it/s]it/s]\n",
      "100%|██████████| 1/1 [00:00<00:00, 14.90it/s]it/s]\n",
      "100%|██████████| 1/1 [00:00<00:00, 13.43it/s]\n",
      "100%|██████████| 1/1 [00:00<00:00, 10.61it/s]it/s]\n",
      "100%|██████████| 1/1 [00:00<00:00, 13.34it/s]it/s]\n",
      "100%|██████████| 1/1 [00:00<00:00,  8.05it/s]\n",
      "100%|██████████| 1/1 [00:00<00:00, 10.90it/s]it/s]\n"
     ]
    },
    {
     "name": "stdout",
     "output_type": "stream",
     "text": [
      "Current Hit Rate Sum at index 300: 211\n",
      "Current wrongly answered questions at index 300: [4, 5, 7, 9, 14, 24, 26, 27, 28, 29, 35, 37, 42, 43, 44, 45, 51, 52, 57, 58, 65, 68, 70, 71, 77, 80, 96, 97, 100, 101, 105, 108, 109, 111, 115, 118, 121, 122, 123, 125, 126, 131, 139, 143, 144, 145, 146, 147, 148, 151, 152, 153, 154, 156, 158, 159, 160, 161, 163, 165, 175, 176, 177, 178, 179, 180, 186, 193, 194, 195, 198, 204, 206, 225, 226, 229, 230, 237, 238, 240, 243, 245, 256, 257, 258, 267, 268, 271, 276, 292]\n"
     ]
    },
    {
     "name": "stderr",
     "output_type": "stream",
     "text": [
      "100%|██████████| 1/1 [00:00<00:00, 16.90it/s]\n",
      "100%|██████████| 1/1 [00:00<00:00, 16.81it/s]it/s]\n",
      "100%|██████████| 1/1 [00:00<00:00, 12.25it/s]\n",
      "100%|██████████| 1/1 [00:00<00:00,  6.74it/s]it/s]\n",
      "100%|██████████| 1/1 [00:00<00:00, 11.36it/s]\n",
      "100%|██████████| 1/1 [00:00<00:00, 19.37it/s]it/s]\n",
      "100%|██████████| 1/1 [00:00<00:00,  5.68it/s]\n",
      "100%|██████████| 1/1 [00:00<00:00,  8.76it/s]it/s]\n",
      "100%|██████████| 1/1 [00:00<00:00,  5.78it/s]it/s]\n",
      "100%|██████████| 1/1 [00:00<00:00,  3.54it/s]it/s]\n",
      "100%|██████████| 1/1 [00:00<00:00,  8.57it/s]it/s]\n",
      "100%|██████████| 1/1 [00:00<00:00,  8.26it/s]it/s]\n",
      "100%|██████████| 1/1 [00:00<00:00,  8.61it/s]it/s]\n",
      "100%|██████████| 1/1 [00:00<00:00, 11.97it/s]it/s]\n",
      "100%|██████████| 1/1 [00:00<00:00,  4.52it/s]\n",
      "100%|██████████| 1/1 [00:00<00:00,  4.55it/s]it/s]\n",
      "100%|██████████| 1/1 [00:00<00:00,  4.51it/s]it/s]\n",
      "100%|██████████| 1/1 [00:00<00:00, 10.55it/s]it/s]\n",
      "100%|██████████| 1/1 [00:00<00:00,  6.92it/s]it/s]\n",
      "100%|██████████| 1/1 [00:00<00:00, 10.90it/s]it/s]\n"
     ]
    },
    {
     "name": "stdout",
     "output_type": "stream",
     "text": [
      "Current Hit Rate Sum at index 320: 226\n",
      "Current wrongly answered questions at index 320: [4, 5, 7, 9, 14, 24, 26, 27, 28, 29, 35, 37, 42, 43, 44, 45, 51, 52, 57, 58, 65, 68, 70, 71, 77, 80, 96, 97, 100, 101, 105, 108, 109, 111, 115, 118, 121, 122, 123, 125, 126, 131, 139, 143, 144, 145, 146, 147, 148, 151, 152, 153, 154, 156, 158, 159, 160, 161, 163, 165, 175, 176, 177, 178, 179, 180, 186, 193, 194, 195, 198, 204, 206, 225, 226, 229, 230, 237, 238, 240, 243, 245, 256, 257, 258, 267, 268, 271, 276, 292, 303, 306, 307, 314, 318]\n"
     ]
    },
    {
     "name": "stderr",
     "output_type": "stream",
     "text": [
      "100%|██████████| 1/1 [00:00<00:00, 14.26it/s]\n",
      "100%|██████████| 1/1 [00:00<00:00,  8.28it/s]it/s]\n",
      "100%|██████████| 1/1 [00:00<00:00,  6.90it/s]it/s]\n",
      "100%|██████████| 1/1 [00:00<00:00, 11.12it/s]it/s]\n",
      "100%|██████████| 1/1 [00:00<00:00,  5.84it/s]\n",
      "100%|██████████| 1/1 [00:00<00:00,  5.66it/s]it/s]\n",
      "100%|██████████| 1/1 [00:00<00:00,  5.55it/s]it/s]\n",
      "100%|██████████| 1/1 [00:00<00:00,  5.67it/s]it/s]\n",
      "100%|██████████| 1/1 [00:00<00:00, 15.45it/s]it/s]\n",
      "100%|██████████| 1/1 [00:00<00:00,  8.97it/s]\n",
      "100%|██████████| 1/1 [00:00<00:00, 15.43it/s]it/s]\n",
      "100%|██████████| 1/1 [00:00<00:00, 12.96it/s]\n",
      "100%|██████████| 1/1 [00:00<00:00,  6.34it/s]it/s]\n",
      "100%|██████████| 1/1 [00:00<00:00,  6.83it/s]it/s]\n",
      "100%|██████████| 1/1 [00:00<00:00, 14.91it/s]it/s]\n",
      "100%|██████████| 1/1 [00:00<00:00,  8.28it/s]\n",
      "100%|██████████| 1/1 [00:00<00:00, 15.64it/s]it/s]\n",
      "100%|██████████| 1/1 [00:00<00:00, 13.06it/s]\n",
      "100%|██████████| 1/1 [00:00<00:00,  4.44it/s]it/s]\n",
      "100%|██████████| 1/1 [00:00<00:00,  4.25it/s]it/s]\n",
      " 34%|███▍      | 341/1000 [00:42<01:42,  6.46it/s]"
     ]
    },
    {
     "name": "stdout",
     "output_type": "stream",
     "text": [
      "Current Hit Rate Sum at index 340: 241\n",
      "Current wrongly answered questions at index 340: [4, 5, 7, 9, 14, 24, 26, 27, 28, 29, 35, 37, 42, 43, 44, 45, 51, 52, 57, 58, 65, 68, 70, 71, 77, 80, 96, 97, 100, 101, 105, 108, 109, 111, 115, 118, 121, 122, 123, 125, 126, 131, 139, 143, 144, 145, 146, 147, 148, 151, 152, 153, 154, 156, 158, 159, 160, 161, 163, 165, 175, 176, 177, 178, 179, 180, 186, 193, 194, 195, 198, 204, 206, 225, 226, 229, 230, 237, 238, 240, 243, 245, 256, 257, 258, 267, 268, 271, 276, 292, 303, 306, 307, 314, 318, 322, 323, 324, 334, 337]\n"
     ]
    },
    {
     "name": "stderr",
     "output_type": "stream",
     "text": [
      "100%|██████████| 1/1 [00:00<00:00, 13.51it/s]\n",
      "100%|██████████| 1/1 [00:00<00:00, 17.62it/s]\n",
      "100%|██████████| 1/1 [00:00<00:00, 15.22it/s]it/s]\n",
      "100%|██████████| 1/1 [00:00<00:00, 13.54it/s]\n",
      "100%|██████████| 1/1 [00:00<00:00, 13.59it/s]it/s]\n",
      "100%|██████████| 1/1 [00:00<00:00, 13.61it/s]\n",
      "100%|██████████| 1/1 [00:00<00:00, 13.58it/s]it/s]\n",
      "100%|██████████| 1/1 [00:00<00:00,  8.34it/s]\n",
      "100%|██████████| 1/1 [00:00<00:00,  5.32it/s]it/s]\n",
      "100%|██████████| 1/1 [00:00<00:00, 15.98it/s]\n",
      "100%|██████████| 1/1 [00:00<00:00, 11.19it/s]it/s]\n",
      "100%|██████████| 1/1 [00:00<00:00, 10.92it/s]\n",
      "100%|██████████| 1/1 [00:00<00:00, 15.13it/s]it/s]\n",
      "100%|██████████| 1/1 [00:00<00:00, 10.53it/s]\n",
      "100%|██████████| 1/1 [00:00<00:00,  5.24it/s]it/s]\n",
      "100%|██████████| 1/1 [00:00<00:00,  4.71it/s]\n",
      "100%|██████████| 1/1 [00:00<00:00,  4.46it/s]it/s]\n",
      "100%|██████████| 1/1 [00:00<00:00,  4.53it/s]it/s]\n",
      "100%|██████████| 1/1 [00:00<00:00, 15.52it/s]it/s]\n",
      "100%|██████████| 1/1 [00:00<00:00, 12.93it/s]\n",
      " 36%|███▌      | 361/1000 [00:45<01:25,  7.50it/s]"
     ]
    },
    {
     "name": "stdout",
     "output_type": "stream",
     "text": [
      "Current Hit Rate Sum at index 360: 256\n",
      "Current wrongly answered questions at index 360: [4, 5, 7, 9, 14, 24, 26, 27, 28, 29, 35, 37, 42, 43, 44, 45, 51, 52, 57, 58, 65, 68, 70, 71, 77, 80, 96, 97, 100, 101, 105, 108, 109, 111, 115, 118, 121, 122, 123, 125, 126, 131, 139, 143, 144, 145, 146, 147, 148, 151, 152, 153, 154, 156, 158, 159, 160, 161, 163, 165, 175, 176, 177, 178, 179, 180, 186, 193, 194, 195, 198, 204, 206, 225, 226, 229, 230, 237, 238, 240, 243, 245, 256, 257, 258, 267, 268, 271, 276, 292, 303, 306, 307, 314, 318, 322, 323, 324, 334, 337, 348, 349, 352, 354, 355]\n"
     ]
    },
    {
     "name": "stderr",
     "output_type": "stream",
     "text": [
      "100%|██████████| 1/1 [00:00<00:00, 16.54it/s]\n",
      "100%|██████████| 1/1 [00:00<00:00, 15.89it/s]\n",
      "100%|██████████| 1/1 [00:00<00:00,  6.38it/s]it/s]\n",
      "100%|██████████| 1/1 [00:00<00:00,  4.43it/s]\n",
      "100%|██████████| 1/1 [00:00<00:00,  6.67it/s]it/s]\n",
      "100%|██████████| 1/1 [00:00<00:00,  5.50it/s]it/s]\n",
      "100%|██████████| 1/1 [00:00<00:00, 15.15it/s]it/s]\n",
      "100%|██████████| 1/1 [00:00<00:00, 15.56it/s]\n",
      "100%|██████████| 1/1 [00:00<00:00, 18.13it/s]it/s]\n",
      "100%|██████████| 1/1 [00:00<00:00,  5.71it/s]\n",
      "100%|██████████| 1/1 [00:00<00:00, 10.41it/s]it/s]\n",
      "100%|██████████| 1/1 [00:00<00:00,  7.41it/s]it/s]\n",
      "100%|██████████| 1/1 [00:00<00:00, 18.38it/s]it/s]\n",
      "100%|██████████| 1/1 [00:00<00:00,  5.58it/s]\n",
      "100%|██████████| 1/1 [00:00<00:00,  7.42it/s]it/s]\n",
      "100%|██████████| 1/1 [00:00<00:00, 10.52it/s]it/s]\n",
      "100%|██████████| 1/1 [00:00<00:00, 12.75it/s]it/s]\n",
      "100%|██████████| 1/1 [00:00<00:00,  5.73it/s]\n",
      "100%|██████████| 1/1 [00:00<00:00,  5.61it/s]it/s]\n",
      "100%|██████████| 1/1 [00:00<00:00,  8.36it/s]it/s]\n",
      " 38%|███▊      | 381/1000 [00:47<01:24,  7.34it/s]"
     ]
    },
    {
     "name": "stdout",
     "output_type": "stream",
     "text": [
      "Current Hit Rate Sum at index 380: 271\n",
      "Current wrongly answered questions at index 380: [4, 5, 7, 9, 14, 24, 26, 27, 28, 29, 35, 37, 42, 43, 44, 45, 51, 52, 57, 58, 65, 68, 70, 71, 77, 80, 96, 97, 100, 101, 105, 108, 109, 111, 115, 118, 121, 122, 123, 125, 126, 131, 139, 143, 144, 145, 146, 147, 148, 151, 152, 153, 154, 156, 158, 159, 160, 161, 163, 165, 175, 176, 177, 178, 179, 180, 186, 193, 194, 195, 198, 204, 206, 225, 226, 229, 230, 237, 238, 240, 243, 245, 256, 257, 258, 267, 268, 271, 276, 292, 303, 306, 307, 314, 318, 322, 323, 324, 334, 337, 348, 349, 352, 354, 355, 361, 362, 363, 367, 373]\n"
     ]
    },
    {
     "name": "stderr",
     "output_type": "stream",
     "text": [
      "100%|██████████| 1/1 [00:00<00:00, 11.15it/s]\n",
      "100%|██████████| 1/1 [00:00<00:00,  5.70it/s]\n",
      "100%|██████████| 1/1 [00:00<00:00,  6.87it/s]it/s]\n",
      "100%|██████████| 1/1 [00:00<00:00,  5.68it/s]it/s]\n",
      "100%|██████████| 1/1 [00:00<00:00,  5.68it/s]it/s]\n",
      "100%|██████████| 1/1 [00:00<00:00,  5.23it/s]it/s]\n",
      "100%|██████████| 1/1 [00:00<00:00,  5.29it/s]it/s]\n",
      "100%|██████████| 1/1 [00:00<00:00,  5.21it/s]it/s]\n",
      "100%|██████████| 1/1 [00:00<00:00,  5.24it/s]it/s]\n",
      "100%|██████████| 1/1 [00:00<00:00,  6.03it/s]it/s]\n",
      "100%|██████████| 1/1 [00:00<00:00,  8.02it/s]it/s]\n",
      "100%|██████████| 1/1 [00:00<00:00,  7.94it/s]it/s]\n",
      "100%|██████████| 1/1 [00:00<00:00,  5.82it/s]it/s]\n",
      "100%|██████████| 1/1 [00:00<00:00, 10.59it/s]it/s]\n",
      "100%|██████████| 1/1 [00:00<00:00,  7.42it/s]\n",
      "100%|██████████| 1/1 [00:00<00:00, 12.89it/s]it/s]\n",
      "100%|██████████| 1/1 [00:00<00:00, 10.47it/s]\n",
      "100%|██████████| 1/1 [00:00<00:00, 11.17it/s]it/s]\n",
      "100%|██████████| 1/1 [00:00<00:00, 10.51it/s]\n",
      "100%|██████████| 1/1 [00:00<00:00, 18.00it/s]it/s]\n"
     ]
    },
    {
     "name": "stdout",
     "output_type": "stream",
     "text": [
      "Current Hit Rate Sum at index 400: 285\n",
      "Current wrongly answered questions at index 400: [4, 5, 7, 9, 14, 24, 26, 27, 28, 29, 35, 37, 42, 43, 44, 45, 51, 52, 57, 58, 65, 68, 70, 71, 77, 80, 96, 97, 100, 101, 105, 108, 109, 111, 115, 118, 121, 122, 123, 125, 126, 131, 139, 143, 144, 145, 146, 147, 148, 151, 152, 153, 154, 156, 158, 159, 160, 161, 163, 165, 175, 176, 177, 178, 179, 180, 186, 193, 194, 195, 198, 204, 206, 225, 226, 229, 230, 237, 238, 240, 243, 245, 256, 257, 258, 267, 268, 271, 276, 292, 303, 306, 307, 314, 318, 322, 323, 324, 334, 337, 348, 349, 352, 354, 355, 361, 362, 363, 367, 373, 381, 386, 395, 397, 399, 400]\n"
     ]
    },
    {
     "name": "stderr",
     "output_type": "stream",
     "text": [
      "100%|██████████| 1/1 [00:00<00:00,  5.73it/s]\n",
      "100%|██████████| 1/1 [00:00<00:00,  4.74it/s]it/s]\n",
      "100%|██████████| 1/1 [00:00<00:00,  5.69it/s]it/s]\n",
      "100%|██████████| 1/1 [00:00<00:00,  4.80it/s]it/s]\n",
      "100%|██████████| 1/1 [00:00<00:00, 15.10it/s]it/s]\n",
      "100%|██████████| 1/1 [00:00<00:00,  6.72it/s]\n",
      "100%|██████████| 1/1 [00:00<00:00, 13.04it/s]it/s]\n",
      "100%|██████████| 1/1 [00:00<00:00, 10.52it/s]\n",
      "100%|██████████| 1/1 [00:00<00:00, 17.27it/s]it/s]\n",
      "100%|██████████| 1/1 [00:00<00:00,  8.09it/s]\n",
      "100%|██████████| 1/1 [00:00<00:00, 16.96it/s]it/s]\n",
      "100%|██████████| 1/1 [00:00<00:00,  6.37it/s]\n",
      "100%|██████████| 1/1 [00:00<00:00, 13.47it/s]it/s]\n",
      "100%|██████████| 1/1 [00:00<00:00,  8.06it/s]\n",
      "100%|██████████| 1/1 [00:00<00:00,  8.24it/s]it/s]\n",
      "100%|██████████| 1/1 [00:00<00:00, 11.08it/s]it/s]\n",
      "100%|██████████| 1/1 [00:00<00:00,  6.34it/s]\n",
      "100%|██████████| 1/1 [00:00<00:00, 14.53it/s]it/s]\n",
      "100%|██████████| 1/1 [00:00<00:00,  5.21it/s]\n",
      "100%|██████████| 1/1 [00:00<00:00,  4.42it/s]it/s]\n",
      " 42%|████▏     | 421/1000 [00:53<01:24,  6.83it/s]"
     ]
    },
    {
     "name": "stdout",
     "output_type": "stream",
     "text": [
      "Current Hit Rate Sum at index 420: 302\n",
      "Current wrongly answered questions at index 420: [4, 5, 7, 9, 14, 24, 26, 27, 28, 29, 35, 37, 42, 43, 44, 45, 51, 52, 57, 58, 65, 68, 70, 71, 77, 80, 96, 97, 100, 101, 105, 108, 109, 111, 115, 118, 121, 122, 123, 125, 126, 131, 139, 143, 144, 145, 146, 147, 148, 151, 152, 153, 154, 156, 158, 159, 160, 161, 163, 165, 175, 176, 177, 178, 179, 180, 186, 193, 194, 195, 198, 204, 206, 225, 226, 229, 230, 237, 238, 240, 243, 245, 256, 257, 258, 267, 268, 271, 276, 292, 303, 306, 307, 314, 318, 322, 323, 324, 334, 337, 348, 349, 352, 354, 355, 361, 362, 363, 367, 373, 381, 386, 395, 397, 399, 400, 410, 411, 420]\n"
     ]
    },
    {
     "name": "stderr",
     "output_type": "stream",
     "text": [
      "100%|██████████| 1/1 [00:00<00:00, 16.70it/s]\n",
      "100%|██████████| 1/1 [00:00<00:00, 10.93it/s]\n",
      "100%|██████████| 1/1 [00:00<00:00,  6.91it/s]it/s]\n",
      "100%|██████████| 1/1 [00:00<00:00,  4.43it/s]it/s]\n",
      "100%|██████████| 1/1 [00:00<00:00, 16.75it/s]it/s]\n",
      "100%|██████████| 1/1 [00:00<00:00, 15.86it/s]\n",
      "100%|██████████| 1/1 [00:00<00:00,  6.90it/s]it/s]\n",
      "100%|██████████| 1/1 [00:00<00:00,  5.67it/s]it/s]\n",
      "100%|██████████| 1/1 [00:00<00:00,  6.96it/s]it/s]\n",
      "100%|██████████| 1/1 [00:00<00:00,  8.95it/s]it/s]\n",
      "100%|██████████| 1/1 [00:00<00:00, 10.73it/s]it/s]\n",
      "100%|██████████| 1/1 [00:00<00:00,  7.90it/s]\n",
      "100%|██████████| 1/1 [00:00<00:00, 10.83it/s]it/s]\n",
      "100%|██████████| 1/1 [00:00<00:00, 12.55it/s]\n",
      "100%|██████████| 1/1 [00:00<00:00, 15.32it/s]it/s]\n",
      "100%|██████████| 1/1 [00:00<00:00,  7.02it/s]\n",
      "100%|██████████| 1/1 [00:00<00:00, 13.05it/s]it/s]\n",
      "100%|██████████| 1/1 [00:00<00:00,  5.78it/s]\n",
      "100%|██████████| 1/1 [00:00<00:00,  8.31it/s]it/s]\n",
      "100%|██████████| 1/1 [00:00<00:00,  6.96it/s]it/s]\n",
      " 44%|████▍     | 441/1000 [00:55<01:10,  7.88it/s]"
     ]
    },
    {
     "name": "stdout",
     "output_type": "stream",
     "text": [
      "Current Hit Rate Sum at index 440: 320\n",
      "Current wrongly answered questions at index 440: [4, 5, 7, 9, 14, 24, 26, 27, 28, 29, 35, 37, 42, 43, 44, 45, 51, 52, 57, 58, 65, 68, 70, 71, 77, 80, 96, 97, 100, 101, 105, 108, 109, 111, 115, 118, 121, 122, 123, 125, 126, 131, 139, 143, 144, 145, 146, 147, 148, 151, 152, 153, 154, 156, 158, 159, 160, 161, 163, 165, 175, 176, 177, 178, 179, 180, 186, 193, 194, 195, 198, 204, 206, 225, 226, 229, 230, 237, 238, 240, 243, 245, 256, 257, 258, 267, 268, 271, 276, 292, 303, 306, 307, 314, 318, 322, 323, 324, 334, 337, 348, 349, 352, 354, 355, 361, 362, 363, 367, 373, 381, 386, 395, 397, 399, 400, 410, 411, 420, 421, 438]\n"
     ]
    },
    {
     "name": "stderr",
     "output_type": "stream",
     "text": [
      "100%|██████████| 1/1 [00:00<00:00,  8.60it/s]\n",
      "100%|██████████| 1/1 [00:00<00:00,  4.69it/s]it/s]\n",
      "100%|██████████| 1/1 [00:00<00:00,  6.77it/s]it/s]\n",
      "100%|██████████| 1/1 [00:00<00:00,  6.00it/s]it/s]\n",
      "100%|██████████| 1/1 [00:00<00:00,  5.68it/s]it/s]\n",
      "100%|██████████| 1/1 [00:00<00:00,  5.65it/s]it/s]\n",
      "100%|██████████| 1/1 [00:00<00:00,  5.54it/s]it/s]\n",
      "100%|██████████| 1/1 [00:00<00:00,  5.61it/s]it/s]\n",
      "100%|██████████| 1/1 [00:00<00:00,  5.68it/s]it/s]\n",
      "100%|██████████| 1/1 [00:00<00:00,  5.24it/s]it/s]\n",
      "100%|██████████| 1/1 [00:00<00:00,  5.33it/s]it/s]\n",
      "100%|██████████| 1/1 [00:00<00:00,  7.41it/s]it/s]\n",
      "100%|██████████| 1/1 [00:00<00:00,  4.73it/s]it/s]\n",
      "100%|██████████| 1/1 [00:00<00:00,  5.51it/s]it/s]\n",
      "100%|██████████| 1/1 [00:00<00:00,  4.74it/s]it/s]\n",
      "100%|██████████| 1/1 [00:00<00:00, 11.29it/s]it/s]\n",
      "100%|██████████| 1/1 [00:00<00:00, 16.74it/s]\n",
      "100%|██████████| 1/1 [00:00<00:00,  6.34it/s]it/s]\n",
      "100%|██████████| 1/1 [00:00<00:00, 13.06it/s]it/s]\n",
      "100%|██████████| 1/1 [00:00<00:00,  4.55it/s]\n",
      " 46%|████▌     | 461/1000 [00:59<01:21,  6.64it/s]"
     ]
    },
    {
     "name": "stdout",
     "output_type": "stream",
     "text": [
      "Current Hit Rate Sum at index 460: 335\n",
      "Current wrongly answered questions at index 460: [4, 5, 7, 9, 14, 24, 26, 27, 28, 29, 35, 37, 42, 43, 44, 45, 51, 52, 57, 58, 65, 68, 70, 71, 77, 80, 96, 97, 100, 101, 105, 108, 109, 111, 115, 118, 121, 122, 123, 125, 126, 131, 139, 143, 144, 145, 146, 147, 148, 151, 152, 153, 154, 156, 158, 159, 160, 161, 163, 165, 175, 176, 177, 178, 179, 180, 186, 193, 194, 195, 198, 204, 206, 225, 226, 229, 230, 237, 238, 240, 243, 245, 256, 257, 258, 267, 268, 271, 276, 292, 303, 306, 307, 314, 318, 322, 323, 324, 334, 337, 348, 349, 352, 354, 355, 361, 362, 363, 367, 373, 381, 386, 395, 397, 399, 400, 410, 411, 420, 421, 438, 443, 444, 449, 458, 460]\n"
     ]
    },
    {
     "name": "stderr",
     "output_type": "stream",
     "text": [
      "100%|██████████| 1/1 [00:00<00:00,  7.42it/s]\n",
      "100%|██████████| 1/1 [00:00<00:00,  5.67it/s]it/s]\n",
      "100%|██████████| 1/1 [00:00<00:00, 16.04it/s]it/s]\n",
      "100%|██████████| 1/1 [00:00<00:00, 14.48it/s]\n",
      "100%|██████████| 1/1 [00:00<00:00,  9.03it/s]it/s]\n",
      "100%|██████████| 1/1 [00:00<00:00, 16.08it/s]it/s]\n",
      "100%|██████████| 1/1 [00:00<00:00, 14.98it/s]\n",
      "100%|██████████| 1/1 [00:00<00:00,  9.14it/s]it/s]\n",
      "100%|██████████| 1/1 [00:00<00:00, 10.55it/s]\n",
      "100%|██████████| 1/1 [00:00<00:00,  5.79it/s]it/s]\n",
      "100%|██████████| 1/1 [00:00<00:00,  5.78it/s]it/s]\n",
      "100%|██████████| 1/1 [00:00<00:00,  5.85it/s]it/s]\n",
      "100%|██████████| 1/1 [00:00<00:00, 15.40it/s]it/s]\n",
      "100%|██████████| 1/1 [00:00<00:00,  5.85it/s]\n",
      "100%|██████████| 1/1 [00:00<00:00, 12.35it/s]it/s]\n",
      "100%|██████████| 1/1 [00:00<00:00,  5.30it/s]\n",
      "100%|██████████| 1/1 [00:00<00:00, 10.50it/s]it/s]\n",
      "100%|██████████| 1/1 [00:00<00:00, 17.26it/s]it/s]\n",
      "100%|██████████| 1/1 [00:00<00:00,  7.44it/s]\n",
      "100%|██████████| 1/1 [00:00<00:00, 17.13it/s]it/s]\n"
     ]
    },
    {
     "name": "stdout",
     "output_type": "stream",
     "text": [
      "Current Hit Rate Sum at index 480: 351\n",
      "Current wrongly answered questions at index 480: [4, 5, 7, 9, 14, 24, 26, 27, 28, 29, 35, 37, 42, 43, 44, 45, 51, 52, 57, 58, 65, 68, 70, 71, 77, 80, 96, 97, 100, 101, 105, 108, 109, 111, 115, 118, 121, 122, 123, 125, 126, 131, 139, 143, 144, 145, 146, 147, 148, 151, 152, 153, 154, 156, 158, 159, 160, 161, 163, 165, 175, 176, 177, 178, 179, 180, 186, 193, 194, 195, 198, 204, 206, 225, 226, 229, 230, 237, 238, 240, 243, 245, 256, 257, 258, 267, 268, 271, 276, 292, 303, 306, 307, 314, 318, 322, 323, 324, 334, 337, 348, 349, 352, 354, 355, 361, 362, 363, 367, 373, 381, 386, 395, 397, 399, 400, 410, 411, 420, 421, 438, 443, 444, 449, 458, 460, 461, 463, 464, 475]\n"
     ]
    },
    {
     "name": "stderr",
     "output_type": "stream",
     "text": [
      "100%|██████████| 1/1 [00:00<00:00, 12.92it/s]\n",
      "100%|██████████| 1/1 [00:00<00:00,  6.38it/s]it/s]\n",
      "100%|██████████| 1/1 [00:00<00:00, 10.43it/s]\n",
      "100%|██████████| 1/1 [00:00<00:00,  7.43it/s]it/s]\n",
      "100%|██████████| 1/1 [00:00<00:00, 19.16it/s]it/s]\n",
      "100%|██████████| 1/1 [00:00<00:00,  7.99it/s]\n",
      "100%|██████████| 1/1 [00:00<00:00, 12.86it/s]it/s]\n",
      "100%|██████████| 1/1 [00:00<00:00, 10.44it/s]\n",
      "100%|██████████| 1/1 [00:00<00:00,  4.70it/s]it/s]\n",
      "100%|██████████| 1/1 [00:00<00:00,  4.69it/s]it/s]\n",
      "100%|██████████| 1/1 [00:00<00:00,  6.85it/s]it/s]\n",
      "100%|██████████| 1/1 [00:00<00:00, 14.39it/s]it/s]\n",
      "100%|██████████| 1/1 [00:00<00:00,  6.35it/s]\n",
      "100%|██████████| 1/1 [00:00<00:00, 14.47it/s]it/s]\n",
      "100%|██████████| 1/1 [00:00<00:00,  4.80it/s]\n",
      "100%|██████████| 1/1 [00:00<00:00,  6.37it/s]it/s]\n",
      "100%|██████████| 1/1 [00:00<00:00,  6.36it/s]it/s]\n",
      "100%|██████████| 1/1 [00:00<00:00,  5.67it/s]it/s]\n",
      "100%|██████████| 1/1 [00:00<00:00,  5.51it/s]it/s]\n",
      "100%|██████████| 1/1 [00:00<00:00, 10.43it/s]it/s]\n",
      " 50%|█████     | 501/1000 [01:04<01:14,  6.72it/s]"
     ]
    },
    {
     "name": "stdout",
     "output_type": "stream",
     "text": [
      "Current Hit Rate Sum at index 500: 365\n",
      "Current wrongly answered questions at index 500: [4, 5, 7, 9, 14, 24, 26, 27, 28, 29, 35, 37, 42, 43, 44, 45, 51, 52, 57, 58, 65, 68, 70, 71, 77, 80, 96, 97, 100, 101, 105, 108, 109, 111, 115, 118, 121, 122, 123, 125, 126, 131, 139, 143, 144, 145, 146, 147, 148, 151, 152, 153, 154, 156, 158, 159, 160, 161, 163, 165, 175, 176, 177, 178, 179, 180, 186, 193, 194, 195, 198, 204, 206, 225, 226, 229, 230, 237, 238, 240, 243, 245, 256, 257, 258, 267, 268, 271, 276, 292, 303, 306, 307, 314, 318, 322, 323, 324, 334, 337, 348, 349, 352, 354, 355, 361, 362, 363, 367, 373, 381, 386, 395, 397, 399, 400, 410, 411, 420, 421, 438, 443, 444, 449, 458, 460, 461, 463, 464, 475, 482, 485, 491, 498, 499, 500]\n"
     ]
    },
    {
     "name": "stderr",
     "output_type": "stream",
     "text": [
      "100%|██████████| 1/1 [00:00<00:00, 12.89it/s]\n",
      "100%|██████████| 1/1 [00:00<00:00, 10.91it/s]\n",
      "100%|██████████| 1/1 [00:00<00:00, 15.80it/s]it/s]\n",
      "100%|██████████| 1/1 [00:00<00:00, 10.52it/s]\n",
      "100%|██████████| 1/1 [00:00<00:00,  4.44it/s]it/s]\n",
      "100%|██████████| 1/1 [00:00<00:00, 12.79it/s]it/s]\n",
      "100%|██████████| 1/1 [00:00<00:00, 12.42it/s]\n",
      "100%|██████████| 1/1 [00:00<00:00, 14.47it/s]it/s]\n",
      "100%|██████████| 1/1 [00:00<00:00,  4.41it/s]\n",
      "100%|██████████| 1/1 [00:00<00:00, 10.55it/s]it/s]\n",
      "100%|██████████| 1/1 [00:00<00:00,  8.06it/s]it/s]\n",
      "100%|██████████| 1/1 [00:00<00:00, 10.81it/s]it/s]\n",
      "100%|██████████| 1/1 [00:00<00:00,  7.43it/s]\n",
      "100%|██████████| 1/1 [00:00<00:00,  6.91it/s]it/s]\n",
      "100%|██████████| 1/1 [00:00<00:00, 10.95it/s]it/s]\n",
      "100%|██████████| 1/1 [00:00<00:00, 12.02it/s]\n",
      "100%|██████████| 1/1 [00:00<00:00, 15.74it/s]it/s]\n",
      "100%|██████████| 1/1 [00:00<00:00, 10.91it/s]\n",
      "100%|██████████| 1/1 [00:00<00:00, 18.26it/s]it/s]\n",
      "100%|██████████| 1/1 [00:00<00:00, 13.06it/s]\n",
      " 52%|█████▏    | 521/1000 [01:06<00:44, 10.75it/s]"
     ]
    },
    {
     "name": "stdout",
     "output_type": "stream",
     "text": [
      "Current Hit Rate Sum at index 520: 376\n",
      "Current wrongly answered questions at index 520: [4, 5, 7, 9, 14, 24, 26, 27, 28, 29, 35, 37, 42, 43, 44, 45, 51, 52, 57, 58, 65, 68, 70, 71, 77, 80, 96, 97, 100, 101, 105, 108, 109, 111, 115, 118, 121, 122, 123, 125, 126, 131, 139, 143, 144, 145, 146, 147, 148, 151, 152, 153, 154, 156, 158, 159, 160, 161, 163, 165, 175, 176, 177, 178, 179, 180, 186, 193, 194, 195, 198, 204, 206, 225, 226, 229, 230, 237, 238, 240, 243, 245, 256, 257, 258, 267, 268, 271, 276, 292, 303, 306, 307, 314, 318, 322, 323, 324, 334, 337, 348, 349, 352, 354, 355, 361, 362, 363, 367, 373, 381, 386, 395, 397, 399, 400, 410, 411, 420, 421, 438, 443, 444, 449, 458, 460, 461, 463, 464, 475, 482, 485, 491, 498, 499, 500, 502, 503, 504, 506, 507, 508, 514, 517, 518]\n"
     ]
    },
    {
     "name": "stderr",
     "output_type": "stream",
     "text": [
      "100%|██████████| 1/1 [00:00<00:00, 15.12it/s]\n",
      "100%|██████████| 1/1 [00:00<00:00, 16.71it/s]\n",
      "100%|██████████| 1/1 [00:00<00:00, 10.46it/s]it/s]\n",
      "100%|██████████| 1/1 [00:00<00:00,  5.98it/s]\n",
      "100%|██████████| 1/1 [00:00<00:00,  9.09it/s]it/s]\n",
      "100%|██████████| 1/1 [00:00<00:00,  5.77it/s]\n",
      "100%|██████████| 1/1 [00:00<00:00,  6.86it/s]it/s]\n",
      "100%|██████████| 1/1 [00:00<00:00,  6.41it/s]it/s]\n",
      "100%|██████████| 1/1 [00:00<00:00,  6.91it/s]it/s]\n",
      "100%|██████████| 1/1 [00:00<00:00,  6.90it/s]it/s]\n",
      "100%|██████████| 1/1 [00:00<00:00,  6.76it/s]it/s]\n",
      "100%|██████████| 1/1 [00:00<00:00,  6.38it/s]it/s]\n",
      "100%|██████████| 1/1 [00:00<00:00,  8.02it/s]it/s]\n",
      "100%|██████████| 1/1 [00:00<00:00,  7.02it/s]it/s]\n",
      "100%|██████████| 1/1 [00:00<00:00, 10.50it/s]it/s]\n",
      "100%|██████████| 1/1 [00:00<00:00,  6.26it/s]it/s]\n",
      "100%|██████████| 1/1 [00:00<00:00, 10.82it/s]it/s]\n",
      "100%|██████████| 1/1 [00:00<00:00,  8.25it/s]\n",
      "100%|██████████| 1/1 [00:00<00:00,  5.28it/s]it/s]\n",
      "100%|██████████| 1/1 [00:00<00:00, 14.89it/s]it/s]\n"
     ]
    },
    {
     "name": "stdout",
     "output_type": "stream",
     "text": [
      "Current Hit Rate Sum at index 540: 391\n",
      "Current wrongly answered questions at index 540: [4, 5, 7, 9, 14, 24, 26, 27, 28, 29, 35, 37, 42, 43, 44, 45, 51, 52, 57, 58, 65, 68, 70, 71, 77, 80, 96, 97, 100, 101, 105, 108, 109, 111, 115, 118, 121, 122, 123, 125, 126, 131, 139, 143, 144, 145, 146, 147, 148, 151, 152, 153, 154, 156, 158, 159, 160, 161, 163, 165, 175, 176, 177, 178, 179, 180, 186, 193, 194, 195, 198, 204, 206, 225, 226, 229, 230, 237, 238, 240, 243, 245, 256, 257, 258, 267, 268, 271, 276, 292, 303, 306, 307, 314, 318, 322, 323, 324, 334, 337, 348, 349, 352, 354, 355, 361, 362, 363, 367, 373, 381, 386, 395, 397, 399, 400, 410, 411, 420, 421, 438, 443, 444, 449, 458, 460, 461, 463, 464, 475, 482, 485, 491, 498, 499, 500, 502, 503, 504, 506, 507, 508, 514, 517, 518, 525, 527, 529, 539, 540]\n"
     ]
    },
    {
     "name": "stderr",
     "output_type": "stream",
     "text": [
      "100%|██████████| 1/1 [00:00<00:00, 10.51it/s]\n",
      "100%|██████████| 1/1 [00:00<00:00,  6.82it/s]it/s]\n",
      "100%|██████████| 1/1 [00:00<00:00, 10.83it/s]it/s]\n",
      "100%|██████████| 1/1 [00:00<00:00, 12.89it/s]\n",
      "100%|██████████| 1/1 [00:00<00:00, 16.75it/s]it/s]\n",
      "100%|██████████| 1/1 [00:00<00:00,  8.77it/s]\n",
      "100%|██████████| 1/1 [00:00<00:00,  7.03it/s]it/s]\n",
      "100%|██████████| 1/1 [00:00<00:00,  5.55it/s]it/s]\n",
      "100%|██████████| 1/1 [00:00<00:00, 12.56it/s]it/s]\n",
      "100%|██████████| 1/1 [00:00<00:00, 14.57it/s]\n",
      "100%|██████████| 1/1 [00:00<00:00, 11.87it/s]it/s]\n",
      "100%|██████████| 1/1 [00:00<00:00, 15.19it/s]\n",
      "100%|██████████| 1/1 [00:00<00:00, 16.75it/s]it/s]\n",
      "100%|██████████| 1/1 [00:00<00:00, 18.77it/s]\n",
      "100%|██████████| 1/1 [00:00<00:00, 12.86it/s]it/s]\n",
      "100%|██████████| 1/1 [00:00<00:00,  4.62it/s]\n",
      "100%|██████████| 1/1 [00:00<00:00,  4.54it/s]it/s]\n",
      "100%|██████████| 1/1 [00:00<00:00,  4.72it/s]\n",
      "100%|██████████| 1/1 [00:00<00:00,  4.70it/s]it/s]\n",
      "100%|██████████| 1/1 [00:00<00:00,  8.89it/s]it/s]\n",
      " 56%|█████▌    | 561/1000 [01:11<01:06,  6.64it/s]"
     ]
    },
    {
     "name": "stdout",
     "output_type": "stream",
     "text": [
      "Current Hit Rate Sum at index 560: 406\n",
      "Current wrongly answered questions at index 560: [4, 5, 7, 9, 14, 24, 26, 27, 28, 29, 35, 37, 42, 43, 44, 45, 51, 52, 57, 58, 65, 68, 70, 71, 77, 80, 96, 97, 100, 101, 105, 108, 109, 111, 115, 118, 121, 122, 123, 125, 126, 131, 139, 143, 144, 145, 146, 147, 148, 151, 152, 153, 154, 156, 158, 159, 160, 161, 163, 165, 175, 176, 177, 178, 179, 180, 186, 193, 194, 195, 198, 204, 206, 225, 226, 229, 230, 237, 238, 240, 243, 245, 256, 257, 258, 267, 268, 271, 276, 292, 303, 306, 307, 314, 318, 322, 323, 324, 334, 337, 348, 349, 352, 354, 355, 361, 362, 363, 367, 373, 381, 386, 395, 397, 399, 400, 410, 411, 420, 421, 438, 443, 444, 449, 458, 460, 461, 463, 464, 475, 482, 485, 491, 498, 499, 500, 502, 503, 504, 506, 507, 508, 514, 517, 518, 525, 527, 529, 539, 540, 551, 552, 553, 554, 555]\n"
     ]
    },
    {
     "name": "stderr",
     "output_type": "stream",
     "text": [
      "100%|██████████| 1/1 [00:00<00:00,  5.61it/s]\n",
      "100%|██████████| 1/1 [00:00<00:00,  5.49it/s]it/s]\n",
      "100%|██████████| 1/1 [00:00<00:00,  4.55it/s]it/s]\n",
      "100%|██████████| 1/1 [00:00<00:00, 14.56it/s]it/s]\n",
      "100%|██████████| 1/1 [00:00<00:00,  7.90it/s]\n",
      "100%|██████████| 1/1 [00:00<00:00, 12.79it/s]it/s]\n",
      "100%|██████████| 1/1 [00:00<00:00, 10.98it/s]\n",
      "100%|██████████| 1/1 [00:00<00:00,  7.40it/s]it/s]\n",
      "100%|██████████| 1/1 [00:00<00:00,  5.21it/s]it/s]\n",
      "100%|██████████| 1/1 [00:00<00:00,  8.17it/s]it/s]\n",
      "100%|██████████| 1/1 [00:00<00:00,  8.24it/s]it/s]\n",
      "100%|██████████| 1/1 [00:00<00:00,  5.55it/s]it/s]\n",
      "100%|██████████| 1/1 [00:00<00:00,  4.73it/s]it/s]\n",
      "100%|██████████| 1/1 [00:00<00:00,  8.65it/s]it/s]\n",
      "100%|██████████| 1/1 [00:00<00:00, 10.82it/s]it/s]\n",
      "100%|██████████| 1/1 [00:00<00:00,  5.98it/s]\n",
      "100%|██████████| 1/1 [00:00<00:00,  5.82it/s]it/s]\n",
      "100%|██████████| 1/1 [00:00<00:00,  7.93it/s]it/s]\n",
      "100%|██████████| 1/1 [00:00<00:00, 14.49it/s]it/s]\n",
      "100%|██████████| 1/1 [00:00<00:00,  4.71it/s]\n",
      " 58%|█████▊    | 581/1000 [01:14<01:01,  6.76it/s]"
     ]
    },
    {
     "name": "stdout",
     "output_type": "stream",
     "text": [
      "Current Hit Rate Sum at index 580: 422\n",
      "Current wrongly answered questions at index 580: [4, 5, 7, 9, 14, 24, 26, 27, 28, 29, 35, 37, 42, 43, 44, 45, 51, 52, 57, 58, 65, 68, 70, 71, 77, 80, 96, 97, 100, 101, 105, 108, 109, 111, 115, 118, 121, 122, 123, 125, 126, 131, 139, 143, 144, 145, 146, 147, 148, 151, 152, 153, 154, 156, 158, 159, 160, 161, 163, 165, 175, 176, 177, 178, 179, 180, 186, 193, 194, 195, 198, 204, 206, 225, 226, 229, 230, 237, 238, 240, 243, 245, 256, 257, 258, 267, 268, 271, 276, 292, 303, 306, 307, 314, 318, 322, 323, 324, 334, 337, 348, 349, 352, 354, 355, 361, 362, 363, 367, 373, 381, 386, 395, 397, 399, 400, 410, 411, 420, 421, 438, 443, 444, 449, 458, 460, 461, 463, 464, 475, 482, 485, 491, 498, 499, 500, 502, 503, 504, 506, 507, 508, 514, 517, 518, 525, 527, 529, 539, 540, 551, 552, 553, 554, 555, 564, 576, 577, 578]\n"
     ]
    },
    {
     "name": "stderr",
     "output_type": "stream",
     "text": [
      "100%|██████████| 1/1 [00:00<00:00,  5.97it/s]\n",
      "100%|██████████| 1/1 [00:00<00:00,  6.75it/s]it/s]\n",
      "100%|██████████| 1/1 [00:00<00:00,  5.84it/s]it/s]\n",
      "100%|██████████| 1/1 [00:00<00:00,  6.78it/s]it/s]\n",
      "100%|██████████| 1/1 [00:00<00:00,  4.49it/s]it/s]\n",
      "100%|██████████| 1/1 [00:00<00:00, 16.18it/s]it/s]\n",
      "100%|██████████| 1/1 [00:00<00:00, 13.47it/s]\n",
      "100%|██████████| 1/1 [00:00<00:00, 12.42it/s]it/s]\n",
      "100%|██████████| 1/1 [00:00<00:00, 14.84it/s]\n",
      "100%|██████████| 1/1 [00:00<00:00, 11.85it/s]it/s]\n",
      "100%|██████████| 1/1 [00:00<00:00,  5.81it/s]\n",
      "100%|██████████| 1/1 [00:00<00:00,  5.70it/s]it/s]\n",
      "100%|██████████| 1/1 [00:00<00:00,  5.69it/s]it/s]\n",
      "100%|██████████| 1/1 [00:00<00:00, 17.86it/s]it/s]\n",
      "100%|██████████| 1/1 [00:00<00:00,  5.81it/s]\n",
      "100%|██████████| 1/1 [00:00<00:00,  5.75it/s]it/s]\n",
      "100%|██████████| 1/1 [00:00<00:00,  6.33it/s]it/s]\n",
      "100%|██████████| 1/1 [00:00<00:00,  6.88it/s]it/s]\n",
      "100%|██████████| 1/1 [00:00<00:00,  5.23it/s]it/s]\n",
      "100%|██████████| 1/1 [00:00<00:00, 14.45it/s]it/s]\n"
     ]
    },
    {
     "name": "stdout",
     "output_type": "stream",
     "text": [
      "Current Hit Rate Sum at index 600: 432\n",
      "Current wrongly answered questions at index 600: [4, 5, 7, 9, 14, 24, 26, 27, 28, 29, 35, 37, 42, 43, 44, 45, 51, 52, 57, 58, 65, 68, 70, 71, 77, 80, 96, 97, 100, 101, 105, 108, 109, 111, 115, 118, 121, 122, 123, 125, 126, 131, 139, 143, 144, 145, 146, 147, 148, 151, 152, 153, 154, 156, 158, 159, 160, 161, 163, 165, 175, 176, 177, 178, 179, 180, 186, 193, 194, 195, 198, 204, 206, 225, 226, 229, 230, 237, 238, 240, 243, 245, 256, 257, 258, 267, 268, 271, 276, 292, 303, 306, 307, 314, 318, 322, 323, 324, 334, 337, 348, 349, 352, 354, 355, 361, 362, 363, 367, 373, 381, 386, 395, 397, 399, 400, 410, 411, 420, 421, 438, 443, 444, 449, 458, 460, 461, 463, 464, 475, 482, 485, 491, 498, 499, 500, 502, 503, 504, 506, 507, 508, 514, 517, 518, 525, 527, 529, 539, 540, 551, 552, 553, 554, 555, 564, 576, 577, 578, 585, 587, 588, 589, 592, 593, 594, 598, 599, 600]\n"
     ]
    },
    {
     "name": "stderr",
     "output_type": "stream",
     "text": [
      "100%|██████████| 1/1 [00:00<00:00, 10.45it/s]\n",
      "100%|██████████| 1/1 [00:00<00:00, 11.93it/s]it/s]\n",
      "100%|██████████| 1/1 [00:00<00:00, 10.85it/s]\n",
      "100%|██████████| 1/1 [00:00<00:00, 10.21it/s]it/s]\n",
      "100%|██████████| 1/1 [00:00<00:00, 12.77it/s]it/s]\n",
      "100%|██████████| 1/1 [00:00<00:00, 10.59it/s]\n",
      "100%|██████████| 1/1 [00:00<00:00,  8.90it/s]it/s]\n",
      "100%|██████████| 1/1 [00:00<00:00, 10.50it/s]it/s]\n",
      "100%|██████████| 1/1 [00:00<00:00,  8.31it/s]it/s]\n",
      "100%|██████████| 1/1 [00:00<00:00,  8.85it/s]it/s]\n",
      "100%|██████████| 1/1 [00:00<00:00, 11.45it/s]it/s]\n",
      "100%|██████████| 1/1 [00:00<00:00,  7.41it/s]\n",
      "100%|██████████| 1/1 [00:00<00:00, 18.04it/s]it/s]\n",
      "100%|██████████| 1/1 [00:00<00:00,  4.71it/s]\n",
      "100%|██████████| 1/1 [00:00<00:00,  4.68it/s]it/s]\n",
      "100%|██████████| 1/1 [00:00<00:00, 11.95it/s]it/s]\n",
      "100%|██████████| 1/1 [00:00<00:00, 18.29it/s]\n",
      "100%|██████████| 1/1 [00:00<00:00,  5.69it/s]it/s]\n",
      "100%|██████████| 1/1 [00:00<00:00, 10.75it/s]it/s]\n",
      "100%|██████████| 1/1 [00:00<00:00, 10.91it/s]it/s]\n"
     ]
    },
    {
     "name": "stdout",
     "output_type": "stream",
     "text": [
      "Current Hit Rate Sum at index 620: 444\n",
      "Current wrongly answered questions at index 620: [4, 5, 7, 9, 14, 24, 26, 27, 28, 29, 35, 37, 42, 43, 44, 45, 51, 52, 57, 58, 65, 68, 70, 71, 77, 80, 96, 97, 100, 101, 105, 108, 109, 111, 115, 118, 121, 122, 123, 125, 126, 131, 139, 143, 144, 145, 146, 147, 148, 151, 152, 153, 154, 156, 158, 159, 160, 161, 163, 165, 175, 176, 177, 178, 179, 180, 186, 193, 194, 195, 198, 204, 206, 225, 226, 229, 230, 237, 238, 240, 243, 245, 256, 257, 258, 267, 268, 271, 276, 292, 303, 306, 307, 314, 318, 322, 323, 324, 334, 337, 348, 349, 352, 354, 355, 361, 362, 363, 367, 373, 381, 386, 395, 397, 399, 400, 410, 411, 420, 421, 438, 443, 444, 449, 458, 460, 461, 463, 464, 475, 482, 485, 491, 498, 499, 500, 502, 503, 504, 506, 507, 508, 514, 517, 518, 525, 527, 529, 539, 540, 551, 552, 553, 554, 555, 564, 576, 577, 578, 585, 587, 588, 589, 592, 593, 594, 598, 599, 600, 605, 609, 612, 613, 616, 617, 619, 620]\n"
     ]
    },
    {
     "name": "stderr",
     "output_type": "stream",
     "text": [
      "100%|██████████| 1/1 [00:00<00:00, 18.09it/s]\n",
      "100%|██████████| 1/1 [00:00<00:00, 16.53it/s]it/s]\n",
      "100%|██████████| 1/1 [00:00<00:00,  6.87it/s]\n",
      "100%|██████████| 1/1 [00:00<00:00, 11.31it/s]it/s]\n",
      "100%|██████████| 1/1 [00:00<00:00, 12.77it/s]\n",
      "100%|██████████| 1/1 [00:00<00:00,  8.60it/s]it/s]\n",
      "100%|██████████| 1/1 [00:00<00:00, 11.87it/s]it/s]\n",
      "100%|██████████| 1/1 [00:00<00:00, 16.22it/s]\n",
      "100%|██████████| 1/1 [00:00<00:00,  5.68it/s]it/s]\n",
      "100%|██████████| 1/1 [00:00<00:00,  5.63it/s]it/s]\n",
      "100%|██████████| 1/1 [00:00<00:00,  3.70it/s]it/s]\n",
      "100%|██████████| 1/1 [00:00<00:00,  6.99it/s]it/s]\n",
      "100%|██████████| 1/1 [00:00<00:00,  8.29it/s]it/s]\n",
      "100%|██████████| 1/1 [00:00<00:00,  8.01it/s]it/s]\n",
      "100%|██████████| 1/1 [00:00<00:00, 19.05it/s]it/s]\n",
      "100%|██████████| 1/1 [00:00<00:00, 16.03it/s]\n",
      "100%|██████████| 1/1 [00:00<00:00,  8.63it/s]it/s]\n",
      "100%|██████████| 1/1 [00:00<00:00,  8.22it/s]it/s]\n",
      "100%|██████████| 1/1 [00:00<00:00,  8.39it/s]it/s]\n",
      "100%|██████████| 1/1 [00:00<00:00,  8.38it/s]it/s]\n",
      " 64%|██████▍   | 641/1000 [01:22<00:43,  8.24it/s]"
     ]
    },
    {
     "name": "stdout",
     "output_type": "stream",
     "text": [
      "Current Hit Rate Sum at index 640: 458\n",
      "Current wrongly answered questions at index 640: [4, 5, 7, 9, 14, 24, 26, 27, 28, 29, 35, 37, 42, 43, 44, 45, 51, 52, 57, 58, 65, 68, 70, 71, 77, 80, 96, 97, 100, 101, 105, 108, 109, 111, 115, 118, 121, 122, 123, 125, 126, 131, 139, 143, 144, 145, 146, 147, 148, 151, 152, 153, 154, 156, 158, 159, 160, 161, 163, 165, 175, 176, 177, 178, 179, 180, 186, 193, 194, 195, 198, 204, 206, 225, 226, 229, 230, 237, 238, 240, 243, 245, 256, 257, 258, 267, 268, 271, 276, 292, 303, 306, 307, 314, 318, 322, 323, 324, 334, 337, 348, 349, 352, 354, 355, 361, 362, 363, 367, 373, 381, 386, 395, 397, 399, 400, 410, 411, 420, 421, 438, 443, 444, 449, 458, 460, 461, 463, 464, 475, 482, 485, 491, 498, 499, 500, 502, 503, 504, 506, 507, 508, 514, 517, 518, 525, 527, 529, 539, 540, 551, 552, 553, 554, 555, 564, 576, 577, 578, 585, 587, 588, 589, 592, 593, 594, 598, 599, 600, 605, 609, 612, 613, 616, 617, 619, 620, 621, 629, 630, 632, 633, 635]\n"
     ]
    },
    {
     "name": "stderr",
     "output_type": "stream",
     "text": [
      "100%|██████████| 1/1 [00:00<00:00, 12.82it/s]\n",
      "100%|██████████| 1/1 [00:00<00:00,  8.35it/s]\n",
      "100%|██████████| 1/1 [00:00<00:00, 11.41it/s]it/s]\n",
      "100%|██████████| 1/1 [00:00<00:00, 18.45it/s]\n",
      "100%|██████████| 1/1 [00:00<00:00, 17.01it/s]it/s]\n",
      "100%|██████████| 1/1 [00:00<00:00,  6.72it/s]\n",
      "100%|██████████| 1/1 [00:00<00:00,  5.33it/s]it/s]\n",
      "100%|██████████| 1/1 [00:00<00:00,  8.42it/s]it/s]\n",
      "100%|██████████| 1/1 [00:00<00:00,  9.14it/s]it/s]\n",
      "100%|██████████| 1/1 [00:00<00:00, 11.26it/s]it/s]\n",
      "100%|██████████| 1/1 [00:00<00:00, 15.41it/s]\n",
      "100%|██████████| 1/1 [00:00<00:00, 11.00it/s]it/s]\n",
      "100%|██████████| 1/1 [00:00<00:00, 10.60it/s]\n",
      "100%|██████████| 1/1 [00:00<00:00, 19.43it/s]it/s]\n",
      "100%|██████████| 1/1 [00:00<00:00, 13.18it/s]\n",
      "100%|██████████| 1/1 [00:00<00:00, 10.96it/s]it/s]\n",
      "100%|██████████| 1/1 [00:00<00:00,  8.95it/s]\n",
      "100%|██████████| 1/1 [00:00<00:00, 15.93it/s]it/s]\n",
      "100%|██████████| 1/1 [00:00<00:00, 15.98it/s]\n",
      "100%|██████████| 1/1 [00:00<00:00, 11.45it/s]it/s]\n"
     ]
    },
    {
     "name": "stdout",
     "output_type": "stream",
     "text": [
      "Current Hit Rate Sum at index 660: 470\n",
      "Current wrongly answered questions at index 660: [4, 5, 7, 9, 14, 24, 26, 27, 28, 29, 35, 37, 42, 43, 44, 45, 51, 52, 57, 58, 65, 68, 70, 71, 77, 80, 96, 97, 100, 101, 105, 108, 109, 111, 115, 118, 121, 122, 123, 125, 126, 131, 139, 143, 144, 145, 146, 147, 148, 151, 152, 153, 154, 156, 158, 159, 160, 161, 163, 165, 175, 176, 177, 178, 179, 180, 186, 193, 194, 195, 198, 204, 206, 225, 226, 229, 230, 237, 238, 240, 243, 245, 256, 257, 258, 267, 268, 271, 276, 292, 303, 306, 307, 314, 318, 322, 323, 324, 334, 337, 348, 349, 352, 354, 355, 361, 362, 363, 367, 373, 381, 386, 395, 397, 399, 400, 410, 411, 420, 421, 438, 443, 444, 449, 458, 460, 461, 463, 464, 475, 482, 485, 491, 498, 499, 500, 502, 503, 504, 506, 507, 508, 514, 517, 518, 525, 527, 529, 539, 540, 551, 552, 553, 554, 555, 564, 576, 577, 578, 585, 587, 588, 589, 592, 593, 594, 598, 599, 600, 605, 609, 612, 613, 616, 617, 619, 620, 621, 629, 630, 632, 633, 635, 641, 642, 644, 647, 654, 656, 657, 659]\n"
     ]
    },
    {
     "name": "stderr",
     "output_type": "stream",
     "text": [
      "100%|██████████| 1/1 [00:00<00:00, 10.83it/s]\n",
      "100%|██████████| 1/1 [00:00<00:00,  4.43it/s]it/s]\n",
      "100%|██████████| 1/1 [00:00<00:00, 16.60it/s]\n",
      "100%|██████████| 1/1 [00:00<00:00,  4.43it/s]it/s]\n",
      "100%|██████████| 1/1 [00:00<00:00,  7.36it/s]it/s]\n",
      "100%|██████████| 1/1 [00:00<00:00,  4.41it/s]it/s]\n",
      "100%|██████████| 1/1 [00:00<00:00,  5.69it/s]it/s]\n",
      "100%|██████████| 1/1 [00:00<00:00,  7.36it/s]it/s]\n",
      "100%|██████████| 1/1 [00:00<00:00, 11.07it/s]it/s]\n",
      "100%|██████████| 1/1 [00:00<00:00, 14.12it/s]\n",
      "100%|██████████| 1/1 [00:00<00:00,  6.77it/s]it/s]\n",
      "100%|██████████| 1/1 [00:00<00:00,  4.43it/s]it/s]\n",
      "100%|██████████| 1/1 [00:00<00:00, 12.87it/s]it/s]\n",
      "100%|██████████| 1/1 [00:00<00:00,  4.44it/s]\n",
      "100%|██████████| 1/1 [00:00<00:00, 16.85it/s]it/s]\n",
      "100%|██████████| 1/1 [00:00<00:00, 17.39it/s]\n",
      "100%|██████████| 1/1 [00:00<00:00, 12.05it/s]it/s]\n",
      "100%|██████████| 1/1 [00:00<00:00,  8.88it/s]\n",
      "100%|██████████| 1/1 [00:00<00:00, 15.74it/s]it/s]\n",
      "100%|██████████| 1/1 [00:00<00:00, 15.37it/s]\n",
      " 68%|██████▊   | 681/1000 [01:27<00:32,  9.88it/s]"
     ]
    },
    {
     "name": "stdout",
     "output_type": "stream",
     "text": [
      "Current Hit Rate Sum at index 680: 482\n",
      "Current wrongly answered questions at index 680: [4, 5, 7, 9, 14, 24, 26, 27, 28, 29, 35, 37, 42, 43, 44, 45, 51, 52, 57, 58, 65, 68, 70, 71, 77, 80, 96, 97, 100, 101, 105, 108, 109, 111, 115, 118, 121, 122, 123, 125, 126, 131, 139, 143, 144, 145, 146, 147, 148, 151, 152, 153, 154, 156, 158, 159, 160, 161, 163, 165, 175, 176, 177, 178, 179, 180, 186, 193, 194, 195, 198, 204, 206, 225, 226, 229, 230, 237, 238, 240, 243, 245, 256, 257, 258, 267, 268, 271, 276, 292, 303, 306, 307, 314, 318, 322, 323, 324, 334, 337, 348, 349, 352, 354, 355, 361, 362, 363, 367, 373, 381, 386, 395, 397, 399, 400, 410, 411, 420, 421, 438, 443, 444, 449, 458, 460, 461, 463, 464, 475, 482, 485, 491, 498, 499, 500, 502, 503, 504, 506, 507, 508, 514, 517, 518, 525, 527, 529, 539, 540, 551, 552, 553, 554, 555, 564, 576, 577, 578, 585, 587, 588, 589, 592, 593, 594, 598, 599, 600, 605, 609, 612, 613, 616, 617, 619, 620, 621, 629, 630, 632, 633, 635, 641, 642, 644, 647, 654, 656, 657, 659, 661, 663, 667, 671, 675, 676, 679, 680]\n"
     ]
    },
    {
     "name": "stderr",
     "output_type": "stream",
     "text": [
      "100%|██████████| 1/1 [00:00<00:00,  5.68it/s]\n",
      "100%|██████████| 1/1 [00:00<00:00,  7.02it/s]\n",
      "100%|██████████| 1/1 [00:00<00:00,  6.90it/s]it/s]\n",
      "100%|██████████| 1/1 [00:00<00:00,  8.35it/s]it/s]\n",
      "100%|██████████| 1/1 [00:00<00:00,  9.14it/s]it/s]\n",
      "100%|██████████| 1/1 [00:00<00:00,  5.85it/s]it/s]\n",
      "100%|██████████| 1/1 [00:00<00:00, 19.31it/s]it/s]\n",
      "100%|██████████| 1/1 [00:00<00:00, 10.64it/s]\n",
      "100%|██████████| 1/1 [00:00<00:00,  8.95it/s]it/s]\n",
      "100%|██████████| 1/1 [00:00<00:00, 18.27it/s]it/s]\n",
      "100%|██████████| 1/1 [00:00<00:00, 10.93it/s]\n",
      "100%|██████████| 1/1 [00:00<00:00,  5.52it/s]it/s]\n",
      "100%|██████████| 1/1 [00:00<00:00,  5.83it/s]\n",
      "100%|██████████| 1/1 [00:00<00:00,  4.40it/s]it/s]\n",
      "100%|██████████| 1/1 [00:00<00:00,  4.40it/s]it/s]\n",
      "100%|██████████| 1/1 [00:00<00:00, 14.54it/s]it/s]\n",
      "100%|██████████| 1/1 [00:00<00:00,  4.45it/s]\n",
      "100%|██████████| 1/1 [00:00<00:00,  7.32it/s]it/s]\n",
      "100%|██████████| 1/1 [00:00<00:00,  4.71it/s]it/s]\n",
      "100%|██████████| 1/1 [00:00<00:00,  4.36it/s]it/s]\n",
      " 70%|███████   | 701/1000 [01:30<00:56,  5.28it/s]"
     ]
    },
    {
     "name": "stdout",
     "output_type": "stream",
     "text": [
      "Current Hit Rate Sum at index 700: 491\n",
      "Current wrongly answered questions at index 700: [4, 5, 7, 9, 14, 24, 26, 27, 28, 29, 35, 37, 42, 43, 44, 45, 51, 52, 57, 58, 65, 68, 70, 71, 77, 80, 96, 97, 100, 101, 105, 108, 109, 111, 115, 118, 121, 122, 123, 125, 126, 131, 139, 143, 144, 145, 146, 147, 148, 151, 152, 153, 154, 156, 158, 159, 160, 161, 163, 165, 175, 176, 177, 178, 179, 180, 186, 193, 194, 195, 198, 204, 206, 225, 226, 229, 230, 237, 238, 240, 243, 245, 256, 257, 258, 267, 268, 271, 276, 292, 303, 306, 307, 314, 318, 322, 323, 324, 334, 337, 348, 349, 352, 354, 355, 361, 362, 363, 367, 373, 381, 386, 395, 397, 399, 400, 410, 411, 420, 421, 438, 443, 444, 449, 458, 460, 461, 463, 464, 475, 482, 485, 491, 498, 499, 500, 502, 503, 504, 506, 507, 508, 514, 517, 518, 525, 527, 529, 539, 540, 551, 552, 553, 554, 555, 564, 576, 577, 578, 585, 587, 588, 589, 592, 593, 594, 598, 599, 600, 605, 609, 612, 613, 616, 617, 619, 620, 621, 629, 630, 632, 633, 635, 641, 642, 644, 647, 654, 656, 657, 659, 661, 663, 667, 671, 675, 676, 679, 680, 683, 686, 687, 689, 690, 692, 694, 695, 696, 697, 700]\n"
     ]
    },
    {
     "name": "stderr",
     "output_type": "stream",
     "text": [
      "100%|██████████| 1/1 [00:00<00:00,  5.78it/s]\n",
      "100%|██████████| 1/1 [00:00<00:00, 12.95it/s]it/s]\n",
      "100%|██████████| 1/1 [00:00<00:00,  3.48it/s]\n",
      "100%|██████████| 1/1 [00:00<00:00, 18.01it/s]it/s]\n",
      "100%|██████████| 1/1 [00:00<00:00, 17.24it/s]\n",
      "100%|██████████| 1/1 [00:00<00:00, 15.47it/s]it/s]\n",
      "100%|██████████| 1/1 [00:00<00:00,  9.07it/s]\n",
      "100%|██████████| 1/1 [00:00<00:00, 15.10it/s]it/s]\n",
      "100%|██████████| 1/1 [00:00<00:00,  9.01it/s]\n",
      "100%|██████████| 1/1 [00:00<00:00, 13.09it/s]it/s]\n",
      "100%|██████████| 1/1 [00:00<00:00, 14.61it/s]\n",
      "100%|██████████| 1/1 [00:00<00:00, 12.44it/s]it/s]\n",
      "100%|██████████| 1/1 [00:00<00:00, 13.11it/s]\n",
      "100%|██████████| 1/1 [00:00<00:00,  7.90it/s]it/s]\n",
      "100%|██████████| 1/1 [00:00<00:00,  7.88it/s]\n",
      "100%|██████████| 1/1 [00:00<00:00, 16.92it/s]it/s]\n",
      "100%|██████████| 1/1 [00:00<00:00,  6.82it/s]\n",
      "100%|██████████| 1/1 [00:00<00:00,  5.60it/s]it/s]\n",
      "100%|██████████| 1/1 [00:00<00:00,  5.69it/s]it/s]\n",
      "100%|██████████| 1/1 [00:00<00:00,  5.62it/s]it/s]\n",
      " 72%|███████▏  | 721/1000 [01:32<00:40,  6.85it/s]"
     ]
    },
    {
     "name": "stdout",
     "output_type": "stream",
     "text": [
      "Current Hit Rate Sum at index 720: 507\n",
      "Current wrongly answered questions at index 720: [4, 5, 7, 9, 14, 24, 26, 27, 28, 29, 35, 37, 42, 43, 44, 45, 51, 52, 57, 58, 65, 68, 70, 71, 77, 80, 96, 97, 100, 101, 105, 108, 109, 111, 115, 118, 121, 122, 123, 125, 126, 131, 139, 143, 144, 145, 146, 147, 148, 151, 152, 153, 154, 156, 158, 159, 160, 161, 163, 165, 175, 176, 177, 178, 179, 180, 186, 193, 194, 195, 198, 204, 206, 225, 226, 229, 230, 237, 238, 240, 243, 245, 256, 257, 258, 267, 268, 271, 276, 292, 303, 306, 307, 314, 318, 322, 323, 324, 334, 337, 348, 349, 352, 354, 355, 361, 362, 363, 367, 373, 381, 386, 395, 397, 399, 400, 410, 411, 420, 421, 438, 443, 444, 449, 458, 460, 461, 463, 464, 475, 482, 485, 491, 498, 499, 500, 502, 503, 504, 506, 507, 508, 514, 517, 518, 525, 527, 529, 539, 540, 551, 552, 553, 554, 555, 564, 576, 577, 578, 585, 587, 588, 589, 592, 593, 594, 598, 599, 600, 605, 609, 612, 613, 616, 617, 619, 620, 621, 629, 630, 632, 633, 635, 641, 642, 644, 647, 654, 656, 657, 659, 661, 663, 667, 671, 675, 676, 679, 680, 683, 686, 687, 689, 690, 692, 694, 695, 696, 697, 700, 701, 710, 711, 719]\n"
     ]
    },
    {
     "name": "stderr",
     "output_type": "stream",
     "text": [
      "100%|██████████| 1/1 [00:00<00:00,  4.69it/s]\n",
      "100%|██████████| 1/1 [00:00<00:00,  4.49it/s]it/s]\n",
      "100%|██████████| 1/1 [00:00<00:00,  5.75it/s]it/s]\n",
      "100%|██████████| 1/1 [00:00<00:00,  8.35it/s]it/s]\n",
      "100%|██████████| 1/1 [00:00<00:00,  8.73it/s]it/s]\n",
      "100%|██████████| 1/1 [00:00<00:00, 12.42it/s]it/s]\n",
      "100%|██████████| 1/1 [00:00<00:00,  6.48it/s]\n",
      "100%|██████████| 1/1 [00:00<00:00, 13.05it/s]it/s]\n",
      "100%|██████████| 1/1 [00:00<00:00, 12.48it/s]\n",
      "100%|██████████| 1/1 [00:00<00:00, 15.92it/s]it/s]\n",
      "100%|██████████| 1/1 [00:00<00:00,  4.43it/s]\n",
      "100%|██████████| 1/1 [00:00<00:00,  9.78it/s]it/s]\n",
      "100%|██████████| 1/1 [00:00<00:00,  7.41it/s]it/s]\n",
      "100%|██████████| 1/1 [00:00<00:00, 11.89it/s]it/s]\n",
      "100%|██████████| 1/1 [00:00<00:00,  5.24it/s]\n",
      "100%|██████████| 1/1 [00:00<00:00,  6.34it/s]it/s]\n",
      "100%|██████████| 1/1 [00:00<00:00,  5.63it/s]it/s]\n",
      "100%|██████████| 1/1 [00:00<00:00,  5.20it/s]it/s]\n",
      "100%|██████████| 1/1 [00:00<00:00,  5.69it/s]it/s]\n",
      "100%|██████████| 1/1 [00:00<00:00,  5.79it/s]it/s]\n",
      " 74%|███████▍  | 741/1000 [01:35<00:44,  5.85it/s]"
     ]
    },
    {
     "name": "stdout",
     "output_type": "stream",
     "text": [
      "Current Hit Rate Sum at index 740: 519\n",
      "Current wrongly answered questions at index 740: [4, 5, 7, 9, 14, 24, 26, 27, 28, 29, 35, 37, 42, 43, 44, 45, 51, 52, 57, 58, 65, 68, 70, 71, 77, 80, 96, 97, 100, 101, 105, 108, 109, 111, 115, 118, 121, 122, 123, 125, 126, 131, 139, 143, 144, 145, 146, 147, 148, 151, 152, 153, 154, 156, 158, 159, 160, 161, 163, 165, 175, 176, 177, 178, 179, 180, 186, 193, 194, 195, 198, 204, 206, 225, 226, 229, 230, 237, 238, 240, 243, 245, 256, 257, 258, 267, 268, 271, 276, 292, 303, 306, 307, 314, 318, 322, 323, 324, 334, 337, 348, 349, 352, 354, 355, 361, 362, 363, 367, 373, 381, 386, 395, 397, 399, 400, 410, 411, 420, 421, 438, 443, 444, 449, 458, 460, 461, 463, 464, 475, 482, 485, 491, 498, 499, 500, 502, 503, 504, 506, 507, 508, 514, 517, 518, 525, 527, 529, 539, 540, 551, 552, 553, 554, 555, 564, 576, 577, 578, 585, 587, 588, 589, 592, 593, 594, 598, 599, 600, 605, 609, 612, 613, 616, 617, 619, 620, 621, 629, 630, 632, 633, 635, 641, 642, 644, 647, 654, 656, 657, 659, 661, 663, 667, 671, 675, 676, 679, 680, 683, 686, 687, 689, 690, 692, 694, 695, 696, 697, 700, 701, 710, 711, 719, 724, 726, 728, 730, 734, 735, 736, 739]\n"
     ]
    },
    {
     "name": "stderr",
     "output_type": "stream",
     "text": [
      "100%|██████████| 1/1 [00:00<00:00,  5.83it/s]\n",
      "100%|██████████| 1/1 [00:00<00:00, 10.74it/s]it/s]\n",
      "100%|██████████| 1/1 [00:00<00:00,  8.83it/s]\n",
      "100%|██████████| 1/1 [00:00<00:00, 16.81it/s]it/s]\n",
      "100%|██████████| 1/1 [00:00<00:00,  5.81it/s]\n",
      "100%|██████████| 1/1 [00:00<00:00,  4.44it/s]it/s]\n",
      "100%|██████████| 1/1 [00:00<00:00,  4.25it/s]it/s]\n",
      "100%|██████████| 1/1 [00:00<00:00,  4.42it/s]it/s]\n",
      "100%|██████████| 1/1 [00:00<00:00, 15.57it/s]it/s]\n",
      "100%|██████████| 1/1 [00:00<00:00,  8.20it/s]\n",
      "100%|██████████| 1/1 [00:00<00:00,  6.95it/s]it/s]\n",
      "100%|██████████| 1/1 [00:00<00:00,  8.18it/s]it/s]\n",
      "100%|██████████| 1/1 [00:00<00:00, 17.78it/s]it/s]\n",
      "100%|██████████| 1/1 [00:00<00:00,  6.90it/s]\n",
      "100%|██████████| 1/1 [00:00<00:00,  6.76it/s]it/s]\n",
      "100%|██████████| 1/1 [00:00<00:00,  6.75it/s]it/s]\n",
      "100%|██████████| 1/1 [00:00<00:00,  6.77it/s]it/s]\n",
      "100%|██████████| 1/1 [00:00<00:00,  7.00it/s]it/s]\n",
      "100%|██████████| 1/1 [00:00<00:00,  6.44it/s]it/s]\n",
      "100%|██████████| 1/1 [00:00<00:00,  6.90it/s]it/s]\n",
      " 76%|███████▌  | 761/1000 [01:38<00:36,  6.63it/s]"
     ]
    },
    {
     "name": "stdout",
     "output_type": "stream",
     "text": [
      "Current Hit Rate Sum at index 760: 532\n",
      "Current wrongly answered questions at index 760: [4, 5, 7, 9, 14, 24, 26, 27, 28, 29, 35, 37, 42, 43, 44, 45, 51, 52, 57, 58, 65, 68, 70, 71, 77, 80, 96, 97, 100, 101, 105, 108, 109, 111, 115, 118, 121, 122, 123, 125, 126, 131, 139, 143, 144, 145, 146, 147, 148, 151, 152, 153, 154, 156, 158, 159, 160, 161, 163, 165, 175, 176, 177, 178, 179, 180, 186, 193, 194, 195, 198, 204, 206, 225, 226, 229, 230, 237, 238, 240, 243, 245, 256, 257, 258, 267, 268, 271, 276, 292, 303, 306, 307, 314, 318, 322, 323, 324, 334, 337, 348, 349, 352, 354, 355, 361, 362, 363, 367, 373, 381, 386, 395, 397, 399, 400, 410, 411, 420, 421, 438, 443, 444, 449, 458, 460, 461, 463, 464, 475, 482, 485, 491, 498, 499, 500, 502, 503, 504, 506, 507, 508, 514, 517, 518, 525, 527, 529, 539, 540, 551, 552, 553, 554, 555, 564, 576, 577, 578, 585, 587, 588, 589, 592, 593, 594, 598, 599, 600, 605, 609, 612, 613, 616, 617, 619, 620, 621, 629, 630, 632, 633, 635, 641, 642, 644, 647, 654, 656, 657, 659, 661, 663, 667, 671, 675, 676, 679, 680, 683, 686, 687, 689, 690, 692, 694, 695, 696, 697, 700, 701, 710, 711, 719, 724, 726, 728, 730, 734, 735, 736, 739, 742, 743, 745, 749, 753, 755, 756]\n"
     ]
    },
    {
     "name": "stderr",
     "output_type": "stream",
     "text": [
      "100%|██████████| 1/1 [00:00<00:00,  6.98it/s]\n",
      "100%|██████████| 1/1 [00:00<00:00,  6.87it/s]it/s]\n",
      "100%|██████████| 1/1 [00:00<00:00,  5.68it/s]it/s]\n",
      "100%|██████████| 1/1 [00:00<00:00,  6.83it/s]it/s]\n",
      "100%|██████████| 1/1 [00:00<00:00,  6.29it/s]it/s]\n",
      "100%|██████████| 1/1 [00:00<00:00,  5.62it/s]it/s]\n",
      "100%|██████████| 1/1 [00:00<00:00,  5.57it/s]it/s]\n",
      "100%|██████████| 1/1 [00:00<00:00,  5.62it/s]it/s]\n",
      "100%|██████████| 1/1 [00:00<00:00,  4.23it/s]it/s]\n",
      "100%|██████████| 1/1 [00:00<00:00,  4.40it/s]it/s]\n",
      "100%|██████████| 1/1 [00:00<00:00, 11.95it/s]it/s]\n",
      "100%|██████████| 1/1 [00:00<00:00,  6.87it/s]\n",
      "100%|██████████| 1/1 [00:00<00:00, 15.32it/s]it/s]\n",
      "100%|██████████| 1/1 [00:00<00:00,  5.51it/s]\n",
      "100%|██████████| 1/1 [00:00<00:00, 10.55it/s]it/s]\n",
      "100%|██████████| 1/1 [00:00<00:00, 19.10it/s]it/s]\n",
      "100%|██████████| 1/1 [00:00<00:00,  6.90it/s]\n",
      "100%|██████████| 1/1 [00:00<00:00, 12.94it/s]it/s]\n",
      "100%|██████████| 1/1 [00:00<00:00, 10.96it/s]\n",
      "100%|██████████| 1/1 [00:00<00:00,  5.27it/s]it/s]\n",
      " 78%|███████▊  | 781/1000 [01:41<00:28,  7.63it/s]"
     ]
    },
    {
     "name": "stdout",
     "output_type": "stream",
     "text": [
      "Current Hit Rate Sum at index 780: 549\n",
      "Current wrongly answered questions at index 780: [4, 5, 7, 9, 14, 24, 26, 27, 28, 29, 35, 37, 42, 43, 44, 45, 51, 52, 57, 58, 65, 68, 70, 71, 77, 80, 96, 97, 100, 101, 105, 108, 109, 111, 115, 118, 121, 122, 123, 125, 126, 131, 139, 143, 144, 145, 146, 147, 148, 151, 152, 153, 154, 156, 158, 159, 160, 161, 163, 165, 175, 176, 177, 178, 179, 180, 186, 193, 194, 195, 198, 204, 206, 225, 226, 229, 230, 237, 238, 240, 243, 245, 256, 257, 258, 267, 268, 271, 276, 292, 303, 306, 307, 314, 318, 322, 323, 324, 334, 337, 348, 349, 352, 354, 355, 361, 362, 363, 367, 373, 381, 386, 395, 397, 399, 400, 410, 411, 420, 421, 438, 443, 444, 449, 458, 460, 461, 463, 464, 475, 482, 485, 491, 498, 499, 500, 502, 503, 504, 506, 507, 508, 514, 517, 518, 525, 527, 529, 539, 540, 551, 552, 553, 554, 555, 564, 576, 577, 578, 585, 587, 588, 589, 592, 593, 594, 598, 599, 600, 605, 609, 612, 613, 616, 617, 619, 620, 621, 629, 630, 632, 633, 635, 641, 642, 644, 647, 654, 656, 657, 659, 661, 663, 667, 671, 675, 676, 679, 680, 683, 686, 687, 689, 690, 692, 694, 695, 696, 697, 700, 701, 710, 711, 719, 724, 726, 728, 730, 734, 735, 736, 739, 742, 743, 745, 749, 753, 755, 756, 769, 770, 776]\n"
     ]
    },
    {
     "name": "stderr",
     "output_type": "stream",
     "text": [
      "100%|██████████| 1/1 [00:00<00:00, 12.82it/s]\n",
      "100%|██████████| 1/1 [00:00<00:00, 12.81it/s]\n",
      "100%|██████████| 1/1 [00:00<00:00, 11.44it/s]it/s]\n",
      "100%|██████████| 1/1 [00:00<00:00, 13.06it/s]\n",
      "100%|██████████| 1/1 [00:00<00:00, 12.98it/s]it/s]\n",
      "100%|██████████| 1/1 [00:00<00:00,  4.68it/s]\n",
      "100%|██████████| 1/1 [00:00<00:00, 10.41it/s]it/s]\n",
      "100%|██████████| 1/1 [00:00<00:00,  5.29it/s]it/s]\n",
      "100%|██████████| 1/1 [00:00<00:00,  8.25it/s]it/s]\n",
      "100%|██████████| 1/1 [00:00<00:00, 12.00it/s]it/s]\n",
      "100%|██████████| 1/1 [00:00<00:00, 15.86it/s]\n",
      "100%|██████████| 1/1 [00:00<00:00, 16.66it/s]it/s]\n",
      "100%|██████████| 1/1 [00:00<00:00, 17.94it/s]\n",
      "100%|██████████| 1/1 [00:00<00:00,  7.41it/s]it/s]\n",
      "100%|██████████| 1/1 [00:00<00:00, 12.25it/s]\n",
      "100%|██████████| 1/1 [00:00<00:00, 14.20it/s]it/s]\n",
      "100%|██████████| 1/1 [00:00<00:00,  7.37it/s]\n",
      "100%|██████████| 1/1 [00:00<00:00,  7.41it/s]it/s]\n",
      "100%|██████████| 1/1 [00:00<00:00, 14.54it/s]\n",
      "100%|██████████| 1/1 [00:00<00:00, 15.77it/s]it/s]\n"
     ]
    },
    {
     "name": "stdout",
     "output_type": "stream",
     "text": [
      "Current Hit Rate Sum at index 800: 567\n",
      "Current wrongly answered questions at index 800: [4, 5, 7, 9, 14, 24, 26, 27, 28, 29, 35, 37, 42, 43, 44, 45, 51, 52, 57, 58, 65, 68, 70, 71, 77, 80, 96, 97, 100, 101, 105, 108, 109, 111, 115, 118, 121, 122, 123, 125, 126, 131, 139, 143, 144, 145, 146, 147, 148, 151, 152, 153, 154, 156, 158, 159, 160, 161, 163, 165, 175, 176, 177, 178, 179, 180, 186, 193, 194, 195, 198, 204, 206, 225, 226, 229, 230, 237, 238, 240, 243, 245, 256, 257, 258, 267, 268, 271, 276, 292, 303, 306, 307, 314, 318, 322, 323, 324, 334, 337, 348, 349, 352, 354, 355, 361, 362, 363, 367, 373, 381, 386, 395, 397, 399, 400, 410, 411, 420, 421, 438, 443, 444, 449, 458, 460, 461, 463, 464, 475, 482, 485, 491, 498, 499, 500, 502, 503, 504, 506, 507, 508, 514, 517, 518, 525, 527, 529, 539, 540, 551, 552, 553, 554, 555, 564, 576, 577, 578, 585, 587, 588, 589, 592, 593, 594, 598, 599, 600, 605, 609, 612, 613, 616, 617, 619, 620, 621, 629, 630, 632, 633, 635, 641, 642, 644, 647, 654, 656, 657, 659, 661, 663, 667, 671, 675, 676, 679, 680, 683, 686, 687, 689, 690, 692, 694, 695, 696, 697, 700, 701, 710, 711, 719, 724, 726, 728, 730, 734, 735, 736, 739, 742, 743, 745, 749, 753, 755, 756, 769, 770, 776, 792, 793]\n"
     ]
    },
    {
     "name": "stderr",
     "output_type": "stream",
     "text": [
      "100%|██████████| 1/1 [00:00<00:00, 17.40it/s]\n",
      "100%|██████████| 1/1 [00:00<00:00, 15.20it/s]it/s]\n",
      "100%|██████████| 1/1 [00:00<00:00, 15.87it/s]\n",
      "100%|██████████| 1/1 [00:00<00:00,  4.44it/s]it/s]\n",
      "100%|██████████| 1/1 [00:00<00:00,  4.40it/s]\n",
      "100%|██████████| 1/1 [00:00<00:00, 10.57it/s]it/s]\n",
      "100%|██████████| 1/1 [00:00<00:00, 12.32it/s]it/s]\n",
      "100%|██████████| 1/1 [00:00<00:00, 10.55it/s]\n",
      "100%|██████████| 1/1 [00:00<00:00,  6.90it/s]it/s]\n",
      "100%|██████████| 1/1 [00:00<00:00,  7.36it/s]\n",
      "100%|██████████| 1/1 [00:00<00:00,  5.59it/s]it/s]\n",
      "100%|██████████| 1/1 [00:00<00:00, 10.49it/s]it/s]\n",
      "100%|██████████| 1/1 [00:00<00:00,  6.88it/s]it/s]\n",
      "100%|██████████| 1/1 [00:00<00:00,  6.90it/s]it/s]\n",
      "100%|██████████| 1/1 [00:00<00:00,  4.42it/s]it/s]\n",
      "100%|██████████| 1/1 [00:00<00:00, 15.02it/s]it/s]\n",
      "100%|██████████| 1/1 [00:00<00:00,  8.57it/s]\n",
      "100%|██████████| 1/1 [00:00<00:00, 12.87it/s]it/s]\n",
      "100%|██████████| 1/1 [00:00<00:00,  5.79it/s]\n",
      "100%|██████████| 1/1 [00:00<00:00,  6.97it/s]it/s]\n",
      " 82%|████████▏ | 821/1000 [01:46<00:24,  7.26it/s]"
     ]
    },
    {
     "name": "stdout",
     "output_type": "stream",
     "text": [
      "Current Hit Rate Sum at index 820: 581\n",
      "Current wrongly answered questions at index 820: [4, 5, 7, 9, 14, 24, 26, 27, 28, 29, 35, 37, 42, 43, 44, 45, 51, 52, 57, 58, 65, 68, 70, 71, 77, 80, 96, 97, 100, 101, 105, 108, 109, 111, 115, 118, 121, 122, 123, 125, 126, 131, 139, 143, 144, 145, 146, 147, 148, 151, 152, 153, 154, 156, 158, 159, 160, 161, 163, 165, 175, 176, 177, 178, 179, 180, 186, 193, 194, 195, 198, 204, 206, 225, 226, 229, 230, 237, 238, 240, 243, 245, 256, 257, 258, 267, 268, 271, 276, 292, 303, 306, 307, 314, 318, 322, 323, 324, 334, 337, 348, 349, 352, 354, 355, 361, 362, 363, 367, 373, 381, 386, 395, 397, 399, 400, 410, 411, 420, 421, 438, 443, 444, 449, 458, 460, 461, 463, 464, 475, 482, 485, 491, 498, 499, 500, 502, 503, 504, 506, 507, 508, 514, 517, 518, 525, 527, 529, 539, 540, 551, 552, 553, 554, 555, 564, 576, 577, 578, 585, 587, 588, 589, 592, 593, 594, 598, 599, 600, 605, 609, 612, 613, 616, 617, 619, 620, 621, 629, 630, 632, 633, 635, 641, 642, 644, 647, 654, 656, 657, 659, 661, 663, 667, 671, 675, 676, 679, 680, 683, 686, 687, 689, 690, 692, 694, 695, 696, 697, 700, 701, 710, 711, 719, 724, 726, 728, 730, 734, 735, 736, 739, 742, 743, 745, 749, 753, 755, 756, 769, 770, 776, 792, 793, 807, 809, 811, 812, 816, 818]\n"
     ]
    },
    {
     "name": "stderr",
     "output_type": "stream",
     "text": [
      "100%|██████████| 1/1 [00:00<00:00,  5.54it/s]\n",
      "100%|██████████| 1/1 [00:00<00:00,  5.68it/s]it/s]\n",
      "100%|██████████| 1/1 [00:00<00:00,  4.38it/s]it/s]\n",
      "100%|██████████| 1/1 [00:00<00:00,  5.53it/s]it/s]\n",
      "100%|██████████| 1/1 [00:00<00:00, 15.05it/s]it/s]\n",
      "100%|██████████| 1/1 [00:00<00:00,  7.98it/s]\n",
      "100%|██████████| 1/1 [00:00<00:00,  6.43it/s]it/s]\n",
      "100%|██████████| 1/1 [00:00<00:00,  6.79it/s]it/s]\n",
      "100%|██████████| 1/1 [00:00<00:00, 11.86it/s]it/s]\n",
      "100%|██████████| 1/1 [00:00<00:00,  6.85it/s]\n",
      "100%|██████████| 1/1 [00:00<00:00,  5.70it/s]it/s]\n",
      "100%|██████████| 1/1 [00:00<00:00, 14.30it/s]it/s]\n",
      "100%|██████████| 1/1 [00:00<00:00,  4.72it/s]\n",
      "100%|██████████| 1/1 [00:00<00:00, 10.56it/s]it/s]\n",
      "100%|██████████| 1/1 [00:00<00:00, 10.60it/s]it/s]\n",
      "100%|██████████| 1/1 [00:00<00:00, 14.69it/s]it/s]\n",
      "100%|██████████| 1/1 [00:00<00:00, 15.95it/s]\n",
      "100%|██████████| 1/1 [00:00<00:00, 11.24it/s]it/s]\n",
      "100%|██████████| 1/1 [00:00<00:00, 12.45it/s]\n",
      "100%|██████████| 1/1 [00:00<00:00, 16.52it/s]it/s]\n"
     ]
    },
    {
     "name": "stdout",
     "output_type": "stream",
     "text": [
      "Current Hit Rate Sum at index 840: 594\n",
      "Current wrongly answered questions at index 840: [4, 5, 7, 9, 14, 24, 26, 27, 28, 29, 35, 37, 42, 43, 44, 45, 51, 52, 57, 58, 65, 68, 70, 71, 77, 80, 96, 97, 100, 101, 105, 108, 109, 111, 115, 118, 121, 122, 123, 125, 126, 131, 139, 143, 144, 145, 146, 147, 148, 151, 152, 153, 154, 156, 158, 159, 160, 161, 163, 165, 175, 176, 177, 178, 179, 180, 186, 193, 194, 195, 198, 204, 206, 225, 226, 229, 230, 237, 238, 240, 243, 245, 256, 257, 258, 267, 268, 271, 276, 292, 303, 306, 307, 314, 318, 322, 323, 324, 334, 337, 348, 349, 352, 354, 355, 361, 362, 363, 367, 373, 381, 386, 395, 397, 399, 400, 410, 411, 420, 421, 438, 443, 444, 449, 458, 460, 461, 463, 464, 475, 482, 485, 491, 498, 499, 500, 502, 503, 504, 506, 507, 508, 514, 517, 518, 525, 527, 529, 539, 540, 551, 552, 553, 554, 555, 564, 576, 577, 578, 585, 587, 588, 589, 592, 593, 594, 598, 599, 600, 605, 609, 612, 613, 616, 617, 619, 620, 621, 629, 630, 632, 633, 635, 641, 642, 644, 647, 654, 656, 657, 659, 661, 663, 667, 671, 675, 676, 679, 680, 683, 686, 687, 689, 690, 692, 694, 695, 696, 697, 700, 701, 710, 711, 719, 724, 726, 728, 730, 734, 735, 736, 739, 742, 743, 745, 749, 753, 755, 756, 769, 770, 776, 792, 793, 807, 809, 811, 812, 816, 818, 821, 822, 826, 831, 832, 833, 840]\n"
     ]
    },
    {
     "name": "stderr",
     "output_type": "stream",
     "text": [
      "100%|██████████| 1/1 [00:00<00:00, 13.07it/s]\n",
      "100%|██████████| 1/1 [00:00<00:00,  7.02it/s]it/s]\n",
      "100%|██████████| 1/1 [00:00<00:00,  7.33it/s]\n",
      "100%|██████████| 1/1 [00:00<00:00,  9.01it/s]it/s]\n",
      "100%|██████████| 1/1 [00:00<00:00, 10.60it/s]it/s]\n",
      "100%|██████████| 1/1 [00:00<00:00,  8.27it/s]it/s]\n",
      "100%|██████████| 1/1 [00:00<00:00, 15.87it/s]it/s]\n",
      "100%|██████████| 1/1 [00:00<00:00, 12.04it/s]\n",
      "100%|██████████| 1/1 [00:00<00:00, 10.57it/s]it/s]\n",
      "100%|██████████| 1/1 [00:00<00:00,  8.96it/s]\n",
      "100%|██████████| 1/1 [00:00<00:00, 17.37it/s]it/s]\n",
      "100%|██████████| 1/1 [00:00<00:00, 13.10it/s]\n",
      "100%|██████████| 1/1 [00:00<00:00, 13.16it/s]it/s]\n",
      "100%|██████████| 1/1 [00:00<00:00, 10.66it/s]\n",
      "100%|██████████| 1/1 [00:00<00:00, 12.93it/s]it/s]\n",
      "100%|██████████| 1/1 [00:00<00:00, 16.40it/s]\n",
      "100%|██████████| 1/1 [00:00<00:00, 17.34it/s]it/s]\n",
      "100%|██████████| 1/1 [00:00<00:00,  7.38it/s]\n",
      "100%|██████████| 1/1 [00:00<00:00,  7.44it/s]it/s]\n",
      "100%|██████████| 1/1 [00:00<00:00,  7.03it/s]\n",
      " 86%|████████▌ | 861/1000 [01:51<00:15,  9.25it/s]"
     ]
    },
    {
     "name": "stdout",
     "output_type": "stream",
     "text": [
      "Current Hit Rate Sum at index 860: 612\n",
      "Current wrongly answered questions at index 860: [4, 5, 7, 9, 14, 24, 26, 27, 28, 29, 35, 37, 42, 43, 44, 45, 51, 52, 57, 58, 65, 68, 70, 71, 77, 80, 96, 97, 100, 101, 105, 108, 109, 111, 115, 118, 121, 122, 123, 125, 126, 131, 139, 143, 144, 145, 146, 147, 148, 151, 152, 153, 154, 156, 158, 159, 160, 161, 163, 165, 175, 176, 177, 178, 179, 180, 186, 193, 194, 195, 198, 204, 206, 225, 226, 229, 230, 237, 238, 240, 243, 245, 256, 257, 258, 267, 268, 271, 276, 292, 303, 306, 307, 314, 318, 322, 323, 324, 334, 337, 348, 349, 352, 354, 355, 361, 362, 363, 367, 373, 381, 386, 395, 397, 399, 400, 410, 411, 420, 421, 438, 443, 444, 449, 458, 460, 461, 463, 464, 475, 482, 485, 491, 498, 499, 500, 502, 503, 504, 506, 507, 508, 514, 517, 518, 525, 527, 529, 539, 540, 551, 552, 553, 554, 555, 564, 576, 577, 578, 585, 587, 588, 589, 592, 593, 594, 598, 599, 600, 605, 609, 612, 613, 616, 617, 619, 620, 621, 629, 630, 632, 633, 635, 641, 642, 644, 647, 654, 656, 657, 659, 661, 663, 667, 671, 675, 676, 679, 680, 683, 686, 687, 689, 690, 692, 694, 695, 696, 697, 700, 701, 710, 711, 719, 724, 726, 728, 730, 734, 735, 736, 739, 742, 743, 745, 749, 753, 755, 756, 769, 770, 776, 792, 793, 807, 809, 811, 812, 816, 818, 821, 822, 826, 831, 832, 833, 840, 841, 847]\n"
     ]
    },
    {
     "name": "stderr",
     "output_type": "stream",
     "text": [
      "100%|██████████| 1/1 [00:00<00:00, 10.93it/s]\n",
      "100%|██████████| 1/1 [00:00<00:00,  7.43it/s]\n",
      "100%|██████████| 1/1 [00:00<00:00,  7.46it/s]it/s]\n",
      "100%|██████████| 1/1 [00:00<00:00,  7.44it/s]it/s]\n",
      "100%|██████████| 1/1 [00:00<00:00,  7.05it/s]it/s]\n",
      "100%|██████████| 1/1 [00:00<00:00,  8.37it/s]it/s]\n",
      "100%|██████████| 1/1 [00:00<00:00,  5.69it/s]it/s]\n",
      "100%|██████████| 1/1 [00:00<00:00, 15.42it/s]it/s]\n",
      "100%|██████████| 1/1 [00:00<00:00, 16.61it/s]\n",
      "100%|██████████| 1/1 [00:00<00:00,  6.39it/s]it/s]\n",
      "100%|██████████| 1/1 [00:00<00:00, 14.60it/s]it/s]\n",
      "100%|██████████| 1/1 [00:00<00:00,  6.89it/s]\n",
      "100%|██████████| 1/1 [00:00<00:00, 19.42it/s]it/s]\n",
      "100%|██████████| 1/1 [00:00<00:00,  5.63it/s]\n",
      "100%|██████████| 1/1 [00:00<00:00,  5.71it/s]it/s]\n",
      "100%|██████████| 1/1 [00:00<00:00,  7.42it/s]it/s]\n",
      "100%|██████████| 1/1 [00:00<00:00,  7.31it/s]it/s]\n",
      "100%|██████████| 1/1 [00:00<00:00, 17.92it/s]it/s]\n",
      "100%|██████████| 1/1 [00:00<00:00, 18.60it/s]\n",
      "100%|██████████| 1/1 [00:00<00:00,  8.94it/s]it/s]\n"
     ]
    },
    {
     "name": "stdout",
     "output_type": "stream",
     "text": [
      "Current Hit Rate Sum at index 880: 626\n",
      "Current wrongly answered questions at index 880: [4, 5, 7, 9, 14, 24, 26, 27, 28, 29, 35, 37, 42, 43, 44, 45, 51, 52, 57, 58, 65, 68, 70, 71, 77, 80, 96, 97, 100, 101, 105, 108, 109, 111, 115, 118, 121, 122, 123, 125, 126, 131, 139, 143, 144, 145, 146, 147, 148, 151, 152, 153, 154, 156, 158, 159, 160, 161, 163, 165, 175, 176, 177, 178, 179, 180, 186, 193, 194, 195, 198, 204, 206, 225, 226, 229, 230, 237, 238, 240, 243, 245, 256, 257, 258, 267, 268, 271, 276, 292, 303, 306, 307, 314, 318, 322, 323, 324, 334, 337, 348, 349, 352, 354, 355, 361, 362, 363, 367, 373, 381, 386, 395, 397, 399, 400, 410, 411, 420, 421, 438, 443, 444, 449, 458, 460, 461, 463, 464, 475, 482, 485, 491, 498, 499, 500, 502, 503, 504, 506, 507, 508, 514, 517, 518, 525, 527, 529, 539, 540, 551, 552, 553, 554, 555, 564, 576, 577, 578, 585, 587, 588, 589, 592, 593, 594, 598, 599, 600, 605, 609, 612, 613, 616, 617, 619, 620, 621, 629, 630, 632, 633, 635, 641, 642, 644, 647, 654, 656, 657, 659, 661, 663, 667, 671, 675, 676, 679, 680, 683, 686, 687, 689, 690, 692, 694, 695, 696, 697, 700, 701, 710, 711, 719, 724, 726, 728, 730, 734, 735, 736, 739, 742, 743, 745, 749, 753, 755, 756, 769, 770, 776, 792, 793, 807, 809, 811, 812, 816, 818, 821, 822, 826, 831, 832, 833, 840, 841, 847, 868, 870, 872, 873, 874, 876]\n"
     ]
    },
    {
     "name": "stderr",
     "output_type": "stream",
     "text": [
      "100%|██████████| 1/1 [00:00<00:00, 13.10it/s]\n",
      "100%|██████████| 1/1 [00:00<00:00, 17.94it/s]it/s]\n",
      "100%|██████████| 1/1 [00:00<00:00, 16.45it/s]\n",
      "100%|██████████| 1/1 [00:00<00:00,  8.26it/s]it/s]\n",
      "100%|██████████| 1/1 [00:00<00:00,  7.01it/s]\n",
      "100%|██████████| 1/1 [00:00<00:00,  8.23it/s]it/s]\n",
      "100%|██████████| 1/1 [00:00<00:00,  8.67it/s]\n",
      "100%|██████████| 1/1 [00:00<00:00, 10.49it/s]it/s]\n",
      "100%|██████████| 1/1 [00:00<00:00,  8.25it/s]it/s]\n",
      "100%|██████████| 1/1 [00:00<00:00,  7.01it/s]it/s]\n",
      "100%|██████████| 1/1 [00:00<00:00,  8.86it/s]it/s]\n",
      "100%|██████████| 1/1 [00:00<00:00,  7.34it/s]it/s]\n",
      "100%|██████████| 1/1 [00:00<00:00,  8.75it/s]it/s]\n",
      "100%|██████████| 1/1 [00:00<00:00,  5.77it/s]it/s]\n",
      "100%|██████████| 1/1 [00:00<00:00,  8.62it/s]it/s]\n",
      "100%|██████████| 1/1 [00:00<00:00, 11.28it/s]it/s]\n",
      "100%|██████████| 1/1 [00:00<00:00, 12.76it/s]\n",
      "100%|██████████| 1/1 [00:00<00:00, 11.91it/s]it/s]\n",
      "100%|██████████| 1/1 [00:00<00:00,  8.92it/s]\n",
      "100%|██████████| 1/1 [00:00<00:00, 15.49it/s]it/s]\n"
     ]
    },
    {
     "name": "stdout",
     "output_type": "stream",
     "text": [
      "Current Hit Rate Sum at index 900: 644\n",
      "Current wrongly answered questions at index 900: [4, 5, 7, 9, 14, 24, 26, 27, 28, 29, 35, 37, 42, 43, 44, 45, 51, 52, 57, 58, 65, 68, 70, 71, 77, 80, 96, 97, 100, 101, 105, 108, 109, 111, 115, 118, 121, 122, 123, 125, 126, 131, 139, 143, 144, 145, 146, 147, 148, 151, 152, 153, 154, 156, 158, 159, 160, 161, 163, 165, 175, 176, 177, 178, 179, 180, 186, 193, 194, 195, 198, 204, 206, 225, 226, 229, 230, 237, 238, 240, 243, 245, 256, 257, 258, 267, 268, 271, 276, 292, 303, 306, 307, 314, 318, 322, 323, 324, 334, 337, 348, 349, 352, 354, 355, 361, 362, 363, 367, 373, 381, 386, 395, 397, 399, 400, 410, 411, 420, 421, 438, 443, 444, 449, 458, 460, 461, 463, 464, 475, 482, 485, 491, 498, 499, 500, 502, 503, 504, 506, 507, 508, 514, 517, 518, 525, 527, 529, 539, 540, 551, 552, 553, 554, 555, 564, 576, 577, 578, 585, 587, 588, 589, 592, 593, 594, 598, 599, 600, 605, 609, 612, 613, 616, 617, 619, 620, 621, 629, 630, 632, 633, 635, 641, 642, 644, 647, 654, 656, 657, 659, 661, 663, 667, 671, 675, 676, 679, 680, 683, 686, 687, 689, 690, 692, 694, 695, 696, 697, 700, 701, 710, 711, 719, 724, 726, 728, 730, 734, 735, 736, 739, 742, 743, 745, 749, 753, 755, 756, 769, 770, 776, 792, 793, 807, 809, 811, 812, 816, 818, 821, 822, 826, 831, 832, 833, 840, 841, 847, 868, 870, 872, 873, 874, 876, 889, 897]\n"
     ]
    },
    {
     "name": "stderr",
     "output_type": "stream",
     "text": [
      "100%|██████████| 1/1 [00:00<00:00, 16.89it/s]\n",
      "100%|██████████| 1/1 [00:00<00:00, 17.15it/s]it/s]\n",
      "100%|██████████| 1/1 [00:00<00:00,  6.45it/s]\n",
      "100%|██████████| 1/1 [00:00<00:00,  7.03it/s]it/s]\n",
      "100%|██████████| 1/1 [00:00<00:00,  4.40it/s]\n",
      "100%|██████████| 1/1 [00:00<00:00,  8.75it/s]it/s]\n",
      "100%|██████████| 1/1 [00:00<00:00,  7.00it/s]it/s]\n",
      "100%|██████████| 1/1 [00:00<00:00, 14.30it/s]it/s]\n",
      "100%|██████████| 1/1 [00:00<00:00,  5.70it/s]\n",
      "100%|██████████| 1/1 [00:00<00:00,  5.62it/s]it/s]\n",
      "100%|██████████| 1/1 [00:00<00:00, 12.94it/s]it/s]\n",
      "100%|██████████| 1/1 [00:00<00:00,  6.00it/s]\n",
      "100%|██████████| 1/1 [00:00<00:00, 15.02it/s]it/s]\n",
      "100%|██████████| 1/1 [00:00<00:00,  7.93it/s]\n",
      "100%|██████████| 1/1 [00:00<00:00,  6.48it/s]it/s]\n",
      "100%|██████████| 1/1 [00:00<00:00,  8.65it/s]it/s]\n",
      "100%|██████████| 1/1 [00:00<00:00,  7.47it/s]it/s]\n",
      "100%|██████████| 1/1 [00:00<00:00,  4.53it/s]it/s]\n",
      "100%|██████████| 1/1 [00:00<00:00, 10.81it/s]it/s]\n",
      "100%|██████████| 1/1 [00:00<00:00,  5.53it/s]\n",
      " 92%|█████████▏| 921/1000 [01:58<00:11,  6.63it/s]"
     ]
    },
    {
     "name": "stdout",
     "output_type": "stream",
     "text": [
      "Current Hit Rate Sum at index 920: 661\n",
      "Current wrongly answered questions at index 920: [4, 5, 7, 9, 14, 24, 26, 27, 28, 29, 35, 37, 42, 43, 44, 45, 51, 52, 57, 58, 65, 68, 70, 71, 77, 80, 96, 97, 100, 101, 105, 108, 109, 111, 115, 118, 121, 122, 123, 125, 126, 131, 139, 143, 144, 145, 146, 147, 148, 151, 152, 153, 154, 156, 158, 159, 160, 161, 163, 165, 175, 176, 177, 178, 179, 180, 186, 193, 194, 195, 198, 204, 206, 225, 226, 229, 230, 237, 238, 240, 243, 245, 256, 257, 258, 267, 268, 271, 276, 292, 303, 306, 307, 314, 318, 322, 323, 324, 334, 337, 348, 349, 352, 354, 355, 361, 362, 363, 367, 373, 381, 386, 395, 397, 399, 400, 410, 411, 420, 421, 438, 443, 444, 449, 458, 460, 461, 463, 464, 475, 482, 485, 491, 498, 499, 500, 502, 503, 504, 506, 507, 508, 514, 517, 518, 525, 527, 529, 539, 540, 551, 552, 553, 554, 555, 564, 576, 577, 578, 585, 587, 588, 589, 592, 593, 594, 598, 599, 600, 605, 609, 612, 613, 616, 617, 619, 620, 621, 629, 630, 632, 633, 635, 641, 642, 644, 647, 654, 656, 657, 659, 661, 663, 667, 671, 675, 676, 679, 680, 683, 686, 687, 689, 690, 692, 694, 695, 696, 697, 700, 701, 710, 711, 719, 724, 726, 728, 730, 734, 735, 736, 739, 742, 743, 745, 749, 753, 755, 756, 769, 770, 776, 792, 793, 807, 809, 811, 812, 816, 818, 821, 822, 826, 831, 832, 833, 840, 841, 847, 868, 870, 872, 873, 874, 876, 889, 897, 905, 908, 919]\n"
     ]
    },
    {
     "name": "stderr",
     "output_type": "stream",
     "text": [
      "100%|██████████| 1/1 [00:00<00:00,  5.52it/s]\n",
      "100%|██████████| 1/1 [00:00<00:00,  4.35it/s]it/s]\n",
      "100%|██████████| 1/1 [00:00<00:00, 14.75it/s]it/s]\n",
      "100%|██████████| 1/1 [00:00<00:00,  5.55it/s]\n",
      "100%|██████████| 1/1 [00:00<00:00,  5.50it/s]it/s]\n",
      "100%|██████████| 1/1 [00:00<00:00,  5.19it/s]it/s]\n",
      "100%|██████████| 1/1 [00:00<00:00,  4.23it/s]it/s]\n",
      "100%|██████████| 1/1 [00:00<00:00,  6.75it/s]it/s]\n",
      "100%|██████████| 1/1 [00:00<00:00,  4.62it/s]it/s]\n",
      "100%|██████████| 1/1 [00:00<00:00, 10.45it/s]it/s]\n",
      "100%|██████████| 1/1 [00:00<00:00,  5.62it/s]it/s]\n",
      "100%|██████████| 1/1 [00:00<00:00,  8.38it/s]it/s]\n",
      "100%|██████████| 1/1 [00:00<00:00, 15.12it/s]it/s]\n",
      "100%|██████████| 1/1 [00:00<00:00,  8.65it/s]\n",
      "100%|██████████| 1/1 [00:00<00:00, 15.18it/s]it/s]\n",
      "100%|██████████| 1/1 [00:00<00:00,  5.23it/s]\n",
      "100%|██████████| 1/1 [00:00<00:00, 11.46it/s]it/s]\n",
      "100%|██████████| 1/1 [00:00<00:00,  8.66it/s]\n",
      "100%|██████████| 1/1 [00:00<00:00, 18.52it/s]it/s]\n",
      "100%|██████████| 1/1 [00:00<00:00, 10.49it/s]\n",
      " 94%|█████████▍| 941/1000 [02:01<00:06,  9.17it/s]"
     ]
    },
    {
     "name": "stdout",
     "output_type": "stream",
     "text": [
      "Current Hit Rate Sum at index 940: 673\n",
      "Current wrongly answered questions at index 940: [4, 5, 7, 9, 14, 24, 26, 27, 28, 29, 35, 37, 42, 43, 44, 45, 51, 52, 57, 58, 65, 68, 70, 71, 77, 80, 96, 97, 100, 101, 105, 108, 109, 111, 115, 118, 121, 122, 123, 125, 126, 131, 139, 143, 144, 145, 146, 147, 148, 151, 152, 153, 154, 156, 158, 159, 160, 161, 163, 165, 175, 176, 177, 178, 179, 180, 186, 193, 194, 195, 198, 204, 206, 225, 226, 229, 230, 237, 238, 240, 243, 245, 256, 257, 258, 267, 268, 271, 276, 292, 303, 306, 307, 314, 318, 322, 323, 324, 334, 337, 348, 349, 352, 354, 355, 361, 362, 363, 367, 373, 381, 386, 395, 397, 399, 400, 410, 411, 420, 421, 438, 443, 444, 449, 458, 460, 461, 463, 464, 475, 482, 485, 491, 498, 499, 500, 502, 503, 504, 506, 507, 508, 514, 517, 518, 525, 527, 529, 539, 540, 551, 552, 553, 554, 555, 564, 576, 577, 578, 585, 587, 588, 589, 592, 593, 594, 598, 599, 600, 605, 609, 612, 613, 616, 617, 619, 620, 621, 629, 630, 632, 633, 635, 641, 642, 644, 647, 654, 656, 657, 659, 661, 663, 667, 671, 675, 676, 679, 680, 683, 686, 687, 689, 690, 692, 694, 695, 696, 697, 700, 701, 710, 711, 719, 724, 726, 728, 730, 734, 735, 736, 739, 742, 743, 745, 749, 753, 755, 756, 769, 770, 776, 792, 793, 807, 809, 811, 812, 816, 818, 821, 822, 826, 831, 832, 833, 840, 841, 847, 868, 870, 872, 873, 874, 876, 889, 897, 905, 908, 919, 922, 923, 928, 930, 934, 935, 938, 939]\n"
     ]
    },
    {
     "name": "stderr",
     "output_type": "stream",
     "text": [
      "100%|██████████| 1/1 [00:00<00:00,  6.77it/s]\n",
      "100%|██████████| 1/1 [00:00<00:00,  7.95it/s]it/s]\n",
      "100%|██████████| 1/1 [00:00<00:00,  8.24it/s]it/s]\n",
      "100%|██████████| 1/1 [00:00<00:00,  5.24it/s]it/s]\n",
      "100%|██████████| 1/1 [00:00<00:00, 12.47it/s]it/s]\n",
      "100%|██████████| 1/1 [00:00<00:00, 14.34it/s]\n",
      "100%|██████████| 1/1 [00:00<00:00, 13.55it/s]it/s]\n",
      "100%|██████████| 1/1 [00:00<00:00,  4.76it/s]\n",
      "100%|██████████| 1/1 [00:00<00:00,  8.80it/s]it/s]\n",
      "100%|██████████| 1/1 [00:00<00:00,  6.86it/s]it/s]\n",
      "100%|██████████| 1/1 [00:00<00:00, 10.83it/s]it/s]\n",
      "100%|██████████| 1/1 [00:00<00:00,  6.81it/s]\n",
      "100%|██████████| 1/1 [00:00<00:00, 11.22it/s]it/s]\n",
      "100%|██████████| 1/1 [00:00<00:00, 11.90it/s]\n",
      "100%|██████████| 1/1 [00:00<00:00,  8.93it/s]it/s]\n",
      "100%|██████████| 1/1 [00:00<00:00,  8.80it/s]it/s]\n",
      "100%|██████████| 1/1 [00:00<00:00,  5.65it/s]it/s]\n",
      "100%|██████████| 1/1 [00:00<00:00, 12.07it/s]it/s]\n",
      "100%|██████████| 1/1 [00:00<00:00,  8.99it/s]\n",
      "100%|██████████| 1/1 [00:00<00:00, 10.83it/s]it/s]\n"
     ]
    },
    {
     "name": "stdout",
     "output_type": "stream",
     "text": [
      "Current Hit Rate Sum at index 960: 682\n",
      "Current wrongly answered questions at index 960: [4, 5, 7, 9, 14, 24, 26, 27, 28, 29, 35, 37, 42, 43, 44, 45, 51, 52, 57, 58, 65, 68, 70, 71, 77, 80, 96, 97, 100, 101, 105, 108, 109, 111, 115, 118, 121, 122, 123, 125, 126, 131, 139, 143, 144, 145, 146, 147, 148, 151, 152, 153, 154, 156, 158, 159, 160, 161, 163, 165, 175, 176, 177, 178, 179, 180, 186, 193, 194, 195, 198, 204, 206, 225, 226, 229, 230, 237, 238, 240, 243, 245, 256, 257, 258, 267, 268, 271, 276, 292, 303, 306, 307, 314, 318, 322, 323, 324, 334, 337, 348, 349, 352, 354, 355, 361, 362, 363, 367, 373, 381, 386, 395, 397, 399, 400, 410, 411, 420, 421, 438, 443, 444, 449, 458, 460, 461, 463, 464, 475, 482, 485, 491, 498, 499, 500, 502, 503, 504, 506, 507, 508, 514, 517, 518, 525, 527, 529, 539, 540, 551, 552, 553, 554, 555, 564, 576, 577, 578, 585, 587, 588, 589, 592, 593, 594, 598, 599, 600, 605, 609, 612, 613, 616, 617, 619, 620, 621, 629, 630, 632, 633, 635, 641, 642, 644, 647, 654, 656, 657, 659, 661, 663, 667, 671, 675, 676, 679, 680, 683, 686, 687, 689, 690, 692, 694, 695, 696, 697, 700, 701, 710, 711, 719, 724, 726, 728, 730, 734, 735, 736, 739, 742, 743, 745, 749, 753, 755, 756, 769, 770, 776, 792, 793, 807, 809, 811, 812, 816, 818, 821, 822, 826, 831, 832, 833, 840, 841, 847, 868, 870, 872, 873, 874, 876, 889, 897, 905, 908, 919, 922, 923, 928, 930, 934, 935, 938, 939, 941, 944, 945, 946, 950, 951, 953, 955, 958, 959, 960]\n"
     ]
    },
    {
     "name": "stderr",
     "output_type": "stream",
     "text": [
      "100%|██████████| 1/1 [00:00<00:00,  4.73it/s]\n",
      "100%|██████████| 1/1 [00:00<00:00,  8.69it/s]it/s]\n",
      "100%|██████████| 1/1 [00:00<00:00, 11.14it/s]it/s]\n",
      "100%|██████████| 1/1 [00:00<00:00,  4.42it/s]\n",
      "100%|██████████| 1/1 [00:00<00:00,  4.26it/s]it/s]\n",
      "100%|██████████| 1/1 [00:00<00:00,  3.58it/s]it/s]\n",
      "100%|██████████| 1/1 [00:00<00:00,  9.06it/s]it/s]\n",
      "100%|██████████| 1/1 [00:00<00:00,  4.70it/s]it/s]\n",
      "100%|██████████| 1/1 [00:00<00:00, 10.48it/s]it/s]\n",
      "100%|██████████| 1/1 [00:00<00:00,  8.76it/s]it/s]\n",
      "100%|██████████| 1/1 [00:00<00:00,  8.32it/s]it/s]\n",
      "100%|██████████| 1/1 [00:00<00:00,  5.56it/s]it/s]\n",
      "100%|██████████| 1/1 [00:00<00:00,  8.60it/s]it/s]\n",
      "100%|██████████| 1/1 [00:00<00:00,  8.73it/s]it/s]\n",
      "100%|██████████| 1/1 [00:00<00:00,  5.70it/s]it/s]\n",
      "100%|██████████| 1/1 [00:00<00:00, 10.61it/s]it/s]\n",
      "100%|██████████| 1/1 [00:00<00:00, 16.87it/s]it/s]\n",
      "100%|██████████| 1/1 [00:00<00:00,  6.03it/s]\n",
      "100%|██████████| 1/1 [00:00<00:00, 11.00it/s]it/s]\n",
      "100%|██████████| 1/1 [00:00<00:00,  5.85it/s]\n",
      " 98%|█████████▊| 981/1000 [02:07<00:02,  7.61it/s]"
     ]
    },
    {
     "name": "stdout",
     "output_type": "stream",
     "text": [
      "Current Hit Rate Sum at index 980: 697\n",
      "Current wrongly answered questions at index 980: [4, 5, 7, 9, 14, 24, 26, 27, 28, 29, 35, 37, 42, 43, 44, 45, 51, 52, 57, 58, 65, 68, 70, 71, 77, 80, 96, 97, 100, 101, 105, 108, 109, 111, 115, 118, 121, 122, 123, 125, 126, 131, 139, 143, 144, 145, 146, 147, 148, 151, 152, 153, 154, 156, 158, 159, 160, 161, 163, 165, 175, 176, 177, 178, 179, 180, 186, 193, 194, 195, 198, 204, 206, 225, 226, 229, 230, 237, 238, 240, 243, 245, 256, 257, 258, 267, 268, 271, 276, 292, 303, 306, 307, 314, 318, 322, 323, 324, 334, 337, 348, 349, 352, 354, 355, 361, 362, 363, 367, 373, 381, 386, 395, 397, 399, 400, 410, 411, 420, 421, 438, 443, 444, 449, 458, 460, 461, 463, 464, 475, 482, 485, 491, 498, 499, 500, 502, 503, 504, 506, 507, 508, 514, 517, 518, 525, 527, 529, 539, 540, 551, 552, 553, 554, 555, 564, 576, 577, 578, 585, 587, 588, 589, 592, 593, 594, 598, 599, 600, 605, 609, 612, 613, 616, 617, 619, 620, 621, 629, 630, 632, 633, 635, 641, 642, 644, 647, 654, 656, 657, 659, 661, 663, 667, 671, 675, 676, 679, 680, 683, 686, 687, 689, 690, 692, 694, 695, 696, 697, 700, 701, 710, 711, 719, 724, 726, 728, 730, 734, 735, 736, 739, 742, 743, 745, 749, 753, 755, 756, 769, 770, 776, 792, 793, 807, 809, 811, 812, 816, 818, 821, 822, 826, 831, 832, 833, 840, 841, 847, 868, 870, 872, 873, 874, 876, 889, 897, 905, 908, 919, 922, 923, 928, 930, 934, 935, 938, 939, 941, 944, 945, 946, 950, 951, 953, 955, 958, 959, 960, 961, 966, 975, 977, 979]\n"
     ]
    },
    {
     "name": "stderr",
     "output_type": "stream",
     "text": [
      "100%|██████████| 1/1 [00:00<00:00,  4.43it/s]\n",
      "100%|██████████| 1/1 [00:00<00:00, 17.18it/s]it/s]\n",
      "100%|██████████| 1/1 [00:00<00:00, 10.61it/s]\n",
      "100%|██████████| 1/1 [00:00<00:00, 12.99it/s]it/s]\n",
      "100%|██████████| 1/1 [00:00<00:00,  8.96it/s]\n",
      "100%|██████████| 1/1 [00:00<00:00, 11.43it/s]it/s]\n",
      "100%|██████████| 1/1 [00:00<00:00,  7.44it/s]\n",
      "100%|██████████| 1/1 [00:00<00:00, 18.70it/s]it/s]\n",
      "100%|██████████| 1/1 [00:00<00:00, 19.54it/s]\n",
      "100%|██████████| 1/1 [00:00<00:00, 14.61it/s]it/s]\n",
      "100%|██████████| 1/1 [00:00<00:00,  6.86it/s]\n",
      "100%|██████████| 1/1 [00:00<00:00, 17.79it/s]it/s]\n",
      "100%|██████████| 1/1 [00:00<00:00, 15.95it/s]\n",
      "100%|██████████| 1/1 [00:00<00:00, 14.43it/s]it/s]\n",
      "100%|██████████| 1/1 [00:00<00:00, 15.36it/s]\n",
      "100%|██████████| 1/1 [00:00<00:00,  6.77it/s]it/s]\n",
      "100%|██████████| 1/1 [00:00<00:00,  5.62it/s]\n",
      "100%|██████████| 1/1 [00:00<00:00,  6.33it/s]it/s]\n",
      "100%|██████████| 1/1 [00:00<00:00,  6.77it/s]\n",
      "100%|██████████| 1000/1000 [02:09<00:00,  7.74it/s]"
     ]
    },
    {
     "name": "stdout",
     "output_type": "stream",
     "text": [
      "Hit Rate: 70.4\n",
      "Benchmarking Time: 129.61282396316528 seconds\n",
      "Wrongly answered questions: [4, 5, 7, 9, 14, 24, 26, 27, 28, 29, 35, 37, 42, 43, 44, 45, 51, 52, 57, 58, 65, 68, 70, 71, 77, 80, 96, 97, 100, 101, 105, 108, 109, 111, 115, 118, 121, 122, 123, 125, 126, 131, 139, 143, 144, 145, 146, 147, 148, 151, 152, 153, 154, 156, 158, 159, 160, 161, 163, 165, 175, 176, 177, 178, 179, 180, 186, 193, 194, 195, 198, 204, 206, 225, 226, 229, 230, 237, 238, 240, 243, 245, 256, 257, 258, 267, 268, 271, 276, 292, 303, 306, 307, 314, 318, 322, 323, 324, 334, 337, 348, 349, 352, 354, 355, 361, 362, 363, 367, 373, 381, 386, 395, 397, 399, 400, 410, 411, 420, 421, 438, 443, 444, 449, 458, 460, 461, 463, 464, 475, 482, 485, 491, 498, 499, 500, 502, 503, 504, 506, 507, 508, 514, 517, 518, 525, 527, 529, 539, 540, 551, 552, 553, 554, 555, 564, 576, 577, 578, 585, 587, 588, 589, 592, 593, 594, 598, 599, 600, 605, 609, 612, 613, 616, 617, 619, 620, 621, 629, 630, 632, 633, 635, 641, 642, 644, 647, 654, 656, 657, 659, 661, 663, 667, 671, 675, 676, 679, 680, 683, 686, 687, 689, 690, 692, 694, 695, 696, 697, 700, 701, 710, 711, 719, 724, 726, 728, 730, 734, 735, 736, 739, 742, 743, 745, 749, 753, 755, 756, 769, 770, 776, 792, 793, 807, 809, 811, 812, 816, 818, 821, 822, 826, 831, 832, 833, 840, 841, 847, 868, 870, 872, 873, 874, 876, 889, 897, 905, 908, 919, 922, 923, 928, 930, 934, 935, 938, 939, 941, 944, 945, 946, 950, 951, 953, 955, 958, 959, 960, 961, 966, 975, 977, 979, 981, 982, 983, 984, 985, 986, 987, 989, 992, 994, 995, 997]\n",
      "==================================================\n"
     ]
    },
    {
     "name": "stderr",
     "output_type": "stream",
     "text": [
      "\n"
     ]
    }
   ],
   "source": [
    "for k in ks:\n",
    "    for n in ns:\n",
    "        print(f\"BC2 with k={k} n={n}\")\n",
    "        evaluate_benchmark(\n",
    "            content_benchmark,\n",
    "            \"content\",\n",
    "            k,\n",
    "            collection,\n",
    "            retriever,\n",
    "            stemmer,\n",
    "            n=n,\n",
    "            use_rephrased_questions=True,\n",
    "            use_reranker=use_reranker,\n",
    "        )\n",
    "    print(\"=\" * 50)"
   ]
  }
 ],
 "metadata": {
  "kernelspec": {
   "display_name": "summary-neo",
   "language": "python",
   "name": "python3"
  },
  "language_info": {
   "codemirror_mode": {
    "name": "ipython",
    "version": 3
   },
   "file_extension": ".py",
   "mimetype": "text/x-python",
   "name": "python",
   "nbconvert_exporter": "python",
   "pygments_lexer": "ipython3",
   "version": "3.12.2"
  }
 },
 "nbformat": 4,
 "nbformat_minor": 2
}
