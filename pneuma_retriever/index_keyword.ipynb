{
 "cells": [
  {
   "cell_type": "code",
   "execution_count": 1,
   "metadata": {},
   "outputs": [
    {
     "name": "stderr",
     "output_type": "stream",
     "text": [
      "/raid/p-storage/luthfibalaka_d2b65c57/miniconda3/lib/python3.12/site-packages/tqdm/auto.py:21: TqdmWarning: IProgress not found. Please update jupyter and ipywidgets. See https://ipywidgets.readthedocs.io/en/stable/user_install.html\n",
      "  from .autonotebook import tqdm as notebook_tqdm\n"
     ]
    }
   ],
   "source": [
    "import sys\n",
    "import bm25s\n",
    "import Stemmer\n",
    "\n",
    "sys.path.append(\"..\")\n",
    "\n",
    "from benchmark_generator.context.utils.jsonl import read_jsonl"
   ]
  },
  {
   "cell_type": "code",
   "execution_count": 2,
   "metadata": {},
   "outputs": [],
   "source": [
    "stemmer = Stemmer.Stemmer(\"english\")"
   ]
  },
  {
   "cell_type": "code",
   "execution_count": 3,
   "metadata": {},
   "outputs": [],
   "source": [
    "def indexing_keyword(\n",
    "    stemmer,\n",
    "    narration_contents: list[dict[str, str]],\n",
    "    contexts: list[dict[str, str]] = None,\n",
    "):\n",
    "    corpus_json = []\n",
    "    tables = sorted({content[\"table\"] for content in narration_contents})\n",
    "    for table in tables:\n",
    "        cols_descriptions = [content[\"summary\"] for content in narration_contents if content[\"table\"] == table]\n",
    "        for content_idx, content in enumerate(cols_descriptions):\n",
    "            corpus_json.append({\"text\": content, \"metadata\": {\"table\": f\"{table}_SEP_contents_{content_idx}\"}})\n",
    "\n",
    "        if contexts is not None:\n",
    "            filtered_contexts = [context[\"context\"] for context in contexts if context[\"table\"] == table]\n",
    "            for context_idx, context in enumerate(filtered_contexts):\n",
    "                corpus_json.append({\"text\": context, \"metadata\": {\"table\": f\"{table}_SEP_{context_idx}\"}})\n",
    "\n",
    "    corpus_text = [doc[\"text\"] for doc in corpus_json]\n",
    "    corpus_tokens = bm25s.tokenize(corpus_text, stopwords=\"en\", stemmer=stemmer, show_progress=False)\n",
    "\n",
    "    retriever = bm25s.BM25(corpus=corpus_json)\n",
    "    retriever.index(corpus_tokens, show_progress=False)\n",
    "    return retriever"
   ]
  },
  {
   "cell_type": "markdown",
   "metadata": {},
   "source": [
    "# Pneuma-Summarizer-Schema-Only"
   ]
  },
  {
   "cell_type": "code",
   "execution_count": 4,
   "metadata": {},
   "outputs": [
    {
     "name": "stdout",
     "output_type": "stream",
     "text": [
      "Indexing dataset: public\n"
     ]
    },
    {
     "name": "stderr",
     "output_type": "stream",
     "text": [
      "Finding newlines for mmindex: 100%|██████████| 8.92M/8.92M [00:00<00:00, 185MB/s]\n"
     ]
    },
    {
     "name": "stdout",
     "output_type": "stream",
     "text": [
      "Indexing dataset: chembl\n"
     ]
    },
    {
     "name": "stderr",
     "output_type": "stream",
     "text": [
      "Finding newlines for mmindex: 100%|██████████| 2.21M/2.21M [00:00<00:00, 128MB/s]\n"
     ]
    },
    {
     "name": "stdout",
     "output_type": "stream",
     "text": [
      "Indexing dataset: adventure\n"
     ]
    },
    {
     "name": "stderr",
     "output_type": "stream",
     "text": [
      "Finding newlines for mmindex: 100%|██████████| 2.52M/2.52M [00:00<00:00, 127MB/s]\n"
     ]
    },
    {
     "name": "stdout",
     "output_type": "stream",
     "text": [
      "Indexing dataset: chicago\n"
     ]
    },
    {
     "name": "stderr",
     "output_type": "stream",
     "text": [
      "Finding newlines for mmindex: 100%|██████████| 25.3M/25.3M [00:00<00:00, 139MB/s]\n"
     ]
    },
    {
     "name": "stdout",
     "output_type": "stream",
     "text": [
      "Indexing dataset: fetaqa\n"
     ]
    },
    {
     "name": "stderr",
     "output_type": "stream",
     "text": [
      "Finding newlines for mmindex: 100%|██████████| 263M/263M [00:02<00:00, 115MB/s] \n"
     ]
    }
   ],
   "source": [
    "dataset = \"public\"\n",
    "print(f\"Indexing dataset: {dataset}\")\n",
    "contents = read_jsonl(\n",
    "    \"../pneuma_summarizer/summaries/narrations/public_narrations.jsonl\"\n",
    ")\n",
    "contexts = read_jsonl(\"../data_src/benchmarks/context/public/contexts_public.jsonl\")\n",
    "path = \"../data_src/tables/pneuma_public_bi\"\n",
    "retriever = indexing_keyword(stemmer, contents, contexts)\n",
    "retriever.save(f\"index-keyword-{dataset}-pneuma_summarizer_schema_only\")\n",
    "\n",
    "dataset = \"chembl\"\n",
    "print(f\"Indexing dataset: {dataset}\")\n",
    "contents = read_jsonl(\n",
    "    \"../pneuma_summarizer/summaries/narrations/chembl_narrations.jsonl\"\n",
    ")\n",
    "contexts = read_jsonl(\"../data_src/benchmarks/context/chembl/contexts_chembl.jsonl\")\n",
    "path = \"../data_src/tables/pneuma_chembl_10K\"\n",
    "retriever = indexing_keyword(stemmer, contents, contexts)\n",
    "retriever.save(f\"index-keyword-{dataset}-pneuma_summarizer_schema_only\")\n",
    "\n",
    "dataset = \"adventure\"\n",
    "print(f\"Indexing dataset: {dataset}\")\n",
    "contents = read_jsonl(\n",
    "    \"../pneuma_summarizer/summaries/narrations/adventure_narrations.jsonl\"\n",
    ")\n",
    "contexts = read_jsonl(\n",
    "    \"../data_src/benchmarks/context/adventure/contexts_adventure.jsonl\"\n",
    ")\n",
    "path = \"../data_src/tables/pneuma_adventure_works\"\n",
    "retriever = indexing_keyword(stemmer, contents, contexts)\n",
    "retriever.save(f\"index-keyword-{dataset}-pneuma_summarizer_schema_only\")\n",
    "\n",
    "dataset = \"chicago\"\n",
    "print(f\"Indexing dataset: {dataset}\")\n",
    "contents = read_jsonl(\n",
    "    \"../pneuma_summarizer/summaries/narrations/chicago_narrations.jsonl\"\n",
    ")\n",
    "contexts = read_jsonl(\n",
    "    \"../data_src/benchmarks/context/chicago/contexts_chicago.jsonl\"\n",
    ")\n",
    "path = \"../data_src/tables/pneuma_chicago_10K\"\n",
    "retriever = indexing_keyword(stemmer, contents, contexts)\n",
    "retriever.save(f\"index-keyword-{dataset}-pneuma_summarizer_schema_only\")\n",
    "\n",
    "dataset = \"fetaqa\"\n",
    "print(f\"Indexing dataset: {dataset}\")\n",
    "contents = read_jsonl(\n",
    "    \"../pneuma_summarizer/summaries/narrations/fetaqa_narrations.jsonl\"\n",
    ")\n",
    "contexts = read_jsonl(\"../data_src/benchmarks/context/fetaqa/contexts_fetaqa.jsonl\")\n",
    "path = \"../data_src/tables/pneuma_fetaqa\"\n",
    "retriever = indexing_keyword(stemmer, contents, contexts)\n",
    "retriever.save(f\"index-keyword-{dataset}-pneuma_summarizer_schema_only\")"
   ]
  },
  {
   "cell_type": "markdown",
   "metadata": {},
   "source": [
    "# Pneuma-Summarizer"
   ]
  },
  {
   "cell_type": "code",
   "execution_count": 5,
   "metadata": {},
   "outputs": [
    {
     "name": "stdout",
     "output_type": "stream",
     "text": [
      "Indexing dataset: public\n"
     ]
    },
    {
     "name": "stderr",
     "output_type": "stream",
     "text": [
      "Finding newlines for mmindex: 100%|██████████| 10.4M/10.4M [00:00<00:00, 196MB/s]\n"
     ]
    },
    {
     "name": "stdout",
     "output_type": "stream",
     "text": [
      "Indexing dataset: chembl\n"
     ]
    },
    {
     "name": "stderr",
     "output_type": "stream",
     "text": [
      "Finding newlines for mmindex: 100%|██████████| 2.33M/2.33M [00:00<00:00, 108MB/s]\n"
     ]
    },
    {
     "name": "stdout",
     "output_type": "stream",
     "text": [
      "Indexing dataset: adventure\n"
     ]
    },
    {
     "name": "stderr",
     "output_type": "stream",
     "text": [
      "Finding newlines for mmindex: 100%|██████████| 3.92M/3.92M [00:00<00:00, 169MB/s]\n"
     ]
    },
    {
     "name": "stdout",
     "output_type": "stream",
     "text": [
      "Indexing dataset: chicago\n"
     ]
    },
    {
     "name": "stderr",
     "output_type": "stream",
     "text": [
      "Finding newlines for mmindex: 100%|██████████| 43.3M/43.3M [00:00<00:00, 201MB/s]\n"
     ]
    },
    {
     "name": "stdout",
     "output_type": "stream",
     "text": [
      "Indexing dataset: fetaqa\n"
     ]
    },
    {
     "name": "stderr",
     "output_type": "stream",
     "text": [
      "Finding newlines for mmindex: 100%|██████████| 273M/273M [00:02<00:00, 107MB/s]  \n"
     ]
    }
   ],
   "source": [
    "dataset = \"public\"\n",
    "print(f\"Indexing dataset: {dataset}\")\n",
    "contents = read_jsonl(\n",
    "    \"../pneuma_summarizer/summaries/narrations/public_narrations.jsonl\"\n",
    ") + read_jsonl(\"../pneuma_summarizer/summaries/rows/public.jsonl\")\n",
    "contexts = read_jsonl(\"../data_src/benchmarks/context/public/contexts_public.jsonl\")\n",
    "path = \"../data_src/tables/pneuma_public_bi\"\n",
    "retriever = indexing_keyword(stemmer, contents, contexts)\n",
    "retriever.save(f\"index-keyword-{dataset}-pneuma_summarizer\")\n",
    "\n",
    "dataset = \"chembl\"\n",
    "print(f\"Indexing dataset: {dataset}\")\n",
    "contents = read_jsonl(\n",
    "    \"../pneuma_summarizer/summaries/narrations/chembl_narrations.jsonl\"\n",
    ") + read_jsonl(\"../pneuma_summarizer/summaries/rows/chembl.jsonl\")\n",
    "contexts = read_jsonl(\"../data_src/benchmarks/context/chembl/contexts_chembl.jsonl\")\n",
    "path = \"../data_src/tables/pneuma_chembl_10K\"\n",
    "retriever = indexing_keyword(stemmer, contents, contexts)\n",
    "retriever.save(f\"index-keyword-{dataset}-pneuma_summarizer\")\n",
    "\n",
    "dataset = \"adventure\"\n",
    "print(f\"Indexing dataset: {dataset}\")\n",
    "contents = read_jsonl(\n",
    "    \"../pneuma_summarizer/summaries/narrations/adventure_narrations.jsonl\"\n",
    ") + read_jsonl(\"../pneuma_summarizer/summaries/rows/adventure.jsonl\")\n",
    "contexts = read_jsonl(\n",
    "    \"../data_src/benchmarks/context/adventure/contexts_adventure.jsonl\"\n",
    ")\n",
    "path = \"../data_src/tables/pneuma_adventure_works\"\n",
    "retriever = indexing_keyword(stemmer, contents, contexts)\n",
    "retriever.save(f\"index-keyword-{dataset}-pneuma_summarizer\")\n",
    "\n",
    "dataset = \"chicago\"\n",
    "print(f\"Indexing dataset: {dataset}\")\n",
    "contents = read_jsonl(\n",
    "    \"../pneuma_summarizer/summaries/narrations/chicago_narrations.jsonl\"\n",
    ") + read_jsonl(\"../pneuma_summarizer/summaries/rows/chicago.jsonl\")\n",
    "contexts = read_jsonl(\n",
    "    \"../data_src/benchmarks/context/chicago/contexts_chicago.jsonl\"\n",
    ")\n",
    "path = \"../data_src/tables/pneuma_chicago_10K\"\n",
    "retriever = indexing_keyword(stemmer, contents, contexts)\n",
    "retriever.save(f\"index-keyword-{dataset}-pneuma_summarizer\")\n",
    "\n",
    "dataset = \"fetaqa\"\n",
    "print(f\"Indexing dataset: {dataset}\")\n",
    "contents = read_jsonl(\n",
    "    \"../pneuma_summarizer/summaries/narrations/fetaqa_narrations.jsonl\"\n",
    ") + read_jsonl(\"../pneuma_summarizer/summaries/rows/fetaqa.jsonl\")\n",
    "contexts = read_jsonl(\"../data_src/benchmarks/context/fetaqa/contexts_fetaqa.jsonl\")\n",
    "path = \"../data_src/tables/pneuma_fetaqa\"\n",
    "retriever = indexing_keyword(stemmer, contents, contexts)\n",
    "retriever.save(f\"index-keyword-{dataset}-pneuma_summarizer\")"
   ]
  },
  {
   "cell_type": "markdown",
   "metadata": {},
   "source": [
    "# DBReader"
   ]
  },
  {
   "cell_type": "code",
   "execution_count": 6,
   "metadata": {},
   "outputs": [],
   "source": [
    "# dataset = \"public\"\n",
    "# print(f\"Indexing dataset: {dataset}\")\n",
    "# contents = read_jsonl(\n",
    "#     \"../pneuma_summarizer/summaries/dbreader/public_dbreader.jsonl\"\n",
    "# )\n",
    "# contexts = read_jsonl(\"../data_src/benchmarks/context/public/contexts_public.jsonl\")\n",
    "# path = \"../data_src/tables/pneuma_public_bi\"\n",
    "# retriever = indexing_keyword(stemmer, contents, contexts)\n",
    "# retriever.save(f\"index-keyword-{dataset}-pneuma_dbreader\")\n",
    "\n",
    "# dataset = \"chembl\"\n",
    "# print(f\"Indexing dataset: {dataset}\")\n",
    "# contents = read_jsonl(\n",
    "#     \"../pneuma_summarizer/summaries/dbreader/chembl_dbreader.jsonl\"\n",
    "# )\n",
    "# contexts = read_jsonl(\"../data_src/benchmarks/context/chembl/contexts_chembl.jsonl\")\n",
    "# path = \"../data_src/tables/pneuma_chembl_10K\"\n",
    "# retriever = indexing_keyword(stemmer, contents, contexts)\n",
    "# retriever.save(f\"index-keyword-{dataset}-pneuma_dbreader\")\n",
    "\n",
    "# dataset = \"adventure\"\n",
    "# print(f\"Indexing dataset: {dataset}\")\n",
    "# contents = read_jsonl(\n",
    "#     \"../pneuma_summarizer/summaries/dbreader/adventure_dbreader.jsonl\"\n",
    "# )\n",
    "# contexts = read_jsonl(\n",
    "#     \"../data_src/benchmarks/context/adventure/contexts_adventure.jsonl\"\n",
    "# )\n",
    "# path = \"../data_src/tables/pneuma_adventure_works\"\n",
    "# retriever = indexing_keyword(stemmer, contents, contexts)\n",
    "# retriever.save(f\"index-keyword-{dataset}-pneuma_dbreader\")\n",
    "\n",
    "# dataset = \"chicago\"\n",
    "# print(f\"Indexing dataset: {dataset}\")\n",
    "# contents = read_jsonl(\n",
    "#     \"../pneuma_summarizer/summaries/dbreader/chicago_dbreader.jsonl\"\n",
    "# )\n",
    "# contexts = read_jsonl(\n",
    "#     \"../data_src/benchmarks/context/chicago/contexts_chicago.jsonl\"\n",
    "# )\n",
    "# path = \"../data_src/tables/pneuma_chicago_10K\"\n",
    "# retriever = indexing_keyword(stemmer, contents, contexts)\n",
    "# retriever.save(f\"index-keyword-{dataset}-pneuma_dbreader\")\n",
    "\n",
    "# dataset = \"fetaqa\"\n",
    "# print(f\"Indexing dataset: {dataset}\")\n",
    "# contents = read_jsonl(\n",
    "#     \"../pneuma_summarizer/summaries/dbreader/fetaqa_dbreader.jsonl\"\n",
    "# )\n",
    "# contexts = read_jsonl(\"../data_src/benchmarks/context/fetaqa/contexts_fetaqa.jsonl\")\n",
    "# path = \"../data_src/tables/pneuma_fetaqa\"\n",
    "# retriever = indexing_keyword(stemmer, contents, contexts)\n",
    "# retriever.save(f\"index-keyword-{dataset}-pneuma_dbreader\")"
   ]
  }
 ],
 "metadata": {
  "kernelspec": {
   "display_name": "base",
   "language": "python",
   "name": "python3"
  },
  "language_info": {
   "codemirror_mode": {
    "name": "ipython",
    "version": 3
   },
   "file_extension": ".py",
   "mimetype": "text/x-python",
   "name": "python",
   "nbconvert_exporter": "python",
   "pygments_lexer": "ipython3",
   "version": "3.12.2"
  }
 },
 "nbformat": 4,
 "nbformat_minor": 2
}
