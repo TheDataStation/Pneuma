{
 "cells": [
  {
   "cell_type": "code",
   "execution_count": 1,
   "metadata": {},
   "outputs": [
    {
     "name": "stderr",
     "output_type": "stream",
     "text": [
      "/raid/p-storage/davidalexander_497b7d80/miniconda3/envs/pneuma/lib/python3.12/site-packages/tqdm/auto.py:21: TqdmWarning: IProgress not found. Please update jupyter and ipywidgets. See https://ipywidgets.readthedocs.io/en/stable/user_install.html\n",
      "  from .autonotebook import tqdm as notebook_tqdm\n"
     ]
    }
   ],
   "source": [
    "import json\n",
    "import os\n",
    "import shutil\n",
    "from datetime import datetime\n",
    "from time import time\n",
    "\n",
    "from pneuma import Pneuma"
   ]
  },
  {
   "cell_type": "code",
   "execution_count": null,
   "metadata": {},
   "outputs": [],
   "source": [
    "os.environ[\"CUBLAS_WORKSPACE_CONFIG\"] = \":4096:8\"\n",
    "os.environ[\"CUDA_VISIBLE_DEVICES\"] = \"0\"\n",
    "\n",
    "out_path = \"out_demo/storage\""
   ]
  },
  {
   "cell_type": "code",
   "execution_count": 3,
   "metadata": {},
   "outputs": [
    {
     "name": "stderr",
     "output_type": "stream",
     "text": [
      "2024-11-13 08:18:48,761 [Registration] [INFO] Initializing Registration with database at out_demo/storage/storage.db...\n",
      "2024-11-13 08:18:48,808 [Registration] [INFO] HTTPFS installed and loaded.\n",
      "2024-11-13 08:18:48,810 [Registration] [INFO] Table status table created.\n",
      "2024-11-13 08:18:48,811 [Registration] [INFO] ID sequence created.\n",
      "2024-11-13 08:18:48,813 [Registration] [INFO] Table contexts table created.\n",
      "2024-11-13 08:18:48,814 [Registration] [INFO] Table summaries table created.\n",
      "2024-11-13 08:18:48,815 [Registration] [INFO] Indexes table created.\n",
      "2024-11-13 08:18:48,816 [Registration] [INFO] Index table mappings table created.\n",
      "2024-11-13 08:18:48,817 [Registration] [INFO] Query history table created.\n"
     ]
    },
    {
     "data": {
      "text/plain": [
       "'{\"status\": \"SUCCESS\", \"message\": \"Database Initialized.\", \"data\": null}'"
      ]
     },
     "execution_count": 3,
     "metadata": {},
     "output_type": "execute_result"
    }
   ],
   "source": [
    "pneuma = Pneuma(out_path=out_path)\n",
    "pneuma.setup()"
   ]
  }
 ],
 "metadata": {
  "kernelspec": {
   "display_name": "pneuma",
   "language": "python",
   "name": "python3"
  },
  "language_info": {
   "codemirror_mode": {
    "name": "ipython",
    "version": 3
   },
   "file_extension": ".py",
   "mimetype": "text/x-python",
   "name": "python",
   "nbconvert_exporter": "python",
   "pygments_lexer": "ipython3",
   "version": "3.12.7"
  }
 },
 "nbformat": 4,
 "nbformat_minor": 2
}
