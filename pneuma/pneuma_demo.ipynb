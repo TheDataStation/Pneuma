{
 "cells": [
  {
   "cell_type": "markdown",
   "metadata": {},
   "source": [
    "# Pneuma Guide\n",
    "\n",
    "In this notebook, we show how to use each of Pneuma's features, from registering a dataset to querying the index."
   ]
  },
  {
   "cell_type": "markdown",
   "metadata": {},
   "source": [
    "## Offline Stage\n",
    "\n",
    "In the offline stage, we set up Pneuma, including initializing the database, registering dataset and metadata, generating summaries, and generating both vector and keyword index.\n",
    "\n",
    "To use pneuma, we import the class Pneuma from the pneuma module. \n",
    "- CUBLAS_WORKSPACE_CONFIG is set to ... [L]\n",
    "- CUDA_VISIBLE_DEVICES is used to select the GPU. \n",
    "- The out_path is used to determine where the dataset and indexes will be stored. If not set, it will be defaulted to ~/.local/share/Pneuma/out on Linux or /Documents/Pneuma/out on Windows."
   ]
  },
  {
   "cell_type": "code",
   "execution_count": 1,
   "metadata": {},
   "outputs": [
    {
     "name": "stderr",
     "output_type": "stream",
     "text": [
      "/raid/p-storage/davidalexander_497b7d80/miniconda3/envs/pneuma/lib/python3.12/site-packages/tqdm/auto.py:21: TqdmWarning: IProgress not found. Please update jupyter and ipywidgets. See https://ipywidgets.readthedocs.io/en/stable/user_install.html\n",
      "  from .autonotebook import tqdm as notebook_tqdm\n"
     ]
    }
   ],
   "source": [
    "from pneuma import Pneuma\n",
    "import os\n",
    "import json"
   ]
  },
  {
   "cell_type": "code",
   "execution_count": 2,
   "metadata": {},
   "outputs": [],
   "source": [
    "os.environ[\"CUBLAS_WORKSPACE_CONFIG\"] = \":4096:8\"\n",
    "os.environ[\"CUDA_VISIBLE_DEVICES\"] = \"2\"\n",
    "\n",
    "out_path = \"out_demo/storage\""
   ]
  },
  {
   "cell_type": "markdown",
   "metadata": {},
   "source": [
    "We initialize the pneuma object with out_path and call the setup() function to initialize the database."
   ]
  },
  {
   "cell_type": "code",
   "execution_count": 3,
   "metadata": {},
   "outputs": [
    {
     "name": "stderr",
     "output_type": "stream",
     "text": [
      "2024-11-20 05:34:10,253 [Registration] [INFO] HTTPFS installed and loaded.\n",
      "2024-11-20 05:34:10,255 [Registration] [INFO] Table status table created.\n",
      "2024-11-20 05:34:10,256 [Registration] [INFO] ID sequence created.\n",
      "2024-11-20 05:34:10,257 [Registration] [INFO] Table contexts table created.\n",
      "2024-11-20 05:34:10,258 [Registration] [INFO] Table summaries table created.\n",
      "2024-11-20 05:34:10,259 [Registration] [INFO] Indexes table created.\n",
      "2024-11-20 05:34:10,260 [Registration] [INFO] Index table mappings table created.\n",
      "2024-11-20 05:34:10,262 [Registration] [INFO] Query history table created.\n"
     ]
    },
    {
     "data": {
      "text/plain": [
       "'{\"status\": \"SUCCESS\", \"message\": \"Database Initialized.\", \"data\": null}'"
      ]
     },
     "execution_count": 3,
     "metadata": {},
     "output_type": "execute_result"
    }
   ],
   "source": [
    "pneuma = Pneuma(out_path=out_path)\n",
    "pneuma.setup()"
   ]
  },
  {
   "cell_type": "markdown",
   "metadata": {},
   "source": [
    "### Registration"
   ]
  },
  {
   "cell_type": "markdown",
   "metadata": {},
   "source": [
    "To register a dataset, we call the add_tables function while pointing to a directory and specifying the data creator."
   ]
  },
  {
   "cell_type": "code",
   "execution_count": 4,
   "metadata": {},
   "outputs": [
    {
     "name": "stderr",
     "output_type": "stream",
     "text": [
      "2024-11-20 05:34:10,269 [Registration] [INFO] Reading folder ../data_src/sample_data/csv...\n",
      "2024-11-20 05:34:10,270 [Registration] [INFO] Processing ../data_src/sample_data/csv/5n77-2d6a.csv...\n",
      "2024-11-20 05:34:10,278 [Registration] [INFO] Processing table ../data_src/sample_data/csv/5n77-2d6a.csv ERROR: This table already exists in the database with id ('../data_src/sample_data/csv/5n77-2d6a.csv',).\n",
      "2024-11-20 05:34:10,279 [Registration] [INFO] Processing ../data_src/sample_data/csv/inner_folder...\n",
      "2024-11-20 05:34:10,279 [Registration] [INFO] Reading folder ../data_src/sample_data/csv/inner_folder...\n",
      "2024-11-20 05:34:10,280 [Registration] [INFO] Processing ../data_src/sample_data/csv/inner_folder/28km-gtjn.csv...\n",
      "2024-11-20 05:34:10,283 [Registration] [INFO] Processing table ../data_src/sample_data/csv/inner_folder/28km-gtjn.csv ERROR: This table already exists in the database with id ('../data_src/sample_data/csv/inner_folder/28km-gtjn.csv',).\n",
      "2024-11-20 05:34:10,284 [Registration] [INFO] 1 files in folder ../data_src/sample_data/csv/inner_folder has been processed.\n",
      "2024-11-20 05:34:10,284 [Registration] [INFO] Processing ../data_src/sample_data/csv/5cq6-qygt.csv...\n",
      "2024-11-20 05:34:10,293 [Registration] [INFO] Processing table ../data_src/sample_data/csv/5cq6-qygt.csv ERROR: This table already exists in the database with id ('../data_src/sample_data/csv/5cq6-qygt.csv',).\n"
     ]
    },
    {
     "name": "stdout",
     "output_type": "stream",
     "text": [
      "{'status': 'SUCCESS', 'message': '3 files in folder ../data_src/sample_data/csv has been processed.', 'data': {'file_count': 3, 'tables': [None, None, None]}}\n"
     ]
    }
   ],
   "source": [
    "data_path = \"../data_src/sample_data/csv\"\n",
    "\n",
    "response = pneuma.add_tables(data_path, \"demo_user\")\n",
    "response = json.loads(response)\n",
    "print(response)"
   ]
  },
  {
   "cell_type": "markdown",
   "metadata": {},
   "source": [
    "Register context or summaries for dataset with the add_metadata function."
   ]
  },
  {
   "cell_type": "code",
   "execution_count": 5,
   "metadata": {},
   "outputs": [
    {
     "name": "stderr",
     "output_type": "stream",
     "text": [
      "2024-11-20 05:34:10,302 [Registration] [INFO] Context ID: 19\n",
      "2024-11-20 05:34:10,304 [Registration] [INFO] Summary ID: 20\n"
     ]
    },
    {
     "name": "stdout",
     "output_type": "stream",
     "text": [
      "{'status': 'SUCCESS', 'message': '2 metadata entries has been added.', 'data': {'file_count': 2, 'metadata_ids': [19, 20]}}\n"
     ]
    }
   ],
   "source": [
    "metadata_path = \"../data_src/sample_data/metadata.csv\"\n",
    "\n",
    "response = pneuma.add_metadata(metadata_path)\n",
    "response = json.loads(response)\n",
    "print(response)"
   ]
  },
  {
   "cell_type": "markdown",
   "metadata": {},
   "source": [
    "### Summarization\n",
    "By default, calling the summarize function will create summaries for all unsummarized tables."
   ]
  },
  {
   "cell_type": "code",
   "execution_count": 6,
   "metadata": {},
   "outputs": [
    {
     "name": "stderr",
     "output_type": "stream",
     "text": [
      "2024-11-20 05:34:12,414 [accelerate.utils.modeling] [INFO] We will use 90% of the memory on device 0 for storing the model, and 10% for the buffer to avoid OOM. You can set `max_memory` in to a higher value to use more memory (at your own risk).\n",
      "Loading checkpoint shards: 100%|██████████| 4/4 [00:04<00:00,  1.18s/it]\n",
      "2024-11-20 05:34:18,426 [sentence_transformers.SentenceTransformer] [INFO] Load pretrained SentenceTransformer: BAAI/bge-base-en-v1.5\n",
      "2024-11-20 05:34:20,966 [Summarizer] [INFO] Generating summaries for all unsummarized tables...\n",
      "2024-11-20 05:34:20,967 [Summarizer] [INFO] Found 0 unsummarized tables.\n"
     ]
    },
    {
     "name": "stdout",
     "output_type": "stream",
     "text": [
      "{'status': 'SUCCESS', 'message': 'No unsummarized tables found.\\n', 'data': {'table_ids': []}}\n"
     ]
    }
   ],
   "source": [
    "response = pneuma.summarize()\n",
    "response = json.loads(response)\n",
    "print(response)"
   ]
  },
  {
   "cell_type": "markdown",
   "metadata": {},
   "source": [
    "### Index Generation\n",
    "To generate both vector and keyword index, we call the generate_index function while specifying a name for the index. By default, this function will index all registered tables."
   ]
  },
  {
   "cell_type": "code",
   "execution_count": 7,
   "metadata": {},
   "outputs": [
    {
     "name": "stderr",
     "output_type": "stream",
     "text": [
      "2024-11-20 05:34:20,974 [sentence_transformers.SentenceTransformer] [INFO] Use pytorch device_name: cuda\n",
      "2024-11-20 05:34:20,975 [sentence_transformers.SentenceTransformer] [INFO] Load pretrained SentenceTransformer: BAAI/bge-base-en-v1.5\n",
      "2024-11-20 05:34:23,665 [chromadb.telemetry.product.posthog] [INFO] Anonymized telemetry enabled. See                     https://docs.trychroma.com/telemetry for more information.\n",
      "2024-11-20 05:34:23,759 [IndexGenerator] [INFO] No table ids provided. Generating index for all tables...\n",
      "2024-11-20 05:34:23,760 [IndexGenerator] [INFO] Generating index for 3 tables...\n"
     ]
    },
    {
     "name": "stdout",
     "output_type": "stream",
     "text": [
      "{'status': 'ERROR', 'message': 'Index named demo_index already exists.', 'data': None}\n"
     ]
    }
   ],
   "source": [
    "response = pneuma.generate_index(\"demo_index\")\n",
    "response = json.loads(response)\n",
    "print(response)"
   ]
  },
  {
   "cell_type": "markdown",
   "metadata": {},
   "source": [
    "## Online Stage (Querying)\n",
    "To retrieve a ranked list of tables, we use the query_index function."
   ]
  },
  {
   "cell_type": "code",
   "execution_count": 10,
   "metadata": {},
   "outputs": [
    {
     "name": "stdout",
     "output_type": "stream",
     "text": [
      "{'status': 'SUCCESS', 'message': 'Query successful for index demo_index.', 'data': {'query': 'Which dataset contains climate issues?', 'response': ['../data_src/sample_data/csv/5n77-2d6a.csv']}}\n"
     ]
    }
   ],
   "source": [
    "response = pneuma.query_index(\n",
    "    index_name=\"demo_index\",\n",
    "    query=\"Which dataset contains climate issues?\",\n",
    "    k=1,\n",
    "    n=5,\n",
    "    alpha=0.5,\n",
    ")\n",
    "response = json.loads(response)\n",
    "print(response)"
   ]
  }
 ],
 "metadata": {
  "kernelspec": {
   "display_name": "pneuma",
   "language": "python",
   "name": "python3"
  },
  "language_info": {
   "codemirror_mode": {
    "name": "ipython",
    "version": 3
   },
   "file_extension": ".py",
   "mimetype": "text/x-python",
   "name": "python",
   "nbconvert_exporter": "python",
   "pygments_lexer": "ipython3",
   "version": "3.12.7"
  }
 },
 "nbformat": 4,
 "nbformat_minor": 2
}
