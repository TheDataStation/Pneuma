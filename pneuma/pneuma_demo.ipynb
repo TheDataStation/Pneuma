{
 "cells": [
  {
   "cell_type": "markdown",
   "metadata": {},
   "source": [
    "# Pneuma Guide\n",
    "\n",
    "In this notebook, we show how to use each of Pneuma's features, from registering a dataset to querying the index."
   ]
  },
  {
   "cell_type": "markdown",
   "metadata": {},
   "source": [
    "## Offline Stage\n",
    "\n",
    "In the offline stage, we set up Pneuma, including initializing the database, registering dataset and metadata, generating summaries, and generating both vector and keyword index.\n",
    "\n",
    "To use pneuma, we import the class Pneuma from the pneuma module. \n",
    "- CUBLAS_WORKSPACE_CONFIG is set to ... [L]\n",
    "- CUDA_VISIBLE_DEVICES is used to select the GPU. \n",
    "- The out_path is used to determine where the dataset and indexes will be stored. If not set, it will be defaulted to ~/.local/share/Pneuma/out on Linux or /Documents/Pneuma/out on Windows."
   ]
  },
  {
   "cell_type": "code",
   "execution_count": 1,
   "metadata": {},
   "outputs": [
    {
     "name": "stderr",
     "output_type": "stream",
     "text": [
      "/raid/p-storage/davidalexander_497b7d80/miniconda3/envs/pneuma/lib/python3.12/site-packages/tqdm/auto.py:21: TqdmWarning: IProgress not found. Please update jupyter and ipywidgets. See https://ipywidgets.readthedocs.io/en/stable/user_install.html\n",
      "  from .autonotebook import tqdm as notebook_tqdm\n"
     ]
    }
   ],
   "source": [
    "from pneuma import Pneuma\n",
    "import os\n",
    "import json"
   ]
  },
  {
   "cell_type": "code",
   "execution_count": 2,
   "metadata": {},
   "outputs": [],
   "source": [
    "os.environ[\"CUBLAS_WORKSPACE_CONFIG\"] = \":4096:8\"\n",
    "os.environ[\"CUDA_VISIBLE_DEVICES\"] = \"2\"\n",
    "\n",
    "out_path = \"out_demo/storage\""
   ]
  },
  {
   "cell_type": "markdown",
   "metadata": {},
   "source": [
    "We initialize the pneuma object with out_path and call the setup() function to initialize the database."
   ]
  },
  {
   "cell_type": "code",
   "execution_count": 3,
   "metadata": {},
   "outputs": [
    {
     "name": "stderr",
     "output_type": "stream",
     "text": [
      "2024-11-20 05:21:58,032 [Registration] [INFO] HTTPFS installed and loaded.\n",
      "2024-11-20 05:21:58,033 [Registration] [INFO] Table status table created.\n",
      "2024-11-20 05:21:58,034 [Registration] [INFO] ID sequence created.\n",
      "2024-11-20 05:21:58,053 [Registration] [INFO] Table contexts table created.\n",
      "2024-11-20 05:21:58,055 [Registration] [INFO] Table summaries table created.\n",
      "2024-11-20 05:21:58,056 [Registration] [INFO] Indexes table created.\n",
      "2024-11-20 05:21:58,057 [Registration] [INFO] Index table mappings table created.\n",
      "2024-11-20 05:21:58,058 [Registration] [INFO] Query history table created.\n"
     ]
    },
    {
     "data": {
      "text/plain": [
       "'{\"status\": \"SUCCESS\", \"message\": \"Database Initialized.\", \"data\": null}'"
      ]
     },
     "execution_count": 3,
     "metadata": {},
     "output_type": "execute_result"
    }
   ],
   "source": [
    "pneuma = Pneuma(out_path=out_path)\n",
    "pneuma.setup()"
   ]
  },
  {
   "cell_type": "markdown",
   "metadata": {},
   "source": [
    "### Registration"
   ]
  },
  {
   "cell_type": "markdown",
   "metadata": {},
   "source": [
    "To register a dataset, we call the add_tables function while pointing to a directory and specifying the data creator."
   ]
  },
  {
   "cell_type": "code",
   "execution_count": 4,
   "metadata": {},
   "outputs": [
    {
     "name": "stderr",
     "output_type": "stream",
     "text": [
      "2024-11-20 05:21:58,066 [Registration] [INFO] Reading folder ../data_src/sample_data/csv...\n",
      "2024-11-20 05:21:58,067 [Registration] [INFO] Processing ../data_src/sample_data/csv/5n77-2d6a.csv...\n",
      "2024-11-20 05:21:58,079 [Registration] [INFO] Processing table ../data_src/sample_data/csv/5n77-2d6a.csv ERROR: This table already exists in the database with id ('../data_src/sample_data/csv/5n77-2d6a.csv',).\n",
      "2024-11-20 05:21:58,079 [Registration] [INFO] Processing ../data_src/sample_data/csv/inner_folder...\n",
      "2024-11-20 05:21:58,079 [Registration] [INFO] Reading folder ../data_src/sample_data/csv/inner_folder...\n",
      "2024-11-20 05:21:58,080 [Registration] [INFO] Processing ../data_src/sample_data/csv/inner_folder/28km-gtjn.csv...\n",
      "2024-11-20 05:21:58,083 [Registration] [INFO] Processing table ../data_src/sample_data/csv/inner_folder/28km-gtjn.csv ERROR: This table already exists in the database with id ('../data_src/sample_data/csv/inner_folder/28km-gtjn.csv',).\n",
      "2024-11-20 05:21:58,084 [Registration] [INFO] 1 files in folder ../data_src/sample_data/csv/inner_folder has been processed.\n",
      "2024-11-20 05:21:58,084 [Registration] [INFO] Processing ../data_src/sample_data/csv/5cq6-qygt.csv...\n",
      "2024-11-20 05:21:58,092 [Registration] [INFO] Processing table ../data_src/sample_data/csv/5cq6-qygt.csv ERROR: This table already exists in the database with id ('../data_src/sample_data/csv/5cq6-qygt.csv',).\n"
     ]
    },
    {
     "name": "stdout",
     "output_type": "stream",
     "text": [
      "{'status': 'SUCCESS', 'message': '3 files in folder ../data_src/sample_data/csv has been processed.', 'data': {'file_count': 3, 'tables': [None, None, None]}}\n"
     ]
    }
   ],
   "source": [
    "data_path = \"../data_src/sample_data/csv\"\n",
    "\n",
    "response = pneuma.add_tables(data_path, \"demo_user\")\n",
    "response = json.loads(response)\n",
    "print(response)"
   ]
  },
  {
   "cell_type": "markdown",
   "metadata": {},
   "source": [
    "Register context or summaries for dataset with the add_metadata function."
   ]
  },
  {
   "cell_type": "code",
   "execution_count": 5,
   "metadata": {},
   "outputs": [
    {
     "name": "stderr",
     "output_type": "stream",
     "text": [
      "2024-11-20 05:21:58,101 [Registration] [INFO] Context ID: 17\n",
      "2024-11-20 05:21:58,103 [Registration] [INFO] Summary ID: 18\n"
     ]
    },
    {
     "name": "stdout",
     "output_type": "stream",
     "text": [
      "{'status': 'SUCCESS', 'message': '2 metadata entries has been added.', 'data': {'file_count': 2, 'metadata_ids': [17, 18]}}\n"
     ]
    }
   ],
   "source": [
    "metadata_path = \"../data_src/sample_data/metadata.csv\"\n",
    "\n",
    "response = pneuma.add_metadata(metadata_path)\n",
    "response = json.loads(response)\n",
    "print(response)"
   ]
  },
  {
   "cell_type": "markdown",
   "metadata": {},
   "source": [
    "### Summarization\n",
    "By default, calling the summarize function will create summaries for all unsummarized tables."
   ]
  },
  {
   "cell_type": "code",
   "execution_count": 6,
   "metadata": {},
   "outputs": [
    {
     "name": "stderr",
     "output_type": "stream",
     "text": [
      "2024-11-20 05:22:00,317 [accelerate.utils.modeling] [INFO] We will use 90% of the memory on device 0 for storing the model, and 10% for the buffer to avoid OOM. You can set `max_memory` in to a higher value to use more memory (at your own risk).\n",
      "Loading checkpoint shards: 100%|██████████| 4/4 [00:04<00:00,  1.20s/it]\n",
      "2024-11-20 05:22:06,470 [sentence_transformers.SentenceTransformer] [INFO] Load pretrained SentenceTransformer: BAAI/bge-base-en-v1.5\n",
      "2024-11-20 05:22:09,464 [Summarizer] [INFO] Generating summaries for all unsummarized tables...\n",
      "2024-11-20 05:22:09,466 [Summarizer] [INFO] Found 0 unsummarized tables.\n"
     ]
    },
    {
     "name": "stdout",
     "output_type": "stream",
     "text": [
      "{'status': 'SUCCESS', 'message': 'No unsummarized tables found.\\n', 'data': {'table_ids': []}}\n"
     ]
    }
   ],
   "source": [
    "response = pneuma.summarize()\n",
    "response = json.loads(response)\n",
    "print(response)"
   ]
  },
  {
   "cell_type": "markdown",
   "metadata": {},
   "source": [
    "### Index Generation\n",
    "To generate both vector and keyword index, we call the generate_index function while specifying a name for the index. By default, this function will index all registered tables."
   ]
  },
  {
   "cell_type": "code",
   "execution_count": 7,
   "metadata": {},
   "outputs": [
    {
     "name": "stderr",
     "output_type": "stream",
     "text": [
      "2024-11-20 05:22:09,473 [sentence_transformers.SentenceTransformer] [INFO] Use pytorch device_name: cuda\n",
      "2024-11-20 05:22:09,474 [sentence_transformers.SentenceTransformer] [INFO] Load pretrained SentenceTransformer: BAAI/bge-base-en-v1.5\n",
      "2024-11-20 05:22:12,180 [chromadb.telemetry.product.posthog] [INFO] Anonymized telemetry enabled. See                     https://docs.trychroma.com/telemetry for more information.\n",
      "2024-11-20 05:22:12,275 [IndexGenerator] [INFO] No table ids provided. Generating index for all tables...\n",
      "2024-11-20 05:22:12,277 [IndexGenerator] [INFO] Generating index for 3 tables...\n"
     ]
    },
    {
     "name": "stdout",
     "output_type": "stream",
     "text": [
      "{'status': 'ERROR', 'message': 'Index named demo_index already exists.', 'data': None}\n"
     ]
    }
   ],
   "source": [
    "response = pneuma.generate_index(\"demo_index\")\n",
    "response = json.loads(response)\n",
    "print(response)"
   ]
  },
  {
   "cell_type": "markdown",
   "metadata": {},
   "source": [
    "## Online Stage (Querying)\n",
    "To retrieve a ranked list of tables, we use the query_index function."
   ]
  },
  {
   "cell_type": "code",
   "execution_count": 8,
   "metadata": {},
   "outputs": [
    {
     "name": "stderr",
     "output_type": "stream",
     "text": [
      "2024-11-20 05:22:12,285 [sentence_transformers.SentenceTransformer] [INFO] Use pytorch device_name: cuda\n",
      "2024-11-20 05:22:12,286 [sentence_transformers.SentenceTransformer] [INFO] Load pretrained SentenceTransformer: BAAI/bge-base-en-v1.5\n",
      "2024-11-20 05:22:16,524 [accelerate.utils.modeling] [INFO] We will use 90% of the memory on device 0 for storing the model, and 10% for the buffer to avoid OOM. You can set `max_memory` in to a higher value to use more memory (at your own risk).\n",
      "Loading checkpoint shards: 100%|██████████| 4/4 [00:04<00:00,  1.18s/it]\n"
     ]
    },
    {
     "name": "stdout",
     "output_type": "stream",
     "text": [
      "['../data_src/sample_data/csv/5n77-2d6a.csv_SEP_contents_SEP_row-1', 0.5017665606585792, 'date: 2022-11-08 17:47:06 | issue_1: Climate and Sustainability | issue_2: Affordable Housing | issue_3: Equity and Inclusion | issue_4: Public Safety | issue_5: Infrastructure Improvements | issue_6: Economic/Business Development | issue_7: Public Transportation Improvements | ranked_issues: Climate and Sustainability;Affordable Housing;Equity and Inclusion;Public Safety;Infrastructure Improvements;Economic/Business Development;Public Transportation Improvements; | other_priorities: Inclusion of neighborhood organizations and individuals in development decisions.  We want business development, but people who live here should have priority over outsiders in determining what that looks like. \\n\\nThe environmental impacts of \"development\" without community involvement have caused significant issues.  We want to see MAT Asphalt shut down, the drive through ban in TOD zones enacted, downzoning of industrial lots, and zoning changes on 35th St to allow residents to open a small business in vacant storefronts previously downzoned to residential. || date: 2022-11-03 22:31:08 | issue_1: Affordable Housing | issue_2: Climate and Sustainability | issue_3: Public Transportation Improvements | issue_4: Equity and Inclusion | issue_5: Public Safety | issue_6: Infrastructure Improvements | issue_7: Economic/Business Development | ranked_issues: Affordable Housing;Climate and Sustainability;Public Transportation Improvements;Equity and Inclusion;Public Safety;Infrastructure Improvements;Economic/Business Development; | other_priorities: No one associated with George Cardenas should take this seat, like Anabel Abarco. As shown in multiple news investigations, he has been trading campaign cash, and jobs and money to family members in exchange for zoning changes, business approvals, and permits for parks. It would be unacceptable to pretend our input matters and then just appoint one of his people.']\n",
      "['../data_src/sample_data/csv/5n77-2d6a.csv_SEP_contents_SEP_row-0', 0.32952835406465064, 'date: 2022-11-03 11:16:10 | issue_1: Infrastructure Improvements | issue_2: Public Safety | issue_3: Public Transportation Improvements | issue_4: Economic/Business Development | issue_5: Equity and Inclusion | issue_6: Affordable Housing | issue_7: Climate and Sustainability | ranked_issues: Infrastructure Improvements;Public Safety;Public Transportation Improvements;Economic/Business Development;Equity and Inclusion;Affordable Housing;Climate and Sustainability; | other_priorities: Education. || date: 2022-11-03 11:08:00 | issue_1: Public Safety | issue_2: Economic/Business Development | issue_3: Infrastructure Improvements | issue_4: Public Transportation Improvements | issue_5: Climate and Sustainability | issue_6: Affordable Housing | issue_7: Equity and Inclusion | ranked_issues: Public Safety;Economic/Business Development;Infrastructure Improvements;Public Transportation Improvements;Climate and Sustainability;Affordable Housing;Equity and Inclusion; | other_priorities: None || date: 2022-11-11 06:50:14 | issue_1: Public Safety | issue_2: Equity and Inclusion | issue_3: Infrastructure Improvements | issue_4: Public Transportation Improvements | issue_5: Economic/Business Development | issue_6: Affordable Housing | issue_7: Climate and Sustainability | ranked_issues: Public Safety;Equity and Inclusion;Infrastructure Improvements;Public Transportation Improvements;Economic/Business Development;Affordable Housing;Climate and Sustainability; | other_priorities: Farragut highschool has an extremely low enrollment and all the trades such as carpentry medical assistant we’re removed. We need a trade school and Farragut to be a turnaround school.']\n",
      "['../data_src/sample_data/csv/5cq6-qygt.csv_SEP_contexts-0', 0.8838542997837067, 'From CSV, The dataset was created to track and manage code violations in the city of Chicago. The specific task in mind was to monitor and enforce compliance with various city ordinances related to building and property maintenance. The dataset was designed to capture information about each code violation, including the date and location of the violation, the type of violation, the status of the violation, and any relevant comments or descriptions. | From CSV, The dataset was created to track and manage code violations in the city of Chicago. The specific task in mind was to monitor and enforce compliance with various city ordinances related to building and property maintenance. The dataset was designed to capture information about each code violation, including the date and location of the violation, the type of violation, the status of the violation, and any relevant comments or descriptions.']\n",
      "['../data_src/sample_data/csv/5n77-2d6a.csv_SEP_contents_SEP_schema-0', 0.8658035960049488, 'date: The date column represents a specific point in time for each row in the table, likely indicating when the issues and priorities were recorded or when the data is relevant. || other_priorities: No description. || ranked_issues: The `ranked_issues` column likely represents the order or priority of the issues listed in the table. Each row would have its issues (`issue_1` to `issue_7`) ranked in the `ranked_issues` column, indicating which issue is the most critical or urgent for that particular entry. || issue_7: No description. || issue_6: No description. || issue_5: No description. || issue_4: No description. || issue_3: No description. || issue_2: No description. || issue_1: No description.']\n",
      "['../data_src/sample_data/csv/5cq6-qygt.csv_SEP_contents_SEP_schema-0', 0.1707134246826172, \"phase: No description. || location: The `location` column likely represents the geographical location of the stop, possibly in a formatted string or coordinate system that combines or references the `longitude` and `latitude` columns. However, without additional context, it's also possible that it contains a more specific or structured representation of the location. || latitude: The latitude column represents the north-south position on the Earth's surface for each stop, used in geographic coordinates to pinpoint the exact location of the stop. || longitude: The longitude column represents the longitudinal coordinate of the stop's location, which is used to specify the east-west position on the Earth's surface in a geographic coordinate system. || ward: The `ward` column likely represents the electoral district or administrative division within a city where the stop is located. This can be useful for understanding the geographic and political context of the transit stops. || routes: The `routes` column likely represents the different CTA (Chicago Transit Authority) routes that stop at the specified stop ID. This could include various types of services such as buses or trains that operate on that route. || direction: The `direction` column represents the direction in which the transit service (e.g., bus or train) travels from the stop identified by `cta_stop_name`. This can help in identifying the route's directionality at a specific stop. || cta_stop_name: The `cta_stop_name` column represents the name of the CTA (Chicago Transit Authority) stop. || stop_id: The `stop_id` column represents a unique identifier for each bus or train stop.\"]\n"
     ]
    }
   ],
   "source": [
    "response = pneuma.query_index(\n",
    "    index_name=\"demo_index\",\n",
    "    query=\"Which dataset contains climate issues?\",\n",
    "    k=1,\n",
    "    n=5,\n",
    "    alpha=0.5,\n",
    ")\n",
    "response = json.loads(response)['data']['response']\n",
    "for r in response:\n",
    "    print(r)"
   ]
  }
 ],
 "metadata": {
  "kernelspec": {
   "display_name": "pneuma",
   "language": "python",
   "name": "python3"
  },
  "language_info": {
   "codemirror_mode": {
    "name": "ipython",
    "version": 3
   },
   "file_extension": ".py",
   "mimetype": "text/x-python",
   "name": "python",
   "nbconvert_exporter": "python",
   "pygments_lexer": "ipython3",
   "version": "3.12.7"
  }
 },
 "nbformat": 4,
 "nbformat_minor": 2
}
