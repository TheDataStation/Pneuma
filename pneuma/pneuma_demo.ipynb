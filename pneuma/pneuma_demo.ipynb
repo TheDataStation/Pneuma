{
 "cells": [
  {
   "cell_type": "markdown",
   "metadata": {},
   "source": [
    "# Pneuma Guide\n",
    "\n",
    "In this notebook, we show how to use each of Pneuma's features, from registering a dataset to querying the index."
   ]
  },
  {
   "cell_type": "markdown",
   "metadata": {},
   "source": [
    "## Offline Stage\n",
    "\n",
    "In the offline stage, we set up Pneuma, including initializing the database, registering dataset and metadata, generating summaries, and generating both vector and keyword index.\n",
    "\n",
    "To use pneuma, we import the class Pneuma from the pneuma module. \n",
    "- CUBLAS_WORKSPACE_CONFIG is set to ... [L]\n",
    "- CUDA_VISIBLE_DEVICES is used to select the GPU. \n",
    "- The out_path is used to determine where the dataset and indexes will be stored. If not set, it will be defaulted to ~/.local/share/Pneuma/out on Linux or /Documents/Pneuma/out on Windows."
   ]
  },
  {
   "cell_type": "code",
   "execution_count": 1,
   "metadata": {},
   "outputs": [
    {
     "name": "stderr",
     "output_type": "stream",
     "text": [
      "/raid/p-storage/davidalexander_497b7d80/miniconda3/envs/pneuma/lib/python3.12/site-packages/tqdm/auto.py:21: TqdmWarning: IProgress not found. Please update jupyter and ipywidgets. See https://ipywidgets.readthedocs.io/en/stable/user_install.html\n",
      "  from .autonotebook import tqdm as notebook_tqdm\n"
     ]
    }
   ],
   "source": [
    "from pneuma import Pneuma\n",
    "import os\n",
    "import json"
   ]
  },
  {
   "cell_type": "code",
   "execution_count": 2,
   "metadata": {},
   "outputs": [],
   "source": [
    "os.environ[\"CUBLAS_WORKSPACE_CONFIG\"] = \":4096:8\"\n",
    "os.environ[\"CUDA_VISIBLE_DEVICES\"] = \"0\"\n",
    "\n",
    "out_path = \"out_demo/storage\""
   ]
  },
  {
   "cell_type": "markdown",
   "metadata": {},
   "source": [
    "We initialize the pneuma object with out_path and call the setup() function to initialize the database."
   ]
  },
  {
   "cell_type": "code",
   "execution_count": 3,
   "metadata": {},
   "outputs": [
    {
     "name": "stderr",
     "output_type": "stream",
     "text": [
      "2024-11-22 06:23:45,749 [Registration] [INFO] HTTPFS installed and loaded.\n",
      "2024-11-22 06:23:45,752 [Registration] [INFO] Table status table created.\n",
      "2024-11-22 06:23:45,752 [Registration] [INFO] ID sequence created.\n",
      "2024-11-22 06:23:45,753 [Registration] [INFO] Table contexts table created.\n",
      "2024-11-22 06:23:45,755 [Registration] [INFO] Table summaries table created.\n",
      "2024-11-22 06:23:45,755 [Registration] [INFO] Indexes table created.\n",
      "2024-11-22 06:23:45,756 [Registration] [INFO] Index table mappings table created.\n",
      "2024-11-22 06:23:45,758 [Registration] [INFO] Query history table created.\n"
     ]
    },
    {
     "data": {
      "text/plain": [
       "'{\"status\": \"SUCCESS\", \"message\": \"Database Initialized.\", \"data\": null}'"
      ]
     },
     "execution_count": 3,
     "metadata": {},
     "output_type": "execute_result"
    }
   ],
   "source": [
    "pneuma = Pneuma(out_path=out_path)\n",
    "pneuma.setup()"
   ]
  },
  {
   "cell_type": "markdown",
   "metadata": {},
   "source": [
    "### Registration"
   ]
  },
  {
   "cell_type": "markdown",
   "metadata": {},
   "source": [
    "To register a dataset, we call the add_tables function while pointing to a directory and specifying the data creator."
   ]
  },
  {
   "cell_type": "code",
   "execution_count": 4,
   "metadata": {},
   "outputs": [
    {
     "name": "stderr",
     "output_type": "stream",
     "text": [
      "2024-11-22 06:23:45,765 [Registration] [INFO] Reading folder ../data_src/sample_data/csv...\n",
      "2024-11-22 06:23:45,766 [Registration] [INFO] Processing ../data_src/sample_data/csv/5n77-2d6a.csv...\n",
      "2024-11-22 06:23:45,783 [Registration] [INFO] Processing table ../data_src/sample_data/csv/5n77-2d6a.csv SUCCESS: Table with ID: ../data_src/sample_data/csv/5n77-2d6a.csv has been added to the database.\n",
      "2024-11-22 06:23:45,783 [Registration] [INFO] Processing ../data_src/sample_data/csv/inner_folder...\n",
      "2024-11-22 06:23:45,783 [Registration] [INFO] Reading folder ../data_src/sample_data/csv/inner_folder...\n",
      "2024-11-22 06:23:45,784 [Registration] [INFO] Processing ../data_src/sample_data/csv/inner_folder/28km-gtjn.csv...\n",
      "2024-11-22 06:23:45,792 [Registration] [INFO] Processing table ../data_src/sample_data/csv/inner_folder/28km-gtjn.csv SUCCESS: Table with ID: ../data_src/sample_data/csv/inner_folder/28km-gtjn.csv has been added to the database.\n",
      "2024-11-22 06:23:45,792 [Registration] [INFO] 1 files in folder ../data_src/sample_data/csv/inner_folder has been processed.\n",
      "2024-11-22 06:23:45,792 [Registration] [INFO] Processing ../data_src/sample_data/csv/5cq6-qygt.csv...\n",
      "2024-11-22 06:23:45,817 [Registration] [INFO] Processing table ../data_src/sample_data/csv/5cq6-qygt.csv SUCCESS: Table with ID: ../data_src/sample_data/csv/5cq6-qygt.csv has been added to the database.\n"
     ]
    },
    {
     "name": "stdout",
     "output_type": "stream",
     "text": [
      "{'status': 'SUCCESS', 'message': '3 files in folder ../data_src/sample_data/csv has been processed.', 'data': {'file_count': 3, 'tables': [{'table_id': '../data_src/sample_data/csv/5n77-2d6a.csv', 'table_name': '5n77-2d6a'}, {'table_id': '../data_src/sample_data/csv/inner_folder/28km-gtjn.csv', 'table_name': '28km-gtjn'}, {'table_id': '../data_src/sample_data/csv/5cq6-qygt.csv', 'table_name': '5cq6-qygt'}]}}\n"
     ]
    }
   ],
   "source": [
    "data_path = \"../data_src/sample_data/csv\"\n",
    "\n",
    "response = pneuma.add_tables(path=data_path, creator=\"demo_user\")\n",
    "response = json.loads(response)\n",
    "print(response)"
   ]
  },
  {
   "cell_type": "markdown",
   "metadata": {},
   "source": [
    "Register context or summaries for dataset with the add_metadata function."
   ]
  },
  {
   "cell_type": "code",
   "execution_count": 5,
   "metadata": {},
   "outputs": [
    {
     "name": "stderr",
     "output_type": "stream",
     "text": [
      "2024-11-22 06:23:45,828 [Registration] [INFO] Context ID: 1\n",
      "2024-11-22 06:23:45,830 [Registration] [INFO] Summary ID: 2\n"
     ]
    },
    {
     "name": "stdout",
     "output_type": "stream",
     "text": [
      "{'status': 'SUCCESS', 'message': '2 metadata entries has been added.', 'data': {'file_count': 2, 'metadata_ids': [1, 2]}}\n"
     ]
    }
   ],
   "source": [
    "metadata_path = \"../data_src/sample_data/metadata.csv\"\n",
    "\n",
    "response = pneuma.add_metadata(metadata_path=metadata_path)\n",
    "response = json.loads(response)\n",
    "print(response)"
   ]
  },
  {
   "cell_type": "markdown",
   "metadata": {},
   "source": [
    "### Summarization\n",
    "By default, calling the summarize function will create summaries for all unsummarized tables."
   ]
  },
  {
   "cell_type": "code",
   "execution_count": 6,
   "metadata": {},
   "outputs": [
    {
     "name": "stderr",
     "output_type": "stream",
     "text": [
      "2024-11-22 06:23:47,676 [accelerate.utils.modeling] [INFO] We will use 90% of the memory on device 0 for storing the model, and 10% for the buffer to avoid OOM. You can set `max_memory` in to a higher value to use more memory (at your own risk).\n",
      "Loading checkpoint shards: 100%|██████████| 4/4 [00:04<00:00,  1.21s/it]\n",
      "2024-11-22 06:23:53,765 [sentence_transformers.SentenceTransformer] [INFO] Load pretrained SentenceTransformer: BAAI/bge-base-en-v1.5\n",
      "2024-11-22 06:23:56,671 [Summarizer] [INFO] Generating summaries for all unsummarized tables...\n",
      "2024-11-22 06:23:56,673 [Summarizer] [INFO] Found 3 unsummarized tables.\n"
     ]
    },
    {
     "name": "stdout",
     "output_type": "stream",
     "text": [
      "Optimal batch size: 50\n"
     ]
    },
    {
     "name": "stderr",
     "output_type": "stream",
     "text": [
      "  0%|          | 0/1 [00:00<?, ?it/s]/raid/p-storage/davidalexander_497b7d80/miniconda3/envs/pneuma/lib/python3.12/site-packages/transformers/generation/configuration_utils.py:589: UserWarning: `do_sample` is set to `False`. However, `top_k` is set to `20` -- this flag is only used in sample-based generation modes. You should set `do_sample=True` or unset `top_k`.\n",
      "  warnings.warn(\n",
      "100%|██████████| 1/1 [00:03<00:00,  3.84s/it]\n",
      "Token indices sequence length is longer than the specified maximum sequence length for this model (564 > 512). Running this sequence through the model will result in indexing errors\n"
     ]
    },
    {
     "name": "stdout",
     "output_type": "stream",
     "text": [
      "{'status': 'SUCCESS', 'message': 'Total of 7 summaries has been added with IDs: 3, 4, 5, 6, 7, 8, 9.\\n', 'data': {'table_ids': ['../data_src/sample_data/csv/5n77-2d6a.csv', '../data_src/sample_data/csv/inner_folder/28km-gtjn.csv', '../data_src/sample_data/csv/5cq6-qygt.csv'], 'summary_ids': [3, 4, 5, 6, 7, 8, 9]}}\n"
     ]
    }
   ],
   "source": [
    "response = pneuma.summarize()\n",
    "response = json.loads(response)\n",
    "print(response)"
   ]
  },
  {
   "cell_type": "markdown",
   "metadata": {},
   "source": [
    "### Index Generation\n",
    "To generate both vector and keyword index, we call the generate_index function while specifying a name for the index. By default, this function will index all registered tables."
   ]
  },
  {
   "cell_type": "code",
   "execution_count": 7,
   "metadata": {},
   "outputs": [
    {
     "name": "stderr",
     "output_type": "stream",
     "text": [
      "2024-11-22 06:24:03,472 [sentence_transformers.SentenceTransformer] [INFO] Use pytorch device_name: cuda\n",
      "2024-11-22 06:24:03,472 [sentence_transformers.SentenceTransformer] [INFO] Load pretrained SentenceTransformer: BAAI/bge-base-en-v1.5\n",
      "2024-11-22 06:24:08,356 [chromadb.telemetry.product.posthog] [INFO] Anonymized telemetry enabled. See                     https://docs.trychroma.com/telemetry for more information.\n",
      "2024-11-22 06:24:08,485 [IndexGenerator] [INFO] No table ids provided. Generating index for all tables...\n",
      "2024-11-22 06:24:08,487 [IndexGenerator] [INFO] Generating index for 3 tables...\n",
      "2024-11-22 06:24:08,502 [IndexGenerator] [INFO] Vector index named demo_index with id 10 has been created.\n",
      "2024-11-22 06:24:08,502 [IndexGenerator] [INFO] Processing table ../data_src/sample_data/csv/5n77-2d6a.csv...\n",
      "2024-11-22 06:24:08,504 [IndexGenerator] [INFO] Processing table ../data_src/sample_data/csv/inner_folder/28km-gtjn.csv...\n",
      "2024-11-22 06:24:08,505 [IndexGenerator] [INFO] Processing table ../data_src/sample_data/csv/5cq6-qygt.csv...\n",
      "Batches: 100%|██████████| 1/1 [00:00<00:00, 13.04it/s]\n",
      "2024-11-22 06:24:08,611 [IndexGenerator] [INFO] 3 Tables have been inserted to index with id 10.\n",
      "2024-11-22 06:24:08,613 [bm25s] [DEBUG] Building index from IDs objects\n",
      "/raid/p-storage/davidalexander_497b7d80/miniconda3/envs/pneuma/lib/python3.12/site-packages/bm25s/__init__.py:221: RuntimeWarning: Mean of empty slice.\n",
      "  avg_doc_len = np.array([len(doc_ids) for doc_ids in corpus_token_ids]).mean()\n",
      "/raid/p-storage/davidalexander_497b7d80/miniconda3/envs/pneuma/lib/python3.12/site-packages/numpy/core/_methods.py:129: RuntimeWarning: invalid value encountered in scalar divide\n",
      "  ret = ret.dtype.type(ret / rcount)\n",
      "Finding newlines for mmindex: 0.00B [00:00, ?B/s]\n",
      "2024-11-22 06:24:08,622 [IndexGenerator] [INFO] Keyword index named demo_index with id 11 has been created.\n",
      "2024-11-22 06:24:08,623 [IndexGenerator] [INFO] Processing table ../data_src/sample_data/csv/5n77-2d6a.csv...\n",
      "2024-11-22 06:24:08,625 [IndexGenerator] [INFO] Processing table ../data_src/sample_data/csv/inner_folder/28km-gtjn.csv...\n",
      "2024-11-22 06:24:08,626 [IndexGenerator] [INFO] Processing table ../data_src/sample_data/csv/5cq6-qygt.csv...\n",
      "2024-11-22 06:24:08,629 [bm25s] [DEBUG] Building index from IDs objects\n",
      "Finding newlines for mmindex: 100%|██████████| 10.6k/10.6k [00:00<00:00, 80.9MB/s]\n",
      "2024-11-22 06:24:08,635 [IndexGenerator] [INFO] 3 Tables have been inserted to index with id 11.\n"
     ]
    },
    {
     "name": "stdout",
     "output_type": "stream",
     "text": [
      "{'status': 'SUCCESS', 'message': 'Vector and keyword index named demo_index with id 10 and 11 has been created with 3 tables.', 'data': {'table_ids': ['../data_src/sample_data/csv/5n77-2d6a.csv', '../data_src/sample_data/csv/inner_folder/28km-gtjn.csv', '../data_src/sample_data/csv/5cq6-qygt.csv'], 'vector_index_id': 10, 'keyword_index_id': 11, 'vector_index_generation_time': 0.014294862747192383, 'keyword_index_generation_time': 0.010687828063964844}}\n"
     ]
    }
   ],
   "source": [
    "response = pneuma.generate_index(index_name=\"demo_index\")\n",
    "response = json.loads(response)\n",
    "print(response)"
   ]
  },
  {
   "cell_type": "markdown",
   "metadata": {},
   "source": [
    "## Online Stage (Querying)\n",
    "To retrieve a ranked list of tables, we use the query_index function."
   ]
  },
  {
   "cell_type": "code",
   "execution_count": 8,
   "metadata": {},
   "outputs": [
    {
     "name": "stderr",
     "output_type": "stream",
     "text": [
      "2024-11-22 06:24:08,646 [sentence_transformers.SentenceTransformer] [INFO] Use pytorch device_name: cuda\n",
      "2024-11-22 06:24:08,646 [sentence_transformers.SentenceTransformer] [INFO] Load pretrained SentenceTransformer: BAAI/bge-base-en-v1.5\n",
      "2024-11-22 06:24:15,389 [accelerate.utils.modeling] [INFO] We will use 90% of the memory on device 0 for storing the model, and 10% for the buffer to avoid OOM. You can set `max_memory` in to a higher value to use more memory (at your own risk).\n",
      "Loading checkpoint shards: 100%|██████████| 4/4 [00:08<00:00,  2.02s/it]\n"
     ]
    },
    {
     "name": "stdout",
     "output_type": "stream",
     "text": [
      "Query: Which dataset contains climate issues?\n",
      "Retrieved tables:\n",
      "../data_src/sample_data/csv/5n77-2d6a.csv\n"
     ]
    }
   ],
   "source": [
    "response = pneuma.query_index(\n",
    "    index_name=\"demo_index\",\n",
    "    query=\"Which dataset contains climate issues?\",\n",
    "    k=1,\n",
    "    n=5,\n",
    "    alpha=0.5,\n",
    ")\n",
    "response = json.loads(response)\n",
    "query = response[\"data\"][\"query\"]\n",
    "retrieved_tables = response[\"data\"][\"response\"]\n",
    "\n",
    "print(f\"Query: {query}\")\n",
    "print(\"Retrieved tables:\")\n",
    "for table in retrieved_tables:\n",
    "    print(table)"
   ]
  }
 ],
 "metadata": {
  "kernelspec": {
   "display_name": "pneuma",
   "language": "python",
   "name": "python3"
  },
  "language_info": {
   "codemirror_mode": {
    "name": "ipython",
    "version": 3
   },
   "file_extension": ".py",
   "mimetype": "text/x-python",
   "name": "python",
   "nbconvert_exporter": "python",
   "pygments_lexer": "ipython3",
   "version": "3.12.7"
  }
 },
 "nbformat": 4,
 "nbformat_minor": 2
}
