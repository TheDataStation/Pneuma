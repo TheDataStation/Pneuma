{
 "cells": [
  {
   "cell_type": "code",
   "execution_count": 29,
   "metadata": {},
   "outputs": [],
   "source": [
    "import pandas as pd"
   ]
  },
  {
   "cell_type": "code",
   "execution_count": 30,
   "metadata": {},
   "outputs": [],
   "source": [
    "name = \"BX1_chicago.csv\"\n",
    "benchmark = pd.read_csv(name)  # Adjust path\n",
    "benchmark = benchmark.dropna().reset_index(drop=True)\n",
    "benchmark = benchmark.drop_duplicates([\"context\"]).reset_index(drop=True)\n",
    "benchmark = benchmark.drop_duplicates([\"question\"]).reset_index(drop=True)\n",
    "benchmark.to_csv(name, index=False)"
   ]
  }
 ],
 "metadata": {
  "kernelspec": {
   "display_name": "base",
   "language": "python",
   "name": "python3"
  },
  "language_info": {
   "codemirror_mode": {
    "name": "ipython",
    "version": 3
   },
   "file_extension": ".py",
   "mimetype": "text/x-python",
   "name": "python",
   "nbconvert_exporter": "python",
   "pygments_lexer": "ipython3",
   "version": "3.10.9"
  }
 },
 "nbformat": 4,
 "nbformat_minor": 2
}
