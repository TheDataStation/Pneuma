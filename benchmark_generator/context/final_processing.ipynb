{
 "cells": [
  {
   "cell_type": "code",
   "execution_count": 10,
   "metadata": {},
   "outputs": [],
   "source": [
    "import json\n",
    "def read_jsonl(file_path):\n",
    "    data = []\n",
    "    with open(file_path, 'r', encoding='utf-8') as file:\n",
    "        for line in file:\n",
    "            data.append(json.loads(line.strip()))\n",
    "    return data\n",
    "\n",
    "def write_jsonl(data, file_path):\n",
    "    with open(file_path, 'w', encoding='utf-8') as file:\n",
    "        for item in data:\n",
    "            file.write(json.dumps(item))\n",
    "            file.write('\\n')"
   ]
  },
  {
   "cell_type": "code",
   "execution_count": 11,
   "metadata": {},
   "outputs": [],
   "source": [
    "import pandas as pd\n",
    "\n",
    "dataset = \"public\"\n",
    "bx1_name = f\"{dataset}/BX1_{dataset}_corrected.csv\"\n",
    "bx2_name = f\"{dataset}/BX2_{dataset}.csv\"\n",
    "jsonl_name = f\"{dataset}/bx_{dataset}.jsonl\"\n",
    "contexts_name = f\"{dataset}/contexts_{dataset}.csv\"\n",
    "contexts_jsonl_name = f\"{dataset}/contexts_{dataset}.jsonl\"\n",
    "bx1 = pd.read_csv(bx1_name)\n",
    "bx2 = pd.read_csv(bx2_name)"
   ]
  },
  {
   "cell_type": "code",
   "execution_count": 12,
   "metadata": {},
   "outputs": [],
   "source": [
    "def finalize_bx2(bx2: pd.DataFrame, bx2_name: str):\n",
    "    for _, row in bx2.iterrows():\n",
    "        question: str = row[\"question\"]\n",
    "        if \"Rephrased Question 1\" in question:\n",
    "            extracted_question = question.splitlines()[2].split(\"Rephrased Question 1:\")[-1]\n",
    "            row[\"question\"] = extracted_question\n",
    "    bx2.to_csv(bx2_name, index=False)"
   ]
  },
  {
   "cell_type": "code",
   "execution_count": 13,
   "metadata": {},
   "outputs": [],
   "source": [
    "finalize_bx2(bx2, bx2_name)"
   ]
  },
  {
   "cell_type": "code",
   "execution_count": 14,
   "metadata": {},
   "outputs": [],
   "source": [
    "import ast\n",
    "jsonl_data = []\n",
    "for i in range(len(bx1)):\n",
    "    benchmark_row = {\n",
    "        \"question_bx1\": bx1[\"question\"][i],\n",
    "        \"question_bx2\": bx2[\"question\"][i],\n",
    "        \"answer_tables\": ast.literal_eval(bx1[\"answer_tables\"][i])\n",
    "    }\n",
    "    jsonl_data.append(benchmark_row)"
   ]
  },
  {
   "cell_type": "code",
   "execution_count": 15,
   "metadata": {},
   "outputs": [],
   "source": [
    "write_jsonl(jsonl_data, jsonl_name)"
   ]
  },
  {
   "cell_type": "code",
   "execution_count": 16,
   "metadata": {},
   "outputs": [],
   "source": [
    "contexts = pd.read_csv(contexts_name)"
   ]
  },
  {
   "cell_type": "code",
   "execution_count": 17,
   "metadata": {},
   "outputs": [],
   "source": [
    "contexts_jsonl = []\n",
    "for i in range(len(contexts)):\n",
    "    new_row = {\n",
    "        \"table\": contexts[\"table\"][i],\n",
    "        \"context\": contexts[\"context\"][i],\n",
    "    }\n",
    "    contexts_jsonl.append(new_row)"
   ]
  },
  {
   "cell_type": "code",
   "execution_count": 18,
   "metadata": {},
   "outputs": [],
   "source": [
    "write_jsonl(contexts_jsonl, contexts_jsonl_name)"
   ]
  }
 ],
 "metadata": {
  "kernelspec": {
   "display_name": "base",
   "language": "python",
   "name": "python3"
  },
  "language_info": {
   "codemirror_mode": {
    "name": "ipython",
    "version": 3
   },
   "file_extension": ".py",
   "mimetype": "text/x-python",
   "name": "python",
   "nbconvert_exporter": "python",
   "pygments_lexer": "ipython3",
   "version": "3.12.1"
  }
 },
 "nbformat": 4,
 "nbformat_minor": 2
}
