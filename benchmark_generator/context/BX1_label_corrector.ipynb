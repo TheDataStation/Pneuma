{
 "cells": [
  {
   "cell_type": "code",
   "execution_count": null,
   "metadata": {},
   "outputs": [],
   "source": [
    "# Import necessary packages\n",
    "import pandas as pd\n",
    "import torch\n",
    "import warnings\n",
    "\n",
    "warnings.filterwarnings(\"ignore\")\n",
    "\n",
    "from pipeline.pipeline_initializer import initialize_pipeline\n",
    "from pipeline.prompting_interface import prompt_pipeline"
   ]
  },
  {
   "cell_type": "code",
   "execution_count": null,
   "metadata": {},
   "outputs": [],
   "source": [
    "pipe = initialize_pipeline(\"meta-llama/Meta-Llama-3-8B-Instruct\", torch.bfloat16)"
   ]
  },
  {
   "cell_type": "code",
   "execution_count": null,
   "metadata": {},
   "outputs": [],
   "source": [
    "def get_prompt(metadata: str, question: str):\n",
    "    return f\"\"\"Metadata:\"{metadata}\"\n",
    "Question:\"{question}\"\n",
    "Metadata describes a specific dataset that we have access to. Does this dataset answer the question? Begin your response with yes/no.\"\"\""
   ]
  },
  {
   "cell_type": "code",
   "execution_count": null,
   "metadata": {},
   "outputs": [],
   "source": [
    "bx1 = pd.read_csv(\"BX1_chicago.csv\")  # Adjust\n",
    "contexts = pd.read_csv(\"contexts_chicago.csv\")  # Adjust"
   ]
  },
  {
   "cell_type": "code",
   "execution_count": null,
   "metadata": {},
   "outputs": [],
   "source": [
    "questions_to_get_contexts = []\n",
    "for i in range(len(bx1)):\n",
    "    table = bx1[\"table\"][i]\n",
    "    context = bx1[\"context\"][i]\n",
    "    filtered_df = contexts[(contexts['table'] == table) & (contexts[\"context\"] == context)].reset_index(drop=True)\n",
    "    question = filtered_df[\"context_question\"][0]\n",
    "    questions_to_get_contexts.append(question)\n",
    "bx1[\"question_to_get_context\"] = questions_to_get_contexts"
   ]
  },
  {
   "cell_type": "code",
   "execution_count": null,
   "metadata": {},
   "outputs": [],
   "source": [
    "dfd_questions = bx1[\"question_to_get_context\"].unique()\n",
    "for dfd_question in dfd_questions[:3]:\n",
    "    print(f\"Processing question: {dfd_question}\")\n",
    "    filtered_bx1 = bx1[bx1[\"question_to_get_context\"] == dfd_question]\n",
    "    for i in filtered_bx1.index:\n",
    "        print(f\"Processing row: {i}\")\n",
    "        question = filtered_bx1[\"question\"][i]\n",
    "        init_table = filtered_bx1[\"table\"][i]\n",
    "\n",
    "        relevant_tables = [init_table]\n",
    "        for j in filtered_bx1.index:\n",
    "            print(f\"Checking metadata {j}\")\n",
    "            metadata = filtered_bx1[\"context\"][j]\n",
    "            table = filtered_bx1[\"table\"][j]\n",
    "\n",
    "            prompt = get_prompt(metadata, question)\n",
    "            conversation = [{\"role\": \"user\", \"content\": prompt}]\n",
    "            model_output = prompt_pipeline(pipe, conversation)[-1][\"content\"]\n",
    "            if model_output.lower().startswith(\"yes\"):\n",
    "                relevant_tables.append(table)\n",
    "        relevant_tables = list(set(relevant_tables))\n",
    "        relevant_tables.sort()\n",
    "        bx1.loc[i, \"table\"] = str(relevant_tables)\n",
    "        bx1.to_csv(\"BX1_chicago_corrected.csv\", index=False)  # Adjust name"
   ]
  }
 ],
 "metadata": {
  "kernelspec": {
   "display_name": "base",
   "language": "python",
   "name": "python3"
  },
  "language_info": {
   "codemirror_mode": {
    "name": "ipython",
    "version": 3
   },
   "file_extension": ".py",
   "mimetype": "text/x-python",
   "name": "python",
   "nbconvert_exporter": "python",
   "pygments_lexer": "ipython3",
   "version": "3.12.1"
  }
 },
 "nbformat": 4,
 "nbformat_minor": 2
}
